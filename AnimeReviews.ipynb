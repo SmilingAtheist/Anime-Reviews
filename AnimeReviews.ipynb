{
 "cells": [
  {
   "cell_type": "code",
   "execution_count": 1,
   "metadata": {
    "collapsed": true
   },
   "outputs": [],
   "source": [
    "%matplotlib inline\n",
    "import numpy as np\n",
    "import seaborn as sns\n",
    "import matplotlib.pyplot as plt\n",
    "import pandas as pd\n",
    "import re"
   ]
  },
  {
   "cell_type": "markdown",
   "metadata": {},
   "source": [
    "# Cleaning the data"
   ]
  },
  {
   "cell_type": "markdown",
   "metadata": {},
   "source": [
    "## Cleaning the My Anime List Reviews dataset"
   ]
  },
  {
   "cell_type": "code",
   "execution_count": 2,
   "metadata": {
    "collapsed": false
   },
   "outputs": [
    {
     "name": "stderr",
     "output_type": "stream",
     "text": [
      "C:\\Users\\SmilingAtheist\\Anaconda3\\lib\\site-packages\\IPython\\core\\interactiveshell.py:2717: DtypeWarning: Columns (6) have mixed types. Specify dtype option on import or set low_memory=False.\n",
      "  interactivity=interactivity, compiler=compiler, result=result)\n"
     ]
    }
   ],
   "source": [
    "# Loading reviews and rating scraped from the My Anime List website. \n",
    "# I put the scrapy spiders used for that puropse in the repository.\n",
    "df = pd.read_csv(\"myAnimeListReviews/reviews.csv\")"
   ]
  },
  {
   "cell_type": "code",
   "execution_count": 3,
   "metadata": {
    "collapsed": false
   },
   "outputs": [
    {
     "name": "stdout",
     "output_type": "stream",
     "text": [
      "(99944, 8)\n"
     ]
    },
    {
     "data": {
      "text/html": [
       "<div>\n",
       "<table border=\"1\" class=\"dataframe\">\n",
       "  <thead>\n",
       "    <tr style=\"text-align: right;\">\n",
       "      <th></th>\n",
       "      <th>Rating</th>\n",
       "      <th>Enjoyment</th>\n",
       "      <th>Sound</th>\n",
       "      <th>review_text</th>\n",
       "      <th>Animation</th>\n",
       "      <th>Character</th>\n",
       "      <th>Story</th>\n",
       "      <th>Name</th>\n",
       "    </tr>\n",
       "  </thead>\n",
       "  <tbody>\n",
       "    <tr>\n",
       "      <th>0</th>\n",
       "      <td>NaN</td>\n",
       "      <td>NaN</td>\n",
       "      <td>NaN</td>\n",
       "      <td>NaN</td>\n",
       "      <td>NaN</td>\n",
       "      <td>NaN</td>\n",
       "      <td>NaN</td>\n",
       "      <td>\\r\\n              Top\\r\\n                     ...</td>\n",
       "    </tr>\n",
       "    <tr>\n",
       "      <th>1</th>\n",
       "      <td>NaN</td>\n",
       "      <td>NaN</td>\n",
       "      <td>NaN</td>\n",
       "      <td>NaN</td>\n",
       "      <td>NaN</td>\n",
       "      <td>NaN</td>\n",
       "      <td>NaN</td>\n",
       "      <td>Next</td>\n",
       "    </tr>\n",
       "    <tr>\n",
       "      <th>2</th>\n",
       "      <td>8</td>\n",
       "      <td>6.0</td>\n",
       "      <td>9</td>\n",
       "      <td>\\r\\n\\t\\t\\t\\t\\t\\r\\n             \\r\\n\\t\\t\\t\\t\\t ...</td>\n",
       "      <td>9</td>\n",
       "      <td>7.0</td>\n",
       "      <td>6</td>\n",
       "      <td>Nyanbo!</td>\n",
       "    </tr>\n",
       "    <tr>\n",
       "      <th>3</th>\n",
       "      <td>7</td>\n",
       "      <td>5.0</td>\n",
       "      <td>6</td>\n",
       "      <td>\\r\\n\\t\\t\\t\\t\\t\\r\\n             \\r\\n\\t\\t\\t\\t\\t ...</td>\n",
       "      <td>6</td>\n",
       "      <td>7.0</td>\n",
       "      <td>6</td>\n",
       "      <td>Boku no Pico</td>\n",
       "    </tr>\n",
       "    <tr>\n",
       "      <th>4</th>\n",
       "      <td>10</td>\n",
       "      <td>10.0</td>\n",
       "      <td>10</td>\n",
       "      <td>\\r\\n\\t\\t\\t\\t\\t\\r\\n             \\r\\n\\t\\t\\t\\t\\t ...</td>\n",
       "      <td>10</td>\n",
       "      <td>10.0</td>\n",
       "      <td>9</td>\n",
       "      <td>Kimi no Na wa.</td>\n",
       "    </tr>\n",
       "  </tbody>\n",
       "</table>\n",
       "</div>"
      ],
      "text/plain": [
       "  Rating  Enjoyment Sound                                        review_text  \\\n",
       "0    NaN        NaN   NaN                                                NaN   \n",
       "1    NaN        NaN   NaN                                                NaN   \n",
       "2      8        6.0     9  \\r\\n\\t\\t\\t\\t\\t\\r\\n             \\r\\n\\t\\t\\t\\t\\t ...   \n",
       "3      7        5.0     6  \\r\\n\\t\\t\\t\\t\\t\\r\\n             \\r\\n\\t\\t\\t\\t\\t ...   \n",
       "4     10       10.0    10  \\r\\n\\t\\t\\t\\t\\t\\r\\n             \\r\\n\\t\\t\\t\\t\\t ...   \n",
       "\n",
       "  Animation  Character Story  \\\n",
       "0       NaN        NaN   NaN   \n",
       "1       NaN        NaN   NaN   \n",
       "2         9        7.0     6   \n",
       "3         6        7.0     6   \n",
       "4        10       10.0     9   \n",
       "\n",
       "                                                Name  \n",
       "0  \\r\\n              Top\\r\\n                     ...  \n",
       "1                                              Next   \n",
       "2                                            Nyanbo!  \n",
       "3                                       Boku no Pico  \n",
       "4                                     Kimi no Na wa.  "
      ]
     },
     "execution_count": 3,
     "metadata": {},
     "output_type": "execute_result"
    }
   ],
   "source": [
    "print(df.shape)\n",
    "df.head()"
   ]
  },
  {
   "cell_type": "code",
   "execution_count": 4,
   "metadata": {
    "collapsed": true
   },
   "outputs": [],
   "source": [
    "df = df[[\"Name\", \"review_text\", \"Rating\", \"Story\", \"Animation\", \"Sound\", \"Character\", \"Enjoyment\"]]"
   ]
  },
  {
   "cell_type": "code",
   "execution_count": 5,
   "metadata": {
    "collapsed": false
   },
   "outputs": [
    {
     "data": {
      "text/html": [
       "<div>\n",
       "<table border=\"1\" class=\"dataframe\">\n",
       "  <thead>\n",
       "    <tr style=\"text-align: right;\">\n",
       "      <th></th>\n",
       "      <th>Name</th>\n",
       "      <th>review_text</th>\n",
       "      <th>Rating</th>\n",
       "      <th>Story</th>\n",
       "      <th>Animation</th>\n",
       "      <th>Sound</th>\n",
       "      <th>Character</th>\n",
       "      <th>Enjoyment</th>\n",
       "    </tr>\n",
       "  </thead>\n",
       "  <tbody>\n",
       "    <tr>\n",
       "      <th>0</th>\n",
       "      <td>\\r\\n              Top\\r\\n                     ...</td>\n",
       "      <td>NaN</td>\n",
       "      <td>NaN</td>\n",
       "      <td>NaN</td>\n",
       "      <td>NaN</td>\n",
       "      <td>NaN</td>\n",
       "      <td>NaN</td>\n",
       "      <td>NaN</td>\n",
       "    </tr>\n",
       "    <tr>\n",
       "      <th>1</th>\n",
       "      <td>Next</td>\n",
       "      <td>NaN</td>\n",
       "      <td>NaN</td>\n",
       "      <td>NaN</td>\n",
       "      <td>NaN</td>\n",
       "      <td>NaN</td>\n",
       "      <td>NaN</td>\n",
       "      <td>NaN</td>\n",
       "    </tr>\n",
       "    <tr>\n",
       "      <th>2</th>\n",
       "      <td>Nyanbo!</td>\n",
       "      <td>\\r\\n\\t\\t\\t\\t\\t\\r\\n             \\r\\n\\t\\t\\t\\t\\t ...</td>\n",
       "      <td>8</td>\n",
       "      <td>6</td>\n",
       "      <td>9</td>\n",
       "      <td>9</td>\n",
       "      <td>7.0</td>\n",
       "      <td>6.0</td>\n",
       "    </tr>\n",
       "    <tr>\n",
       "      <th>3</th>\n",
       "      <td>Boku no Pico</td>\n",
       "      <td>\\r\\n\\t\\t\\t\\t\\t\\r\\n             \\r\\n\\t\\t\\t\\t\\t ...</td>\n",
       "      <td>7</td>\n",
       "      <td>6</td>\n",
       "      <td>6</td>\n",
       "      <td>6</td>\n",
       "      <td>7.0</td>\n",
       "      <td>5.0</td>\n",
       "    </tr>\n",
       "    <tr>\n",
       "      <th>4</th>\n",
       "      <td>Kimi no Na wa.</td>\n",
       "      <td>\\r\\n\\t\\t\\t\\t\\t\\r\\n             \\r\\n\\t\\t\\t\\t\\t ...</td>\n",
       "      <td>10</td>\n",
       "      <td>9</td>\n",
       "      <td>10</td>\n",
       "      <td>10</td>\n",
       "      <td>10.0</td>\n",
       "      <td>10.0</td>\n",
       "    </tr>\n",
       "  </tbody>\n",
       "</table>\n",
       "</div>"
      ],
      "text/plain": [
       "                                                Name  \\\n",
       "0  \\r\\n              Top\\r\\n                     ...   \n",
       "1                                              Next    \n",
       "2                                            Nyanbo!   \n",
       "3                                       Boku no Pico   \n",
       "4                                     Kimi no Na wa.   \n",
       "\n",
       "                                         review_text Rating Story Animation  \\\n",
       "0                                                NaN    NaN   NaN       NaN   \n",
       "1                                                NaN    NaN   NaN       NaN   \n",
       "2  \\r\\n\\t\\t\\t\\t\\t\\r\\n             \\r\\n\\t\\t\\t\\t\\t ...      8     6         9   \n",
       "3  \\r\\n\\t\\t\\t\\t\\t\\r\\n             \\r\\n\\t\\t\\t\\t\\t ...      7     6         6   \n",
       "4  \\r\\n\\t\\t\\t\\t\\t\\r\\n             \\r\\n\\t\\t\\t\\t\\t ...     10     9        10   \n",
       "\n",
       "  Sound  Character  Enjoyment  \n",
       "0   NaN        NaN        NaN  \n",
       "1   NaN        NaN        NaN  \n",
       "2     9        7.0        6.0  \n",
       "3     6        7.0        5.0  \n",
       "4    10       10.0       10.0  "
      ]
     },
     "execution_count": 5,
     "metadata": {},
     "output_type": "execute_result"
    }
   ],
   "source": [
    "df.head()"
   ]
  },
  {
   "cell_type": "code",
   "execution_count": 6,
   "metadata": {
    "collapsed": false
   },
   "outputs": [
    {
     "data": {
      "text/plain": [
       "Name            3702\n",
       "review_text     7404\n",
       "Rating          7404\n",
       "Story          10540\n",
       "Animation      10584\n",
       "Sound          11076\n",
       "Character      10637\n",
       "Enjoyment      11115\n",
       "dtype: int64"
      ]
     },
     "execution_count": 6,
     "metadata": {},
     "output_type": "execute_result"
    }
   ],
   "source": [
    "df.isnull().sum()"
   ]
  },
  {
   "cell_type": "code",
   "execution_count": 7,
   "metadata": {
    "collapsed": false
   },
   "outputs": [
    {
     "data": {
      "text/plain": [
       "(88385, 8)"
      ]
     },
     "execution_count": 7,
     "metadata": {},
     "output_type": "execute_result"
    }
   ],
   "source": [
    "df.dropna().shape"
   ]
  },
  {
   "cell_type": "code",
   "execution_count": 8,
   "metadata": {
    "collapsed": true
   },
   "outputs": [],
   "source": [
    "# Let's drop all rows with nan values\n",
    "df = df.dropna()"
   ]
  },
  {
   "cell_type": "code",
   "execution_count": 9,
   "metadata": {
    "collapsed": false
   },
   "outputs": [
    {
     "data": {
      "text/plain": [
       "Name           0\n",
       "review_text    0\n",
       "Rating         0\n",
       "Story          0\n",
       "Animation      0\n",
       "Sound          0\n",
       "Character      0\n",
       "Enjoyment      0\n",
       "dtype: int64"
      ]
     },
     "execution_count": 9,
     "metadata": {},
     "output_type": "execute_result"
    }
   ],
   "source": [
    "df.isnull().sum()"
   ]
  },
  {
   "cell_type": "code",
   "execution_count": 10,
   "metadata": {
    "collapsed": false
   },
   "outputs": [
    {
     "data": {
      "text/plain": [
       "Name            object\n",
       "review_text     object\n",
       "Rating          object\n",
       "Story           object\n",
       "Animation       object\n",
       "Sound           object\n",
       "Character      float64\n",
       "Enjoyment      float64\n",
       "dtype: object"
      ]
     },
     "execution_count": 10,
     "metadata": {},
     "output_type": "execute_result"
    }
   ],
   "source": [
    "df.dtypes"
   ]
  },
  {
   "cell_type": "code",
   "execution_count": 11,
   "metadata": {
    "collapsed": false
   },
   "outputs": [
    {
     "data": {
      "text/html": [
       "<div>\n",
       "<table border=\"1\" class=\"dataframe\">\n",
       "  <thead>\n",
       "    <tr style=\"text-align: right;\">\n",
       "      <th></th>\n",
       "      <th>Name</th>\n",
       "      <th>review_text</th>\n",
       "      <th>Rating</th>\n",
       "      <th>Story</th>\n",
       "      <th>Animation</th>\n",
       "      <th>Sound</th>\n",
       "      <th>Character</th>\n",
       "      <th>Enjoyment</th>\n",
       "    </tr>\n",
       "  </thead>\n",
       "  <tbody>\n",
       "    <tr>\n",
       "      <th>14490</th>\n",
       "      <td>Toradora!</td>\n",
       "      <td>\\r\\n\\t\\t\\t\\t\\t\\r\\n             \\r\\n\\t\\t\\t\\t\\t ...</td>\n",
       "      <td>6</td>\n",
       "      <td>5,6</td>\n",
       "      <td>6</td>\n",
       "      <td>6</td>\n",
       "      <td>7.0</td>\n",
       "      <td>8.0</td>\n",
       "    </tr>\n",
       "    <tr>\n",
       "      <th>14858</th>\n",
       "      <td>Akame ga Kill!</td>\n",
       "      <td>\\r\\n\\t\\t\\t\\t\\t\\r\\n             \\r\\n\\t\\t\\t\\t\\t ...</td>\n",
       "      <td>5</td>\n",
       "      <td>5,4</td>\n",
       "      <td>5</td>\n",
       "      <td>8</td>\n",
       "      <td>3.0</td>\n",
       "      <td>5.0</td>\n",
       "    </tr>\n",
       "    <tr>\n",
       "      <th>59124</th>\n",
       "      <td>Heart no Kuni no Alice: Wonderful Wonder World</td>\n",
       "      <td>\\r\\n\\t\\t\\t\\t\\t\\r\\n             \\r\\n\\t\\t\\t\\t\\t ...</td>\n",
       "      <td>8</td>\n",
       "      <td>1,9</td>\n",
       "      <td>10</td>\n",
       "      <td>10</td>\n",
       "      <td>10.0</td>\n",
       "      <td>9.0</td>\n",
       "    </tr>\n",
       "  </tbody>\n",
       "</table>\n",
       "</div>"
      ],
      "text/plain": [
       "                                                 Name  \\\n",
       "14490                                       Toradora!   \n",
       "14858                                  Akame ga Kill!   \n",
       "59124  Heart no Kuni no Alice: Wonderful Wonder World   \n",
       "\n",
       "                                             review_text Rating Story  \\\n",
       "14490  \\r\\n\\t\\t\\t\\t\\t\\r\\n             \\r\\n\\t\\t\\t\\t\\t ...      6   5,6   \n",
       "14858  \\r\\n\\t\\t\\t\\t\\t\\r\\n             \\r\\n\\t\\t\\t\\t\\t ...      5   5,4   \n",
       "59124  \\r\\n\\t\\t\\t\\t\\t\\r\\n             \\r\\n\\t\\t\\t\\t\\t ...      8   1,9   \n",
       "\n",
       "      Animation Sound  Character  Enjoyment  \n",
       "14490         6     6        7.0        8.0  \n",
       "14858         5     8        3.0        5.0  \n",
       "59124        10    10       10.0        9.0  "
      ]
     },
     "execution_count": 11,
     "metadata": {},
     "output_type": "execute_result"
    }
   ],
   "source": [
    "# the comma is preventing us from converting to float\n",
    "df[df[\"Story\"].astype(str).map(lambda x: ',' in x)]"
   ]
  },
  {
   "cell_type": "code",
   "execution_count": 12,
   "metadata": {
    "collapsed": false
   },
   "outputs": [],
   "source": [
    "# Here we're droping the numeric rows with commas\n",
    "columns = [\"Rating\", \"Story\", \"Animation\", \"Sound\"]\n",
    "\n",
    "for col in columns:\n",
    "    df = df[df[col].astype(str).map(lambda x: ',' not in x)]\n",
    "    df[col] = df[col].astype(float)"
   ]
  },
  {
   "cell_type": "code",
   "execution_count": 13,
   "metadata": {
    "collapsed": false
   },
   "outputs": [
    {
     "data": {
      "text/plain": [
       "(Name            object\n",
       " review_text     object\n",
       " Rating         float64\n",
       " Story          float64\n",
       " Animation      float64\n",
       " Sound          float64\n",
       " Character      float64\n",
       " Enjoyment      float64\n",
       " dtype: object, (88255, 8))"
      ]
     },
     "execution_count": 13,
     "metadata": {},
     "output_type": "execute_result"
    }
   ],
   "source": [
    "df.dtypes, df.shape"
   ]
  },
  {
   "cell_type": "code",
   "execution_count": 14,
   "metadata": {
    "collapsed": false
   },
   "outputs": [],
   "source": [
    "columns = [\"Name\", \"review_text\"]\n",
    "\n",
    "for col in columns:\n",
    "    df[col] = df[col].astype(str)"
   ]
  },
  {
   "cell_type": "code",
   "execution_count": 15,
   "metadata": {
    "collapsed": false
   },
   "outputs": [
    {
     "data": {
      "text/plain": [
       "(Name            object\n",
       " review_text     object\n",
       " Rating         float64\n",
       " Story          float64\n",
       " Animation      float64\n",
       " Sound          float64\n",
       " Character      float64\n",
       " Enjoyment      float64\n",
       " dtype: object, (88255, 8))"
      ]
     },
     "execution_count": 15,
     "metadata": {},
     "output_type": "execute_result"
    }
   ],
   "source": [
    "df.dtypes, df.shape"
   ]
  },
  {
   "cell_type": "code",
   "execution_count": 16,
   "metadata": {
    "collapsed": false
   },
   "outputs": [
    {
     "data": {
      "text/html": [
       "<div>\n",
       "<table border=\"1\" class=\"dataframe\">\n",
       "  <thead>\n",
       "    <tr style=\"text-align: right;\">\n",
       "      <th></th>\n",
       "      <th>Name</th>\n",
       "      <th>review_text</th>\n",
       "      <th>Rating</th>\n",
       "      <th>Story</th>\n",
       "      <th>Animation</th>\n",
       "      <th>Sound</th>\n",
       "      <th>Character</th>\n",
       "      <th>Enjoyment</th>\n",
       "    </tr>\n",
       "  </thead>\n",
       "  <tbody>\n",
       "  </tbody>\n",
       "</table>\n",
       "</div>"
      ],
      "text/plain": [
       "Empty DataFrame\n",
       "Columns: [Name, review_text, Rating, Story, Animation, Sound, Character, Enjoyment]\n",
       "Index: []"
      ]
     },
     "execution_count": 16,
     "metadata": {},
     "output_type": "execute_result"
    }
   ],
   "source": [
    "col = \"Name\"\n",
    "\n",
    "df[df[col].map(lambda x: type(x) is not str)]"
   ]
  },
  {
   "cell_type": "code",
   "execution_count": 17,
   "metadata": {
    "collapsed": false
   },
   "outputs": [
    {
     "data": {
      "text/html": [
       "<div>\n",
       "<table border=\"1\" class=\"dataframe\">\n",
       "  <thead>\n",
       "    <tr style=\"text-align: right;\">\n",
       "      <th></th>\n",
       "      <th>Name</th>\n",
       "      <th>review_text</th>\n",
       "      <th>Rating</th>\n",
       "      <th>Story</th>\n",
       "      <th>Animation</th>\n",
       "      <th>Sound</th>\n",
       "      <th>Character</th>\n",
       "      <th>Enjoyment</th>\n",
       "    </tr>\n",
       "  </thead>\n",
       "  <tbody>\n",
       "  </tbody>\n",
       "</table>\n",
       "</div>"
      ],
      "text/plain": [
       "Empty DataFrame\n",
       "Columns: [Name, review_text, Rating, Story, Animation, Sound, Character, Enjoyment]\n",
       "Index: []"
      ]
     },
     "execution_count": 17,
     "metadata": {},
     "output_type": "execute_result"
    }
   ],
   "source": [
    "col = \"review_text\"\n",
    "\n",
    "df[df[col].map(lambda x: type(x) is not str)]"
   ]
  },
  {
   "cell_type": "code",
   "execution_count": 18,
   "metadata": {
    "collapsed": true
   },
   "outputs": [],
   "source": [
    "# column 'review_text' renamed to 'Review'\n",
    "df.rename(columns={'review_text':'Review'}, inplace=True)"
   ]
  },
  {
   "cell_type": "code",
   "execution_count": 19,
   "metadata": {
    "collapsed": false
   },
   "outputs": [
    {
     "data": {
      "text/html": [
       "<div>\n",
       "<table border=\"1\" class=\"dataframe\">\n",
       "  <thead>\n",
       "    <tr style=\"text-align: right;\">\n",
       "      <th></th>\n",
       "      <th>Name</th>\n",
       "      <th>Review</th>\n",
       "      <th>Rating</th>\n",
       "      <th>Story</th>\n",
       "      <th>Animation</th>\n",
       "      <th>Sound</th>\n",
       "      <th>Character</th>\n",
       "      <th>Enjoyment</th>\n",
       "    </tr>\n",
       "  </thead>\n",
       "  <tbody>\n",
       "    <tr>\n",
       "      <th>2</th>\n",
       "      <td>Nyanbo!</td>\n",
       "      <td>\\r\\n\\t\\t\\t\\t\\t\\r\\n             \\r\\n\\t\\t\\t\\t\\t ...</td>\n",
       "      <td>8.0</td>\n",
       "      <td>6.0</td>\n",
       "      <td>9.0</td>\n",
       "      <td>9.0</td>\n",
       "      <td>7.0</td>\n",
       "      <td>6.0</td>\n",
       "    </tr>\n",
       "    <tr>\n",
       "      <th>3</th>\n",
       "      <td>Boku no Pico</td>\n",
       "      <td>\\r\\n\\t\\t\\t\\t\\t\\r\\n             \\r\\n\\t\\t\\t\\t\\t ...</td>\n",
       "      <td>7.0</td>\n",
       "      <td>6.0</td>\n",
       "      <td>6.0</td>\n",
       "      <td>6.0</td>\n",
       "      <td>7.0</td>\n",
       "      <td>5.0</td>\n",
       "    </tr>\n",
       "    <tr>\n",
       "      <th>4</th>\n",
       "      <td>Kimi no Na wa.</td>\n",
       "      <td>\\r\\n\\t\\t\\t\\t\\t\\r\\n             \\r\\n\\t\\t\\t\\t\\t ...</td>\n",
       "      <td>10.0</td>\n",
       "      <td>9.0</td>\n",
       "      <td>10.0</td>\n",
       "      <td>10.0</td>\n",
       "      <td>10.0</td>\n",
       "      <td>10.0</td>\n",
       "    </tr>\n",
       "    <tr>\n",
       "      <th>5</th>\n",
       "      <td>Cheonnyeon-yeowoo Yeowoobi</td>\n",
       "      <td>\\r\\n\\t\\t\\t\\t\\t\\r\\n             \\r\\n\\t\\t\\t\\t\\t ...</td>\n",
       "      <td>6.0</td>\n",
       "      <td>6.0</td>\n",
       "      <td>7.0</td>\n",
       "      <td>5.0</td>\n",
       "      <td>7.0</td>\n",
       "      <td>6.0</td>\n",
       "    </tr>\n",
       "    <tr>\n",
       "      <th>6</th>\n",
       "      <td>Noragami</td>\n",
       "      <td>\\r\\n\\t\\t\\t\\t\\t\\r\\n             \\r\\n\\t\\t\\t\\t\\t ...</td>\n",
       "      <td>7.0</td>\n",
       "      <td>7.0</td>\n",
       "      <td>10.0</td>\n",
       "      <td>10.0</td>\n",
       "      <td>7.0</td>\n",
       "      <td>7.0</td>\n",
       "    </tr>\n",
       "  </tbody>\n",
       "</table>\n",
       "</div>"
      ],
      "text/plain": [
       "                         Name  \\\n",
       "2                     Nyanbo!   \n",
       "3                Boku no Pico   \n",
       "4              Kimi no Na wa.   \n",
       "5  Cheonnyeon-yeowoo Yeowoobi   \n",
       "6                    Noragami   \n",
       "\n",
       "                                              Review  Rating  Story  \\\n",
       "2  \\r\\n\\t\\t\\t\\t\\t\\r\\n             \\r\\n\\t\\t\\t\\t\\t ...     8.0    6.0   \n",
       "3  \\r\\n\\t\\t\\t\\t\\t\\r\\n             \\r\\n\\t\\t\\t\\t\\t ...     7.0    6.0   \n",
       "4  \\r\\n\\t\\t\\t\\t\\t\\r\\n             \\r\\n\\t\\t\\t\\t\\t ...    10.0    9.0   \n",
       "5  \\r\\n\\t\\t\\t\\t\\t\\r\\n             \\r\\n\\t\\t\\t\\t\\t ...     6.0    6.0   \n",
       "6  \\r\\n\\t\\t\\t\\t\\t\\r\\n             \\r\\n\\t\\t\\t\\t\\t ...     7.0    7.0   \n",
       "\n",
       "   Animation  Sound  Character  Enjoyment  \n",
       "2        9.0    9.0        7.0        6.0  \n",
       "3        6.0    6.0        7.0        5.0  \n",
       "4       10.0   10.0       10.0       10.0  \n",
       "5        7.0    5.0        7.0        6.0  \n",
       "6       10.0   10.0        7.0        7.0  "
      ]
     },
     "execution_count": 19,
     "metadata": {},
     "output_type": "execute_result"
    }
   ],
   "source": [
    "df.head()"
   ]
  },
  {
   "cell_type": "code",
   "execution_count": 20,
   "metadata": {
    "collapsed": false
   },
   "outputs": [
    {
     "data": {
      "text/plain": [
       "(Name          object\n",
       " Review        object\n",
       " Rating       float64\n",
       " Story        float64\n",
       " Animation    float64\n",
       " Sound        float64\n",
       " Character    float64\n",
       " Enjoyment    float64\n",
       " dtype: object, (88255, 8))"
      ]
     },
     "execution_count": 20,
     "metadata": {},
     "output_type": "execute_result"
    }
   ],
   "source": [
    "df.dtypes, df.shape"
   ]
  },
  {
   "cell_type": "code",
   "execution_count": 21,
   "metadata": {
    "collapsed": false
   },
   "outputs": [
    {
     "data": {
      "text/html": [
       "<div>\n",
       "<table border=\"1\" class=\"dataframe\">\n",
       "  <thead>\n",
       "    <tr style=\"text-align: right;\">\n",
       "      <th></th>\n",
       "      <th>Rating</th>\n",
       "      <th>Story</th>\n",
       "      <th>Animation</th>\n",
       "      <th>Sound</th>\n",
       "      <th>Character</th>\n",
       "      <th>Enjoyment</th>\n",
       "    </tr>\n",
       "  </thead>\n",
       "  <tbody>\n",
       "    <tr>\n",
       "      <th>count</th>\n",
       "      <td>88255.000000</td>\n",
       "      <td>88255.000000</td>\n",
       "      <td>88255.000000</td>\n",
       "      <td>88255.000000</td>\n",
       "      <td>88255.000000</td>\n",
       "      <td>88255.000000</td>\n",
       "    </tr>\n",
       "    <tr>\n",
       "      <th>mean</th>\n",
       "      <td>7.561759</td>\n",
       "      <td>7.181723</td>\n",
       "      <td>7.935528</td>\n",
       "      <td>7.845606</td>\n",
       "      <td>7.441119</td>\n",
       "      <td>7.746247</td>\n",
       "    </tr>\n",
       "    <tr>\n",
       "      <th>std</th>\n",
       "      <td>2.225516</td>\n",
       "      <td>2.400374</td>\n",
       "      <td>1.830413</td>\n",
       "      <td>1.881528</td>\n",
       "      <td>2.463746</td>\n",
       "      <td>2.425485</td>\n",
       "    </tr>\n",
       "    <tr>\n",
       "      <th>min</th>\n",
       "      <td>1.000000</td>\n",
       "      <td>1.000000</td>\n",
       "      <td>1.000000</td>\n",
       "      <td>1.000000</td>\n",
       "      <td>1.000000</td>\n",
       "      <td>1.000000</td>\n",
       "    </tr>\n",
       "    <tr>\n",
       "      <th>25%</th>\n",
       "      <td>6.000000</td>\n",
       "      <td>6.000000</td>\n",
       "      <td>7.000000</td>\n",
       "      <td>7.000000</td>\n",
       "      <td>6.000000</td>\n",
       "      <td>7.000000</td>\n",
       "    </tr>\n",
       "    <tr>\n",
       "      <th>50%</th>\n",
       "      <td>8.000000</td>\n",
       "      <td>8.000000</td>\n",
       "      <td>8.000000</td>\n",
       "      <td>8.000000</td>\n",
       "      <td>8.000000</td>\n",
       "      <td>8.000000</td>\n",
       "    </tr>\n",
       "    <tr>\n",
       "      <th>75%</th>\n",
       "      <td>9.000000</td>\n",
       "      <td>9.000000</td>\n",
       "      <td>9.000000</td>\n",
       "      <td>9.000000</td>\n",
       "      <td>9.000000</td>\n",
       "      <td>10.000000</td>\n",
       "    </tr>\n",
       "    <tr>\n",
       "      <th>max</th>\n",
       "      <td>10.000000</td>\n",
       "      <td>10.000000</td>\n",
       "      <td>10.000000</td>\n",
       "      <td>10.000000</td>\n",
       "      <td>10.000000</td>\n",
       "      <td>10.000000</td>\n",
       "    </tr>\n",
       "  </tbody>\n",
       "</table>\n",
       "</div>"
      ],
      "text/plain": [
       "             Rating         Story     Animation         Sound     Character  \\\n",
       "count  88255.000000  88255.000000  88255.000000  88255.000000  88255.000000   \n",
       "mean       7.561759      7.181723      7.935528      7.845606      7.441119   \n",
       "std        2.225516      2.400374      1.830413      1.881528      2.463746   \n",
       "min        1.000000      1.000000      1.000000      1.000000      1.000000   \n",
       "25%        6.000000      6.000000      7.000000      7.000000      6.000000   \n",
       "50%        8.000000      8.000000      8.000000      8.000000      8.000000   \n",
       "75%        9.000000      9.000000      9.000000      9.000000      9.000000   \n",
       "max       10.000000     10.000000     10.000000     10.000000     10.000000   \n",
       "\n",
       "          Enjoyment  \n",
       "count  88255.000000  \n",
       "mean       7.746247  \n",
       "std        2.425485  \n",
       "min        1.000000  \n",
       "25%        7.000000  \n",
       "50%        8.000000  \n",
       "75%       10.000000  \n",
       "max       10.000000  "
      ]
     },
     "execution_count": 21,
     "metadata": {},
     "output_type": "execute_result"
    }
   ],
   "source": [
    "df.describe()"
   ]
  },
  {
   "cell_type": "code",
   "execution_count": 22,
   "metadata": {
    "collapsed": true
   },
   "outputs": [],
   "source": [
    "# Everythig looks ok now.\n",
    "df1 = df"
   ]
  },
  {
   "cell_type": "markdown",
   "metadata": {},
   "source": [
    "## Cleaning the Anime News Newtwork Reviews dataset"
   ]
  },
  {
   "cell_type": "code",
   "execution_count": 23,
   "metadata": {
    "collapsed": true
   },
   "outputs": [],
   "source": [
    "# Loading reviews and rating scraped from the Anime News Network website. \n",
    "# I put the scrapy spiders in the repository.\n",
    "df = pd.read_csv(\"AnimeNewsNetworkReviews/reviews.csv\")"
   ]
  },
  {
   "cell_type": "code",
   "execution_count": 24,
   "metadata": {
    "collapsed": false
   },
   "outputs": [
    {
     "data": {
      "text/html": [
       "<div>\n",
       "<table border=\"1\" class=\"dataframe\">\n",
       "  <thead>\n",
       "    <tr style=\"text-align: right;\">\n",
       "      <th></th>\n",
       "      <th>Name2</th>\n",
       "      <th>Review</th>\n",
       "      <th>Synopsis</th>\n",
       "      <th>Good_points</th>\n",
       "      <th>Ratings</th>\n",
       "      <th>Name</th>\n",
       "      <th>Bad_points</th>\n",
       "    </tr>\n",
       "  </thead>\n",
       "  <tbody>\n",
       "    <tr>\n",
       "      <th>0</th>\n",
       "      <td>GN 7</td>\n",
       "      <td>\\r\\n,\\r\\nA Silent Voice reached its climax at ...</td>\n",
       "      <td>At last, Shoya has woken up. Racing to the bri...</td>\n",
       "      <td>Maintains A Silent Voice's usual acuity of ar...</td>\n",
       "      <td>{'Overall': 'B+', 'Art': 'A-', 'Story': 'B-'}</td>\n",
       "      <td>A Silent Voice</td>\n",
       "      <td>Feels a bit overlong in its resolutions, and ...</td>\n",
       "    </tr>\n",
       "    <tr>\n",
       "      <th>1</th>\n",
       "      <td>DVD 1</td>\n",
       "      <td>\\r\\n,\\r\\nTo fully and correctly appreciate 009...</td>\n",
       "      <td>In a world where the Cold War continues well p...</td>\n",
       "      <td>Musical score, fan service.</td>\n",
       "      <td>{'Animation': 'B-', 'Overall (dub)': 'B', 'Mus...</td>\n",
       "      <td>009-1</td>\n",
       "      <td>Some character designs are appallingly ugly, ...</td>\n",
       "    </tr>\n",
       "    <tr>\n",
       "      <th>2</th>\n",
       "      <td>Sub.Blu-Ray</td>\n",
       "      <td>\\r\\n,\\r\\nWhat happens when you take twenty-sev...</td>\n",
       "      <td>Haruto can't bring himself to accept that his ...</td>\n",
       "      <td>Some great voice work and nice animation, tri...</td>\n",
       "      <td>{'Animation': 'B', 'Overall (sub)': 'C', 'Musi...</td>\n",
       "      <td>A Town Where You Live</td>\n",
       "      <td>Story comes off melodramatic without much emo...</td>\n",
       "    </tr>\n",
       "    <tr>\n",
       "      <th>3</th>\n",
       "      <td>GN 6</td>\n",
       "      <td>\\r\\n,\\r\\nIt's always an interesting experience...</td>\n",
       "      <td>Seeing Shoko about to leap off her balcony, Sh...</td>\n",
       "      <td>Doubles down on the manga's terrific characte...</td>\n",
       "      <td>{'Overall': 'A', 'Art': 'A-', 'Story': 'A'}</td>\n",
       "      <td>A Silent Voice</td>\n",
       "      <td>A couple dramatic points felt a little loosel...</td>\n",
       "    </tr>\n",
       "    <tr>\n",
       "      <th>4</th>\n",
       "      <td>GN 4</td>\n",
       "      <td>\\r\\n,\\r\\nIt feels like A Silent Voice's densit...</td>\n",
       "      <td>Things continue to change little by little for...</td>\n",
       "      <td>Continues to demonstrate wondrously poignant ...</td>\n",
       "      <td>{'Overall': 'A-', 'Art': 'B', 'Story': 'A'}</td>\n",
       "      <td>A Silent Voice</td>\n",
       "      <td>Some dramatic developments here could have us...</td>\n",
       "    </tr>\n",
       "  </tbody>\n",
       "</table>\n",
       "</div>"
      ],
      "text/plain": [
       "         Name2                                             Review  \\\n",
       "0         GN 7  \\r\\n,\\r\\nA Silent Voice reached its climax at ...   \n",
       "1        DVD 1  \\r\\n,\\r\\nTo fully and correctly appreciate 009...   \n",
       "2  Sub.Blu-Ray  \\r\\n,\\r\\nWhat happens when you take twenty-sev...   \n",
       "3         GN 6  \\r\\n,\\r\\nIt's always an interesting experience...   \n",
       "4         GN 4  \\r\\n,\\r\\nIt feels like A Silent Voice's densit...   \n",
       "\n",
       "                                            Synopsis  \\\n",
       "0  At last, Shoya has woken up. Racing to the bri...   \n",
       "1  In a world where the Cold War continues well p...   \n",
       "2  Haruto can't bring himself to accept that his ...   \n",
       "3  Seeing Shoko about to leap off her balcony, Sh...   \n",
       "4  Things continue to change little by little for...   \n",
       "\n",
       "                                         Good_points  \\\n",
       "0   Maintains A Silent Voice's usual acuity of ar...   \n",
       "1                        Musical score, fan service.   \n",
       "2   Some great voice work and nice animation, tri...   \n",
       "3   Doubles down on the manga's terrific characte...   \n",
       "4   Continues to demonstrate wondrously poignant ...   \n",
       "\n",
       "                                             Ratings                   Name  \\\n",
       "0      {'Overall': 'B+', 'Art': 'A-', 'Story': 'B-'}         A Silent Voice   \n",
       "1  {'Animation': 'B-', 'Overall (dub)': 'B', 'Mus...                  009-1   \n",
       "2  {'Animation': 'B', 'Overall (sub)': 'C', 'Musi...  A Town Where You Live   \n",
       "3        {'Overall': 'A', 'Art': 'A-', 'Story': 'A'}         A Silent Voice   \n",
       "4        {'Overall': 'A-', 'Art': 'B', 'Story': 'A'}         A Silent Voice   \n",
       "\n",
       "                                          Bad_points  \n",
       "0   Feels a bit overlong in its resolutions, and ...  \n",
       "1   Some character designs are appallingly ugly, ...  \n",
       "2   Story comes off melodramatic without much emo...  \n",
       "3   A couple dramatic points felt a little loosel...  \n",
       "4   Some dramatic developments here could have us...  "
      ]
     },
     "execution_count": 24,
     "metadata": {},
     "output_type": "execute_result"
    }
   ],
   "source": [
    "df.head()"
   ]
  },
  {
   "cell_type": "code",
   "execution_count": 25,
   "metadata": {
    "collapsed": false
   },
   "outputs": [],
   "source": [
    "df = df[[\"Name\", \"Name2\", \"Ratings\", \"Synopsis\", \"Review\" ,\"Good_points\", \"Bad_points\"]]"
   ]
  },
  {
   "cell_type": "code",
   "execution_count": 26,
   "metadata": {
    "collapsed": false
   },
   "outputs": [
    {
     "data": {
      "text/html": [
       "<div>\n",
       "<table border=\"1\" class=\"dataframe\">\n",
       "  <thead>\n",
       "    <tr style=\"text-align: right;\">\n",
       "      <th></th>\n",
       "      <th>Name</th>\n",
       "      <th>Name2</th>\n",
       "      <th>Ratings</th>\n",
       "      <th>Synopsis</th>\n",
       "      <th>Review</th>\n",
       "      <th>Good_points</th>\n",
       "      <th>Bad_points</th>\n",
       "    </tr>\n",
       "  </thead>\n",
       "  <tbody>\n",
       "    <tr>\n",
       "      <th>0</th>\n",
       "      <td>A Silent Voice</td>\n",
       "      <td>GN 7</td>\n",
       "      <td>{'Overall': 'B+', 'Art': 'A-', 'Story': 'B-'}</td>\n",
       "      <td>At last, Shoya has woken up. Racing to the bri...</td>\n",
       "      <td>\\r\\n,\\r\\nA Silent Voice reached its climax at ...</td>\n",
       "      <td>Maintains A Silent Voice's usual acuity of ar...</td>\n",
       "      <td>Feels a bit overlong in its resolutions, and ...</td>\n",
       "    </tr>\n",
       "    <tr>\n",
       "      <th>1</th>\n",
       "      <td>009-1</td>\n",
       "      <td>DVD 1</td>\n",
       "      <td>{'Animation': 'B-', 'Overall (dub)': 'B', 'Mus...</td>\n",
       "      <td>In a world where the Cold War continues well p...</td>\n",
       "      <td>\\r\\n,\\r\\nTo fully and correctly appreciate 009...</td>\n",
       "      <td>Musical score, fan service.</td>\n",
       "      <td>Some character designs are appallingly ugly, ...</td>\n",
       "    </tr>\n",
       "    <tr>\n",
       "      <th>2</th>\n",
       "      <td>A Town Where You Live</td>\n",
       "      <td>Sub.Blu-Ray</td>\n",
       "      <td>{'Animation': 'B', 'Overall (sub)': 'C', 'Musi...</td>\n",
       "      <td>Haruto can't bring himself to accept that his ...</td>\n",
       "      <td>\\r\\n,\\r\\nWhat happens when you take twenty-sev...</td>\n",
       "      <td>Some great voice work and nice animation, tri...</td>\n",
       "      <td>Story comes off melodramatic without much emo...</td>\n",
       "    </tr>\n",
       "    <tr>\n",
       "      <th>3</th>\n",
       "      <td>A Silent Voice</td>\n",
       "      <td>GN 6</td>\n",
       "      <td>{'Overall': 'A', 'Art': 'A-', 'Story': 'A'}</td>\n",
       "      <td>Seeing Shoko about to leap off her balcony, Sh...</td>\n",
       "      <td>\\r\\n,\\r\\nIt's always an interesting experience...</td>\n",
       "      <td>Doubles down on the manga's terrific characte...</td>\n",
       "      <td>A couple dramatic points felt a little loosel...</td>\n",
       "    </tr>\n",
       "    <tr>\n",
       "      <th>4</th>\n",
       "      <td>A Silent Voice</td>\n",
       "      <td>GN 4</td>\n",
       "      <td>{'Overall': 'A-', 'Art': 'B', 'Story': 'A'}</td>\n",
       "      <td>Things continue to change little by little for...</td>\n",
       "      <td>\\r\\n,\\r\\nIt feels like A Silent Voice's densit...</td>\n",
       "      <td>Continues to demonstrate wondrously poignant ...</td>\n",
       "      <td>Some dramatic developments here could have us...</td>\n",
       "    </tr>\n",
       "  </tbody>\n",
       "</table>\n",
       "</div>"
      ],
      "text/plain": [
       "                    Name        Name2  \\\n",
       "0         A Silent Voice         GN 7   \n",
       "1                  009-1        DVD 1   \n",
       "2  A Town Where You Live  Sub.Blu-Ray   \n",
       "3         A Silent Voice         GN 6   \n",
       "4         A Silent Voice         GN 4   \n",
       "\n",
       "                                             Ratings  \\\n",
       "0      {'Overall': 'B+', 'Art': 'A-', 'Story': 'B-'}   \n",
       "1  {'Animation': 'B-', 'Overall (dub)': 'B', 'Mus...   \n",
       "2  {'Animation': 'B', 'Overall (sub)': 'C', 'Musi...   \n",
       "3        {'Overall': 'A', 'Art': 'A-', 'Story': 'A'}   \n",
       "4        {'Overall': 'A-', 'Art': 'B', 'Story': 'A'}   \n",
       "\n",
       "                                            Synopsis  \\\n",
       "0  At last, Shoya has woken up. Racing to the bri...   \n",
       "1  In a world where the Cold War continues well p...   \n",
       "2  Haruto can't bring himself to accept that his ...   \n",
       "3  Seeing Shoko about to leap off her balcony, Sh...   \n",
       "4  Things continue to change little by little for...   \n",
       "\n",
       "                                              Review  \\\n",
       "0  \\r\\n,\\r\\nA Silent Voice reached its climax at ...   \n",
       "1  \\r\\n,\\r\\nTo fully and correctly appreciate 009...   \n",
       "2  \\r\\n,\\r\\nWhat happens when you take twenty-sev...   \n",
       "3  \\r\\n,\\r\\nIt's always an interesting experience...   \n",
       "4  \\r\\n,\\r\\nIt feels like A Silent Voice's densit...   \n",
       "\n",
       "                                         Good_points  \\\n",
       "0   Maintains A Silent Voice's usual acuity of ar...   \n",
       "1                        Musical score, fan service.   \n",
       "2   Some great voice work and nice animation, tri...   \n",
       "3   Doubles down on the manga's terrific characte...   \n",
       "4   Continues to demonstrate wondrously poignant ...   \n",
       "\n",
       "                                          Bad_points  \n",
       "0   Feels a bit overlong in its resolutions, and ...  \n",
       "1   Some character designs are appallingly ugly, ...  \n",
       "2   Story comes off melodramatic without much emo...  \n",
       "3   A couple dramatic points felt a little loosel...  \n",
       "4   Some dramatic developments here could have us...  "
      ]
     },
     "execution_count": 26,
     "metadata": {},
     "output_type": "execute_result"
    }
   ],
   "source": [
    "df.head()"
   ]
  },
  {
   "cell_type": "code",
   "execution_count": 27,
   "metadata": {
    "collapsed": false
   },
   "outputs": [
    {
     "data": {
      "text/plain": [
       "Name            12\n",
       "Name2          257\n",
       "Ratings          0\n",
       "Synopsis         0\n",
       "Review           0\n",
       "Good_points     32\n",
       "Bad_points      35\n",
       "dtype: int64"
      ]
     },
     "execution_count": 27,
     "metadata": {},
     "output_type": "execute_result"
    }
   ],
   "source": [
    "df.isnull().sum()"
   ]
  },
  {
   "cell_type": "code",
   "execution_count": 28,
   "metadata": {
    "collapsed": false
   },
   "outputs": [
    {
     "data": {
      "text/plain": [
       "(Name           object\n",
       " Name2          object\n",
       " Ratings        object\n",
       " Synopsis       object\n",
       " Review         object\n",
       " Good_points    object\n",
       " Bad_points     object\n",
       " dtype: object, (4174, 7))"
      ]
     },
     "execution_count": 28,
     "metadata": {},
     "output_type": "execute_result"
    }
   ],
   "source": [
    "df.dtypes, df.shape"
   ]
  },
  {
   "cell_type": "code",
   "execution_count": 29,
   "metadata": {
    "collapsed": false
   },
   "outputs": [
    {
     "data": {
      "text/html": [
       "<div>\n",
       "<table border=\"1\" class=\"dataframe\">\n",
       "  <thead>\n",
       "    <tr style=\"text-align: right;\">\n",
       "      <th></th>\n",
       "      <th>Name</th>\n",
       "      <th>Name2</th>\n",
       "      <th>Ratings</th>\n",
       "      <th>Synopsis</th>\n",
       "      <th>Review</th>\n",
       "      <th>Good_points</th>\n",
       "      <th>Bad_points</th>\n",
       "    </tr>\n",
       "  </thead>\n",
       "  <tbody>\n",
       "    <tr>\n",
       "      <th>11</th>\n",
       "      <td>Zero Time Dilemma</td>\n",
       "      <td>PS Vita</td>\n",
       "      <td>{'Music': 'A-', 'Graphics': 'B', 'Overall': 'A...</td>\n",
       "      <td>The latest installment in Kotaro Uchikoshi's a...</td>\n",
       "      <td>\\r\\n,\\r\\nZero Time Dilemma is a game that almo...</td>\n",
       "      <td>NaN</td>\n",
       "      <td>NaN</td>\n",
       "    </tr>\n",
       "    <tr>\n",
       "      <th>114</th>\n",
       "      <td>Etrian Odyssey IV: Legends of the Titan</td>\n",
       "      <td>Nintendo 3DS</td>\n",
       "      <td>{'Music': 'A-', 'Graphics': 'A-', 'Overall': '...</td>\n",
       "      <td>The fourth Etrian Odyssey brings back most of ...</td>\n",
       "      <td>\\r\\n,\\r\\nAnyone would be wary of a series that...</td>\n",
       "      <td>Series-standard Etrian Odyssey gameplay marri...</td>\n",
       "      <td>NaN</td>\n",
       "    </tr>\n",
       "    <tr>\n",
       "      <th>159</th>\n",
       "      <td>Anime</td>\n",
       "      <td>A Guide to Japanese Animation (1958-1988)</td>\n",
       "      <td>{}</td>\n",
       "      <td>Soft Cover,\\r\\n320 pages,\\r\\nBlack &amp; White,\\r\\...</td>\n",
       "      <td>\"Anime, A guide to Japanese Animation\" was fir...</td>\n",
       "      <td>NaN</td>\n",
       "      <td>NaN</td>\n",
       "    </tr>\n",
       "    <tr>\n",
       "      <th>260</th>\n",
       "      <td>X TV</td>\n",
       "      <td>[ONE]</td>\n",
       "      <td>{'Animation': 'B+', 'Overall (dub)': 'B', 'Mus...</td>\n",
       "      <td>In the first volume of X, the Dragons of the E...</td>\n",
       "      <td>The long awaited X television series is finall...</td>\n",
       "      <td>NaN</td>\n",
       "      <td>NaN</td>\n",
       "    </tr>\n",
       "  </tbody>\n",
       "</table>\n",
       "</div>"
      ],
      "text/plain": [
       "                                        Name  \\\n",
       "11                         Zero Time Dilemma   \n",
       "114  Etrian Odyssey IV: Legends of the Titan   \n",
       "159                                    Anime   \n",
       "260                                     X TV   \n",
       "\n",
       "                                         Name2  \\\n",
       "11                                     PS Vita   \n",
       "114                               Nintendo 3DS   \n",
       "159  A Guide to Japanese Animation (1958-1988)   \n",
       "260                                      [ONE]   \n",
       "\n",
       "                                               Ratings  \\\n",
       "11   {'Music': 'A-', 'Graphics': 'B', 'Overall': 'A...   \n",
       "114  {'Music': 'A-', 'Graphics': 'A-', 'Overall': '...   \n",
       "159                                                 {}   \n",
       "260  {'Animation': 'B+', 'Overall (dub)': 'B', 'Mus...   \n",
       "\n",
       "                                              Synopsis  \\\n",
       "11   The latest installment in Kotaro Uchikoshi's a...   \n",
       "114  The fourth Etrian Odyssey brings back most of ...   \n",
       "159  Soft Cover,\\r\\n320 pages,\\r\\nBlack & White,\\r\\...   \n",
       "260  In the first volume of X, the Dragons of the E...   \n",
       "\n",
       "                                                Review  \\\n",
       "11   \\r\\n,\\r\\nZero Time Dilemma is a game that almo...   \n",
       "114  \\r\\n,\\r\\nAnyone would be wary of a series that...   \n",
       "159  \"Anime, A guide to Japanese Animation\" was fir...   \n",
       "260  The long awaited X television series is finall...   \n",
       "\n",
       "                                           Good_points Bad_points  \n",
       "11                                                 NaN        NaN  \n",
       "114   Series-standard Etrian Odyssey gameplay marri...        NaN  \n",
       "159                                                NaN        NaN  \n",
       "260                                                NaN        NaN  "
      ]
     },
     "execution_count": 29,
     "metadata": {},
     "output_type": "execute_result"
    }
   ],
   "source": [
    "col = \"Bad_points\"\n",
    "\n",
    "df[df[col].map(lambda x: type(x) is not str)].head(4)"
   ]
  },
  {
   "cell_type": "code",
   "execution_count": 30,
   "metadata": {
    "collapsed": true
   },
   "outputs": [],
   "source": [
    "df2 = df # not much cleaning needed"
   ]
  },
  {
   "cell_type": "markdown",
   "metadata": {},
   "source": [
    "# Preprocessing the text data and the ratings data"
   ]
  },
  {
   "cell_type": "markdown",
   "metadata": {},
   "source": [
    "## Preprocessing text"
   ]
  },
  {
   "cell_type": "code",
   "execution_count": 31,
   "metadata": {
    "collapsed": false
   },
   "outputs": [],
   "source": [
    "# Defining how do we want to preprocess the text for machine learning\n",
    "from nltk import word_tokenize\n",
    "\n",
    "def preprocess_text(text):\n",
    "    if not pd.isnull(text):\n",
    "        text = re.sub(r'\\n|\\t|\\r', r' ', text, flags = re.DOTALL) #removing \\n, \\t and \\r\n",
    "        text = re.sub(r' +', r' ', text) #multiple spaces to one space\n",
    "        text = re.sub(r'\\d+', r'', text) # we really don't want to have '9/10' as the most important feature\n",
    "        text = text.lower()\n",
    "        text = word_tokenize(text)   \n",
    "    \n",
    "    return text"
   ]
  },
  {
   "cell_type": "code",
   "execution_count": 32,
   "metadata": {
    "collapsed": false
   },
   "outputs": [
    {
     "name": "stdout",
     "output_type": "stream",
     "text": [
      "['i', 'really', 'wanted', 'to', 'like', 'this', 'movie', '.', 'i', 'really', 'really', 'did', '.', 'it', 'has', 'all', 'the', 'ingredients', 'i', 'like', '.', 'fantasy/magic', ',', 'an', 'isolated', 'character', 'interacting', 'with', 'the', \"'real\", 'world', \"'\", 'for', 'the', 'first', 'time', ',', 'a', 'mix', 'of', 'comedy', '(', 'slapstick', 'and', 'cerebral', ')', ',', 'drama', ',', 'aliens', ',', 'and', 'a', 'ghost', 'sink', '.', 'i', 'do', \"n't\", 'know', 'if', 'it', 'was', 'the', 'subtle', 'differences', 'between', 'korean', 'and', 'japanese', 'animation', 'that', 'threw', 'me', ',', 'or', 'the', 'fact', 'that', 'they', 'tried', 'to', 'stuff', 'a', 'full', ',', 'episode', 'tv', 'series', '(', '~', 'minutes', ')', 'into', 'an', 'minute', 'movie', '.', 'all', 'i', 'know', 'is', 'that', 'this', 'movie', 'did', \"n't\", 'click', 'for', 'me', '.', 'taken', 'separately', ',', 'each', 'of', 'the', 'plot', 'devices', 'are', 'great', '.', 'the', 'problem', 'i', 'had', 'was', 'they', 'tried', 'to', 'stuff', 'too', 'many', 'into', 'the', 'movie', '.', 'had', 'they', 'just', 'kept', 'it', 'simple', 'and', 'let', 'the', 'movie', 'be', 'a', 'simple', 'adventure', '(', 'ala', 'spirited', 'away', ')', 'with', 'subtle', 'messages', ',', 'i', 'would', 'have', 'really', 'enjoyed', 'this', 'flick', '.', 'for', 'me', 'at', 'least', ',', 'there', \"'s\", 'something', 'off', 'about', 'this', 'film', '.', 'if', 'i', 'was', \"n't\", 'watching', 'it', 'for', 'the', 'mal', 'anime', 'watching', 'challenge', ',', 'i', 'would', 'have', 'probably', 'dropped', 'it', '.', 'i', \"'ll\", 'probably', 'revisit', 'later', 'down', 'the', 'road', 'now', 'that', 'i', 'know', 'to', 'lower', 'my', 'expectations', '.', 'for', 'the', 'time', 'being', ',', 'this', 'is', 'a', '``', 'meh', \"''\", 'flick', 'for', 'me', '.']\n"
     ]
    }
   ],
   "source": [
    "print( preprocess_text(df1.loc[5, \"Review\"]) )"
   ]
  },
  {
   "cell_type": "code",
   "execution_count": 33,
   "metadata": {
    "collapsed": false
   },
   "outputs": [
    {
     "name": "stdout",
     "output_type": "stream",
     "text": [
      "['i', 'normally', 'regard', 'yoshiaki', 'kawajiri', 'as', 'being', 'generally', 'overhyped', 'when', 'it', 'comes', 'to', 'anime', 'directors', '.', 'i', 'was', \"n't\", 'overly', 'enamored', 'with', 'ninja', 'scroll', '.', 'demon', 'city', 'shinjuku', 'and', 'cyber', 'city', 'oedo', 'were', 'entertaining', ',', 'but', 'ultimately', 'mind', 'candy', '.', 'birdy', 'the', 'mighty', 'was', 'pretty', 'fun', ',', 'and', 'wicked', 'city', 'was', 'too', ',', 'in', 'an', 'entirely', 'different', 'way', '.', 'we', 'shall', 'not', 'mention', 'the', '``', 'satanica', \"''\", 'pilot', '.', 'and', 'then', 'there', \"'s\", 'a', 'wind', 'named', 'amnesia', ':', 'a', 'total', 'gem', 'from', 'a', 'director', 'with', 'a', 'very', 'spotty', 'record.', ',', ',', 'there', \"'s\", 'not', 'too', 'much', 'story', 'here', ',', 'but', 'that', \"'s\", 'ok', '--', 'this', 'is', \"n't\", 'about', 'a', 'story', ',', 'this', 'is', 'about', 'people', ',', 'and', 'what', 'really', 'motivates', 'them', '.', 'while', 'the', 'ending', 'seems', 'a', 'bit', 'taylored', 'to', 'fit', 'in', 'a', 'quick', 'sex', 'scene', '(', 'which', 'seems', 'totally', 'inappropriate', 'here', ')', ',', 'where', 'the', 'film', 'leaves', 'off', 'is', 'satisfying', '.', 'it', \"'s\", 'not', 'one', 'of', 'those', 'films', 'you', 'watch', 'and', 'forget', 'about', '.', 'you', 'ponder', 'what', 'happens', 'for', 'days', 'afterward.', ',', ',', 'now', 'the', 'dvd', 'presentation', ':', 'first', 'off', ',', 'let', 'it', 'be', 'known', 'that', 'crush', 'digital', 'video', 'menus', 'really', 'really', 'blow', '--', 'they', \"'re\", 'unusably', 'slow', 'and', 'not', 'pc', 'mouse-supported', '.', 'the', 'video', 'itself', 'is', 'adequate', 'in', 'quality', ',', 'with', 'a', 'little', 'bit', 'of', 'a', 'halo', 'effect', 'left', 'over', 'from', 'the', 'analog', 'post-production', '.', 'it', \"'s\", 'a', 'fact', 'of', 'life', '.', 'the', 'transfer', 'is', 'fair', ',', 'with', 'the', 'colors', 'looking', 'a', 'bit', 'washed', 'out', 'in', 'places', 'and', 'some', 'clipping', 'of', 'the', 'top', 'left', 'corner', '.', 'the', 'mpeg-', 'compression', 'is', 'actually', 'very', 'nice', ',', 'with', 'pixellation', 'only', 'becoming', 'apparent', 'in', 'scenes', 'of', 'almost', 'total', 'black.', ',', ',', 'the', 'subtitles', 'are', 'standard', 'for', 'anime', 'dvd', \"'s\", '...', 'meaning', 'white', 'with', 'almost', 'no', 'border', '.', 'it', 'looks', 'all', 'right', 'here', ',', 'since', 'the', 'film', 'is', 'very', 'dark', 'overall', ',', 'but', 'many', 'titles', 'are', 'mis-timed', ',', 'resulting', 'in', 'up', 'to', 'three', 'seconds', 'of', 'dialogue', 'at', 'a', 'strech', 'with', 'no', 'titles', 'at', 'all', '.', 'no', 'translations', 'are', 'omitted', ',', 'but', 'to', 'those', 'that', 'do', \"n't\", 'know', 'japanese', ',', 'it', 'can', 'be', 'disconcerting', '.', 'the', 'translations', 'themselves', 'are', 'very', 'good', '--', 'typical', 'neil', 'nadelman', 'fare', '.', 'the', 'dubbed', 'version', 'is', 'one', 'of', 'the', 'older', 'manga', 'video', 'dub', 'jobs', ',', 'with', 'good', 'post-production', 'values', ',', 'but', 'only', 'fair', 'quality', '.', 'it', \"'s\", 'unfortunate', 'that', 'the', 'english', 'cast', 'seems', 'too', 'preoccupied', 'with', 'sounding', 'like', 'good', 'voice', 'talent', ',', 'but', 'not', 'in', 'expressing', 'the', 'innocence', 'of', 'the', 'characters.', ',', ',', 'the', 'packaging', 'is', 'nice', ',', 'but', 'i', 'still', 'do', \"n't\", 'understand', 'the', 'point', 'of', 'having', 'all', 'of', 'the', 'liner', 'notes', 'on', 'the', 'inside', 'of', 'the', 'insert', '.', 'it', \"'s\", 'impossible', 'to', 'access', ',', 'you', 'run', 'the', 'risk', 'of', 'ruining', 'the', 'cover', ',', 'and', 'the', 'chapter', 'names', 'are', 'not', 'easy', 'to', 'get', 'at', '.', '(', 'they', 'do', \"n't\", 'help', 'much', 'anyway', ',', 'as', 'the', 'chapters', 'are', 'kind', 'of', 'unevenly', 'distributed', '.', ')', 'the', 'japanese', 'cast', 'is', 'not', 'noted', 'anywhere', 'in', 'english', '--', 'not', 'on', 'the', 'video', 'or', 'the', 'packaging', ',', 'which', 'i', 'found', 'a', 'bit', 'annoying', ',', 'especially', 'since', 'they', 'make', 'that', 'information', 'available', 'on', 'the', 'vhs', 'subtitled', 'release.', ',', ',', 'overall', ',', 'a', 'wind', 'named', 'amnesia', 'is', 'a', 'great', 'anime', 'that', 'anyone', 'that', 'considers', 'themselves', 'a', 'fan', 'should', 'pick', 'up', '.', 'never', 'mind', 'the', 'weak', 'ending', 'or', 'the', 'so-so', 'dvd', 'execution', '...', 'this', 'is', 'a', 'classic', '.', 'hey', ',', 'it', \"'s\", 'still', 'just', 'as', 'good', 'as', 'an', 'ld', 'release', '...']\n"
     ]
    }
   ],
   "source": [
    "print( preprocess_text(df2.loc[5, \"Review\"]) )"
   ]
  },
  {
   "cell_type": "code",
   "execution_count": 34,
   "metadata": {
    "collapsed": false
   },
   "outputs": [],
   "source": [
    "# Preprocessing all reviews form My Anime List\n",
    "df1[\"Review\"] = df1[\"Review\"].map(preprocess_text)"
   ]
  },
  {
   "cell_type": "code",
   "execution_count": 35,
   "metadata": {
    "collapsed": false
   },
   "outputs": [
    {
     "data": {
      "text/html": [
       "<div>\n",
       "<table border=\"1\" class=\"dataframe\">\n",
       "  <thead>\n",
       "    <tr style=\"text-align: right;\">\n",
       "      <th></th>\n",
       "      <th>Name</th>\n",
       "      <th>Review</th>\n",
       "      <th>Rating</th>\n",
       "      <th>Story</th>\n",
       "      <th>Animation</th>\n",
       "      <th>Sound</th>\n",
       "      <th>Character</th>\n",
       "      <th>Enjoyment</th>\n",
       "    </tr>\n",
       "  </thead>\n",
       "  <tbody>\n",
       "    <tr>\n",
       "      <th>2</th>\n",
       "      <td>Nyanbo!</td>\n",
       "      <td>[i, usually, don´t, watch, this, kind, of, ani...</td>\n",
       "      <td>8.0</td>\n",
       "      <td>6.0</td>\n",
       "      <td>9.0</td>\n",
       "      <td>9.0</td>\n",
       "      <td>7.0</td>\n",
       "      <td>6.0</td>\n",
       "    </tr>\n",
       "    <tr>\n",
       "      <th>3</th>\n",
       "      <td>Boku no Pico</td>\n",
       "      <td>[good, work, ., seriously, ., children, 's, se...</td>\n",
       "      <td>7.0</td>\n",
       "      <td>6.0</td>\n",
       "      <td>6.0</td>\n",
       "      <td>6.0</td>\n",
       "      <td>7.0</td>\n",
       "      <td>5.0</td>\n",
       "    </tr>\n",
       "    <tr>\n",
       "      <th>4</th>\n",
       "      <td>Kimi no Na wa.</td>\n",
       "      <td>[there, 's, a, lot, of, shows, and, movies, no...</td>\n",
       "      <td>10.0</td>\n",
       "      <td>9.0</td>\n",
       "      <td>10.0</td>\n",
       "      <td>10.0</td>\n",
       "      <td>10.0</td>\n",
       "      <td>10.0</td>\n",
       "    </tr>\n",
       "    <tr>\n",
       "      <th>5</th>\n",
       "      <td>Cheonnyeon-yeowoo Yeowoobi</td>\n",
       "      <td>[i, really, wanted, to, like, this, movie, ., ...</td>\n",
       "      <td>6.0</td>\n",
       "      <td>6.0</td>\n",
       "      <td>7.0</td>\n",
       "      <td>5.0</td>\n",
       "      <td>7.0</td>\n",
       "      <td>6.0</td>\n",
       "    </tr>\n",
       "    <tr>\n",
       "      <th>6</th>\n",
       "      <td>Noragami</td>\n",
       "      <td>[i, think, its, pretty, obvious, where, the, f...</td>\n",
       "      <td>7.0</td>\n",
       "      <td>7.0</td>\n",
       "      <td>10.0</td>\n",
       "      <td>10.0</td>\n",
       "      <td>7.0</td>\n",
       "      <td>7.0</td>\n",
       "    </tr>\n",
       "  </tbody>\n",
       "</table>\n",
       "</div>"
      ],
      "text/plain": [
       "                         Name  \\\n",
       "2                     Nyanbo!   \n",
       "3                Boku no Pico   \n",
       "4              Kimi no Na wa.   \n",
       "5  Cheonnyeon-yeowoo Yeowoobi   \n",
       "6                    Noragami   \n",
       "\n",
       "                                              Review  Rating  Story  \\\n",
       "2  [i, usually, don´t, watch, this, kind, of, ani...     8.0    6.0   \n",
       "3  [good, work, ., seriously, ., children, 's, se...     7.0    6.0   \n",
       "4  [there, 's, a, lot, of, shows, and, movies, no...    10.0    9.0   \n",
       "5  [i, really, wanted, to, like, this, movie, ., ...     6.0    6.0   \n",
       "6  [i, think, its, pretty, obvious, where, the, f...     7.0    7.0   \n",
       "\n",
       "   Animation  Sound  Character  Enjoyment  \n",
       "2        9.0    9.0        7.0        6.0  \n",
       "3        6.0    6.0        7.0        5.0  \n",
       "4       10.0   10.0       10.0       10.0  \n",
       "5        7.0    5.0        7.0        6.0  \n",
       "6       10.0   10.0        7.0        7.0  "
      ]
     },
     "execution_count": 35,
     "metadata": {},
     "output_type": "execute_result"
    }
   ],
   "source": [
    "df1.head()"
   ]
  },
  {
   "cell_type": "code",
   "execution_count": 36,
   "metadata": {
    "collapsed": false
   },
   "outputs": [],
   "source": [
    "# Preprocessing all text (except titles) form Anime News Network\n",
    "columns = [\"Synopsis\", \"Review\" ,\"Good_points\", \"Bad_points\"]\n",
    "\n",
    "for col in columns:\n",
    "    df2[col] = df2[col].map(preprocess_text)"
   ]
  },
  {
   "cell_type": "code",
   "execution_count": 37,
   "metadata": {
    "collapsed": false
   },
   "outputs": [
    {
     "data": {
      "text/html": [
       "<div>\n",
       "<table border=\"1\" class=\"dataframe\">\n",
       "  <thead>\n",
       "    <tr style=\"text-align: right;\">\n",
       "      <th></th>\n",
       "      <th>Name</th>\n",
       "      <th>Name2</th>\n",
       "      <th>Ratings</th>\n",
       "      <th>Synopsis</th>\n",
       "      <th>Review</th>\n",
       "      <th>Good_points</th>\n",
       "      <th>Bad_points</th>\n",
       "    </tr>\n",
       "  </thead>\n",
       "  <tbody>\n",
       "    <tr>\n",
       "      <th>0</th>\n",
       "      <td>A Silent Voice</td>\n",
       "      <td>GN 7</td>\n",
       "      <td>{'Overall': 'B+', 'Art': 'A-', 'Story': 'B-'}</td>\n",
       "      <td>[at, last, ,, shoya, has, woken, up, ., racing...</td>\n",
       "      <td>[,, a, silent, voice, reached, its, climax, at...</td>\n",
       "      <td>[maintains, a, silent, voice, 's, usual, acuit...</td>\n",
       "      <td>[feels, a, bit, overlong, in, its, resolutions...</td>\n",
       "    </tr>\n",
       "    <tr>\n",
       "      <th>1</th>\n",
       "      <td>009-1</td>\n",
       "      <td>DVD 1</td>\n",
       "      <td>{'Animation': 'B-', 'Overall (dub)': 'B', 'Mus...</td>\n",
       "      <td>[in, a, world, where, the, cold, war, continue...</td>\n",
       "      <td>[,, to, fully, and, correctly, appreciate, -, ...</td>\n",
       "      <td>[musical, score, ,, fan, service, .]</td>\n",
       "      <td>[some, character, designs, are, appallingly, u...</td>\n",
       "    </tr>\n",
       "    <tr>\n",
       "      <th>2</th>\n",
       "      <td>A Town Where You Live</td>\n",
       "      <td>Sub.Blu-Ray</td>\n",
       "      <td>{'Animation': 'B', 'Overall (sub)': 'C', 'Musi...</td>\n",
       "      <td>[haruto, ca, n't, bring, himself, to, accept, ...</td>\n",
       "      <td>[,, what, happens, when, you, take, twenty-sev...</td>\n",
       "      <td>[some, great, voice, work, and, nice, animatio...</td>\n",
       "      <td>[story, comes, off, melodramatic, without, muc...</td>\n",
       "    </tr>\n",
       "    <tr>\n",
       "      <th>3</th>\n",
       "      <td>A Silent Voice</td>\n",
       "      <td>GN 6</td>\n",
       "      <td>{'Overall': 'A', 'Art': 'A-', 'Story': 'A'}</td>\n",
       "      <td>[seeing, shoko, about, to, leap, off, her, bal...</td>\n",
       "      <td>[,, it, 's, always, an, interesting, experienc...</td>\n",
       "      <td>[doubles, down, on, the, manga, 's, terrific, ...</td>\n",
       "      <td>[a, couple, dramatic, points, felt, a, little,...</td>\n",
       "    </tr>\n",
       "    <tr>\n",
       "      <th>4</th>\n",
       "      <td>A Silent Voice</td>\n",
       "      <td>GN 4</td>\n",
       "      <td>{'Overall': 'A-', 'Art': 'B', 'Story': 'A'}</td>\n",
       "      <td>[things, continue, to, change, little, by, lit...</td>\n",
       "      <td>[,, it, feels, like, a, silent, voice, 's, den...</td>\n",
       "      <td>[continues, to, demonstrate, wondrously, poign...</td>\n",
       "      <td>[some, dramatic, developments, here, could, ha...</td>\n",
       "    </tr>\n",
       "  </tbody>\n",
       "</table>\n",
       "</div>"
      ],
      "text/plain": [
       "                    Name        Name2  \\\n",
       "0         A Silent Voice         GN 7   \n",
       "1                  009-1        DVD 1   \n",
       "2  A Town Where You Live  Sub.Blu-Ray   \n",
       "3         A Silent Voice         GN 6   \n",
       "4         A Silent Voice         GN 4   \n",
       "\n",
       "                                             Ratings  \\\n",
       "0      {'Overall': 'B+', 'Art': 'A-', 'Story': 'B-'}   \n",
       "1  {'Animation': 'B-', 'Overall (dub)': 'B', 'Mus...   \n",
       "2  {'Animation': 'B', 'Overall (sub)': 'C', 'Musi...   \n",
       "3        {'Overall': 'A', 'Art': 'A-', 'Story': 'A'}   \n",
       "4        {'Overall': 'A-', 'Art': 'B', 'Story': 'A'}   \n",
       "\n",
       "                                            Synopsis  \\\n",
       "0  [at, last, ,, shoya, has, woken, up, ., racing...   \n",
       "1  [in, a, world, where, the, cold, war, continue...   \n",
       "2  [haruto, ca, n't, bring, himself, to, accept, ...   \n",
       "3  [seeing, shoko, about, to, leap, off, her, bal...   \n",
       "4  [things, continue, to, change, little, by, lit...   \n",
       "\n",
       "                                              Review  \\\n",
       "0  [,, a, silent, voice, reached, its, climax, at...   \n",
       "1  [,, to, fully, and, correctly, appreciate, -, ...   \n",
       "2  [,, what, happens, when, you, take, twenty-sev...   \n",
       "3  [,, it, 's, always, an, interesting, experienc...   \n",
       "4  [,, it, feels, like, a, silent, voice, 's, den...   \n",
       "\n",
       "                                         Good_points  \\\n",
       "0  [maintains, a, silent, voice, 's, usual, acuit...   \n",
       "1               [musical, score, ,, fan, service, .]   \n",
       "2  [some, great, voice, work, and, nice, animatio...   \n",
       "3  [doubles, down, on, the, manga, 's, terrific, ...   \n",
       "4  [continues, to, demonstrate, wondrously, poign...   \n",
       "\n",
       "                                          Bad_points  \n",
       "0  [feels, a, bit, overlong, in, its, resolutions...  \n",
       "1  [some, character, designs, are, appallingly, u...  \n",
       "2  [story, comes, off, melodramatic, without, muc...  \n",
       "3  [a, couple, dramatic, points, felt, a, little,...  \n",
       "4  [some, dramatic, developments, here, could, ha...  "
      ]
     },
     "execution_count": 37,
     "metadata": {},
     "output_type": "execute_result"
    }
   ],
   "source": [
    "df2.head()"
   ]
  },
  {
   "cell_type": "markdown",
   "metadata": {},
   "source": [
    "## Preprocessing ratings"
   ]
  },
  {
   "cell_type": "code",
   "execution_count": 38,
   "metadata": {
    "collapsed": false
   },
   "outputs": [],
   "source": [
    "#converting string of ratings to dictionaries (Anime News Network dataset)\n",
    "import ast\n",
    "\n",
    "ratings = df2[\"Ratings\"].copy()\n",
    "ratings = ratings.map(ast.literal_eval)"
   ]
  },
  {
   "cell_type": "code",
   "execution_count": 39,
   "metadata": {
    "collapsed": false
   },
   "outputs": [],
   "source": [
    "# getting all paris e.g (\"Animation, A-)\n",
    "all_pairs_ratings = [(name, rating) for rating in ratings\n",
    "                                    for name, rating in rating.items()]"
   ]
  },
  {
   "cell_type": "code",
   "execution_count": 40,
   "metadata": {
    "collapsed": false
   },
   "outputs": [],
   "source": [
    "#getting dict e.g all_ratings[\"Story\"] = [A, B-, C, A, ...]\n",
    "from collections import defaultdict\n",
    "\n",
    "all_ratings = defaultdict(list)\n",
    "\n",
    "for name, rating in all_pairs_ratings:\n",
    "    all_ratings[name].append(rating)"
   ]
  },
  {
   "cell_type": "code",
   "execution_count": 41,
   "metadata": {
    "collapsed": false
   },
   "outputs": [
    {
     "data": {
      "text/plain": [
       "{'A', 'A+', 'A-', 'B', 'B+', 'B-', 'C', 'C+', 'C-', 'D', 'D+', 'D-', 'E-'}"
      ]
     },
     "execution_count": 41,
     "metadata": {},
     "output_type": "execute_result"
    }
   ],
   "source": [
    "# getting all posible values of a rating\n",
    "rating_values = {value for value_list in all_ratings.values()\n",
    "                       for value in value_list}\n",
    "rating_values"
   ]
  },
  {
   "cell_type": "code",
   "execution_count": 42,
   "metadata": {
    "collapsed": false
   },
   "outputs": [],
   "source": [
    "# changing letters to numbers\n",
    "rating_map = {'A' : 11, 'A+' : 12, 'A-' : 10, 'B' : 8, 'B+' : 9, 'B-' : 7, 'C' : 5, 'C+' : 6, \n",
    "              'C-' : 4, 'D' : 1, 'D+' : 2, 'D-' : 0, 'E-' : -1}\n",
    "\n",
    "all_ratings_num = {name : pd.Series(rating_list).map(rating_map)\n",
    "                               for name, rating_list in all_ratings.items()}"
   ]
  },
  {
   "cell_type": "code",
   "execution_count": 43,
   "metadata": {
    "collapsed": false
   },
   "outputs": [
    {
     "data": {
      "text/plain": [
       "[('Art', 3828),\n",
       " ('Story', 3792),\n",
       " ('Music', 2635),\n",
       " ('Animation', 2512),\n",
       " ('Overall (sub)', 2385),\n",
       " ('Overall (dub)', 1754),\n",
       " ('Overall', 1584),\n",
       " ('Graphics', 122),\n",
       " ('Gameplay', 119),\n",
       " ('Presentation', 119),\n",
       " ('FX', 1),\n",
       " ('Kanon', 1),\n",
       " ('Nazca', 1),\n",
       " ('Butler II', 1),\n",
       " ('Bizarre Adventure', 1),\n",
       " ('Death Note', 1),\n",
       " ('Tari Tari', 1),\n",
       " ('Ball Z', 1),\n",
       " ('Ace Attorney', 1),\n",
       " ('DBZ', 1),\n",
       " ('Dogs', 1)]"
      ]
     },
     "execution_count": 43,
     "metadata": {},
     "output_type": "execute_result"
    }
   ],
   "source": [
    "# getting the most popular subjects of rating\n",
    "from operator import itemgetter\n",
    "sorted([(key, value.count()) for key, value in all_ratings_num.items()], key= itemgetter(1), reverse = True)"
   ]
  },
  {
   "cell_type": "code",
   "execution_count": 44,
   "metadata": {
    "collapsed": false
   },
   "outputs": [],
   "source": [
    "# Defining a function for adding columns to the data frame based on the \"Ratings\" column\n",
    "\n",
    "def Extract_rating(dict_rating, names):\n",
    "    dict_rating = ast.literal_eval(dict_rating)\n",
    "    return np.mean([rating_map[value] \n",
    "                            for key, value in dict_rating.items() if key in names])"
   ]
  },
  {
   "cell_type": "code",
   "execution_count": 45,
   "metadata": {
    "collapsed": false
   },
   "outputs": [
    {
     "name": "stderr",
     "output_type": "stream",
     "text": [
      "C:\\Users\\SmilingAtheist\\Anaconda3\\lib\\site-packages\\numpy\\core\\_methods.py:59: RuntimeWarning: Mean of empty slice.\n",
      "  warnings.warn(\"Mean of empty slice.\", RuntimeWarning)\n"
     ]
    }
   ],
   "source": [
    "# Mean of all overall ratings\n",
    "Overall = ['Overall', 'Overall (sub)', 'Overall (dub)']\n",
    "\n",
    "df2[\"Overall\"] = df2[\"Ratings\"].map( lambda x: Extract_rating(x, Overall))"
   ]
  },
  {
   "cell_type": "code",
   "execution_count": 46,
   "metadata": {
    "collapsed": false
   },
   "outputs": [
    {
     "name": "stderr",
     "output_type": "stream",
     "text": [
      "C:\\Users\\SmilingAtheist\\Anaconda3\\lib\\site-packages\\numpy\\core\\_methods.py:59: RuntimeWarning: Mean of empty slice.\n",
      "  warnings.warn(\"Mean of empty slice.\", RuntimeWarning)\n"
     ]
    }
   ],
   "source": [
    "df2[\"Animation\"] = df2[\"Ratings\"].map( lambda x: Extract_rating(x, \"Animation\"))"
   ]
  },
  {
   "cell_type": "code",
   "execution_count": 47,
   "metadata": {
    "collapsed": false
   },
   "outputs": [
    {
     "name": "stderr",
     "output_type": "stream",
     "text": [
      "C:\\Users\\SmilingAtheist\\Anaconda3\\lib\\site-packages\\numpy\\core\\_methods.py:59: RuntimeWarning: Mean of empty slice.\n",
      "  warnings.warn(\"Mean of empty slice.\", RuntimeWarning)\n"
     ]
    }
   ],
   "source": [
    "df2[\"Music\"] = df2[\"Ratings\"].map( lambda x: Extract_rating(x, \"Music\"))"
   ]
  },
  {
   "cell_type": "code",
   "execution_count": 48,
   "metadata": {
    "collapsed": false
   },
   "outputs": [
    {
     "name": "stderr",
     "output_type": "stream",
     "text": [
      "C:\\Users\\SmilingAtheist\\Anaconda3\\lib\\site-packages\\numpy\\core\\_methods.py:59: RuntimeWarning: Mean of empty slice.\n",
      "  warnings.warn(\"Mean of empty slice.\", RuntimeWarning)\n"
     ]
    }
   ],
   "source": [
    "df2[\"Story\"] = df2[\"Ratings\"].map( lambda x: Extract_rating(x, \"Story\"))"
   ]
  },
  {
   "cell_type": "code",
   "execution_count": 49,
   "metadata": {
    "collapsed": false
   },
   "outputs": [
    {
     "name": "stderr",
     "output_type": "stream",
     "text": [
      "C:\\Users\\SmilingAtheist\\Anaconda3\\lib\\site-packages\\numpy\\core\\_methods.py:59: RuntimeWarning: Mean of empty slice.\n",
      "  warnings.warn(\"Mean of empty slice.\", RuntimeWarning)\n"
     ]
    }
   ],
   "source": [
    "df2[\"Art\"] = df2[\"Ratings\"].map( lambda x: Extract_rating(x, \"Art\"))"
   ]
  },
  {
   "cell_type": "code",
   "execution_count": 50,
   "metadata": {
    "collapsed": false
   },
   "outputs": [
    {
     "data": {
      "text/plain": [
       "7.723904052936312"
      ]
     },
     "execution_count": 50,
     "metadata": {},
     "output_type": "execute_result"
    }
   ],
   "source": [
    "mean_overall_2 = df2[\"Overall\"].mean()\n",
    "mean_overall_2"
   ]
  },
  {
   "cell_type": "code",
   "execution_count": 51,
   "metadata": {
    "collapsed": true
   },
   "outputs": [],
   "source": [
    "df2[\"Above_average\"] = df2[\"Overall\"].map(lambda x: int(x > mean_overall_2) )"
   ]
  },
  {
   "cell_type": "code",
   "execution_count": 52,
   "metadata": {
    "collapsed": false
   },
   "outputs": [
    {
     "data": {
      "text/html": [
       "<div>\n",
       "<table border=\"1\" class=\"dataframe\">\n",
       "  <thead>\n",
       "    <tr style=\"text-align: right;\">\n",
       "      <th></th>\n",
       "      <th>Name</th>\n",
       "      <th>Name2</th>\n",
       "      <th>Ratings</th>\n",
       "      <th>Synopsis</th>\n",
       "      <th>Review</th>\n",
       "      <th>Good_points</th>\n",
       "      <th>Bad_points</th>\n",
       "      <th>Overall</th>\n",
       "      <th>Animation</th>\n",
       "      <th>Music</th>\n",
       "      <th>Story</th>\n",
       "      <th>Art</th>\n",
       "      <th>Above_average</th>\n",
       "    </tr>\n",
       "  </thead>\n",
       "  <tbody>\n",
       "    <tr>\n",
       "      <th>0</th>\n",
       "      <td>A Silent Voice</td>\n",
       "      <td>GN 7</td>\n",
       "      <td>{'Overall': 'B+', 'Art': 'A-', 'Story': 'B-'}</td>\n",
       "      <td>[at, last, ,, shoya, has, woken, up, ., racing...</td>\n",
       "      <td>[,, a, silent, voice, reached, its, climax, at...</td>\n",
       "      <td>[maintains, a, silent, voice, 's, usual, acuit...</td>\n",
       "      <td>[feels, a, bit, overlong, in, its, resolutions...</td>\n",
       "      <td>9.0</td>\n",
       "      <td>NaN</td>\n",
       "      <td>NaN</td>\n",
       "      <td>7.0</td>\n",
       "      <td>10.0</td>\n",
       "      <td>1</td>\n",
       "    </tr>\n",
       "    <tr>\n",
       "      <th>1</th>\n",
       "      <td>009-1</td>\n",
       "      <td>DVD 1</td>\n",
       "      <td>{'Animation': 'B-', 'Overall (dub)': 'B', 'Mus...</td>\n",
       "      <td>[in, a, world, where, the, cold, war, continue...</td>\n",
       "      <td>[,, to, fully, and, correctly, appreciate, -, ...</td>\n",
       "      <td>[musical, score, ,, fan, service, .]</td>\n",
       "      <td>[some, character, designs, are, appallingly, u...</td>\n",
       "      <td>8.0</td>\n",
       "      <td>7.0</td>\n",
       "      <td>10.0</td>\n",
       "      <td>7.0</td>\n",
       "      <td>9.0</td>\n",
       "      <td>1</td>\n",
       "    </tr>\n",
       "    <tr>\n",
       "      <th>2</th>\n",
       "      <td>A Town Where You Live</td>\n",
       "      <td>Sub.Blu-Ray</td>\n",
       "      <td>{'Animation': 'B', 'Overall (sub)': 'C', 'Musi...</td>\n",
       "      <td>[haruto, ca, n't, bring, himself, to, accept, ...</td>\n",
       "      <td>[,, what, happens, when, you, take, twenty-sev...</td>\n",
       "      <td>[some, great, voice, work, and, nice, animatio...</td>\n",
       "      <td>[story, comes, off, melodramatic, without, muc...</td>\n",
       "      <td>5.0</td>\n",
       "      <td>8.0</td>\n",
       "      <td>6.0</td>\n",
       "      <td>4.0</td>\n",
       "      <td>8.0</td>\n",
       "      <td>0</td>\n",
       "    </tr>\n",
       "    <tr>\n",
       "      <th>3</th>\n",
       "      <td>A Silent Voice</td>\n",
       "      <td>GN 6</td>\n",
       "      <td>{'Overall': 'A', 'Art': 'A-', 'Story': 'A'}</td>\n",
       "      <td>[seeing, shoko, about, to, leap, off, her, bal...</td>\n",
       "      <td>[,, it, 's, always, an, interesting, experienc...</td>\n",
       "      <td>[doubles, down, on, the, manga, 's, terrific, ...</td>\n",
       "      <td>[a, couple, dramatic, points, felt, a, little,...</td>\n",
       "      <td>11.0</td>\n",
       "      <td>NaN</td>\n",
       "      <td>NaN</td>\n",
       "      <td>11.0</td>\n",
       "      <td>10.0</td>\n",
       "      <td>1</td>\n",
       "    </tr>\n",
       "    <tr>\n",
       "      <th>4</th>\n",
       "      <td>A Silent Voice</td>\n",
       "      <td>GN 4</td>\n",
       "      <td>{'Overall': 'A-', 'Art': 'B', 'Story': 'A'}</td>\n",
       "      <td>[things, continue, to, change, little, by, lit...</td>\n",
       "      <td>[,, it, feels, like, a, silent, voice, 's, den...</td>\n",
       "      <td>[continues, to, demonstrate, wondrously, poign...</td>\n",
       "      <td>[some, dramatic, developments, here, could, ha...</td>\n",
       "      <td>10.0</td>\n",
       "      <td>NaN</td>\n",
       "      <td>NaN</td>\n",
       "      <td>11.0</td>\n",
       "      <td>8.0</td>\n",
       "      <td>1</td>\n",
       "    </tr>\n",
       "  </tbody>\n",
       "</table>\n",
       "</div>"
      ],
      "text/plain": [
       "                    Name        Name2  \\\n",
       "0         A Silent Voice         GN 7   \n",
       "1                  009-1        DVD 1   \n",
       "2  A Town Where You Live  Sub.Blu-Ray   \n",
       "3         A Silent Voice         GN 6   \n",
       "4         A Silent Voice         GN 4   \n",
       "\n",
       "                                             Ratings  \\\n",
       "0      {'Overall': 'B+', 'Art': 'A-', 'Story': 'B-'}   \n",
       "1  {'Animation': 'B-', 'Overall (dub)': 'B', 'Mus...   \n",
       "2  {'Animation': 'B', 'Overall (sub)': 'C', 'Musi...   \n",
       "3        {'Overall': 'A', 'Art': 'A-', 'Story': 'A'}   \n",
       "4        {'Overall': 'A-', 'Art': 'B', 'Story': 'A'}   \n",
       "\n",
       "                                            Synopsis  \\\n",
       "0  [at, last, ,, shoya, has, woken, up, ., racing...   \n",
       "1  [in, a, world, where, the, cold, war, continue...   \n",
       "2  [haruto, ca, n't, bring, himself, to, accept, ...   \n",
       "3  [seeing, shoko, about, to, leap, off, her, bal...   \n",
       "4  [things, continue, to, change, little, by, lit...   \n",
       "\n",
       "                                              Review  \\\n",
       "0  [,, a, silent, voice, reached, its, climax, at...   \n",
       "1  [,, to, fully, and, correctly, appreciate, -, ...   \n",
       "2  [,, what, happens, when, you, take, twenty-sev...   \n",
       "3  [,, it, 's, always, an, interesting, experienc...   \n",
       "4  [,, it, feels, like, a, silent, voice, 's, den...   \n",
       "\n",
       "                                         Good_points  \\\n",
       "0  [maintains, a, silent, voice, 's, usual, acuit...   \n",
       "1               [musical, score, ,, fan, service, .]   \n",
       "2  [some, great, voice, work, and, nice, animatio...   \n",
       "3  [doubles, down, on, the, manga, 's, terrific, ...   \n",
       "4  [continues, to, demonstrate, wondrously, poign...   \n",
       "\n",
       "                                          Bad_points  Overall  Animation  \\\n",
       "0  [feels, a, bit, overlong, in, its, resolutions...      9.0        NaN   \n",
       "1  [some, character, designs, are, appallingly, u...      8.0        7.0   \n",
       "2  [story, comes, off, melodramatic, without, muc...      5.0        8.0   \n",
       "3  [a, couple, dramatic, points, felt, a, little,...     11.0        NaN   \n",
       "4  [some, dramatic, developments, here, could, ha...     10.0        NaN   \n",
       "\n",
       "   Music  Story   Art  Above_average  \n",
       "0    NaN    7.0  10.0              1  \n",
       "1   10.0    7.0   9.0              1  \n",
       "2    6.0    4.0   8.0              0  \n",
       "3    NaN   11.0  10.0              1  \n",
       "4    NaN   11.0   8.0              1  "
      ]
     },
     "execution_count": 52,
     "metadata": {},
     "output_type": "execute_result"
    }
   ],
   "source": [
    "df2.head()"
   ]
  },
  {
   "cell_type": "code",
   "execution_count": 53,
   "metadata": {
    "collapsed": true
   },
   "outputs": [],
   "source": [
    "# Switching to My Anime List"
   ]
  },
  {
   "cell_type": "code",
   "execution_count": 54,
   "metadata": {
    "collapsed": false
   },
   "outputs": [
    {
     "data": {
      "text/plain": [
       "7.561758540592601"
      ]
     },
     "execution_count": 54,
     "metadata": {},
     "output_type": "execute_result"
    }
   ],
   "source": [
    "# adding the above_average column to the df1 data frame\n",
    "mean_overall_1 = df1[\"Rating\"].mean()\n",
    "mean_overall_1"
   ]
  },
  {
   "cell_type": "code",
   "execution_count": 55,
   "metadata": {
    "collapsed": false
   },
   "outputs": [],
   "source": [
    "df1[\"Above_average\"] = df1[\"Rating\"].map(lambda x: int(x > mean_overall_1) )"
   ]
  },
  {
   "cell_type": "code",
   "execution_count": 56,
   "metadata": {
    "collapsed": false
   },
   "outputs": [
    {
     "data": {
      "text/html": [
       "<div>\n",
       "<table border=\"1\" class=\"dataframe\">\n",
       "  <thead>\n",
       "    <tr style=\"text-align: right;\">\n",
       "      <th></th>\n",
       "      <th>Name</th>\n",
       "      <th>Review</th>\n",
       "      <th>Rating</th>\n",
       "      <th>Story</th>\n",
       "      <th>Animation</th>\n",
       "      <th>Sound</th>\n",
       "      <th>Character</th>\n",
       "      <th>Enjoyment</th>\n",
       "      <th>Above_average</th>\n",
       "    </tr>\n",
       "  </thead>\n",
       "  <tbody>\n",
       "    <tr>\n",
       "      <th>2</th>\n",
       "      <td>Nyanbo!</td>\n",
       "      <td>[i, usually, don´t, watch, this, kind, of, ani...</td>\n",
       "      <td>8.0</td>\n",
       "      <td>6.0</td>\n",
       "      <td>9.0</td>\n",
       "      <td>9.0</td>\n",
       "      <td>7.0</td>\n",
       "      <td>6.0</td>\n",
       "      <td>1</td>\n",
       "    </tr>\n",
       "    <tr>\n",
       "      <th>3</th>\n",
       "      <td>Boku no Pico</td>\n",
       "      <td>[good, work, ., seriously, ., children, 's, se...</td>\n",
       "      <td>7.0</td>\n",
       "      <td>6.0</td>\n",
       "      <td>6.0</td>\n",
       "      <td>6.0</td>\n",
       "      <td>7.0</td>\n",
       "      <td>5.0</td>\n",
       "      <td>0</td>\n",
       "    </tr>\n",
       "    <tr>\n",
       "      <th>4</th>\n",
       "      <td>Kimi no Na wa.</td>\n",
       "      <td>[there, 's, a, lot, of, shows, and, movies, no...</td>\n",
       "      <td>10.0</td>\n",
       "      <td>9.0</td>\n",
       "      <td>10.0</td>\n",
       "      <td>10.0</td>\n",
       "      <td>10.0</td>\n",
       "      <td>10.0</td>\n",
       "      <td>1</td>\n",
       "    </tr>\n",
       "    <tr>\n",
       "      <th>5</th>\n",
       "      <td>Cheonnyeon-yeowoo Yeowoobi</td>\n",
       "      <td>[i, really, wanted, to, like, this, movie, ., ...</td>\n",
       "      <td>6.0</td>\n",
       "      <td>6.0</td>\n",
       "      <td>7.0</td>\n",
       "      <td>5.0</td>\n",
       "      <td>7.0</td>\n",
       "      <td>6.0</td>\n",
       "      <td>0</td>\n",
       "    </tr>\n",
       "    <tr>\n",
       "      <th>6</th>\n",
       "      <td>Noragami</td>\n",
       "      <td>[i, think, its, pretty, obvious, where, the, f...</td>\n",
       "      <td>7.0</td>\n",
       "      <td>7.0</td>\n",
       "      <td>10.0</td>\n",
       "      <td>10.0</td>\n",
       "      <td>7.0</td>\n",
       "      <td>7.0</td>\n",
       "      <td>0</td>\n",
       "    </tr>\n",
       "  </tbody>\n",
       "</table>\n",
       "</div>"
      ],
      "text/plain": [
       "                         Name  \\\n",
       "2                     Nyanbo!   \n",
       "3                Boku no Pico   \n",
       "4              Kimi no Na wa.   \n",
       "5  Cheonnyeon-yeowoo Yeowoobi   \n",
       "6                    Noragami   \n",
       "\n",
       "                                              Review  Rating  Story  \\\n",
       "2  [i, usually, don´t, watch, this, kind, of, ani...     8.0    6.0   \n",
       "3  [good, work, ., seriously, ., children, 's, se...     7.0    6.0   \n",
       "4  [there, 's, a, lot, of, shows, and, movies, no...    10.0    9.0   \n",
       "5  [i, really, wanted, to, like, this, movie, ., ...     6.0    6.0   \n",
       "6  [i, think, its, pretty, obvious, where, the, f...     7.0    7.0   \n",
       "\n",
       "   Animation  Sound  Character  Enjoyment  Above_average  \n",
       "2        9.0    9.0        7.0        6.0              1  \n",
       "3        6.0    6.0        7.0        5.0              0  \n",
       "4       10.0   10.0       10.0       10.0              1  \n",
       "5        7.0    5.0        7.0        6.0              0  \n",
       "6       10.0   10.0        7.0        7.0              0  "
      ]
     },
     "execution_count": 56,
     "metadata": {},
     "output_type": "execute_result"
    }
   ],
   "source": [
    "df1.head()"
   ]
  },
  {
   "cell_type": "markdown",
   "metadata": {},
   "source": [
    "# Exploring the data"
   ]
  },
  {
   "cell_type": "markdown",
   "metadata": {
    "collapsed": true
   },
   "source": [
    "## Ratings distributions"
   ]
  },
  {
   "cell_type": "code",
   "execution_count": 57,
   "metadata": {
    "collapsed": false
   },
   "outputs": [
    {
     "data": {
      "text/plain": [
       "<matplotlib.axes._subplots.AxesSubplot at 0x237df79c518>"
      ]
     },
     "execution_count": 57,
     "metadata": {},
     "output_type": "execute_result"
    },
    {
     "data": {
      "image/png": "[encoded data removed]",
      "text/plain": [
       "<matplotlib.figure.Figure at 0x237df7b3fd0>"
      ]
     },
     "metadata": {},
     "output_type": "display_data"
    }
   ],
   "source": [
    "sns.distplot(df1[\"Rating\"], bins = range(0,12,1), kde = False)"
   ]
  },
  {
   "cell_type": "code",
   "execution_count": 58,
   "metadata": {
    "collapsed": false
   },
   "outputs": [
    {
     "data": {
      "text/plain": [
       "<matplotlib.axes._subplots.AxesSubplot at 0x237df7c0ac8>"
      ]
     },
     "execution_count": 58,
     "metadata": {},
     "output_type": "execute_result"
    },
    {
     "data": {
      "image/png": "[encoded data removed]",
      "text/plain": [
       "<matplotlib.figure.Figure at 0x237df7fd668>"
      ]
     },
     "metadata": {},
     "output_type": "display_data"
    }
   ],
   "source": [
    "sns.distplot(df1[\"Story\"], bins = range(0,12,1), kde = False)"
   ]
  },
  {
   "cell_type": "code",
   "execution_count": 59,
   "metadata": {
    "collapsed": false
   },
   "outputs": [
    {
     "data": {
      "text/plain": [
       "<matplotlib.axes._subplots.AxesSubplot at 0x237df83b390>"
      ]
     },
     "execution_count": 59,
     "metadata": {},
     "output_type": "execute_result"
    },
    {
     "data": {
      "image/png": "[encoded data removed]",
      "text/plain": [
       "<matplotlib.figure.Figure at 0x237df8b5a58>"
      ]
     },
     "metadata": {},
     "output_type": "display_data"
    }
   ],
   "source": [
    "sns.distplot(df1[\"Animation\"], bins = range(0,12,1), kde = False)"
   ]
  },
  {
   "cell_type": "code",
   "execution_count": 60,
   "metadata": {
    "collapsed": false
   },
   "outputs": [
    {
     "data": {
      "text/plain": [
       "<matplotlib.axes._subplots.AxesSubplot at 0x237df8de828>"
      ]
     },
     "execution_count": 60,
     "metadata": {},
     "output_type": "execute_result"
    },
    {
     "data": {
      "image/png": "[encoded data removed]",
      "text/plain": [
       "<matplotlib.figure.Figure at 0x237df8e5860>"
      ]
     },
     "metadata": {},
     "output_type": "display_data"
    }
   ],
   "source": [
    "sns.distplot(df1[\"Sound\"], bins = 10, kde = False)"
   ]
  },
  {
   "cell_type": "code",
   "execution_count": 61,
   "metadata": {
    "collapsed": false
   },
   "outputs": [
    {
     "data": {
      "text/plain": [
       "<matplotlib.axes._subplots.AxesSubplot at 0x237df961358>"
      ]
     },
     "execution_count": 61,
     "metadata": {},
     "output_type": "execute_result"
    },
    {
     "data": {
      "image/png": "[encoded data removed]",
      "text/plain": [
       "<matplotlib.figure.Figure at 0x237df96d160>"
      ]
     },
     "metadata": {},
     "output_type": "display_data"
    }
   ],
   "source": [
    "sns.distplot(df1[\"Character\"], bins = range(0,12,1), kde = False)"
   ]
  },
  {
   "cell_type": "code",
   "execution_count": 62,
   "metadata": {
    "collapsed": false
   },
   "outputs": [
    {
     "data": {
      "text/plain": [
       "<matplotlib.axes._subplots.AxesSubplot at 0x237dfb23160>"
      ]
     },
     "execution_count": 62,
     "metadata": {},
     "output_type": "execute_result"
    },
    {
     "data": {
      "image/png": "[encoded data removed]",
      "text/plain": [
       "<matplotlib.figure.Figure at 0x237dfb302e8>"
      ]
     },
     "metadata": {},
     "output_type": "display_data"
    }
   ],
   "source": [
    "sns.distplot(df1[\"Enjoyment\"], bins = range(0,12,1), kde = False)"
   ]
  },
  {
   "cell_type": "markdown",
   "metadata": {},
   "source": [
    "### Apparently people don't generally like to write negative reviews on My Anime List."
   ]
  },
  {
   "cell_type": "code",
   "execution_count": 63,
   "metadata": {
    "collapsed": false
   },
   "outputs": [
    {
     "data": {
      "text/plain": [
       "<matplotlib.axes._subplots.AxesSubplot at 0x237dffd4be0>"
      ]
     },
     "execution_count": 63,
     "metadata": {},
     "output_type": "execute_result"
    },
    {
     "data": {
      "image/png": "[encoded data removed]",
      "text/plain": [
       "<matplotlib.figure.Figure at 0x237dffdc2e8>"
      ]
     },
     "metadata": {},
     "output_type": "display_data"
    }
   ],
   "source": [
    "sns.distplot(df2[\"Story\"].dropna(), bins = range(0,13,1), kde = False)"
   ]
  },
  {
   "cell_type": "code",
   "execution_count": 64,
   "metadata": {
    "collapsed": false
   },
   "outputs": [
    {
     "data": {
      "text/plain": [
       "<matplotlib.axes._subplots.AxesSubplot at 0x237e01e0748>"
      ]
     },
     "execution_count": 64,
     "metadata": {},
     "output_type": "execute_result"
    },
    {
     "data": {
      "image/png": "[encoded data removed]",
      "text/plain": [
       "<matplotlib.figure.Figure at 0x237dfb93e48>"
      ]
     },
     "metadata": {},
     "output_type": "display_data"
    }
   ],
   "source": [
    "sns.distplot(df2[\"Art\"].dropna(), bins = range(0,13,1), kde = False)"
   ]
  },
  {
   "cell_type": "code",
   "execution_count": 65,
   "metadata": {
    "collapsed": false
   },
   "outputs": [
    {
     "data": {
      "text/plain": [
       "<matplotlib.axes._subplots.AxesSubplot at 0x237e02c90f0>"
      ]
     },
     "execution_count": 65,
     "metadata": {},
     "output_type": "execute_result"
    },
    {
     "data": {
      "image/png": "[encoded data removed]",
      "text/plain": [
       "<matplotlib.figure.Figure at 0x237e02d98d0>"
      ]
     },
     "metadata": {},
     "output_type": "display_data"
    }
   ],
   "source": [
    "sns.distplot(df2[\"Music\"].dropna(), bins = range(0,13,1), kde = False)"
   ]
  },
  {
   "cell_type": "code",
   "execution_count": 66,
   "metadata": {
    "collapsed": false
   },
   "outputs": [
    {
     "data": {
      "text/plain": [
       "<matplotlib.axes._subplots.AxesSubplot at 0x237df79a4e0>"
      ]
     },
     "execution_count": 66,
     "metadata": {},
     "output_type": "execute_result"
    },
    {
     "data": {
      "image/png": "[encoded data removed]",
      "text/plain": [
       "<matplotlib.figure.Figure at 0x237e04af8d0>"
      ]
     },
     "metadata": {},
     "output_type": "display_data"
    }
   ],
   "source": [
    "sns.distplot(df2[\"Overall\"].dropna(), bins = range(0,13,1), kde = False)"
   ]
  },
  {
   "cell_type": "markdown",
   "metadata": {},
   "source": [
    "### Reviews on Anime News Network aren't that positive. They're a little more balanced."
   ]
  },
  {
   "cell_type": "markdown",
   "metadata": {},
   "source": [
    "## Correlations between ratings"
   ]
  },
  {
   "cell_type": "code",
   "execution_count": 67,
   "metadata": {
    "collapsed": false
   },
   "outputs": [
    {
     "data": {
      "image/png": "[encoded data removed]",
      "text/plain": [
       "<matplotlib.figure.Figure at 0x237e0a81630>"
      ]
     },
     "metadata": {},
     "output_type": "display_data"
    }
   ],
   "source": [
    "#My anime list\n",
    "cols = [\"Rating\", \"Story\", \"Animation\", \"Sound\", \"Character\", \"Enjoyment\", \"Above_average\"]\n",
    "\n",
    "import numpy as np\n",
    "cm = np.corrcoef(df1[cols].values.T)\n",
    "sns.set(font_scale=1.5)\n",
    "hm = sns.heatmap(cm, \n",
    "            cbar=True,\n",
    "            annot=True, \n",
    "            square=True,\n",
    "            fmt='.2f',\n",
    "            annot_kws={'size': 15},\n",
    "            yticklabels=cols,\n",
    "            xticklabels=cols)\n",
    "\n",
    "plt.tight_layout()\n",
    "# plt.savefig('./figures/corr_mat.png', dpi=300)\n",
    "plt.show()"
   ]
  },
  {
   "cell_type": "markdown",
   "metadata": {},
   "source": [
    "### Enjoyment seems to be the most important for My Anime List users."
   ]
  },
  {
   "cell_type": "code",
   "execution_count": 68,
   "metadata": {
    "collapsed": false
   },
   "outputs": [
    {
     "data": {
      "image/png": "[encoded data removed]",
      "text/plain": [
       "<matplotlib.figure.Figure at 0x237e0be4f98>"
      ]
     },
     "metadata": {},
     "output_type": "display_data"
    }
   ],
   "source": [
    "#Anime news netwrok\n",
    "cols = ['Overall', 'Animation', 'Music', 'Story', 'Art', \"Above_average\"]\n",
    "\n",
    "import numpy as np\n",
    "cm = np.corrcoef(df2[cols].dropna().values.T)\n",
    "sns.set(font_scale=1.5)\n",
    "hm = sns.heatmap(cm, \n",
    "            cbar=True,\n",
    "            annot=True, \n",
    "            square=True,\n",
    "            fmt='.2f',\n",
    "            annot_kws={'size': 15},\n",
    "            yticklabels=cols,\n",
    "            xticklabels=cols)\n",
    "\n",
    "plt.tight_layout()\n",
    "# plt.savefig('./figures/corr_mat.png', dpi=300)\n",
    "plt.show()"
   ]
  },
  {
   "cell_type": "markdown",
   "metadata": {},
   "source": [
    "### The story seems to be the most important this time."
   ]
  },
  {
   "cell_type": "markdown",
   "metadata": {},
   "source": [
    "## Exploring the text data"
   ]
  },
  {
   "cell_type": "code",
   "execution_count": 69,
   "metadata": {
    "collapsed": true
   },
   "outputs": [],
   "source": [
    "import nltk"
   ]
  },
  {
   "cell_type": "code",
   "execution_count": 70,
   "metadata": {
    "collapsed": false
   },
   "outputs": [],
   "source": [
    "ANN_Reviews = nltk.text.TextCollection(df2[\"Review\"])"
   ]
  },
  {
   "cell_type": "code",
   "execution_count": 71,
   "metadata": {
    "collapsed": false
   },
   "outputs": [
    {
     "name": "stdout",
     "output_type": "stream",
     "text": [
      "character designs; fan service; high school; second half; english dub;\n",
      "sound effects; musical score; first volume; action scenes; first half;\n",
      "character development; original japanese; feels like; english script;\n",
      "voice actors; clean opener; magical girl; looks like; sailor moon;\n",
      "dragon ball\n"
     ]
    }
   ],
   "source": [
    "ANN_Reviews.collocations()"
   ]
  },
  {
   "cell_type": "code",
   "execution_count": 72,
   "metadata": {
    "collapsed": true
   },
   "outputs": [],
   "source": [
    "MyAnimeList_Reviews = nltk.text.TextCollection(df1[\"Review\"])"
   ]
  },
  {
   "cell_type": "code",
   "execution_count": 73,
   "metadata": {
    "collapsed": false
   },
   "outputs": [
    {
     "name": "stdout",
     "output_type": "stream",
     "text": [
      "character development; main character; voice acting; high school; even\n",
      "though; second season; main characters; character designs; first\n",
      "season; voice actors; 've seen; pretty much; art style; fan service;\n",
      "first episode; n't really; well done; code geass; ever seen; feel like\n"
     ]
    }
   ],
   "source": [
    "MyAnimeList_Reviews.collocations()"
   ]
  },
  {
   "cell_type": "markdown",
   "metadata": {},
   "source": [
    "I don't really know how to comment this."
   ]
  },
  {
   "cell_type": "markdown",
   "metadata": {},
   "source": [
    "# Training a model"
   ]
  },
  {
   "cell_type": "markdown",
   "metadata": {},
   "source": [
    "## Dividing the data"
   ]
  },
  {
   "cell_type": "code",
   "execution_count": 74,
   "metadata": {
    "collapsed": false
   },
   "outputs": [],
   "source": [
    "# dividing data into a training set and a final test set\n",
    "# we're training the model on the My Anime List Reviews dataset. Reviews from Anime News Network are left for evaluation.\n",
    "from sklearn.model_selection import train_test_split\n",
    "\n",
    "X1 = df1[\"Review\"].values\n",
    "y1 = df1['Rating'].values\n",
    "\n",
    "X_for_now, X_for_later, y_for_now, y_for_later = train_test_split(X1, y1, test_size = 0.1)"
   ]
  },
  {
   "cell_type": "code",
   "execution_count": 75,
   "metadata": {
    "collapsed": false
   },
   "outputs": [
    {
     "data": {
      "text/plain": [
       "(79429,)"
      ]
     },
     "execution_count": 75,
     "metadata": {},
     "output_type": "execute_result"
    }
   ],
   "source": [
    "X_for_now.shape"
   ]
  },
  {
   "cell_type": "code",
   "execution_count": 76,
   "metadata": {
    "collapsed": true
   },
   "outputs": [],
   "source": [
    "# dividing data further into a training set and a test set\n",
    "X_train_raw, X_test_raw, y_train_raw, y_test_raw = train_test_split(X_for_now, y_for_now, test_size = 0.1)"
   ]
  },
  {
   "cell_type": "markdown",
   "metadata": {},
   "source": [
    "## Transforming list of words into frequency vectors"
   ]
  },
  {
   "cell_type": "code",
   "execution_count": 77,
   "metadata": {
    "collapsed": false
   },
   "outputs": [],
   "source": [
    "# How to change lists of words into vectors\n",
    "from sklearn.feature_extraction.text import TfidfVectorizer\n",
    "\n",
    "def identity(x):\n",
    "    return x\n",
    "\n",
    "tfidf = TfidfVectorizer(tokenizer = identity, \n",
    "                        lowercase = False,\n",
    "                        \n",
    "                        ngram_range = (1,2),\n",
    "                        use_idf = False,\n",
    "                        min_df = 0.013, #0.03  <--- The most important parameter\n",
    "                        #max_df = 1.0\n",
    "                        #max_features = 1000   \n",
    "                       )"
   ]
  },
  {
   "cell_type": "code",
   "execution_count": 78,
   "metadata": {
    "collapsed": false
   },
   "outputs": [],
   "source": [
    "X_train = tfidf.fit_transform(X_train_raw)\n",
    "X_test = tfidf.transform(X_test_raw)"
   ]
  },
  {
   "cell_type": "code",
   "execution_count": 79,
   "metadata": {
    "collapsed": false
   },
   "outputs": [
    {
     "data": {
      "text/plain": [
       "((71486, 6416), (7943, 6416))"
      ]
     },
     "execution_count": 79,
     "metadata": {},
     "output_type": "execute_result"
    }
   ],
   "source": [
    "# How many word types are we feeding to our machine learning algorithm?\n",
    "X_train.shape, X_test.shape"
   ]
  },
  {
   "cell_type": "code",
   "execution_count": 80,
   "metadata": {
    "collapsed": false
   },
   "outputs": [
    {
     "data": {
      "text/plain": [
       "True"
      ]
     },
     "execution_count": 80,
     "metadata": {},
     "output_type": "execute_result"
    }
   ],
   "source": [
    "# Are there enough words that are likely to express a positive or negative sentiment towards an anime?\n",
    "\"awful\" in tfidf.vocabulary_.keys()"
   ]
  },
  {
   "cell_type": "code",
   "execution_count": 81,
   "metadata": {
    "collapsed": false
   },
   "outputs": [
    {
     "data": {
      "text/plain": [
       "True"
      ]
     },
     "execution_count": 81,
     "metadata": {},
     "output_type": "execute_result"
    }
   ],
   "source": [
    "\"poor\" in tfidf.vocabulary_.keys()"
   ]
  },
  {
   "cell_type": "code",
   "execution_count": 82,
   "metadata": {
    "collapsed": false
   },
   "outputs": [
    {
     "data": {
      "text/plain": [
       "True"
      ]
     },
     "execution_count": 82,
     "metadata": {},
     "output_type": "execute_result"
    }
   ],
   "source": [
    "\"worst\" in tfidf.vocabulary_.keys()"
   ]
  },
  {
   "cell_type": "code",
   "execution_count": 83,
   "metadata": {
    "collapsed": false
   },
   "outputs": [
    {
     "data": {
      "text/plain": [
       "False"
      ]
     },
     "execution_count": 83,
     "metadata": {},
     "output_type": "execute_result"
    }
   ],
   "source": [
    "\"very bad\" in tfidf.vocabulary_.keys()"
   ]
  },
  {
   "cell_type": "code",
   "execution_count": 84,
   "metadata": {
    "collapsed": false
   },
   "outputs": [
    {
     "data": {
      "text/plain": [
       "True"
      ]
     },
     "execution_count": 84,
     "metadata": {},
     "output_type": "execute_result"
    }
   ],
   "source": [
    "\"very interesting\" in tfidf.vocabulary_.keys()"
   ]
  },
  {
   "cell_type": "code",
   "execution_count": 85,
   "metadata": {
    "collapsed": false
   },
   "outputs": [
    {
     "data": {
      "text/plain": [
       "dict_keys(['that people', 'worth the', 'stays', 'around ,', 'arc ,', 'neither', 'goes', 'of times', 'of', 'tension', 'entertaining .', ', now', 'the title', 'series of', 'person ,', 'it also', 'here .', 'there and', 'soon', 'color', 'place in', 'he just', 'flawless', 'protagonist ,', '. without', 'stick', \"they 're\", 'just so', 'helpful', 'music', ', which', \"n't even\", 'put into', 'animation is', 'set in', 'have their', 'mc', 'credit', 'developments', 'really well', 'this film', 'rewatch', 'will be', 'was just', 'job at', 'failed', 'get a', ', was', 'with some', 'her and', 'in both', 'nothing to', 'former', 'explaining', 'that good', 'whether or', 'in mind', 'these', 'anyone who', 'into', 'playing', 'high', 'then the', ', much', 'either ,', 'than', 'they go', 'i may', 'was well', 'hell ,', 'even more', 'directly', 'part of', 'thanks', 'above average', 'parts .', 'things are', 'kind of', ', a', 'animation .', 'a special', 'lighthearted', 'more of', 'dark ,', 'began', 'about his', 'became a', 'the setting', 'all that', 'confused', 'it ?', 'type of', 'and what', ', great', 'with their', 'hentai', 'pain', 'does a', \"could n't\", 'mad', 'character designs', 'fillers', 'is fairly', 'go to', 'logic', 'some reason', 'room', 'is definitely', 'character who', 'and they', 'something ,', 'genius', '. now', 'it too', 'unlike', ': if', 'through .', 'line .', 'a fantastic', 'to even', 'x', 'hype', 'too ,', 'past .', 'up ,', 'previous', \"n't very\", 'comic', '. sadly', \"they 've\", 'though it', 'then you', ', sound', 'boobs', 'never really', 'emotionally', 'yet ,', 'bring', 'choose', 'arc .', 'things ,', 'good anime', 'for all', 'going into', 'episodes .', 'training', 'design is', 'far ,', 'she was', 'because he', 'hearing', 'being an', ') .', 'then there', 'and as', 'agree', 'me wrong', 'since they', 'how it', 'power', 'look', 'earlier', 'passion', 'great .', 'this does', 'be that', 'female characters', 'wrote', 'face', 'effective', 'overall /', 'age', 'realize that', 'flat', 'okay ,', 'enjoy .', 'and those', 'part is', 'she', 'is in', 'anime so', 'based off', 'personalities', 'drawing', 'is no', ', we', 'food', 'i gave', 'focus on', 'scenes were', 'show the', 'the ones', 'it to', 'and ,', 'do a', 'gon na', 'the good', 'the wrong', 'affect', 'episode is', 'sounds', 'issues', 'one would', 'was an', 'much', 'novel', 'the episode', 'almost all', 'asking', 'confusing', 'i definitely', 'writing', 'understand why', 'comment', 'recommend you', 'of that', 'would be', 'to talk', 'for no', 'they’re', 'on to', 'people ,', 'anime !', 'the second', 'mean ,', 'say', 'exceptional', 'enjoyable and', 'behind the', ', almost', 'game .', 'friend ,', 'for what', 'manga', 'episode to', 'film .', 'story itself', 'nicely', 'moves', 'good', 'saying', 'the part', 'path', '. unlike', 'sudden', 'how the', 'well written', 'sense ,', 'still', 'the word', 'a bit', 'anime', 'stand out', 'this ova', 'i actually', 'girl ,', 'is not', 'na', 'which makes', 'skipped', 'multiple', 'involving', 'tragedy', 'ecchi', 'enjoyment (', ']', 'was going', 'perfect ,', 'is how', \"'ve ever\", 'after the', 'was also', 'with my', 'of your', 'feel that', 'other shows', 'death', 'very well', 'story of', 'of character', 'hands', 'this type', 'doubt', 'the male', 'with that', 'series ,', 'something', 'story for', 'screen time', 'novels', 'was that', ') ,', 'horror', 'decide to', 'not something', 'good character', 'mouth', 'get me', 'is very', 'mention', 'so bad', \"you 've\", 'was like', 'them are', 'depending', 'chemistry', 'genre', 'fashion', 'was my', 'if there', 'lies', 'be the', 'travel', 'the experience', 'the fight', 'did the', 'myself', 'it in', 'the basic', 'especially the', 'way ,', \"'' or\", 'anime are', 'and/or', '. but', \"n't help\", 'scenery', 'nowhere', 'often', 'difficult', 'girls and', 'ghost', 'exposition', '. at', 'would like', 'in and', 'you', 'or maybe', 'where they', 'a normal', 'a long', 'is some', 'from his', 'change', 'name', 'edge', 'the writers', ', all', 'of the', 'a unique', 'reactions', 'lot more', 'wanted to', 'a serious', 'best to', '. from', 'move', 'to give', 'of each', 'anime you', 'producers', 'was the', 'part', 'no matter', 'think the', 'touch', 'and my', 'characters (', 'just another', 'be one', 'a perfect', 'that bad', 'some episodes', 'lives .', 'on and', 'she had', 'male', 'light', 'friends and', 'heard of', 'soundtrack .', 'art', 'times', 'to happen', '( who', 'has the', 'you wo', 'soundtrack ,', 'the plot', 'go through', 'device', 'problem .', 'get it', '. which', 'it actually', 'a fairly', 'it came', 'dumb', 'just plain', \"'s still\", 'done in', '( /', 'made', 'exception', 'watch .', 'disappointed .', 'your typical', 'given', 'comedy .', 'force', 'first one', 'personalities ,', 'perspective', 'bit ,', 'with your', 'years ,', 'hits', 'harem', 'exciting', 'know .', 'animators', 'goal', 'a large', 'before', 'flashbacks', 'really enjoy', 'almost every', 'seen', 'movie .', 'nudity', 'have some', 'a well', 'supporting cast', 'inner', 'bizarre', 'characters themselves', 'of those', 'any other', 'other and', 'tends to', 'stories ,', 'gives you', 'not really', \"i 'll\", 'the main', 'i was', 'music .', 'back .', 'everything was', 'characters is', 'making it', 'first place', ', unlike', '. where', '. do', 'fan', 'who wants', 'awesome', 'like it', 'and unique', 'easily', 'own', 'of our', 'there were', 'role', 'don’t', 'through ,', 'guy', 'should', 'what happens', 'the world', '#', \"could 've\", 'is this', 'likeable', '. first', ', from', 'the least', 'performances', 'because', 'the screen', 'sad', 'they are', 'a more', 'how i', 'climax', 'is supposed', 'or at', 'learned', 'damn', ', characters', 'think', 'so you', 'ending themes', 'something you', 'without the', ', he', 'importance', 'of love', 'gets a', 'give you', 'hear', 'like that', 'much like', 'again and', 'are both', 'childish', 'detail', 'they did', 'gore', 'must watch', 'glad i', 'dude', 'main story', 'an excellent', 'causes', 'the op', 'protagonists', 'awesome ,', 'and being', 'free', 'finding', 'like they', 'moment .', '”', 'enough ,', 'what this', 'presented', 'will find', 'second', 'that many', \"'d say\", 'new to', 'opening and', 'improved', 'again .', 'better ,', 'him as', 'describe', '? what', 'down and', 'much i', 'respect', 'next episode', 'but just', 'pacing', 'with me', 'to protect', 'a huge', '. another', 'giving', 'expecting', 'is able', 'to describe', 'all it', 'the day', 'them as', 'points ,', 'believe it', 'purpose of', 'for people', 'one is', 'needs to', 'you will', 'to try', 'particular', 'series was', 'have the', 'which made', 'been', 'might not', 'to play', 'count', 'version', 'the start', 'make up', 'the series', 'action .', 'depth', 'anime .', 'around .', 'such', 'concepts', 'are you', '. before', 'take', '? this', 'game ,', 'because this', 'on her', 'my attention', 'eyes ,', 'you need', 'itself is', 'that this', 'in particular', 'character that', 'seen .', 'potential', 'the more', 'comes to', 'relate', 'women', 'still ,', 'perhaps', 'tons', 'student', 'episode .', 'situations', 'kid', \"'ve watched\", 'charming', 'where you', 'again', 'not even', 'personalities .', 'might', 'assume', 'more and', \"here 's\", 'and for', 'for something', 'the pace', 'comedy ,', 'appreciate', 'pop', 'intense', 'are pretty', 'situation', \"'s that\", 'out a', 'mean', 'to make', 'knows', 'upbeat', 'while', 'starts', 'motives', '. animation', 'singing', 'but even', 'a story', 'those', 'focused', 'that point', 'lacks', 'plot .', 'like an', 'all very', 'as a', \"characters '\", 'they made', '. finally', 'get to', 'manga and', 'used to', 'again ,', 'most part', 'for', 'the various', 'to all', ', where', 'after a', 'years', 'falling', 'me off', 'made the', 'a young', 'stands', 'great and', 'familiar with', 'near', 'after all', 'compared to', 'unable', 'feelings for', 'see .', 'him ,', 'why', 'wo', 'innocent', 'artistic', 'little', 'have', 'natural', 'much for', 'at .', 'this .', 'seiyuu', \"n't just\", 'lot ,', 'and each', 'they had', 'a movie', 'out for', 'are quite', 'best thing', 'entire show', ', well', 'could say', 'having to', ', nor', 'good for', 'scary', 'and that', 'uninteresting', '. basically', 'on it', 'learn', 'up to', '? it', 'year old', 'core', 'but they', 'be like', 'in it', ', character', 'and the', 'works ,', 'nice .', 'fails', 'had the', 'to avoid', 'love the', 'most .', 'are just', 'them in', 'heroine', 'times .', 'faces', 'recommended', 'music in', 'meh', 'sound is', 'handled', 'things to', 'begin to', 'do anything', 'be an', 'a decent', 'so in', 'from that', 'a world', 'reading the', 'perfectly .', 'seemingly', 'lyrics', 'try and', 'anime a', 'anything about', 'as though', 'set the', 'fight scenes', 'even when', 'start to', 'suffer', 'be honest', 'seems to', \"are n't\", 'review of', 'entertainment', 'with only', \"'' of\", 'on ,', 'enjoyed this', 'the enjoyment', 'the only', \"'s also\", 'do not', 'girl named', 'overall -', 'is far', 'scenes .', 'students', 'romance', 'is often', 'to like', 'overall', 'attack', 'about her', 'p', '- and', '( in', 'in that', 'spectacular', 'slice', 'give a', 'something that', 'all in', 'for each', 'and characters', 'of her', 'touched', 'world where', 'outside of', 'while i', 'filled', 'picture', 'more to', 'enjoy it', 'sound .', 'the ost', 'actual', 'camera', 'has some', 'mecha', 'i believe', 'comedy is', 'those who', 'focuses on', 'everyone else', 'of my', ', her', 'lives', 'day .', 'the english', 'an actual', ': /', 'of anime', 'if he', 'world .', 'pretty well', 'packed', 'including', 'one ,', 'become a', 'it a', 'small', 'is given', 'flow', 'below', 'the emotional', 'world and', 'that are', 'honestly ,', 'i absolutely', 'overall ,', 'out of', 'as well', 'back and', 'creepy', '. in', 'average ,', 'in this', 'show with', 'is good', 'it never', 'ok ,', 'modern', 'done .', 'sucks', 'my enjoyment', 'terrible', 'a wonderful', 'well .', 'action sequences', 'spirit', 'made to', 'is a', 'probably the', 'movements', 'cut', 'ago ,', '. whether', 'that of', '% of', 'eat', 'far as', 'composed', 'character in', ', of', '%', 'characters as', 'carry', 'overall this', 'ass', 'and art', 'earth', 'is made', 'series and', 'recommend watching', 'plot ,', 'i understand', 'i still', 'when we', 'angel', 'these two', ', what', 'no reason', 'sound was', 'meant to', 'the score', 'music is', 'were to', 'many characters', 'memorable', '`` what', 'of ,', 'true', 'really get', 'this show', 'shows ,', 'which is', 'or so', 'but no', ', maybe', 'two ,', ', comedy', 'us to', 'you ca', 'moments in', 'had me', 'drive', 'sent', 'all have', 'freaking', 'questions', 'harsh', 'quality', 'mine', 'what was', 'in a', 'but not', \"n't feel\", 'have any', 'caught', 'grows', 'surprising', 'that much', 'thinks', 'complain', 'series are', 'thought out', 'front', 'apart', 'real', 'anime i', \"'' (\", 'in my', 'after watching', 'write', 'follow', \"'re looking\", 'shots', 'all', 'colors', 'some kind', 'time for', 'for reading', 'tv', 'without', 'the villains', 'recommend this', '( the', 'seen it', 'enjoying', 'as an', '... but', 'service', 'the type', 'cares', 'part .', 'among', 'attention', '. really', 'pick', 'approach', 'thing i', 'not a', 'enemies', 'enjoyed', 'brother', 'wont', 'viewer .', 'when i', 'world ,', 'the group', 'at times', 'born', 'achieve', 'week', 'to have', 'watched this', 'they could', 'latter', 'characters do', 'never', 'explains', 'emotions', 'all time', 'introducing', \"'s why\", 'you really', 'which are', 'atmosphere of', 'to a', 'yui', 'forces', 'mystery ,', 'meaningful', 'much about', 'breaks', 'from a', 'the many', 'and give', 'it comes', 'was done', \"'s because\", 'each episode', 'of a', '/ )', 'let me', 'your mind', 'development and', 'imagine', 'seem like', 'the ability', 'that said', 'a strange', 'scene .', 'helps', \"has n't\", 'audio', 'convey', \"'s\", 'the season', 'it but', 'other people', '. )', 'not have', 'because of', '. all', 'are introduced', 'biggest', 'filler', 'worth', 'it the', 'character (', 'and most', \"n't any\", '? well', 'with other', 'wrong .', 'is going', 'scenes that', 'it off', 'environment', 'talent', 'video', 'for example', 'are still', 'on top', 'out ,', 'have done', 'be said', 'individual', 'even better', 'off a', \"does n't\", 'mix', 'cast is', 'anime for', 'besides', 'yes ,', 'songs are', 'watching it', 'problems', 'yeah', 'watching ,', 'characters look', 'i thought', 'gave it', 'sometimes ,', 'the biggest', 'of romance', 'have you', 'characters with', 'the girl', 'universe', 'some point', 'cast .', 'general ,', 'what it', 'ending theme', 'very different', 'mentioning', 'if i', 'strange', '. yet', 'makes up', 'a fan', 'story -', 'deals', 'sword', 'to say', 'is mostly', 'decide', 'least ,', 'were so', 'creating', ', everything', 'everything .', 'soundtrack is', 'wanting', 'fighting', '. his', 'repetitive', 'development of', 'love .', 'a hard', 'manages to', 'the jokes', 'he had', 'from their', 'overall (', 'various', 'to deal', 'if not', 'the year', 'interesting characters', 'during the', 'time in', 'this will', 'will give', 'working', 'own .', 'supposed to', 'i enjoyed', 'aspects', 'however the', \"'d like\", 'to pull', ', here', 'character i', 'girl that', 'received', 'th', 'trying', 'backstories', 'regarding', 'are ,', 'a while', 'contain', 'ending was', 'art is', 'the light', 'for it', 'about the', 'some really', 'character /', 'happen to', 'ones .', 'fails to', 'going through', 'matters', 'you want', 'his own', 'drop', 'the st', 'them and', 'and nothing', 'tend', 'to add', 'loved this', 'so on', 'time to', 'based on', 'going to', 'off of', 'yourself .', 'that kind', 'description', 'when a', '. when', '. here', 'weird', 'sitting', '. overall', 'rock', 'sex', 'weakest', 'to save', 'grand', 'a big', 'to go', 'decision', 'unique and', 'by any', 'in which', 'changing', 'since', 'of all', 'high school', 'plus', 'cried', 'know what', 'inconsistent', 'do', ', as', ', the', 'moving', 'at a', 'funny', 'a slice', 'show to', 'paced', 'let', 'first episode', 'reason ,', 'itself', 'is as', 'fill', 'just did', 'problems with', 'year', 'success', 'be so', ', so', 'trouble', 'star', 'must be', 'voices', 'no other', 'promise', 'of different', 'man', '?', 'in your', 'overall it', 'whilst', 'away ,', 'am', 'case of', 'to work', 'circumstances', 'poor', 'about that', 'whole lot', 'without any', 'i loved', 'heads', 'these are', 'explored', 'with more', 'robots', 'understandable', 'well developed', 'bit', 'you were', 'entire series', 'among the', 'and fun', 'opening ,', 'aside ,', 'all about', 'bad .', 'shy', 'now and', 'and have', 'fact ,', 'deeply', 'overly', 'missing', 'the life', 'between the', 'in the', 'because there', 'funny and', 'were pretty', 'scores', 'seemed', 'characters and', 'offer', 'combination of', 'seriously .', '. personally', 'wan', 'job with', ', who', 'first review', 'on .', 'naruto', 'arcs', 'character to', 'and it', 'so they', 'we got', 'seriously ,', '? i', 'okay', 'the review', ', my', \"'' in\", '&', '(', 'by this', 'begin', 'try to', 'an action', 'expectations', 'cast of', 'the other', 'showing', 'that a', 'answers', 'you enjoy', 'to time', 'of place', 'my eyes', 'but the', 'review is', 'forced', 'should be', 'her to', 'shame', 'while not', 'use of', 'must say', 'she does', 'he', ', yes', '. many', \"'s all\", 'director', 'previously', 'for more', 'totally', 'story ,', 'sense of', \"'ve\", 'the original', 'like ``', 'provided', 'premise', 'sight', 'other characters', 'and why', 'bond', 'opportunity', 'key', 'pleasant', ', without', 'attempt', 'the shows', 'a new', 'guns', 'see why', 'missed', 'there really', 'or just', 'on in', 'gone', 'was too', 'with no', 'problem', 'ones', 'they also', 'very enjoyable', 'male lead', 'fall', 'read', \"'s ,\", 'cliches', 'shines', 'waiting for', 'out that', 'girls', 'a shot', 'the cast', 'my review', 'crush', 'started', 'anime would', 'out in', 'much in', 'subject', 'did not', 'and now', 'substance', 'school', 'members of', \"'s very\", 'action', 'point ,', 'yeah ,', \"'m a\", 'was something', ', since', 'have much', 'see in', 'that would', 'seen in', 'go on', 'kids', 'become', 'that make', 'of comedy', 'show and', 'deal', '. .', ', action', '( i', 'unexpected', \"n't like\", 'aware', 'story does', 'for some', \"'m going\", 'first two', 'it again', 'decided to', '`` i', 'the use', 'were', 'smooth', ', another', 'animation ,', 'there', 'care for', 'still a', 'here', \"she 's\", 'favorite character', ', just', 'identity', 'hate it', 'under', 'a similar', 'a certain', 'hated', 'only thing', 'quality of', 'starting', ', like', 'from her', 'wall', 'moved', 'understand', 'girl who', 'unless you', 'about', 'for being', 'bit more', 'story has', 'successful', 'got', 'too long', 'many other', 'set of', 'perfect', 'to enjoy', 'etc .', 'rarely', ': story', 'write a', 'hey ,', 'episode ,', 'a child', 'anything .', 'with ,', 'what the', 'special .', 'months', 'who are', \"do n't\", 'it', 'lots of', 'cases', 'this series', 'stereotypical', 'the music', 'tear', 'the typical', 'see them', 'him', 'and their', 'since i', 'are well', 'to achieve', 'far .', 'atmosphere .', 'led', '. besides', 'never seen', 'compare', 'whole', 'has a', 'the scene', 'movement', 'so he', \"you 'd\", 'liked', 'boy who', 'favorite anime', 'till', 'viewers .', '. honestly', ', when', 'people in', 'magic', 'anime in', 'good ,', 'as many', 'funny ,', 'what he', 'is one', 'what makes', 'be considered', 'are looking', 'laughs', '. one', 'be in', 'was made', 'its just', 'narrative', 'watch and', 'slow', 'as far', 'although the', 'love it', 'show is', 'really enjoyed', 'or not', 'series that', 'main cast', 'deeper', 'you feel', 'entire', 'takes the', 'involves', '... it', 'throughout', 'it ...', 'bear', 'and when', 'very little', 'took', 'fault', 'on an', 'to anyone', 'horrible', 'current', 'essentially', 'jokes', 'girl .', 'characters from', 'it for', 'art /', 'its own', 'me of', 'very end', 'seconds', '; and', 'while it', 'except', 'could', 'grow', 'personality', 'putting', 'the name', \"should n't\", 'so .', 'listen', 'adventures', 'seeing', '. what', 'but in', 'pacing is', 'being the', 'of ``', \"n't much\", 'are the', 'fitting', '! this', 'their personalities', 'fan of', 'although', ', very', 'thought it', ': )', 'anymore', 'your heart', 'parody', 'personally ,', 'luckily', 'wa', 'mixed', 'this one', 'their relationship', 'at first', 'friends', 'entertained', 'my heart', ', they', 'story as', 'listening', 'in to', 'maybe', 'real life', 'jump', 'begin with', 'start', 'worked', 'in their', 'either .', 'review', 'dealing with', 'to develop', 'not to', 'everywhere', 'episode that', \"! ''\", 'par', 'suffering', 'nothing', 'any of', 'can get', 'tough', 'to explain', 'i liked', 'what really', 'long as', 'i think', 'am i', 'air', 'manage to', 'impact', 'while this', '. or', 'details', 'understanding', 'figure out', 'know about', '. :', \"'s a\", 'as if', 'massive', 'quickly', 'ah', 'ending song', 'place', 'just watch', 'in comparison', 'dialogue', 'weak', 'anime that', 'many things', 'series for', 'you and', 'everyone is', 'a dark', 'he can', 'season was', 'along with', 'find this', 'feel like', 'will make', 'person', 'and a', \"'s one\", 'makes', 'whatever', '. having', 'i knew', 'involved', 'to your', 'your', 'and beautiful', 'you .', 'a full', '( a', 'is unique', 'face .', 'just do', 'and how', 'up a', 'surprised', 'off with', 'of one', 'slight', 'like this', 'amazing ,', \"n't bad\", 'equally', ', but', 'seen ,', 'too much', 'forgot', 'catch', 'disappointing', 'sci-fi', 'shows that', 'the bad', 'you should', 'romance ,', 'but still', 'they all', 'it fits', 'try', 'i get', 'towards', 'colours', 'conflict', 'here is', 'like to', 'ground', 'in .', 'to other', 'which ,', 'at', 'and', 'is rather', 'story is', 'score .', 'its story', 'time it', 'and only', 'will get', 'the great', 'american', 'than anything', \"have n't\", 'treat', 'tokyo', 'that all', 'to stop', 'the people', 'wonderfully', 'you with', 'up with', \"there 's\", 'constantly', 'all over', 'it could', 'this may', 'in all', 'every time', 'themes', 'episode of', 'and more', 'runs', 'nothing but', 'his friends', \"'re\", 'i never', 'in for', 'appearance', 'moment', 'of his', 'thought', 'pretty good', 'events that', 'they', 'the opposite', 'to their', 'characters -', 'my only', 'be', 'is', '``', 'staff', 'song', 'though', 'say ,', 'listening to', 'mind .', 'degree', 'were the', 'delivered', 'level of', 'feel of', 'is somewhat', 'mystery', 'a point', 'until', 'talks', 'slice of', 'important to', 'plot holes', ') and', 'society', 'sound effects', 'is like', 'medium', 'conclusion', 'is nothing', ') it', 'it doesn’t', 'intelligent', 'lucky', 'to .', \"'s and\", 'first ,', 'episode was', 'join', 'the feeling', 'may', 'down the', 'similar to', 'who likes', 'unique ,', 'basis', 'combat', 'them to', 'to one', 'liking', 'dark and', 'form of', 'anything', 'one', 'making the', 'boring', 'online', 'hit', 'that and', 'dynamic', 'allow', 'what to', 'the backgrounds', 'rather than', 'they want', 'interesting character', 'as the', 'story in', 'things in', \"n't care\", 'happens', '? ?', 'inside', 'touching', 'to each', 'no one', ', romance', 'takes', 'and i', 'enjoyable ,', 'moments ,', '? and', 'different', 'was only', 'to be', 'just one', 'left', 'wants', 'separate', 'it did', 'hidden', 'the big', 'else .', ', art', 'having', 'theme', 'on my', 'how much', 'just not', 'cause', 'case ,', 'development is', '. both', '? no', 'but some', 'personally i', ', good', 'of humor', 'and at', 'skills', 'to why', 'actors', 'pictures', 'himself .', 'here ,', 'instead ,', 'train', \"n't think\", 'piece', 'can i', 'past and', 'not get', 'with', 'that has', 'died', 'find out', 'willing', 'the guy', 'particularly', 'rival', ', for', 'knowing', 'me the', 'joke', 'a small', 'admit that', 'one day', 'anime with', 'praise', 'great', 'journey', 'easy', 'say it', 'sets', 'truly', 'rushed', 'little bit', '. even', 'enjoy this', 'ratings', 'and love', 'to win', 'part ,', 'rare', 'nature of', 'plan', '! i', 'off the', 'each one', 'wondering', '. story', 'and you', 'ended up', 'you are', 'the entire', 'love and', 'purpose', 'were a', 'aspect of', 'boring and', 'the th', 'itself ,', 'on the', 'we can', 'the thing', 'that will', 'i watched', 'but we', 'gate', 'is where', 'murder', 'making', 'everything else', 'prefer', 'considering the', 'complaints', 'cold', 'serious', 'but he', 'cliché', 'about what', 'the first', 'to really', 'the surface', 'first i', 'entirely', 'the problems', 'especially in', 'fluid', 'during', 'roles', 'much ,', 'less', \"let 's\", 'story and', 'left me', 'hopes', 'with them', 'an anime', 'bringing', 'section', ', each', 'looks like', 'as ``', 'you would', 'they get', '( and', 'episodes ,', 'fell in', 'the character', 'with him', 'has it', 'that comes', 'enjoyed the', 'well ,', 'really did', 'the girls', 'ultimately', 'i only', 'to let', 'knowledge', 'information', 'really have', 'storyline ,', \"i 've\", 'features', 'background music', 'give the', 'and every', 'been better', ') but', 'was in', 'it would', 'loving', 'are very', 'quite a', 'vampire', 'push', 'op and', '. watching', 'in other', 'watching .', 'is bad', 'much .', 'total', 'anyway .', 'this review', 'personalities and', 'relationship between', 'pieces', 'on his', 'story about', '( which', 'said that', 'made in', 'presentation', 'everybody', 'heavy', 'about how', 'puts', 'was quite', 'with .', 'the person', 'entertaining', 'to write', 'voice acting', 'i do', 'of view', 'traits', 'yourself', 'characters', \"? ''\", 'a sense', 'new', 'other anime', 'most people', 'variety', 'in fact', 'not in', 'the action', '. none', 'surely', 'material', 'good or', 'the overall', 'at the', 'in addition', 'it feels', 'a kind', 'the best', 'her .', 'when you', 'complete', 'bloody', 'a different', 'that even', 'the others', 'will say', 'is the', 'makes me', 'excellent', 'so that', 'pure', 'unfortunately', 'initial', 'the soundtrack', '. how', 'things', 'to the', 'better and', 'it being', 'a try', 'most likely', 'long ,', 'hopefully', 'children', 'did .', 'enjoyment .', 'supporting characters', 'reason i', '. that', ': there', 'a cute', 'ways', 'humorous', 'bother', 'traditional', 'speaking', 'which can', 'years .', 'songs', 'character was', 'scene ,', 'is it', 'famous', 'stunning', 'of every', 'me in', '. not', 'all i', \"we 're\", 'sake of', 'lol', 'thanks to', 'up and', 'works .', 'of having', 'the majority', 'drag', 'the general', 'goals', 'i like', 'some people', 'minutes of', 'late', 'later on', 'way .', 'could not', 'unnecessary', 'memory', 'water', 'do .', 'daughter', 'friends .', 'me is', 'between', 'to put', 'for the', 'settings', 'is great', 'than i', 'one who', \"n't find\", 'looking at', 'series as', 'tears', 'create', 'save', 'elements of', 'very good', 'enjoyed it', 'is fine', 'xd', 'the tone', 'that great', 'points', 'the anime', 'is because', 'encounter', 'them is', 'the school', 'and character', 'space', 'on their', 'together .', '. these', 'feels like', \"n't have\", 'references', \"'' ,\", 'on them', 'course', 'and then', 'lack of', 'sequel', '... the', 'about their', 'an interesting', 'badly', \"'ve never\", 'begins', 'you get', 'make it', 'then ,', 'anyway', 'found', 'anime series', 'are actually', 'anyway ,', 'is all', 'i’ll', 'thing to', '( if', 'put', 'military', \"n't for\", 'guess', 'is amazing', '...', ') that', 'back in', 'childhood friend', 'interact', 'everything that', 'voice actor', 'a problem', 'scale', 'feature', 'which the', 'usual', 'anime as', '. if', 'in any', 'why he', 'is used', 'short', 'beautifully', 'for him', 'it seemed', 'are some', 'about ,', 'keep you', 'to his', 'as long', 'life .', 'short ,', 'attention to', 'last few', 'storytelling', 'so the', 'say this', 'unable to', 'men', 'difference', 'say that', 'type', 'that was', 'somehow', 'characteristics', 'fine .', 'worth a', 'bits', 'is on', 'show in', 'about him', 'doing', 'that everyone', 'reading', 'experienced', 'in order', 'genre ,', 'surprise', 'all you', 'right ,', 'later ,', 'sick', 'better than', 'was one', 'though there', 'smart', 'it may', 'connection', 'all .', \"i 'm\", 'i would', 'world that', 'any', 'i started', 'known as', 'with how', 'ordinary', 'they should', 'like any', '( )', 'stood out', 'what made', 'cliche', 'emotional', 'factor', 'beauty', ', ``', 'useless', 'when the', 'actor', 'hint', 'he’s', 'same as', 'off by', 'character and', 'want a', 'so what', 'enjoyment /', 'spoilers ,', 'incredibly', 'practically', 'chosen', 'next .', 'romance .', ', then', 'watch a', 'for its', 'war', 'can be', 'take on', 'if we', 'existence', 'love story', 'picked', '. everyone', 'five', 'brief', 'she’s', 'i mean', 'from my', 'is much', 'fair', ') this', 'i love', 'than it', 'understand what', 'the future', 'instead of', 'tells', 'it !', 'a mysterious', 'to offer', 'worth watching', 'disliked', 'vibrant', 'loves', 'we know', '. like', 'story line', 'think you', 'waste of', 'mal', 'this point', 'the idea', 'find that', 'place .', 'need', 'more interesting', ', it’s', 'gets', 'anime has', 'leaves', 'even', 'people to', 'complex', 'drama', 'few episodes', ', let', 'the problem', 'trust', 'and everything', 'young', 'a show', 'summer', 'apparently', '. as', 'characters who', 'than what', 'can make', \"n't\", '? because', 'cg', 'episodes are', 'and plot', \"'m sure\", 'like about', 'start of', 'it all', 'see more', 'another thing', \"n't see\", 'events', 'some', 'the end', '. it', 'exactly what', 'clannad', 'guy who', '. more', 'close to', 'wow', 'get some', 'attractive', 'forward', 'too .', 'decisions', 'is simply', 'able', 'wasted', 'shall', 'the emotions', 'where', 'oh ,', 'defeat', 'in anime', 'good enough', 'peace', ', this', 'two main', 'simple ,', 'the mood', 'visually', 'admit', 'no ,', 'on how', ', something', 'and can', 'mediocre', 'tragic', 'gotten', 'is better', 'constant', 'some time', 'i saw', 'dubbed', 'given the', 'sound and', 'lot', 'ruined', 'i highly', 'seems', 'consider', 'gorgeous', 'a bunch', 'technology', 'this season', 'with his', \"'s own\", 'a scene', 'masterpiece .', 'considered', 'creators', 'exist', 'whose', 'or even', 'slice-of-life', 'not being', 'moe', 'tropes', 'struggle', 'deliver', ': the', 'simple and', 'abilities', 'it is', 'be ,', 'combined', 'going', 'very interesting', 'has no', 'physical', 'some good', 'reaction', 'good job', 'who is', \"what 's\", 'sorry for', 'the past', 'have not', 'off ,', 'cry', 'slow ,', 'plain', 'complaint', 'it because', 'original', 'joy', '-', 'anime ever', 'support', 'takes place', 'with one', 'you in', 'a number', 'realized', 'anime but', 'did', 'because it', 'much the', 'really ,', 'ending .', 'flaws .', 'backgrounds are', 'to follow', 'and not', 'a classic', 'is almost', 'was', 'it takes', 'huge', 'resolution', 'deserve', 'leading', 'comes from', 'reviews', 'occur', 'the voices', 'names', 'stories', 'even with', 'reason for', 'ago', 'like i', 'far the', 'it gives', 'to any', 'appeal', 'story', 'be .', 'sake', 'happened to', 'step', 'ride', 'most anime', 'seem to', 'time with', 'the fights', 'plot that', ', its', '`` the', ', too', 'warm', 'the battles', 'with such', 'forgotten', 'anime fans', 'the songs', 'is actually', 'spent', 'school .', 'track', \"'ve seen\", 'arc', 'beings', 'clear', 'if this', 'japanese', 'how to', 'episode', 'them all', 'chance', 'dealing', 'weapon', 'solid', 'holes', 'beautiful ,', 'not an', 'now i', 'across', 'exact', \"n't enjoy\", 'are many', 'held', 'the battle', 'later', 'acting was', 'was more', 'notice', 'to anime', 'some very', 'the usual', 'in her', 'only', 'the female', 'nothing else', 'means', ',', 'viewing', 'it as', 'that ``', 'sports', 'eye', 'do it', 'rest of', 'awkward', 'interest', 'vibe', 'any way', 'bad', 'thank you', 'we all', 'also', 'point in', 'the sense', 'of many', 'and ending', 'way of', 'to live', 'but instead', 'adapted', 'was pretty', 'ca', 'this a', 'that some', 'everything', 'silly', 'the actual', 'but most', 'friendship', 'some sort', 'loved', 'mistakes', 'films', 'feeling of', 'sense .', 'range', 'badass', 'the city', 'specifically', 'surrounding', 'deaths', 'styles', 'base', 'review .', 'really good', 'some other', 'one episode', 'the humor', ', if', 'lost', 'geass', 'the dialogue', 'the show', 'protagonist .', 'characterization', 'connected', 'i give', \"'s only\", 'overall :', 'half the', 'it an', \"'m not\", 'gon', 'know it', 'probably one', 'longer', 'to tell', 'and very', 'this was', 'all the', 'deep', 'and story', 'is only', 'just an', 'not like', 'you can', 'straight', 'time', 'own way', 'the style', 'author', \"'' but\", '. anyway', 'simply because', 'being a', 'things .', 'is about', 'even the', 'but only', 'seriously', 'a time', '–', 'eyes .', 'do you', 'acting ,', 'hints', 'large', 'enemy', 'there was', 'on you', 'one point', 'i said', 'aspect', 'why the', 'and was', 'over .', 'up in', 'adorable', 'to just', 'that in', '. it’s', 'a few', 'and while', 'have a', 'was nothing', 'produced', 'intro', \". ''\", 'their own', 'tries', 'watch it', 'gradually', '. and', 'a kid', ') was', 'the artwork', 'that way', 'girl in', 'its', 'would', 'only a', 'with what', 'light novel', 'disturbing', 'already', 'it definitely', 'and sometimes', 'down', 'turns', 'that should', 'ended', 'in love', '( like', 'has its', 'unknown', ': (', 'movie ,', 'remember', 'turned', 'these characters', 'leads to', 'worth it', 'have never', 'i can’t', 'every', 'someone', 'compelling', 'what they', 'of these', 'just the', 'the two', 'else ,', 'does not', 'leave you', 'sure ,', 'saw the', 'genres', 'drama and', 'it (', 'outstanding .', 'the right', 'stuff', 'we', 'mostly', 'fine ,', 'heroes', 'a major', 'best', 'can easily', 'genuinely', 'happened', 'last episode', 'lovers', 'at its', 'that these', 'matter how', 'progression', 'in an', '. with', 'outstanding', 'perfectly', 'as we', 'but do', 'child', 'note', 'it sounds', 'death note', 'whole ,', 'you know', 'story :', 'creates', 'to my', 'a good', 'but it’s', 'watch this', \"i 'd\", 'must', 'and do', 'makes you', 'and is', 'whole anime', ', by', 'soundtrack', 'none of', 'to see', '!', 'i honestly', 'a whole', 'characters .', 'sound /', 'ever seen', 'nice ,', 'fuck', 'want', 'next', 'away .', 'of fun', 'wise', 'dragon', 'a real', 'was never', 'have seen', 'writers', 'a person', 'perhaps the', 'other ,', 'but because', 'past ,', 'remains', 'remain', 'i always', 'upon', 'follows', 'to him', ', an', 'the viewers', 'albeit', 'worry', 'therefore', 'for an', 'i usually', 'lower', 'despite being', 'to find', 'characters in', 'but overall', 'well made', \"'s so\", 'areas', 'thing', 'several', 'were not', 'around', 'skip', 'tracks', 'if that', 'overall .', 'develop', 'scenes are', 'to turn', '. also', 'strength', '. being', 'line', 'named', '. unfortunately', 'is to', 'besides the', 'not that', 'season of', 'came out', 'just about', 'call it', 'rate', 'version of', 'unique .', 'however it', 'heard', '. yeah', 'you like', 'of .', 'violence', 'i hope', 'the events', 'keep the', '. since', 'works', 'as i', '/ the', 'writer', 'to feel', 'character -', 'reason to', 'is completely', 'come across', 'have been', 'one can', 'pulls', 'finish', ', how', 'me a', 'at one', 'flawed', 'the pacing', 'did a', 'comedy and', 'but as', 'for ,', 'i could', 'family', 'way', 'impressed', 'designed', 'and one', 'either', 'whole .', 'concept of', 'summary', 'into an', 'art online', 'body', 'first time', 'built', 'depressing', 'asked', 'just be', 'stood', 'are really', 'makes them', '. its', 'tsundere', 'that one', 'they can', 'she has', '. plus', 'good thing', 'kinda', 'highly', 'tried to', 'surface', 'gave', 'sure', 'close', 'is interesting', 'how many', 's', \"'' and\", 'say about', 'really like', 'cool .', 'the viewer', 'laughed', 'glad', 'me was', 'beautiful .', '. a', 'viewer', 'done with', 'end .', '- it', 'might be', ', along', 'attached to', 'once', 'the side', 'the scenery', 'but nothing', 'development .', 'when watching', 'and good', 'until the', \"''\", 'been done', 'ending songs', 'with an', 'but also', 'manga .', ', it', 'great job', 'structure', 'your head', 'forever', 'curious', 'read the', \"n't stop\", 'out there', 'a main', 'allows', 'though ,', 'more about', 'my expectations', 'thinking about', 'woman', 'introduced to', 'favorites', 'well with', 'episodes and', \"'' i\", '. however', 'backstory', 'is when', '; it', 'are good', 'explain', 'meaning', 'memorable .', 'makoto', 'setting .', 'clothes', \"n't take\", 'stopped', 'length', 'themes ,', 'the worst', ', because', 'are so', 'who have', 'adds to', 'performance', 'the', 'that can', 'a great', 'bit too', 'the japanese', 'element', 'you do', 'for that', 'the premise', 'cast', 'happy', 'studio', 'is truly', 'film', 'you see', 'humans', 'will', 'team', 'fans of', 'random', 'without a', 'short and', 'a watch', \"anime 's\", 'the beginning', 'atmosphere', 'looking', 'it )', 'guilty', 'not sure', 'fit the', 'numerous', 'beautiful', 'stronger', 'issue', 'parents', 'figure', 'things like', 'disappointed', 'by his', 'how she', 'attitude', 'at some', 'a better', 'loss', 'reminds', 'also ,', ') i', 'and overall', 'crap', ', i', 'game', 'express', 'of which', 'and by', 'will have', 'main', 'otaku', 'up .', 'recommend', 'build', 'higher', 'development', '. to', 'of action', 'felt that', 'villain', 'of an', 'kill', 'extreme', 'me to', 'make a', 'but all', 'got me', 'down ,', 'cheerful', 'a /', 'of story', 'the fighting', 'company', 'is probably', 'exactly', 'call', 'listen to', 'a comedy', 'progress', 'episodes', 'nor', 'ask', 'compared', 'but to', 'the real', 'in terms', 'see', 'originality', 'most interesting', 'are only', 'is really', 'date', 'granted', 'sadly', \"n't want\", 'a nice', 'day', 'want to', 'average', 'and makes', 'much to', 'would probably', 'ever .', 'passed', 'anything to', 'i remember', 'times ,', 'by the', 'imagination', 'to know', 'be disappointed', 'fresh', 'of characters', 'spoil', 'allowed', 'girls are', 'feelings', 'would have', 'characters were', 'once again', ': i', 'good to', 'a short', \"'ll\", 'variety of', 'like most', 'shown', 'suppose', 'hour', 'sao', 'the story', 'is there', 'this time', 'stupid', 'to being', 'taste', 'content', 'in most', 'band', 'the ova', 'loved the', 'characters i', \"n't a\", 'of him', ', also', 'when he', 'of people', 'worst', 'within', ', except', ', making', 'both of', 'exaggerated', 'gives', 'looking forward', 'the animation', 'amazingly', 'makes it', 'to continue', 'this kind', 'watched the', 'games', 'and to', 'job', 'he is', 'punch', 'clever', 'sound', 'to become', 'name of', 'make sense', 'sakura', 'of animation', 'ready', 'is never', 'like the', 'enough to', 'a rather', 'subtle', 'for them', 'escape', 'very first', 'normally', 'i had', 'catchy', 'amazing', 'another', 'afraid', 'and get', 'fully', ', other', 'enjoyable to', 'effect', 'are .', 'fans', 'the time', 'a total', 'especially', 'short .', 'group', 'social', 'created', 'opinion .', '( it', 'do have', 'rules', 'definitely a', 'anything that', 'happen .', 'to fit', 'back ,', 'something to', ') are', 'thrilling', ', nothing', 'not because', 'half', 'about them', '>', 'ep', 'talking', 'time .', 'you find', 'so do', '. those', 'cat', 'plot and', 'favorite', 'greatly', 'last episodes', 'end up', 'the point', 'twists and', 'impressive', 'out .', 'and even', '. my', 'story was', 'had a', 'bad ,', 'there ,', 'consists', 'not .', 'actually ,', 'dropped', 'rating', 'one of', ', these', 'take a', 'possibly', 'ever', 'self', 'and his', 'voice actors', 'great story', 'herself', \"'m just\", 'things i', 'series with', 'show .', 'each and', '. why', '. you', '. there’s', 'basically the', 'far from', 'had been', 'long', 'wish', 'because that', 'it from', 'and really', 'say i', 'when it', 'the greatest', 'into the', 'more serious', 'of what', 'mood of', 'we see', 'course of', 'mark', 'the moment', 'back story', 'nothing more', '. speaking', 'a deep', 'growing', 'proper', 'me it', 'realism', 'master', 'you watch', ', everyone', 'when', \"who 's\", 'loud', 'evil', 'no .', 'thing ,', 'to figure', 'alive', 'synopsis', 'fell', 'animes ,', 'running', 'does the', 'the next', 'in such', 'tv series', 'first of', 'pros', 'predictable', \"would 've\", 'night', 'development was', 'comedic', 'regardless of', 'how', 'and thus', 'against', 'it felt', 'better', 'direction', 'you have', 'who like', 'from an', 'the dark', 'home', 'example', 'stories .', 'highly recommend', 'disappoint', 'parts of', 'right now', 'story to', 'reading this', 'them .', 'really interesting', 'pointless', 'it has', 'organization', 'life', 'can tell', 'found this', '. by', 'welcome', 'first half', 'from this', 'love this', 'interested', 'role in', 'then it', 'to listen', 'science', 'general', 'really', 'makes a', 'media', ', though', 'number', 'from the', 'genuine', 'advantage', 'more .', 'good in', 'i find', 'highschool', ', most', 'another .', 'experiences', 'exists', 'review for', 'so this', 'noticed', 'a high', 'where he', \"'s something\", 'that they', 'broken', 'a single', 'from one', 'and make', 'like me', \"n't as\", 'moments of', 'son', 'wait', ': as', ', with', 'me as', 'in many', 'isn’t', 'people', 'film ,', 'the new', 'best anime', 'yuki', 'unique', 'the creators', 'in every', 'grown', 'open', 'watch for', 'waiting', 'but with', 'soft', 'very unique', 'die', 'that .', 'mood', 'known for', '. everything', 'characters have', 'main characters', 'same time', 'accept', 'mind', 'town', 'was about', 'dead', 'teacher', 'parts', 'can not', 'develops', 'a group', 'the theme', 'the film', 'enough .', 'other .', 'a love', 'whatsoever', 'given a', 'under the', 'general .', 'sadness', 'find the', 'adventure', 'everyday', 'else to', 'so far', 'and on', 'artist', 'expected', 'a fair', 'the background', 'scene', 'something else', 'speak', 'less than', 'music and', 'dog', 'bright', 'wonder', 'effects', 'audience .', 'that do', 'their lives', 'provides', 'go into', 'along the', ':', 'sad ,', 'was not', 'the voice', 'enjoyment :', 'go watch', 'i don’t', 'first .', 'hilarious', 'delivers', 'uses', 'who', 'level', 'you look', ', at', 'a season', 'people are', 'because i', 'other than', 'movie is', 'last', 'the major', 'side of', \"'re a\", 'is why', 'system', 'most important', 'score', 'life and', 'the writing', 'nothing really', 'others .', \"it 's\", 'may seem', 'favourite', 'who was', 'wrong with', 'the rest', 'ost', 'visual', 'moments that', 'focusing', 'though .', 'fun .', 'satisfied', 'glance', ', although', 'here and', 'levels', 'conflicts', 'is its', 'the studio', 'is awesome', 'thought that', 'in episode', 'frankly', 'season and', 'scenes', 'use', 'would recommend', 'love for', ', there', 'visuals', 'interesting and', 'was very', ') is', 'the third', 'the colors', '. no', ', watch', ', do', 'insane', 'shoujo', 'justice', 'more enjoyable', 'this to', 'it works', 'being able', 'but for', 'the atmosphere', 'theme .', 'theme ,', \"were n't\", 'that could', 'character ,', '. let', 'because they', 'or the', 'father', 'appeal to', 'into this', 'i went', \"'s nothing\", 'well done', 'best .', 'show a', 'image', \"'s been\", 'hard to', 'romance and', 'consists of', 'much more', 'story that', 'couple of', '. while', 'sister', 'a review', 'did i', 'this ?', 'how you', 'thing about', 'what we', 'hot', 'classical', 'sadly ,', 'future', 'for those', 'with its', 'need to', 'bored', 'lovely', 'this story', 'girls ,', 'needed to', 'bothered', 'beginning of', 'wrong ,', 'is nice', 'in short', 'come', 'also the', 'i found', 'why this', \"n't the\", 'alone', 'flying', 'good .', 'other words', 'people and', 'to care', 'feel a', 'six', 'qualities', 'a character', '. sound', 'feel the', 'series has', 'okay .', 'classic', 'be better', 'but there', 'on that', 'sides', 'anime (', '/ .', 'were very', 'it gets', 'nothing special', 'surprisingly', 'relevant', 'thanks for', 'watched .', '( though', 'think i', 'violent', 'few times', 'regret', 'today', 'show for', 'school and', 'voiced', 'beginning ,', 'miss', \"'' the\", 'anime ?', 'i mentioned', 'save the', 'lot to', 'will always', 'does have', 'female', 'a guy', \"'' )\", 'reviewing', 'scenarios', 'point .', 'from', 'anime ,', 'really .', 'greater', 'wan na', 'since this', 'time ,', 'we get', 'watched', 'like ,', 'animations', ', she', 'is so', 'check', 'it’s not', 'why is', 'as there', 'does', 'at best', 'around him', 'series a', 'and no', 'every single', 'it so', 'artwork', 'say .', 'the sake', 'despite the', 'described', 'both', 'voice', 'something about', 'that we', 'world of', 'portray', 'and watch', 'up on', 'going on', 'such as', 'saying that', 'filled with', 'around a', 'all ,', 'anything else', 'drama ,', 'fire', 'worse', 'be a', ', have', 'attempts to', 'of both', 'to end', 'leaving', 'know if', 'there will', 'suited', 'living', 'or if', 'telling', 'personality .', 'setting ,', 'becomes a', 'code', 'though the', 'choices', 'unless', 'you go', 'seen the', 'a pretty', '. because', 'up the', 'be more', 'comparison', 'appealing', ', right', 'out', 'actually', 'walking', 'angry', 'see ,', 'is extremely', 'follow the', 'and he', 'introduction', 'start off', 'class', ': it', 'in between', 'focused on', 'overused', 'series is', 'for a', 'aside', 'towards the', 'due', '? !', 'a girl', 'mysteries', 'younger', 'how this', '. nothing', ', our', 'extremely', 'strong ,', 'an episode', 'ultimate', 'a typical', 'two characters', 'have ever', '. despite', 'i just', 'got the', 'find', 'whether', 'world', 'near the', 'anime to', 'the exception', 'psychological', 'i read', 'no', '. she', 'majority of', ') :', 'single', '. so', 'stay', 'of things', 'side', 'watching this', \"n't mind\", 'what is', 'at this', 'just for', 'i ca', 'ones that', 'my opinion', 'run', 'felt like', 'crazy', 'recently', 'holds', 'make', 'that does', 'him and', 'first season', 'it still', \"that 's\", 'who can', 'what i', 'see the', 'not only', 'area', 'every character', 'interesting', 'build up', 'it even', 'spoiler', 'ridiculous', 'used', 'a game', 'ex', 'what she', 'those of', 'even if', \"'s worth\", 'similar', 'points .', 'is now', 'is ,', 'storyline .', '( although', 'includes', '. final', '; i', 'season .', 'for my', 'in each', 'of art', 'release', 'where i', 'made by', 'do so', 'much as', \"n't expect\", 'intriguing', 'realistic', '. characters', \"n't be\", 'basically', 'up as', 'bigger', 'than this', 'kept me', 'based', 'if you', '( this', 'made a', 'as they', 'form', 'her own', 'feel', 'is basically', 'series in', 'have made', 'way that', 'now', 'dramatic', 'season is', 'for one', 'first off', 'closer', 'impossible', 'ends', 'first anime', 'the author', 'seemed to', 'white', 'for .', 'show as', 'that being', 'episodes of', 'offers', ', every', 'with many', 'critical', 'but its', 'technical', 'reminded me', 'standard', 'our', 'about .', 'noticeable', 'music ,', 'feel .', 'characters like', 'why did', 'forgettable', 'or', \"n't seen\", 'sort', 'word', 'art :', 'to people', 'triangle', 'list', 'adding', 'anime which', 'and also', 'dies', 'deal with', 'amazing and', 'but what', 'excitement', ', giving', 'cute', 'it only', 'aside from', 'were just', 'the visuals', 'and some', 'the human', 'fact', 'easy to', 'pretty much', 'me that', 'to love', 'what will', 'think it', 'into a', 'that ?', '! !', 'for sure', 'second half', 'i see', '. i', 'humour', 'on one', 'some of', 'holy', 'reveal', 'why i', 'feel to', 'take it', 'too many', 'if the', '. people', 'people who', 'opinion', \"'' is\", ', really', 'fear', 'out with', 'because she', 'common', 'understand the', 'thought i', 'movie', 'character is', 'thank', 'just', 'watching a', 'limited', 'as hell', 'life ,', 'first episodes', 'king', 'characters to', 'when they', 'was ,', 'the director', 'suits', 'not going', 'the development', 'adds', 'humor ,', 'becoming', 'every episode', 'sit', 'themselves', \"we 've\", ', and', 'starts out', 'think this', 'no longer', 'characters are', 'laugh', 'the reasons', 'note :', 'developed', 'airing', 'animation :', 'endings', 'be quite', 'into it', 'there is', 'pick up', 'the exact', 'on', 'only reason', 'is another', 'setting', 'from what', 'player', 'simply', 'most of', 'storyline', 'before the', 'full of', 'bit .', 'started to', 'this might', 'it took', 'on this', 'my favorite', 'or ``', 'energetic', '=', 'enjoy the', 'ball', 'lot .', \"'s what\", 'related to', 'which has', 'regardless', 'experience .', \"'s about\", 'brought', 'do the', 'it and', 'and all', 'she can', 'to life', 'wasn’t', 'opening is', ';', ': a', 'fits', 'to hear', 'cons', 'set up', 'keeping', '- the', 'maybe it', 'thinking', 'personally', 'stereotypes', '? the', 'art in', 'you just', 'evangelion', 'comedy', 'once you', 'scenes in', 'life is', 'waste', 'with all', 'the power', '. music', 'a romance', 'elements', 'something .', 'saving', 'least .', 'regards', 'sexual', '. (', 'throw', 'its not', 'ga', 'then', 'characters of', 'with the', 'well in', 'in japan', 'mother', 'main plot', 'series (', 'anyways', 'although it', 'my first', 'and animation', 'ok', 'helped', 'and of', 'about a', 'would not', 'amount of', 'the eyes', 'out what', 'i ever', 'my life', 'the sounds', 'openings', 'in his', 'but if', 'popular', 'level .', 'and other', 'before you', \"'s going\", 'gun', 'dub', 'is always', 'yet', 'that is', 'language', 'a school', 'style and', 'few of', 'so good', 'of some', 'beyond', 'fast', 'believe that', 'a episode', 'some characters', 'honest', 'is kind', 'go back', 'story but', 'a must', 'caring', \"it 'll\", ', no', 'of them', 'way through', 'focus', ', mostly', 'while watching', 'you liked', 'except for', 'alright', 'who has', 'dislike', 'of any', 'away', 'op', 'the few', 'powers', 'and with', 'about this', 'as being', 'a result', 'seemed like', 'problem with', 'it into', 'serve', 'in some', ', has', 'the reason', 'context', 'just because', 'takes a', 'recent', 'love with', 'no way', 'and such', 'show', 'in ,', 'major', 'st', 'reach', 'song .', 'beats', 'to help', 'episodes in', 'thing that', 'i am', 'thrown', 'pull', 'like some', 'style', '. -', 'is absolutely', 'just say', 'to admit', 'the amount', 'unusual', 'made .', 'it shows', 'regular', 'to watch', 'point out', ', or', 'not just', ', more', 'am not', 'overall the', 'revolves', 'which i', 'definitely', 'be seen', ', people', 'introduces', 'speed', 'thing .', 'blend', 'after that', 'that had', 'show that', '! but', 'be good', 'on screen', 'wrong', 'there .', 'ability to', 'samurai', 'process', 'years ago', 'animation was', 'think about', 'to do', 'didnt', 'change the', 'awful', 'ending ,', 'motivations', ', both', 'bleach', 'are also', 'reason .', 'find yourself', 'cheap', '--', 'from me', 'situation .', 'stuff .', 'relatable', '. an', 'antagonists', 'ignore', 'a year', 'story .', 'i enjoy', 'hope that', 'thoroughly', 'time i', 'now .', 'attempts', 'opening theme', 'then this', 'quick', 'everything in', 'of episodes', 'interaction', '. watch', 'very nice', 'a beautiful', 'needs', 'simplistic', 'shonen', 'spend', 'piece of', 'feeling', 'continued', 'is for', '! (', 'and her', 'or two', 'seen a', 'lame', 'sounded', 'out to', 'loose', 'better .', 'later .', 'all of', 'style ,', 'onto', 'dragged', 'relationship', 'you a', '. this', 'to change', 'worthy', 'was all', 'of this', 'to pick', 'not so', 'after i', 'see how', ', whether', 'background', 'more', 'good story', 'mainly', 'as good', 'progresses', 'battles', 'best part', 'certainly', 'action scenes', 'reason', '! )', ': .', 'to it', 'strongly', 'nature', 'bit of', 'or a', 'same .', 'while there', 'the last', 'had no', ', is', 'thoughts', '. oh', 'diverse', 'able to', 'them', 'you may', 'animation', 'not enough', 'words', 'really great', 'harem anime', 'for anyone', 'can really', 'what can', 'done', 'annoying', '? if', \"'\", 'same', 'i have', 'to mention', 'forward to', 'characters ,', 'love', 'for this', 'man ,', 'as this', 'were some', 'like .', 'why .', 'and never', 'the different', 'member', 'not very', 'importantly', 'amazing .', \"'s hard\", 'appear', 'was no', 'seeing the', 'suspense', 'make you', 'ending of', 'anime does', 'expressions', 'manner', 'around the', 'he does', 'value', 'definitely not', 'etc', 'was good', 'one .', 'his character', 'sheer', 'halfway', 'annoyed', 'fairy', 'whenever', 'and if', 'incredible', '. after', 'eyes', 'i decided', ', only', 'cheesy', 'always', 'shot', 'to spoil', 'twist', 'contains', 'is trying', 'twice', 'me .', ', go', 'through', ': this', 'special', 'of their', 'the storyline', 'for most', 'and see', 'standing', 'odd', 'tone', 'decides to', 'fun and', 'done ,', 'personality ,', 'show i', 'manga ,', 'hurt', 'from other', 'supposed', 'thus', 'not much', 'looking for', 'the previous', 'thing is', 'art style', 'character development', 'make the', 'but does', 'me want', 'to some', 'using', 'to', 'keeps', 'start ,', 'treated', 'big', 'group of', 'a sequel', 'struggles', 'leader', 'for his', 'premise of', 'talk', 'usually', 'was expecting', 'know ,', 'rated', 'best friend', 'is simple', 'the course', 'with great', 'the romance', 'fail', 'or anything', 'are great', '. maybe', 'barely', 'each', 'the better', 'present', 'your time', 'alot of', 'flaw', 'act', 'meeting', 'future .', 'enjoyable', '. each', 'but at', 'impression', 'like a', 'twists', 'is also', 'poorly', 'sweet', 'point that', 'have an', 'relate to', 'to ,', 'and enjoyable', \"'m\", 'says', 'gundam', 'more episodes', 'secret', 'was really', 'liked it', 'design', 'will enjoy', 'definitely worth', 'anime is', 'you’re', \"show 's\", 'well the', 'as you', 'is that', 'recommend it', 'i personally', 'i recommend', 'you ask', 'giant', 'english dub', 'cover', 'nice and', 'sorry', 'unfortunately ,', 'i watch', 'it just', 'itself .', 'being said', 'and because', 'will not', 'sub', 'is .', 'creator', 'originally', 'has been', \"'s character\", 'was actually', 'tries to', 'more time', 'what ?', 'as much', '. just', 'to no', 'the top', 'something like', 'anime like', 'not be', 'keep', 'can', 'nevertheless', 'daily', 'different ,', 'this movie', 'tone of', 'happens in', 'if they', 'has their', 'u', 'i will', 'fucking', 'backgrounds', 'designs ,', 'to stay', 'we do', 'first', '... and', 'different from', 'fight', 'anyone', 'there are', 'did enjoy', '/ this', 'i heard', ', some', 'rest', ')', 'ability', 'this way', 'series i', 'you did', 'frustrating', 'perverted', 'a second', 'was to', 'people .', 'when she', 'reality', 'i might', 'covered', 'as such', 'grew', 'turning', 'best i', 'it might', 'just as', 'like her', 'but since', 'protagonist', 'lastly', 'song is', 'truth', 'full', 'even though', 'included', '. they', 'make this', 'this is', 'how well', 'beat', 'though i', 'they make', '( but', 'and action', 'see that', 'have to', 'necessary', 'cute and', 'interested in', 'crying', 'watching the', 'episodes to', 'deserves', 'the supporting', 'titles', 'little to', 'did it', 'theme of', 'so ,', 'time the', 'he wants', 'aren’t', 'god', 'examples', '/ overall', '. is', 'one character', 'it goes', 'detective', 'gem', 'a ,', 'at least', 'about to', 'that i', ', however', 'you that', 'gave me', 'trying to', 'format', 'who would', 'heartwarming', 'school ,', 'honest ,', 'help', 'are a', 'saw', 'whom', 'nice to', 'as he', 'a chance', 'the most', 'further', 'to begin', 'teenage', 'early', 'of its', 'explanation', 'over and', 'help but', 'ending is', 'work .', 'with her', 'and just', 'example ,', 'capable', 'this in', 'seven', 'outside', ', especially', 'the perfect', 'chance to', 'that may', 'and maybe', 'won’t', 'that there', 'whole series', 'my mind', 'back to', 'music was', './', 'artwork is', 'related', 'colorful', 'a ``', 'many of', 'of life', 'give it', 'in its', 'two episodes', 'is perfect', 'big fan', 'honestly', 'this would', 'seems like', \"'re not\", 'from being', 'instead', 'few', 'relationship with', 'to show', 'girls .', 'that just', 'd', 'character .', '. other', 'anime where', 'would say', 'is ``', 'decent .', 'but you', 'not for', 'just want', 'annoying ,', 'ways .', 'off', 'care', 'set', 'it ,', 'acting is', '( even', 'tons of', 'for everyone', 'released', 'say the', 'plot twists', 'genre .', ', many', 'number of', 'explained', \"did n't\", 'on your', 'wait for', 'to what', 'lovable', 'due to', 'lets', '; the', 'days', 'state', 'can see', 'tell', 'series', 'it if', 'i got', 'of other', 'ed', 'may have', 'the place', 'business', 'people have', 'building', 'got a', 'something i', 'one i', 'that the', 'judge', 'pleasing', 'art was', 'absolutely no', 'bgm', 'simple .', 'to those', \"'s just\", 'anime was', 'it more', 'down to', 'extra', 'involved in', 'opening song', 'words ,', 'ever watched', 'gain', 'one that', 'end ,', \"n't make\", \"'s an\", 'black', 'immediately', 'work ,', 'be able', 'solve', 'split', 'especially when', 'madoka', 'plenty', 'pleasure', 'was great', 'them ,', 'to you', 'their', 'she is', 'fall in', 'really does', 'the concept', 'is at', 'lacked', 'the way', 'a', 'right .', 'actually a', 'quite good', 'even a', 'from it', 'everything about', 'well ...', 'to get', 'put in', 'met', 'in real', 'it seems', 'depending on', 'end of', 'her', 'apart from', 'the characters', 'connect', 'say is', 'low', 'that have', 'clearly', 'a masterpiece', '. sure', 'characters :', 'thats', 'much of', 'forget', 'survive', 'every other', 'was watching', 'would expect', 'but then', 'topic', 'only the', 'friends ,', 'nice', 'what you', 'moral', 'it that', 'i know', 'plot', 'relatively', \"he 's\", 'pretty', ') in', 'standards', 'and music', 'is by', 'theme song', 'members', 'coming from', 'terms of', 'should watch', 'review ,', 'share', \"' .\", 'where it', 'your life', 'one piece', 'now that', 'to me', 'one to', 'facial', 'many people', 'unrealistic', 'answer', 'in english', 'off as', 'hair', 'as possible', 'lie', 'disappointment', 'energy', 'animated', ', not', \"wo n't\", 'feels', 'motivation', 'some more', 'girl and', 'why they', 'the sound', 'a shame', 'decent', 'please', 'watch', 'robot', 'influence', '( for', 'main protagonist', 'him .', 'both the', 'many', 'days .', 'find it', 'loses', 'do i', 'leads', 'so i', 'spoilers .', 'quality .', 'scenes and', 'by far', 'through the', 'overcome', 'is even', \"'d\", 'character design', 'now ,', 'got to', 'the relationship', 'ai', 'the face', 'darker', 'it can', 'that if', 'talking about', 'just how', 'from there', 'all these', 'but when', 'discover', 'i must', 'it makes', 'didn’t', 'case .', 'makes the', 'category', ', even', 'me', 'hand ,', 'to take', 'only to', 'seem', 'a solid', 'said ,', 'because the', 'la', 'bad thing', 'so much', '.', 'changed', 'kick', 'hoping', 'anime )', 'period', 'hard', 'dangerous', 'explore', 'top of', 'however', 'point of', 'that it', 'managed', 'care about', 'point', 'closing', 'friend', 'then i', 'graphics', 'have no', 'combination', 'the later', 'beginning .', 'the fact', 'the nd', 'were also', 'it will', 'throughout the', 'dedicated', 'destroy', 'sometimes', 'the whole', 'done by', 'go ,', 'manages', 'normal', 'somewhere', 'occasional', 'interesting .', 'think they', \"'' to\", 'are used', 'realize', 'heart', 'can’t', 'two', 'was it', 'considering', '. good', 'plot is', 'for her', 'why ?', 'fairly', 'and does', 'directed', 'addition', 'and yet', 'could have', 'production', 'the situation', 'supporting', 'wanting to', 'and again', 'strongest', 'to actually', 'love to', 'acts', 'intended', 'example of', 'is more', ', being', 'to think', 'the scenes', 'attention .', 'childhood', 'is different', 'spoilers', 'lived', 'job of', '. very', 'nearly', 'know the', 'impossible to', 'likes', 'than just', 'cast ,', 'he was', 'contrast', 'no idea', \"'s not\", 'city', 'dream', 'ni', 'stage', 'that', 'literally', 'potential .', 'everyone .', 'it very', ', did', 'beginning', 'possible', 'anime had', 'to come', 'you to', 'have watched', 'side characters', 'but rather', 'idea of', 'my own', 'happiness', 'person who', 'character of', 'liked the', 'movies', 'interest in', \"'s .\", \"n't know\", 'is your', \"'s really\", '. again', 'instance', 'the one', 'looks', 'against the', 'sort of', 'how they', 'art .', 'more than', 'book', 'liked this', 'avoid', 'problems .', 'a .', 'for me', ', (', 'yuri', 'order to', 'sound :', 'felt', 'off .', 'hope you', 'positive', 'are in', 'since the', ', why', ', including', \"'s in\", 'he has', 'spoiling', 'someone who', 'were all', 'art (', 'way too', 'it out', 'to create', 'fate', \"n't do\", 'suddenly', 'lazy', 'designs', 'the quality', 'two .', '/ ,', 'i wo', 'and sound', '( as', 'is being', 'with this', 'to expect', 'such an', 'lot of', 'a complete', 'idea', 'might have', 'development ,', 'is worth', 'knew', 'as', 'minute', 'results', 'second season', 'any anime', 'a simple', 'one another', 'really is', 'hell', 'goes to', 'live', 'forth', 'more on', 'mind ,', ', one', 'some scenes', 'in front', 'bunch of', 'is my', 'this case', '. instead', 'shows .', 'being', 'me ,', 'stands out', 'we are', 'obvious', ', on', 'lack', 'metal', 'revolves around', ') to', 'a completely', '. ``', '+', 'style .', 'i did', 'enough', 'over again', 'their characters', 'it at', 'follows the', 'test', 'within the', 'fit', 'focusing on', 'animation and', 'since it', 'heck', 'boring ,', 'know that', '- i', 'but it', 'but a', 'what would', 'loli', '. of', 'and everyone', 'played', 'that made', 'if she', 'archetypes', 'in one', 'fanservice', 'kinds', 'tell you', 'her ,', 'notable', 'theme is', 'cute .', 'boy ,', 'i’m', 'demons', 'nd', 'a part', '? )', 'just like', 'it starts', 'however ,', 'rather', 'tired', 'original series', \", ''\", 'no sense', 'distinct', 'they were', 'heart .', 'the mc', 'and has', 'franchise', 'demon', 'happen', 'frame', ', please', \"n't too\", \"'s definitely\", 'but this', 'alot', 'guy .', 'good and', 'think that', 'go .', 'showed', 'guys', 'it got', 'a strong', '. perhaps', 'cant', 'found myself', 'way to', 'the little', 'real world', 'person .', 'gives the', 'moments', '( especially', 'far more', 'another ,', 'my head', 'see what', 'are more', 'purely', 'writing this', 'average .', 'had', 'to start', 'blood', 'and its', '. we', 'some parts', \"n't watch\", '. our', ', despite', 'how he', 'that she', 'breath', 'followed', 'each other', \"character 's\", 'consistent', \"n't say\", '. aside', 'i feel', 'difficult to', 'to its', 'get', 'the audience', 'protect', 'secondary', 'not all', 'values', 'whether it', 'to bring', '. art', 'out the', 'where the', 'out as', '. then', 'her character', 'comes', 'lacking', 'of music', 'enough for', 'they would', 'to leave', 'and be', 'half of', 'decides', 'enjoyable .', \"n't need\", 'side ,', 'script', 'appropriate', 'because you', 'you the', 'note ,', 'dark', 'this anime', 'utterly', 'matter what', 'places', 'with it', 'more or', 'of how', 'generally', 'losing', 'up', 'it becomes', 'things about', 'watched it', 'my favourite', 'is what', \"n't mean\", 'many times', 'show ,', 'players', 'ahead', 'mix of', 'budget', 'episodes were', 'per', 'added', 'well', 'way they', 'start with', 'on a', 'i expected', 'moments .', 'will probably', '. their', 'come to', 'to not', '! the', 'character', 'continue', 'a lot', 'the things', '. he', 'culture', 'starts to', 'will never', ') the', 'main character', 'one and', 'was able', 'ta', 'attempt to', 'did ,', 'going for', \"n't anything\", 'dont', 'fact that', 'together', \"'s voice\", 'least', 'boss', 'country', 'me and', 'me laugh', 'but that', 'japan', 'too', 'not too', 'you ,', 'development in', 'really the', 'i’ve', 'this ,', 'calm', 'fantastic .', 'suit', 'appeared', 'thought the', 'result', 'to keep', 'are going', 'taking', 'changes', 'the synopsis', 'ova', 'on what', 'sky', 'in', 'hooked', 'money', \"'ll be\", 'screen .', 'get into', '... ...', 'it .', 'the love', 'balance', 'bunch', 'hey', 'was a', 'decided', 'shock', 'it made', 'can only', 'a little', 'fantastic', 'nobody', '. /', 'meet', ', that', 'and ``', 'just have', 'to understand', 'so if', 'bland', 'the kind', 'focus of', 'quiet', 'old', 'well and', 'era', 'falls', 'starts off', 'it really', 'i guess', 'kirito', 'the middle', 'is something', 'episodes that', 'is quite', 'soundtracks', 'despite', 'specific', 'you think', 'had some', 'talk about', '[', 'minor', 'middle of', 'clean', 'portrayed', 'audience', 'up for', 'to read', 'others ,', \"n't get\", 'alien', 'a reason', 'just to', 'opening', 'but i', 'by a', 'create a', 'makes sense', \"n't seem\", 'are not', 'absolute', 'breaking', 'if a', 'sequence', 'were good', 'fun to', 'good way', 'and are', 'get the', 'have .', 'engaging', 'drawn', 'i finished', 'rich', 'also has', 'killed', 'a really', '( that', 'thankfully', ', such', 'believable', 'than that', 'interesting to', 'mention the', 'finally', 'greatest', 'willing to', 'my favorites', 'art and', 'the hell', 'i felt', 'this has', 'romance anime', 'club', 'to them', 'him in', 'draw', 'understand that', 'aired', 'a fun', 'needed', 'and there', 'musical', 'cool', 'resolved', 'villains', 'creatures', 'apparent', 'even in', 'the dub', 'at all', 'on me', 'is set', 'also a', 'before .', 'long time', 'forced to', 'sound ,', 'finishing', \"n't that\", '. every', 'everyone ,', 'opinion ,', 'all those', 'started watching', 'characters that', 'and had', 'season', 'a couple', 'you start', 'properly', 'work of', 'other', 'couple', 'while the', 'series to', 'stand', 'our main', 'absolutely', \"' ,\", 'to move', 'called ``', 'plenty of', '. her', 'feeling that', 'however i', 'out and', '..', 'animes', 'repeat', 'focuses', 'quite', 'along', 'got ta', 'it should', 'relaxing', 'epic', 'most', 'four', 'nothing .', 'me feel', 'having a', 'fleshed out', 'not', 'make me', 'story with', 'anime or', 'and interesting', 'live in', 'look like', 'of nowhere', 'the three', 'to look', 'following', 'powerful', 'action is', 'season ,', 'hate', 'fleshed', 'biased', 'adult', 'completely', \"'s like\", 'tried', 'a much', 'while .', 'past', 'painful', 'at that', 'and will', 'to focus', 'to use', 'over the', 'almost', 'enjoyment', 'hope', 'begins to', 'have had', 'humor', 'choice', 'in with', 'bodies', 'also very', 'very much', 'your own', 'and she', 'red', 'me with', 'other hand', 'my', 'far', 'of time', 'match', 'there’s', 'the movie', 'princess', 'you could', 'brain', 'way it', 'the old', 'this character', 'before ,', 'a boy', 'one thing', 'can say', 'anime out', 'visual novel', 'be as', 'to ``', 'pace', 'top notch', 'necessarily', 'plot was', 'by', 'there for', 'is beautiful', 'now the', 'i', 'if', 'the potential', 'mentioned', 'reminds me', 'as some', 'has', 'found the', 'it when', 'boys', 'has an', 'the strongest', 'best of', 'love interest', 'execution', 'come out', '. on', 'smile', 'would give', 'weapons', ', yet', 'monsters', 'anime about', 'scenes ,', 'of development', 'what happened', 'i wish', 'somewhat', 'out on', 'revenge', 'animation quality', 'appreciated', 'tends', 'came', '! it', 'just that', 'plays', 'and in', 'leave', '. once', 'sound -', 'shows', '. seriously', 'shine', 'for their', 'i can', 'minutes', 'song ,', 'problem is', 'really nice', 'so well', 'prove', 'cute ,', 'of good', 'sequences', 'like', 'and so', 'its characters', 'give this', 'zero', 'mysterious', 'super', 'art -', 'onto the', 'romantic', 'more in', 'planet', 'killing', 'this as', 'anything ,', 'speaking of', 'same thing', 'to her', 'and actually', 'a very', 'relationships', 'became', 'different .', 'move on', 'fascinating', 'who does', 'land', \"n't go\", 'you’ll', 'opinions', ': d', 'i dont', ', his', 'to this', \"n't ,\", 'you might', 'fights', \"'s the\", 'see it', 'case', 'the opening', 'not ,', 'slowly', ', you', 'could be', 'which was', 'kept', 'the mystery', 'found it', 'and many', 'pay', '. sometimes', 'relief', 'believe', 'him to', 'i should', 'stuff ,', 'just a', 'action and', 'are all', 'do that', 'perfect .', 'the edge', 'look at', 'two of', 'the same', 'course ,', 'the very', ', having', 'regard', 'or something', 'i also', 'ruin', '... well', 'the comedy', 'about it', 'designs are', \"'s story\", 'quite well', 'i first', 'love ,', \"you 'll\", 'i even', 'likely', 'that ,', 'all this', \"'s actually\", ', does', 'show does', 'seat', 'provide', 'was so', 'cool ,', 'you love', 'anime of', 'superb', 'source', 'way the', 'own ,', 'laughing', 'shounen', 'reasons', '! and', 'of you', 'character has', ', are', 'warning', 'to how', 'overall i', 'sound (', 'movie was', 'not as', 'the protagonist', 'see this', 'episode and', 'up being', 'highlight', \"'s it\", 'none', 'stuck', 'differences', 'negative', 'monster', 'girl', ', to', 'appears', 'awesome .', 'executed', 'aspects of', 'new characters', 'handle', 'he gets', 'learning', 'meant', 'fine', 'to finish', 'sound like', 'bad guys', 'flaws ,', 'they just', 'funny .', 'the drama', 'turned out', 'and funny', 'concept', 'drama .', 'add', 'well i', 'finally ,', 'that you', 'of being', ', in', 'not one', 'notch', '. there', 'as it', 'moments and', 'so there', 'growth', \"was n't\", 'but is', 'interactions', 'do with', \"n't really\", 'job .', 'and well', 'find a', 'managed to', 'i suppose', 'wanted', 'still have', 'good as', 'to call', 'just too', 'he did', 'that he', 'excuse', 'and after', 'like how', 'message', 'they do', 'the manga', 'older', 'my personal', 'your average', 'piano', 'empty', 'to fight', 'fan service', 'this could', 'no real', 'people will', 'third', 'original ,', 'series .', 'but she', 'think .', 'enjoyment of', 'not the', 'a human', 'would make', 'to that', 'time of', 'really do', 'hardly', 'animation in', 'or you', '. most', 'the ``', 'certain', 'is too', 'do ,', 'it up', 'seasons', 'very', 'and made', 'masterpiece', 'if your', 'types', 'boy', '( or', 'capture', 'initially', '/', 'easier', 'the game', 'philosophical', 'came to', 'it was', 'the themes', 'does it', 'yes', 'the case', 'the song', 'happening', 'was amazing', 'had to', 'time and', 'way i', 'also have', 'slightly', 'instantly', \"n't give\", 'a man', 'there to', 'take the', 'satisfying', 'make them', '! is', 'and ed', 'control', \"'' .\", 'taken', 'basically ,', 'such a', 'fans .', 'driven', 'getting', 'where a', 'matches', 'put it', 'three', 'like you', 'hand', 'that makes', 'an enjoyable', 'dimensional', 'blue', 'character :', 'as one', 'wouldn’t', 'was still', '. though', 'goes on', 'episodic', 'plot of', 'day ,', 'giving it', 'familiar', 'acting', 'and an', 'really liked', 'eventually', \"'s no\", 'people that', 'argue', 'see a', 'if it', 'know why', 'verdict', 'placed', 'it with', 'much better', 'significant', 'majority', '. still', 'else', 'occasionally', 'basic', 'go', 'screen', ', after', 'to believe', 'pulled', 'anime because', 'what a', 'adaptation', 'than the', 'him a', 'was .', 'battle', 'with each', 'code geass', ', those', 'more like', 'kind', 'generic', 'probably', 'themselves .', 'great ,', 'largely', 'to an', 'whole thing', 'doesn’t', 'used in', 'strong', 'event', 'special ,', 'continues', 'tend to', '. character', 'credits', 'safe', 'win', 'edge of', 'of it', 'central', 'a harem', 'add to', 'good at', 'happened .', 'sorts', 'it or', 'it had', 'why it', ', rather', 'lead to', 'the truth', 'long .', 'good but', 'down .', 'fits the', 'fantasy', 'at it', 'they really', 'attached', 'but after', 'great anime', 'buy', 'exception of', 'becomes', 'episode i', 'in life', 'sounds like', 'decent ,', 'should have', 'mess', 'not bad', 'went', ', instead', 'coming', 'after', 'is still', 'and enjoy', 'i say', 'to learn', 'this and', 'project', 'makes this', 'is well', 'that’s', 'include', 'serves', 'for any', 'design ,', 'expect from', 'viewers', 'dying', 'each of', 'it looks', 'to kill', 'point where', 'its a', 'everything is', 'otherwise', 'of us', 'and still', 'then again', 'fun ,', 'reason why', 'action ,', 'the final', 'together ,', 'happens to', 'in general', \"'ve been\", 'developing', 'ideas', 'called', ', their', 'experience', 'amount', 'hero', 'stop', 'deals with', 'it be', 'wide', 'oh', 'i really', '... .', ', etc', 'saved', 'potential to', 'enjoyment -', \"'' that\", 'mental', 'heavily', 'mature', 'anime will', 'mistake', 'the death', 'sum', 'we have', 'desire', 'excited', 'final episode', 'know', 'done and', 'improve', 'she did', 'himself', 'spot', 'lots', 'between them', 'myself ,', 'on with', 'complicated', \"'s pretty\", \"'ll get\", 'best ,', 'types of', 'of course', 'wants to', 'others', '... i', 'magical', \"you 're\", 'so', 'i hate', 'same way', 'this world', 'show has', 'only one', 'simple', 'away from', 'each character', 'can do', 'return', 'reminded', 'it’s', 'it does', 'boring .', 'the visual', 'obviously', 'are no', 'a plot', 'question', 'does .', 'be very', 'stated', 'personal', 'of watching', 'search', 'presence', 'extent', 'and did', 'indeed', 'wonderful', 'but', 'annoying .', 'the genre', 'together and', 'sees', 'check out', 'conclusion ,', 'top', '. well', 'title', 'is just', \"'s good\", 'has to', 'world is', 'us', 'are', 'dull', 'style of', 'cgi', \"ca n't\", 'right', 'a series', 'the production', 'some things', 'it i', 'as to', 'girl with', 'place ,', 'i wanted', 'than a', 'and would', 'an', '. only', 'antagonist', 'is based', 'or less', 'play', 'hold', 'like in', 'as in', 'turns out', 'currently', 'who do', 'matter', 'computer', 'made this', 'typical', 'although i', 'the lack', 'though they', 'many anime', 'history', ', while', ': ``', 'is an', 'on its', 'introduce', 'loved it', 'back', 'meets', 'brilliant', 'blame', '. throughout', 'presents', 'watching', '. who', 'that really', 'tale', 'turn', 'view', 'refreshing', 'manage', 'that were', 'beautiful and', 'through a', 'terms', \"is n't\", 'and we', 'story (', 'think of', 'personality and', 'dreams', 'as for', 'really a', 'hours', 'very few', 'emotion', 'his life', 'finished', 'ears', 'merely', 'before i', 'memories', 'original .', 'head', 'life of', 'art ,', 'to everyone', 'too bad', 'possible .', \"n't .\", 'right ?', 'little more', 'first glance', 'the true', 'prior', 'sure you', 'ugly', 'show are', 'do this', 'you for', 'human', 'work', 'it on', 'caused', 'power of', 'his', 'sword art', 'actions', 'nonetheless', 'established', 'lead', 'solely', \"'d be\", 'crew', '( not', 'what', 'lines', 'a friend', 'is done', 'first and', 'this', 'fiction', 'enjoyed watching', 'well to', 'made it', 'in reality', ': -', 'so many', '. yes', 'told', 'english', 'fun', 'helping', 'that did', 'expect', 'flaws', 'anime and', 'addition to', 'the ending', 'break', 'sense', 'is and', 'that only', 'try .', 'that most', 'supernatural', '. although', 'been a', 'story /', 'a true', 'may not', 'a bad', 'for you', '. enjoyment', 'trust me', 'mean that', 'shit', 'quality ,', 'finale', 'times and', '. the', 'lose', 'humanity', 'show was', 'suggest', 'the ed', 'things that', 'scenario', '. some', 'other animes', 'in there', 'introduced', 'the art', 'im', 'and turns', 'important', 'plots', 'they will', 'but ,', \"n't remember\", 'written', 'only episodes', 'suffers', 'well as', 'it’s a', 'light-hearted', 'made me', 'anywhere', 'charm', 'enjoy', 'learns', 'the openings', 'more ,', 'watch the', 'looked', 'is pretty', \"'s quite\", 'end', 'style is', 'ten', 'first few', 'which', 'give', 'so it', 'front of', '/ i', 'complain about', 'the focus', 'with a', 'the stories', 'above', 'art of', 'formula', 'middle', 'of plot', 'comic relief', 'naturally', \"'s more\", 'as she', 'a way', 'completely different', 'department', \"would n't\", 'final', 'the latter', 'watch ,', 'i want', 'they have', 'brings', 'ends up', 'and over', 'moon', 'the episodes', '. especially', ', sometimes', 'ending', 'know how', 'one or', 'known', 'am a', 'an amazing', 'likable', 'effort', 'creative', 'pathetic', 'were really', 'opposite', 'said before', 'said', 'finds', 'to another', 'shallow', 'and this', 'interesting ,', 'pass', 'amusing', 'everyone', 'may be', \"n't understand\", 'detailed', 'animes .', 'house', 'order', '. for', 'animes that', 'behind', 'revealed', 'industry', 'soul', 'guy ,', 'over'])"
      ]
     },
     "execution_count": 85,
     "metadata": {},
     "output_type": "execute_result"
    }
   ],
   "source": [
    "tfidf.vocabulary_.keys()"
   ]
  },
  {
   "cell_type": "code",
   "execution_count": 86,
   "metadata": {
    "collapsed": false
   },
   "outputs": [
    {
     "data": {
      "text/plain": [
       "\"`` hey gingy , you like magical girl shows , right ? '' `` i sure do . '' `` what about this show called `` yuki yuna is a hero '' ? '' `` ok , what 's it like ? '' `` it 's a show that starts off innocent and sweet but the more you watch it , the more the characters begin to suffer and you can see the dark undertones of the show come out . '' `` hmmmm ... .are you referring to `` puella magi madoka magica '' ? my favorite anime of all time ? '' `` no , i 'm referring to `` yuki yuna '' . '' `` hmmm ... .hmmmmmm ... .hmmmmmmmmmmmmmmmmmmmm ... '' ok , all joking aside , i 'm not going to cast my eyes away and ignore the similarities between `` madoka magica '' and `` yuki yuna '' . i 'm also not going to be the one who wipes cheeto dust on my jeans and says that `` yuki yuna '' is a rip-off of `` madoka magica '' . despite the similarities , `` yuki yuna '' is still able to be its own thing . yeah , i liked this show . i was into it . i really loved the animation and i legitimately felt the friendships between the girls in the hero club . i also thought the voice acting was well done , including the english dub . the slice of life elements were there , but the drama moments were excellent . it hit its notes just right . however , this show lost some points for one aspect : nothing is lost . this might get a bit spoiler-ish , but i 'll do my best to not outright say what happens . in `` madoka magica '' , the characters gain things by losing . and while the ending was very bittersweet but leaning more towards the happier side , sacrifices were still made . in `` yuki yuna '' , sacrifices are made , but they do n't really matter . things return to how they were , and it almost seems pointless to have them lose anything if things return to how they were before , and they do n't really gain anything , either . no matter , because i did enjoy the show . it had its hiccups , but i could look past most of them . i really hope this a series that gets continued into spin-offs or sequels and whatnot .\""
      ]
     },
     "execution_count": 86,
     "metadata": {},
     "output_type": "execute_result"
    }
   ],
   "source": [
    "# just looking at an example review\n",
    "' '.join(X_train_raw[10])"
   ]
  },
  {
   "cell_type": "code",
   "execution_count": 87,
   "metadata": {
    "collapsed": true
   },
   "outputs": [],
   "source": [
    "y_train = y_train_raw\n",
    "y_test = y_test_raw"
   ]
  },
  {
   "cell_type": "markdown",
   "metadata": {},
   "source": [
    "## Hyperparameter tuning and training the model"
   ]
  },
  {
   "cell_type": "code",
   "execution_count": 88,
   "metadata": {
    "collapsed": false
   },
   "outputs": [
    {
     "name": "stdout",
     "output_type": "stream",
     "text": [
      "7.56563522928\n"
     ]
    }
   ],
   "source": [
    "# metric: 'is an anime rated above average?' classification accuracy\n",
    "\n",
    "mean_rating = np.mean(y_train)\n",
    "print(mean_rating)\n",
    "\n",
    "from sklearn.metrics import make_scorer\n",
    "from sklearn.metrics import accuracy_score\n",
    "\n",
    "def above_average_accuracy(y_true, y_predicted, **kwargs):\n",
    "    if kwargs and 'average_true' in kwargs:\n",
    "        average_true = kwargs['average_true']\n",
    "    else:\n",
    "        average_true = np.mean(y_true)\n",
    "        \n",
    "    if kwargs and 'average_predicted' in kwargs:\n",
    "        average_predicted = kwargs['average_predicted']\n",
    "    else:\n",
    "        average_predicted = np.mean(y_predicted)\n",
    "        \n",
    "    return accuracy_score(np.array(y_true) > average_true, np.array(y_predicted) > average_predicted)"
   ]
  },
  {
   "cell_type": "code",
   "execution_count": 89,
   "metadata": {
    "collapsed": false
   },
   "outputs": [],
   "source": [
    "# Hyperparameter tuning\n",
    "import xgboost\n",
    "\n",
    "xgb2 = xgboost.XGBRegressor( \n",
    "                # Hyperparameter tuning of the xgboost regressor\n",
    "                \n",
    "                # number of trees\n",
    "                # early stopping\n",
    "                n_estimators = 170,\n",
    "    \n",
    "                # learning rate\n",
    "                learning_rate = 0.1,  \n",
    "        \n",
    "    \n",
    "                # parameters regulating depth of trees\n",
    "                 max_depth = 8, #12\n",
    "                 min_child_weight = 10, #10\n",
    "                 gamma = 0, \n",
    "                \n",
    "    \n",
    "                # l1 and l2 regularization\n",
    "                 reg_lambda = 250, #150\n",
    "                 reg_alpha = 50, #100\n",
    "                \n",
    "    \n",
    "                # sampling\n",
    "                colsample_bytree = 0.8,\n",
    "                subsample = 0.8, \n",
    "                colsample_bylevel = 1\n",
    "            )"
   ]
  },
  {
   "cell_type": "code",
   "execution_count": 90,
   "metadata": {
    "collapsed": false
   },
   "outputs": [
    {
     "name": "stdout",
     "output_type": "stream",
     "text": [
      "[0]\tvalidation_0-rmse:6.73515\tvalidation_1-rmse:6.72591\n",
      "Multiple eval metrics have been passed: 'validation_1-rmse' will be used for early stopping.\n",
      "\n",
      "Will train until validation_1-rmse hasn't improved in 20 rounds.\n",
      "[1]\tvalidation_0-rmse:6.13559\tvalidation_1-rmse:6.12852\n",
      "[2]\tvalidation_0-rmse:5.60196\tvalidation_1-rmse:5.59838\n",
      "[3]\tvalidation_0-rmse:5.12608\tvalidation_1-rmse:5.12528\n",
      "[4]\tvalidation_0-rmse:4.70137\tvalidation_1-rmse:4.70501\n",
      "[5]\tvalidation_0-rmse:4.32451\tvalidation_1-rmse:4.33157\n",
      "[6]\tvalidation_0-rmse:3.9907\tvalidation_1-rmse:4.00008\n",
      "[7]\tvalidation_0-rmse:3.69435\tvalidation_1-rmse:3.70779\n",
      "[8]\tvalidation_0-rmse:3.43169\tvalidation_1-rmse:3.44857\n",
      "[9]\tvalidation_0-rmse:3.19997\tvalidation_1-rmse:3.22065\n",
      "[10]\tvalidation_0-rmse:2.99625\tvalidation_1-rmse:3.02215\n",
      "[11]\tvalidation_0-rmse:2.81869\tvalidation_1-rmse:2.84898\n",
      "[12]\tvalidation_0-rmse:2.66159\tvalidation_1-rmse:2.69542\n",
      "[13]\tvalidation_0-rmse:2.52617\tvalidation_1-rmse:2.56363\n",
      "[14]\tvalidation_0-rmse:2.40705\tvalidation_1-rmse:2.44803\n",
      "[15]\tvalidation_0-rmse:2.3034\tvalidation_1-rmse:2.34839\n",
      "[16]\tvalidation_0-rmse:2.21403\tvalidation_1-rmse:2.26228\n",
      "[17]\tvalidation_0-rmse:2.13682\tvalidation_1-rmse:2.18787\n",
      "[18]\tvalidation_0-rmse:2.06932\tvalidation_1-rmse:2.12395\n",
      "[19]\tvalidation_0-rmse:2.01056\tvalidation_1-rmse:2.06777\n",
      "[20]\tvalidation_0-rmse:1.95964\tvalidation_1-rmse:2.02002\n",
      "[21]\tvalidation_0-rmse:1.91449\tvalidation_1-rmse:1.9779\n",
      "[22]\tvalidation_0-rmse:1.87522\tvalidation_1-rmse:1.94147\n",
      "[23]\tvalidation_0-rmse:1.84173\tvalidation_1-rmse:1.91101\n",
      "[24]\tvalidation_0-rmse:1.81234\tvalidation_1-rmse:1.88411\n",
      "[25]\tvalidation_0-rmse:1.78627\tvalidation_1-rmse:1.86043\n",
      "[26]\tvalidation_0-rmse:1.76302\tvalidation_1-rmse:1.8392\n",
      "[27]\tvalidation_0-rmse:1.7424\tvalidation_1-rmse:1.82063\n",
      "[28]\tvalidation_0-rmse:1.72451\tvalidation_1-rmse:1.80534\n",
      "[29]\tvalidation_0-rmse:1.70779\tvalidation_1-rmse:1.79023\n",
      "[30]\tvalidation_0-rmse:1.69325\tvalidation_1-rmse:1.77729\n",
      "[31]\tvalidation_0-rmse:1.67939\tvalidation_1-rmse:1.76467\n",
      "[32]\tvalidation_0-rmse:1.66762\tvalidation_1-rmse:1.75428\n",
      "[33]\tvalidation_0-rmse:1.65661\tvalidation_1-rmse:1.7447\n",
      "[34]\tvalidation_0-rmse:1.64617\tvalidation_1-rmse:1.7353\n",
      "[35]\tvalidation_0-rmse:1.63593\tvalidation_1-rmse:1.72769\n",
      "[36]\tvalidation_0-rmse:1.6269\tvalidation_1-rmse:1.71989\n",
      "[37]\tvalidation_0-rmse:1.61834\tvalidation_1-rmse:1.71314\n",
      "[38]\tvalidation_0-rmse:1.6105\tvalidation_1-rmse:1.70708\n",
      "[39]\tvalidation_0-rmse:1.60343\tvalidation_1-rmse:1.70095\n",
      "[40]\tvalidation_0-rmse:1.59615\tvalidation_1-rmse:1.69492\n",
      "[41]\tvalidation_0-rmse:1.58954\tvalidation_1-rmse:1.68919\n",
      "[42]\tvalidation_0-rmse:1.58343\tvalidation_1-rmse:1.68477\n",
      "[43]\tvalidation_0-rmse:1.57685\tvalidation_1-rmse:1.67988\n",
      "[44]\tvalidation_0-rmse:1.57124\tvalidation_1-rmse:1.67532\n",
      "[45]\tvalidation_0-rmse:1.56586\tvalidation_1-rmse:1.67071\n",
      "[46]\tvalidation_0-rmse:1.56075\tvalidation_1-rmse:1.66664\n",
      "[47]\tvalidation_0-rmse:1.55585\tvalidation_1-rmse:1.66273\n",
      "[48]\tvalidation_0-rmse:1.55149\tvalidation_1-rmse:1.65915\n",
      "[49]\tvalidation_0-rmse:1.54638\tvalidation_1-rmse:1.65585\n",
      "[50]\tvalidation_0-rmse:1.54159\tvalidation_1-rmse:1.6532\n",
      "[51]\tvalidation_0-rmse:1.53735\tvalidation_1-rmse:1.65031\n",
      "[52]\tvalidation_0-rmse:1.53322\tvalidation_1-rmse:1.64706\n",
      "[53]\tvalidation_0-rmse:1.52913\tvalidation_1-rmse:1.64377\n",
      "[54]\tvalidation_0-rmse:1.52509\tvalidation_1-rmse:1.64044\n",
      "[55]\tvalidation_0-rmse:1.52139\tvalidation_1-rmse:1.63769\n",
      "[56]\tvalidation_0-rmse:1.51763\tvalidation_1-rmse:1.63499\n",
      "[57]\tvalidation_0-rmse:1.51396\tvalidation_1-rmse:1.63216\n",
      "[58]\tvalidation_0-rmse:1.51026\tvalidation_1-rmse:1.62962\n",
      "[59]\tvalidation_0-rmse:1.50701\tvalidation_1-rmse:1.62716\n",
      "[60]\tvalidation_0-rmse:1.50402\tvalidation_1-rmse:1.62463\n",
      "[61]\tvalidation_0-rmse:1.50039\tvalidation_1-rmse:1.62226\n",
      "[62]\tvalidation_0-rmse:1.49684\tvalidation_1-rmse:1.61967\n",
      "[63]\tvalidation_0-rmse:1.49406\tvalidation_1-rmse:1.61756\n",
      "[64]\tvalidation_0-rmse:1.49117\tvalidation_1-rmse:1.61565\n",
      "[65]\tvalidation_0-rmse:1.48829\tvalidation_1-rmse:1.6138\n",
      "[66]\tvalidation_0-rmse:1.48518\tvalidation_1-rmse:1.61174\n",
      "[67]\tvalidation_0-rmse:1.48179\tvalidation_1-rmse:1.61008\n",
      "[68]\tvalidation_0-rmse:1.47879\tvalidation_1-rmse:1.60875\n",
      "[69]\tvalidation_0-rmse:1.47621\tvalidation_1-rmse:1.60663\n",
      "[70]\tvalidation_0-rmse:1.47349\tvalidation_1-rmse:1.60434\n",
      "[71]\tvalidation_0-rmse:1.47078\tvalidation_1-rmse:1.60221\n",
      "[72]\tvalidation_0-rmse:1.46845\tvalidation_1-rmse:1.60051\n",
      "[73]\tvalidation_0-rmse:1.46607\tvalidation_1-rmse:1.59906\n",
      "[74]\tvalidation_0-rmse:1.4639\tvalidation_1-rmse:1.59739\n",
      "[75]\tvalidation_0-rmse:1.46164\tvalidation_1-rmse:1.59592\n",
      "[76]\tvalidation_0-rmse:1.45956\tvalidation_1-rmse:1.59457\n",
      "[77]\tvalidation_0-rmse:1.45755\tvalidation_1-rmse:1.59296\n",
      "[78]\tvalidation_0-rmse:1.45538\tvalidation_1-rmse:1.59132\n",
      "[79]\tvalidation_0-rmse:1.45341\tvalidation_1-rmse:1.58972\n",
      "[80]\tvalidation_0-rmse:1.45113\tvalidation_1-rmse:1.58847\n",
      "[81]\tvalidation_0-rmse:1.44895\tvalidation_1-rmse:1.58702\n",
      "[82]\tvalidation_0-rmse:1.44704\tvalidation_1-rmse:1.58586\n",
      "[83]\tvalidation_0-rmse:1.44491\tvalidation_1-rmse:1.58435\n",
      "[84]\tvalidation_0-rmse:1.44275\tvalidation_1-rmse:1.5829\n",
      "[85]\tvalidation_0-rmse:1.44088\tvalidation_1-rmse:1.58141\n",
      "[86]\tvalidation_0-rmse:1.43883\tvalidation_1-rmse:1.58049\n",
      "[87]\tvalidation_0-rmse:1.43699\tvalidation_1-rmse:1.57929\n",
      "[88]\tvalidation_0-rmse:1.43501\tvalidation_1-rmse:1.57836\n",
      "[89]\tvalidation_0-rmse:1.43292\tvalidation_1-rmse:1.57692\n",
      "[90]\tvalidation_0-rmse:1.4309\tvalidation_1-rmse:1.57588\n",
      "[91]\tvalidation_0-rmse:1.42916\tvalidation_1-rmse:1.57469\n",
      "[92]\tvalidation_0-rmse:1.4269\tvalidation_1-rmse:1.57331\n",
      "[93]\tvalidation_0-rmse:1.42528\tvalidation_1-rmse:1.57194\n",
      "[94]\tvalidation_0-rmse:1.42345\tvalidation_1-rmse:1.57098\n",
      "[95]\tvalidation_0-rmse:1.42171\tvalidation_1-rmse:1.56991\n",
      "[96]\tvalidation_0-rmse:1.41987\tvalidation_1-rmse:1.56863\n",
      "[97]\tvalidation_0-rmse:1.41821\tvalidation_1-rmse:1.56784\n",
      "[98]\tvalidation_0-rmse:1.4166\tvalidation_1-rmse:1.56675\n",
      "[99]\tvalidation_0-rmse:1.41464\tvalidation_1-rmse:1.56573\n",
      "[100]\tvalidation_0-rmse:1.41324\tvalidation_1-rmse:1.56481\n",
      "[101]\tvalidation_0-rmse:1.41173\tvalidation_1-rmse:1.56381\n",
      "[102]\tvalidation_0-rmse:1.40988\tvalidation_1-rmse:1.56259\n",
      "[103]\tvalidation_0-rmse:1.40823\tvalidation_1-rmse:1.56162\n",
      "[104]\tvalidation_0-rmse:1.40652\tvalidation_1-rmse:1.5604\n",
      "[105]\tvalidation_0-rmse:1.40488\tvalidation_1-rmse:1.55965\n",
      "[106]\tvalidation_0-rmse:1.40343\tvalidation_1-rmse:1.55877\n",
      "[107]\tvalidation_0-rmse:1.40197\tvalidation_1-rmse:1.55794\n",
      "[108]\tvalidation_0-rmse:1.40041\tvalidation_1-rmse:1.55721\n",
      "[109]\tvalidation_0-rmse:1.39904\tvalidation_1-rmse:1.55633\n",
      "[110]\tvalidation_0-rmse:1.39759\tvalidation_1-rmse:1.55574\n",
      "[111]\tvalidation_0-rmse:1.39632\tvalidation_1-rmse:1.55507\n",
      "[112]\tvalidation_0-rmse:1.39477\tvalidation_1-rmse:1.55408\n",
      "[113]\tvalidation_0-rmse:1.39327\tvalidation_1-rmse:1.55335\n",
      "[114]\tvalidation_0-rmse:1.39174\tvalidation_1-rmse:1.55244\n",
      "[115]\tvalidation_0-rmse:1.39028\tvalidation_1-rmse:1.55169\n",
      "[116]\tvalidation_0-rmse:1.38886\tvalidation_1-rmse:1.55095\n",
      "[117]\tvalidation_0-rmse:1.38752\tvalidation_1-rmse:1.54999\n",
      "[118]\tvalidation_0-rmse:1.3861\tvalidation_1-rmse:1.549\n",
      "[119]\tvalidation_0-rmse:1.38427\tvalidation_1-rmse:1.54843\n",
      "[120]\tvalidation_0-rmse:1.38268\tvalidation_1-rmse:1.54811\n",
      "[121]\tvalidation_0-rmse:1.38103\tvalidation_1-rmse:1.54731\n",
      "[122]\tvalidation_0-rmse:1.37958\tvalidation_1-rmse:1.54626\n",
      "[123]\tvalidation_0-rmse:1.37834\tvalidation_1-rmse:1.54587\n",
      "[124]\tvalidation_0-rmse:1.37713\tvalidation_1-rmse:1.54527\n",
      "[125]\tvalidation_0-rmse:1.37569\tvalidation_1-rmse:1.54471\n",
      "[126]\tvalidation_0-rmse:1.3745\tvalidation_1-rmse:1.54407\n",
      "[127]\tvalidation_0-rmse:1.3732\tvalidation_1-rmse:1.54345\n",
      "[128]\tvalidation_0-rmse:1.37196\tvalidation_1-rmse:1.54268\n",
      "[129]\tvalidation_0-rmse:1.37092\tvalidation_1-rmse:1.54198\n",
      "[130]\tvalidation_0-rmse:1.36979\tvalidation_1-rmse:1.54135\n",
      "[131]\tvalidation_0-rmse:1.36848\tvalidation_1-rmse:1.54086\n",
      "[132]\tvalidation_0-rmse:1.36695\tvalidation_1-rmse:1.54046\n",
      "[133]\tvalidation_0-rmse:1.3653\tvalidation_1-rmse:1.54014\n",
      "[134]\tvalidation_0-rmse:1.36397\tvalidation_1-rmse:1.53947\n",
      "[135]\tvalidation_0-rmse:1.36288\tvalidation_1-rmse:1.53859\n",
      "[136]\tvalidation_0-rmse:1.36177\tvalidation_1-rmse:1.53795\n",
      "[137]\tvalidation_0-rmse:1.36055\tvalidation_1-rmse:1.53768\n",
      "[138]\tvalidation_0-rmse:1.35929\tvalidation_1-rmse:1.53705\n",
      "[139]\tvalidation_0-rmse:1.35829\tvalidation_1-rmse:1.53644\n",
      "[140]\tvalidation_0-rmse:1.35712\tvalidation_1-rmse:1.53596\n",
      "[141]\tvalidation_0-rmse:1.35613\tvalidation_1-rmse:1.5352\n",
      "[142]\tvalidation_0-rmse:1.35505\tvalidation_1-rmse:1.53466\n",
      "[143]\tvalidation_0-rmse:1.35316\tvalidation_1-rmse:1.53414\n",
      "[144]\tvalidation_0-rmse:1.35193\tvalidation_1-rmse:1.53379\n",
      "[145]\tvalidation_0-rmse:1.35075\tvalidation_1-rmse:1.53326\n",
      "[146]\tvalidation_0-rmse:1.34941\tvalidation_1-rmse:1.53288\n",
      "[147]\tvalidation_0-rmse:1.3483\tvalidation_1-rmse:1.53253\n",
      "[148]\tvalidation_0-rmse:1.34729\tvalidation_1-rmse:1.53207\n",
      "[149]\tvalidation_0-rmse:1.34604\tvalidation_1-rmse:1.53164\n",
      "[150]\tvalidation_0-rmse:1.3451\tvalidation_1-rmse:1.53096\n",
      "[151]\tvalidation_0-rmse:1.34385\tvalidation_1-rmse:1.53045\n",
      "[152]\tvalidation_0-rmse:1.34259\tvalidation_1-rmse:1.52987\n",
      "[153]\tvalidation_0-rmse:1.3415\tvalidation_1-rmse:1.52923\n",
      "[154]\tvalidation_0-rmse:1.34051\tvalidation_1-rmse:1.52879\n",
      "[155]\tvalidation_0-rmse:1.3393\tvalidation_1-rmse:1.52851\n",
      "[156]\tvalidation_0-rmse:1.33823\tvalidation_1-rmse:1.52789\n",
      "[157]\tvalidation_0-rmse:1.33704\tvalidation_1-rmse:1.52754\n",
      "[158]\tvalidation_0-rmse:1.33608\tvalidation_1-rmse:1.52702\n",
      "[159]\tvalidation_0-rmse:1.33499\tvalidation_1-rmse:1.52644\n",
      "[160]\tvalidation_0-rmse:1.33358\tvalidation_1-rmse:1.52601\n",
      "[161]\tvalidation_0-rmse:1.33257\tvalidation_1-rmse:1.5255\n",
      "[162]\tvalidation_0-rmse:1.33143\tvalidation_1-rmse:1.52507\n",
      "[163]\tvalidation_0-rmse:1.33045\tvalidation_1-rmse:1.52475\n",
      "[164]\tvalidation_0-rmse:1.32927\tvalidation_1-rmse:1.52444\n",
      "[165]\tvalidation_0-rmse:1.32837\tvalidation_1-rmse:1.52408\n",
      "[166]\tvalidation_0-rmse:1.32735\tvalidation_1-rmse:1.52367\n",
      "[167]\tvalidation_0-rmse:1.32649\tvalidation_1-rmse:1.52347\n",
      "[168]\tvalidation_0-rmse:1.32561\tvalidation_1-rmse:1.52296\n",
      "[169]\tvalidation_0-rmse:1.32447\tvalidation_1-rmse:1.52253\n"
     ]
    },
    {
     "data": {
      "text/plain": [
       "(1.52253, 169, 170)"
      ]
     },
     "execution_count": 90,
     "metadata": {},
     "output_type": "execute_result"
    }
   ],
   "source": [
    "best = xgb2.fit(X_train, y_train, eval_set = [(X_train, y_train), (X_test, y_test)], early_stopping_rounds = 20, verbose=True)\n",
    "best.best_score, best.best_iteration, best.best_ntree_limit"
   ]
  },
  {
   "cell_type": "code",
   "execution_count": 91,
   "metadata": {
    "collapsed": false
   },
   "outputs": [],
   "source": [
    "# Hyperparameter tuning: grid search and cross validation\n",
    "from sklearn.model_selection import GridSearchCV\n",
    "from sklearn.pipeline import Pipeline\n",
    "import xgboost\n",
    "\n",
    "\n",
    "xgb = xgboost.XGBRegressor()\n",
    "\n",
    "\n",
    "\n",
    "param_grid = {             \n",
    "                # Hyperparameter tuning of the xgboost regressor\n",
    "               \n",
    "                # number of trees\n",
    "                'n_estimators': [170],\n",
    "                \n",
    "                # learning rate\n",
    "                'learning_rate': [0.1],  \n",
    "        \n",
    "    \n",
    "                # parameters regulating depth of trees\n",
    "                'max_depth': [8], \n",
    "                'min_child_weight': [10],  \n",
    "                'gamma': [0], \n",
    "                \n",
    "    \n",
    "                # l1 and l2 regularization\n",
    "                'reg_lambda': [250],\n",
    "                'reg_alpha': [50], \n",
    "                \n",
    "    \n",
    "                # sampling\n",
    "                'colsample_bytree': [0.8],  \n",
    "                'subsample': [0.8],\n",
    "                'colsample_bylevel': [1]\n",
    "            }\n",
    "\n",
    "\n",
    "\n",
    "gs = GridSearchCV(xgb, param_grid, \n",
    "                   #scoring = 'neg_mean_squared_error',\n",
    "                   scoring = make_scorer(above_average_accuracy, greater_is_better=True, \n",
    "                                         average_predicted = mean_rating, average_true = mean_rating),\n",
    "                   cv = 2, verbose = 20,\n",
    "                   n_jobs= 1)"
   ]
  },
  {
   "cell_type": "code",
   "execution_count": 92,
   "metadata": {
    "collapsed": false,
    "scrolled": true
   },
   "outputs": [
    {
     "name": "stdout",
     "output_type": "stream",
     "text": [
      "Fitting 2 folds for each of 1 candidates, totalling 2 fits\n",
      "[CV] reg_lambda=250, n_estimators=170, max_depth=8, min_child_weight=10, colsample_bylevel=1, subsample=0.8, colsample_bytree=0.8, reg_alpha=50, gamma=0, learning_rate=0.1 \n",
      "[CV]  reg_lambda=250, n_estimators=170, max_depth=8, min_child_weight=10, colsample_bylevel=1, subsample=0.8, colsample_bytree=0.8, reg_alpha=50, gamma=0, learning_rate=0.1, score=0.795093, total= 2.7min\n",
      "[CV] reg_lambda=250, n_estimators=170, max_depth=8, min_child_weight=10, colsample_bylevel=1, subsample=0.8, colsample_bytree=0.8, reg_alpha=50, gamma=0, learning_rate=0.1 \n"
     ]
    },
    {
     "name": "stderr",
     "output_type": "stream",
     "text": [
      "[Parallel(n_jobs=1)]: Done   1 out of   1 | elapsed:  2.8min remaining:    0.0s\n"
     ]
    },
    {
     "name": "stdout",
     "output_type": "stream",
     "text": [
      "[CV]  reg_lambda=250, n_estimators=170, max_depth=8, min_child_weight=10, colsample_bylevel=1, subsample=0.8, colsample_bytree=0.8, reg_alpha=50, gamma=0, learning_rate=0.1, score=0.795568, total= 2.7min\n"
     ]
    },
    {
     "name": "stderr",
     "output_type": "stream",
     "text": [
      "[Parallel(n_jobs=1)]: Done   2 out of   2 | elapsed:  5.6min remaining:    0.0s\n",
      "[Parallel(n_jobs=1)]: Done   2 out of   2 | elapsed:  5.6min finished\n"
     ]
    },
    {
     "name": "stdout",
     "output_type": "stream",
     "text": [
      "0.795330554234\n",
      "{'reg_lambda': 250, 'n_estimators': 170, 'max_depth': 8, 'min_child_weight': 10, 'colsample_bylevel': 1, 'subsample': 0.8, 'colsample_bytree': 0.8, 'reg_alpha': 50, 'gamma': 0, 'learning_rate': 0.1}\n"
     ]
    }
   ],
   "source": [
    "gs = gs.fit(X_train, y_train)\n",
    "print(gs.best_score_)\n",
    "print(gs.best_params_)"
   ]
  },
  {
   "cell_type": "markdown",
   "metadata": {},
   "source": [
    "## Metrics"
   ]
  },
  {
   "cell_type": "code",
   "execution_count": 93,
   "metadata": {
    "collapsed": true
   },
   "outputs": [],
   "source": [
    "# self-explanatory\n",
    "y_train_pred = best.predict(X_train)\n",
    "y_test_pred = best.predict(X_test)"
   ]
  },
  {
   "cell_type": "code",
   "execution_count": 94,
   "metadata": {
    "collapsed": false
   },
   "outputs": [
    {
     "name": "stdout",
     "output_type": "stream",
     "text": [
      "MSE train: 1.754, test: 2.318\n",
      "R^2 train: 0.644, test: 0.543\n",
      "above_average_accuracy train: 0.830, test: 0.805\n"
     ]
    }
   ],
   "source": [
    "# checking some metrics of the performance of the selected model\n",
    "from sklearn.metrics import r2_score\n",
    "from sklearn.metrics import mean_squared_error\n",
    "\n",
    "print('MSE train: %.3f, test: %.3f' % (\n",
    "        mean_squared_error(y_train, y_train_pred),\n",
    "        mean_squared_error(y_test, y_test_pred)))\n",
    "print('R^2 train: %.3f, test: %.3f' % (\n",
    "        r2_score(y_train, y_train_pred),\n",
    "        r2_score(y_test, y_test_pred)))\n",
    "print('above_average_accuracy train: %.3f, test: %.3f' % (\n",
    "        above_average_accuracy(y_train, y_train_pred),\n",
    "        above_average_accuracy(y_test, y_test_pred)))"
   ]
  },
  {
   "cell_type": "code",
   "execution_count": 95,
   "metadata": {
    "collapsed": false
   },
   "outputs": [
    {
     "data": {
      "text/html": [
       "<div>\n",
       "<table border=\"1\" class=\"dataframe\">\n",
       "  <thead>\n",
       "    <tr style=\"text-align: right;\">\n",
       "      <th></th>\n",
       "      <th>Predicted</th>\n",
       "      <th>True</th>\n",
       "      <th>Difference</th>\n",
       "    </tr>\n",
       "  </thead>\n",
       "  <tbody>\n",
       "    <tr>\n",
       "      <th>0</th>\n",
       "      <td>7.847342</td>\n",
       "      <td>10.0</td>\n",
       "      <td>2.152658</td>\n",
       "    </tr>\n",
       "    <tr>\n",
       "      <th>1</th>\n",
       "      <td>9.523909</td>\n",
       "      <td>9.0</td>\n",
       "      <td>0.523909</td>\n",
       "    </tr>\n",
       "    <tr>\n",
       "      <th>2</th>\n",
       "      <td>8.503707</td>\n",
       "      <td>10.0</td>\n",
       "      <td>1.496293</td>\n",
       "    </tr>\n",
       "    <tr>\n",
       "      <th>3</th>\n",
       "      <td>4.015727</td>\n",
       "      <td>3.0</td>\n",
       "      <td>1.015727</td>\n",
       "    </tr>\n",
       "    <tr>\n",
       "      <th>4</th>\n",
       "      <td>6.865458</td>\n",
       "      <td>4.0</td>\n",
       "      <td>2.865458</td>\n",
       "    </tr>\n",
       "    <tr>\n",
       "      <th>5</th>\n",
       "      <td>8.233399</td>\n",
       "      <td>8.0</td>\n",
       "      <td>0.233399</td>\n",
       "    </tr>\n",
       "    <tr>\n",
       "      <th>6</th>\n",
       "      <td>9.248008</td>\n",
       "      <td>10.0</td>\n",
       "      <td>0.751992</td>\n",
       "    </tr>\n",
       "    <tr>\n",
       "      <th>7</th>\n",
       "      <td>6.499593</td>\n",
       "      <td>10.0</td>\n",
       "      <td>3.500407</td>\n",
       "    </tr>\n",
       "    <tr>\n",
       "      <th>8</th>\n",
       "      <td>6.901162</td>\n",
       "      <td>2.0</td>\n",
       "      <td>4.901162</td>\n",
       "    </tr>\n",
       "    <tr>\n",
       "      <th>9</th>\n",
       "      <td>6.761903</td>\n",
       "      <td>9.0</td>\n",
       "      <td>2.238097</td>\n",
       "    </tr>\n",
       "  </tbody>\n",
       "</table>\n",
       "</div>"
      ],
      "text/plain": [
       "   Predicted  True  Difference\n",
       "0   7.847342  10.0    2.152658\n",
       "1   9.523909   9.0    0.523909\n",
       "2   8.503707  10.0    1.496293\n",
       "3   4.015727   3.0    1.015727\n",
       "4   6.865458   4.0    2.865458\n",
       "5   8.233399   8.0    0.233399\n",
       "6   9.248008  10.0    0.751992\n",
       "7   6.499593  10.0    3.500407\n",
       "8   6.901162   2.0    4.901162\n",
       "9   6.761903   9.0    2.238097"
      ]
     },
     "execution_count": 95,
     "metadata": {},
     "output_type": "execute_result"
    }
   ],
   "source": [
    "# residual plot is hard to read in this case\n",
    "predicted_vs_true = pd.DataFrame({\"True\": y_test, \"Predicted\": y_test_pred})\n",
    "predicted_vs_true[\"Difference\"] = predicted_vs_true.apply(lambda x: abs(x[1] - x[0]), axis = 1)\n",
    "predicted_vs_true.head(10)"
   ]
  },
  {
   "cell_type": "code",
   "execution_count": 96,
   "metadata": {
    "collapsed": false
   },
   "outputs": [
    {
     "data": {
      "text/html": [
       "<div>\n",
       "<table border=\"1\" class=\"dataframe\">\n",
       "  <thead>\n",
       "    <tr style=\"text-align: right;\">\n",
       "      <th></th>\n",
       "      <th>Predicted</th>\n",
       "      <th>True</th>\n",
       "      <th>Difference</th>\n",
       "    </tr>\n",
       "  </thead>\n",
       "  <tbody>\n",
       "    <tr>\n",
       "      <th>count</th>\n",
       "      <td>7943.000000</td>\n",
       "      <td>7943.000000</td>\n",
       "      <td>7943.000000</td>\n",
       "    </tr>\n",
       "    <tr>\n",
       "      <th>mean</th>\n",
       "      <td>7.548197</td>\n",
       "      <td>7.542238</td>\n",
       "      <td>1.144857</td>\n",
       "    </tr>\n",
       "    <tr>\n",
       "      <th>std</th>\n",
       "      <td>1.527124</td>\n",
       "      <td>2.253445</td>\n",
       "      <td>1.003756</td>\n",
       "    </tr>\n",
       "    <tr>\n",
       "      <th>min</th>\n",
       "      <td>0.488799</td>\n",
       "      <td>1.000000</td>\n",
       "      <td>0.000257</td>\n",
       "    </tr>\n",
       "    <tr>\n",
       "      <th>25%</th>\n",
       "      <td>6.712650</td>\n",
       "      <td>6.000000</td>\n",
       "      <td>0.419442</td>\n",
       "    </tr>\n",
       "    <tr>\n",
       "      <th>50%</th>\n",
       "      <td>7.802057</td>\n",
       "      <td>8.000000</td>\n",
       "      <td>0.895076</td>\n",
       "    </tr>\n",
       "    <tr>\n",
       "      <th>75%</th>\n",
       "      <td>8.636601</td>\n",
       "      <td>9.000000</td>\n",
       "      <td>1.564620</td>\n",
       "    </tr>\n",
       "    <tr>\n",
       "      <th>max</th>\n",
       "      <td>11.141141</td>\n",
       "      <td>10.000000</td>\n",
       "      <td>7.389641</td>\n",
       "    </tr>\n",
       "  </tbody>\n",
       "</table>\n",
       "</div>"
      ],
      "text/plain": [
       "         Predicted         True   Difference\n",
       "count  7943.000000  7943.000000  7943.000000\n",
       "mean      7.548197     7.542238     1.144857\n",
       "std       1.527124     2.253445     1.003756\n",
       "min       0.488799     1.000000     0.000257\n",
       "25%       6.712650     6.000000     0.419442\n",
       "50%       7.802057     8.000000     0.895076\n",
       "75%       8.636601     9.000000     1.564620\n",
       "max      11.141141    10.000000     7.389641"
      ]
     },
     "execution_count": 96,
     "metadata": {},
     "output_type": "execute_result"
    }
   ],
   "source": [
    "predicted_vs_true.describe()"
   ]
  },
  {
   "cell_type": "markdown",
   "metadata": {},
   "source": [
    "## Exploring examples"
   ]
  },
  {
   "cell_type": "code",
   "execution_count": 97,
   "metadata": {
    "collapsed": false
   },
   "outputs": [
    {
     "data": {
      "text/plain": [
       "array([ 8.90346432,  6.01804447], dtype=float32)"
      ]
     },
     "execution_count": 97,
     "metadata": {},
     "output_type": "execute_result"
    }
   ],
   "source": [
    "# Sanity check\n",
    "\n",
    "sanity_check = pd.Series([\"That anime was great!\", \"That was very bad anime.\"])\n",
    "sanity_check = sanity_check.map(preprocess_text)\n",
    "sanity_check = tfidf.transform(sanity_check)\n",
    "best.predict(sanity_check)"
   ]
  },
  {
   "cell_type": "code",
   "execution_count": 98,
   "metadata": {
    "collapsed": false
   },
   "outputs": [
    {
     "data": {
      "text/html": [
       "<div>\n",
       "<table border=\"1\" class=\"dataframe\">\n",
       "  <thead>\n",
       "    <tr style=\"text-align: right;\">\n",
       "      <th></th>\n",
       "      <th>Predicted</th>\n",
       "      <th>True</th>\n",
       "      <th>Difference</th>\n",
       "    </tr>\n",
       "  </thead>\n",
       "  <tbody>\n",
       "    <tr>\n",
       "      <th>5253</th>\n",
       "      <td>6.000257</td>\n",
       "      <td>6.0</td>\n",
       "      <td>0.000257</td>\n",
       "    </tr>\n",
       "    <tr>\n",
       "      <th>5259</th>\n",
       "      <td>7.999672</td>\n",
       "      <td>8.0</td>\n",
       "      <td>0.000328</td>\n",
       "    </tr>\n",
       "    <tr>\n",
       "      <th>2837</th>\n",
       "      <td>8.000427</td>\n",
       "      <td>8.0</td>\n",
       "      <td>0.000427</td>\n",
       "    </tr>\n",
       "    <tr>\n",
       "      <th>1416</th>\n",
       "      <td>3.000676</td>\n",
       "      <td>3.0</td>\n",
       "      <td>0.000676</td>\n",
       "    </tr>\n",
       "    <tr>\n",
       "      <th>538</th>\n",
       "      <td>6.000759</td>\n",
       "      <td>6.0</td>\n",
       "      <td>0.000759</td>\n",
       "    </tr>\n",
       "    <tr>\n",
       "      <th>2935</th>\n",
       "      <td>7.001202</td>\n",
       "      <td>7.0</td>\n",
       "      <td>0.001202</td>\n",
       "    </tr>\n",
       "    <tr>\n",
       "      <th>6065</th>\n",
       "      <td>8.998242</td>\n",
       "      <td>9.0</td>\n",
       "      <td>0.001758</td>\n",
       "    </tr>\n",
       "    <tr>\n",
       "      <th>7505</th>\n",
       "      <td>6.001954</td>\n",
       "      <td>6.0</td>\n",
       "      <td>0.001954</td>\n",
       "    </tr>\n",
       "    <tr>\n",
       "      <th>989</th>\n",
       "      <td>8.002073</td>\n",
       "      <td>8.0</td>\n",
       "      <td>0.002073</td>\n",
       "    </tr>\n",
       "    <tr>\n",
       "      <th>2788</th>\n",
       "      <td>7.996386</td>\n",
       "      <td>8.0</td>\n",
       "      <td>0.003614</td>\n",
       "    </tr>\n",
       "  </tbody>\n",
       "</table>\n",
       "</div>"
      ],
      "text/plain": [
       "      Predicted  True  Difference\n",
       "5253   6.000257   6.0    0.000257\n",
       "5259   7.999672   8.0    0.000328\n",
       "2837   8.000427   8.0    0.000427\n",
       "1416   3.000676   3.0    0.000676\n",
       "538    6.000759   6.0    0.000759\n",
       "2935   7.001202   7.0    0.001202\n",
       "6065   8.998242   9.0    0.001758\n",
       "7505   6.001954   6.0    0.001954\n",
       "989    8.002073   8.0    0.002073\n",
       "2788   7.996386   8.0    0.003614"
      ]
     },
     "execution_count": 98,
     "metadata": {},
     "output_type": "execute_result"
    }
   ],
   "source": [
    "# the best predictions\n",
    "predicted_vs_true.sort_values(by = \"Difference\").head(10)"
   ]
  },
  {
   "cell_type": "code",
   "execution_count": 99,
   "metadata": {
    "collapsed": false
   },
   "outputs": [
    {
     "data": {
      "text/html": [
       "<div>\n",
       "<table border=\"1\" class=\"dataframe\">\n",
       "  <thead>\n",
       "    <tr style=\"text-align: right;\">\n",
       "      <th></th>\n",
       "      <th>Predicted</th>\n",
       "      <th>True</th>\n",
       "      <th>Difference</th>\n",
       "    </tr>\n",
       "  </thead>\n",
       "  <tbody>\n",
       "    <tr>\n",
       "      <th>6722</th>\n",
       "      <td>6.795934</td>\n",
       "      <td>8.0</td>\n",
       "      <td>1.204066</td>\n",
       "    </tr>\n",
       "    <tr>\n",
       "      <th>5643</th>\n",
       "      <td>2.795833</td>\n",
       "      <td>4.0</td>\n",
       "      <td>1.204167</td>\n",
       "    </tr>\n",
       "    <tr>\n",
       "      <th>3500</th>\n",
       "      <td>7.795629</td>\n",
       "      <td>9.0</td>\n",
       "      <td>1.204371</td>\n",
       "    </tr>\n",
       "    <tr>\n",
       "      <th>4269</th>\n",
       "      <td>6.794787</td>\n",
       "      <td>8.0</td>\n",
       "      <td>1.205213</td>\n",
       "    </tr>\n",
       "    <tr>\n",
       "      <th>1836</th>\n",
       "      <td>6.794410</td>\n",
       "      <td>8.0</td>\n",
       "      <td>1.205590</td>\n",
       "    </tr>\n",
       "    <tr>\n",
       "      <th>7905</th>\n",
       "      <td>8.793358</td>\n",
       "      <td>10.0</td>\n",
       "      <td>1.206642</td>\n",
       "    </tr>\n",
       "    <tr>\n",
       "      <th>1087</th>\n",
       "      <td>8.793314</td>\n",
       "      <td>10.0</td>\n",
       "      <td>1.206686</td>\n",
       "    </tr>\n",
       "    <tr>\n",
       "      <th>2315</th>\n",
       "      <td>6.792149</td>\n",
       "      <td>8.0</td>\n",
       "      <td>1.207851</td>\n",
       "    </tr>\n",
       "    <tr>\n",
       "      <th>1033</th>\n",
       "      <td>6.792149</td>\n",
       "      <td>8.0</td>\n",
       "      <td>1.207851</td>\n",
       "    </tr>\n",
       "    <tr>\n",
       "      <th>5899</th>\n",
       "      <td>8.207945</td>\n",
       "      <td>7.0</td>\n",
       "      <td>1.207945</td>\n",
       "    </tr>\n",
       "  </tbody>\n",
       "</table>\n",
       "</div>"
      ],
      "text/plain": [
       "      Predicted  True  Difference\n",
       "6722   6.795934   8.0    1.204066\n",
       "5643   2.795833   4.0    1.204167\n",
       "3500   7.795629   9.0    1.204371\n",
       "4269   6.794787   8.0    1.205213\n",
       "1836   6.794410   8.0    1.205590\n",
       "7905   8.793358  10.0    1.206642\n",
       "1087   8.793314  10.0    1.206686\n",
       "2315   6.792149   8.0    1.207851\n",
       "1033   6.792149   8.0    1.207851\n",
       "5899   8.207945   7.0    1.207945"
      ]
     },
     "execution_count": 99,
     "metadata": {},
     "output_type": "execute_result"
    }
   ],
   "source": [
    "# average predictions\n",
    "predicted_vs_true.sort_values(by = \"Difference\")[5000:5010]"
   ]
  },
  {
   "cell_type": "code",
   "execution_count": 100,
   "metadata": {
    "collapsed": false
   },
   "outputs": [
    {
     "data": {
      "text/html": [
       "<div>\n",
       "<table border=\"1\" class=\"dataframe\">\n",
       "  <thead>\n",
       "    <tr style=\"text-align: right;\">\n",
       "      <th></th>\n",
       "      <th>Predicted</th>\n",
       "      <th>True</th>\n",
       "      <th>Difference</th>\n",
       "    </tr>\n",
       "  </thead>\n",
       "  <tbody>\n",
       "    <tr>\n",
       "      <th>1114</th>\n",
       "      <td>8.389641</td>\n",
       "      <td>1.0</td>\n",
       "      <td>7.389641</td>\n",
       "    </tr>\n",
       "    <tr>\n",
       "      <th>1685</th>\n",
       "      <td>8.347402</td>\n",
       "      <td>1.0</td>\n",
       "      <td>7.347402</td>\n",
       "    </tr>\n",
       "    <tr>\n",
       "      <th>2560</th>\n",
       "      <td>8.299134</td>\n",
       "      <td>1.0</td>\n",
       "      <td>7.299134</td>\n",
       "    </tr>\n",
       "    <tr>\n",
       "      <th>7261</th>\n",
       "      <td>8.275214</td>\n",
       "      <td>1.0</td>\n",
       "      <td>7.275214</td>\n",
       "    </tr>\n",
       "    <tr>\n",
       "      <th>4559</th>\n",
       "      <td>7.998614</td>\n",
       "      <td>1.0</td>\n",
       "      <td>6.998614</td>\n",
       "    </tr>\n",
       "    <tr>\n",
       "      <th>7439</th>\n",
       "      <td>7.951441</td>\n",
       "      <td>1.0</td>\n",
       "      <td>6.951441</td>\n",
       "    </tr>\n",
       "    <tr>\n",
       "      <th>6860</th>\n",
       "      <td>7.863489</td>\n",
       "      <td>1.0</td>\n",
       "      <td>6.863489</td>\n",
       "    </tr>\n",
       "    <tr>\n",
       "      <th>2972</th>\n",
       "      <td>7.698745</td>\n",
       "      <td>1.0</td>\n",
       "      <td>6.698745</td>\n",
       "    </tr>\n",
       "    <tr>\n",
       "      <th>1894</th>\n",
       "      <td>7.679674</td>\n",
       "      <td>1.0</td>\n",
       "      <td>6.679674</td>\n",
       "    </tr>\n",
       "    <tr>\n",
       "      <th>5297</th>\n",
       "      <td>7.608088</td>\n",
       "      <td>1.0</td>\n",
       "      <td>6.608088</td>\n",
       "    </tr>\n",
       "  </tbody>\n",
       "</table>\n",
       "</div>"
      ],
      "text/plain": [
       "      Predicted  True  Difference\n",
       "1114   8.389641   1.0    7.389641\n",
       "1685   8.347402   1.0    7.347402\n",
       "2560   8.299134   1.0    7.299134\n",
       "7261   8.275214   1.0    7.275214\n",
       "4559   7.998614   1.0    6.998614\n",
       "7439   7.951441   1.0    6.951441\n",
       "6860   7.863489   1.0    6.863489\n",
       "2972   7.698745   1.0    6.698745\n",
       "1894   7.679674   1.0    6.679674\n",
       "5297   7.608088   1.0    6.608088"
      ]
     },
     "execution_count": 100,
     "metadata": {},
     "output_type": "execute_result"
    }
   ],
   "source": [
    "# the worst predictions\n",
    "predicted_vs_true.sort_values(by = \"Difference\", ascending = False).head(10)"
   ]
  },
  {
   "cell_type": "code",
   "execution_count": 102,
   "metadata": {
    "collapsed": false
   },
   "outputs": [
    {
     "name": "stdout",
     "output_type": "stream",
     "text": [
      "a nice mix of romcom and slice of life with pretty animation – / plot : based on a key visual novel the plot is pretty standard stuff . main lead with comedy sidekick is surrounded by pretty girls who all seem to fall in love with him . but clannad manages to avoid most of the pitfalls of the harem genre and proves its self to be really entertaining ! it doesn’t make the mistake of trying to cover every girls arc from the visual novel , instead nagisa is quite obviously the main girl from the start – tomoya only really has eyes for her and the other girls quickly realise that and so there are no irritating love triangles . instead clannad plays up the comedy and slice of life side of the story – and its really well done . i enjoyed most of the episodes ( apart from the pointless fuuko retarded-moe moments ! ) and found the characters likeable . in particular i found tomoya to be a decent lead – he’s got a bit of depth and his own backstory , plus i found him to be well scripted and acted . of course his comedy sidekick sunohara often stole the show with his antics – but he too was n't a complete paperbag character and also was given a bit of depth . kyou was my favourite girl , but she did n't get much screen time unfortunately – i was n't fussed on nagisa and hated fuuko with a passion , but the others were tolerable . since clannad has a sequel ( clannad : after story - which i hate ) it doesn’t end solidly at all , its completely open ended so you sort of have to watch as if you want the whole story of tomoya x nagisa . there is also a special for tomoyo’s arc and another for kyou’s arc . animation : well its kyoani so the animation is excellent and the characters are typical moe-blobs . it’s very pretty to watch , lots of cherry blossoms as this is key’s spring visual novel ( air being summer and kanon being winter ) . there can be no complaints about the animation quality – kyoani are in their comfort zone with this type of series . music & voice acting : the music is wonderful – the op is really catchy and the ed is just insanely cute ( dango , dango , dango , dango , dango daikazoku~ ) . the background music is also pretty nicely put together . the voice acting is also wonderful – a very good cast worked on clannad . overall clannad is a very entertaining show – its not going to win awards for being the most original or groundbreaking show ever as its kyoani/key playing to their strengths . but it has a nicely written script and likeable characters – recommended to anyone looking for a nice easy to watch romcom\n"
     ]
    }
   ],
   "source": [
    "# looking at examples\n",
    "print(' '.join(X_test_raw[6722]))"
   ]
  },
  {
   "cell_type": "code",
   "execution_count": 103,
   "metadata": {
    "collapsed": false
   },
   "outputs": [
    {
     "name": "stdout",
     "output_type": "stream",
     "text": [
      "this show , called flame of recca , is a ridiculously retarded version of yu yu hakusho . i will give credit where credit is due : they did a great job of combining hiei and kurama into one character , tokiya mikagami . but other than him , this pitiful mistake of a show is unworthy to be deemed an anime .\n"
     ]
    }
   ],
   "source": [
    "# worst predicted\n",
    "print(' '.join(X_test_raw[1114]))"
   ]
  },
  {
   "cell_type": "code",
   "execution_count": 108,
   "metadata": {
    "collapsed": false
   },
   "outputs": [
    {
     "name": "stdout",
     "output_type": "stream",
     "text": [
      "this anime gave me over nose bleeders i wecamend you watch dis anime because nosebleeds is a part of nature , the charecters were great but i have a hard time taking yamada seriously when she flashes her pantalooneys it had a good story between yamada and that one faggot dude who likes manga porn `` ovi '' i really like that one girl with the glasses i wish that they would hit it up at the love hotel personaly the boobs were not as glossy as i thought they would be but i mean they did have a low budget however ? i really love sword art online i like the charecters and the music anyway this anime is great i would wecamend that you get a that you watch it in p hd the trees look like leafyishere am i rgiht x-ddeeeee i really hope that this review will help you wan na watch this anime and a love why ? -- -- -- -- -- -- -- -- -- -- -- -- -- -- -- -- -- -- -- -- -- -- -- -- -- -- -- -- -- -- -- -- -- -- -- -- -- -- -- -- -- -- -- -- -- -- -- -- -- -thememerhimself drad\n"
     ]
    }
   ],
   "source": [
    "print(' '.join(X_test_raw[1685]))"
   ]
  },
  {
   "cell_type": "code",
   "execution_count": 109,
   "metadata": {
    "collapsed": false
   },
   "outputs": [
    {
     "name": "stdout",
     "output_type": "stream",
     "text": [
      "this anime is beyond anything that can be conceive by the normal mind . some people love this anime with passion while others hate it with pride . just know that this anime is beyond sickening and corrupted . it is pure evil .\n"
     ]
    }
   ],
   "source": [
    "print(' '.join(X_test_raw[2560]))"
   ]
  },
  {
   "cell_type": "code",
   "execution_count": 110,
   "metadata": {
    "collapsed": false
   },
   "outputs": [
    {
     "name": "stdout",
     "output_type": "stream",
     "text": [
      "story : i really like the premise of this even though it 's not really my style- very science fiction , and i 'm not super into that . it 's gory as well . so basically , this kid gets infested with this parasite that 's supposed to manifest in his brain but instead ends up in his hand . the parasite can only control his hand but other people infected usually get completely taken over and the human body becomes a host for the parasite- rendering the human basically gone , but the body continuing on with the parasite as it 's host . now these parasites have one goal- eat humans . see how this could get interesting ? i also really enjoyed the character development as well- the main character goes through some pretty dark stuff , and it actually reflects in the way his character behaves , and even looks . it 's pretty interesting . the story itself takes a lot of twists and turns , but the arcs all connect pretty nicely . i did n't really find a dull moment in this anime ! art : it 's okay . not my favorite ever , but it 's simple and gets the job done . sound : same as above . i do n't have very strong feelings for or against it . character : pretty good . they put a lot of effort into the lead and the parasite he 's infected with , but not much elsewhere . not to say it 's bad necessarily- they all just change based on him . it 's cause and effect i guess . overall : i really enjoyed this . definitely not a masterpiece but worth watching if you want something interesting and pretty unique . it 's gory that 's for sure , but it all kind of makes sense with the story . definitely an anime i enjoyed watching , over the period of about a week or two .\n"
     ]
    }
   ],
   "source": [
    "# best predicted\n",
    "print(' '.join(X_test_raw[5259]))"
   ]
  },
  {
   "cell_type": "markdown",
   "metadata": {},
   "source": [
    "## Feature importances"
   ]
  },
  {
   "cell_type": "code",
   "execution_count": 111,
   "metadata": {
    "collapsed": false
   },
   "outputs": [],
   "source": [
    "# Which words our xgboost model considers important? \n",
    "inv_vocabulary = {number: word for word, number in tfidf.vocabulary_.items()}\n",
    "feature_importances = pd.DataFrame({'importances': best.feature_importances_, 'features': pd.Series(inv_vocabulary)})"
   ]
  },
  {
   "cell_type": "code",
   "execution_count": 112,
   "metadata": {
    "collapsed": false
   },
   "outputs": [
    {
     "data": {
      "text/html": [
       "<div>\n",
       "<table border=\"1\" class=\"dataframe\">\n",
       "  <thead>\n",
       "    <tr style=\"text-align: right;\">\n",
       "      <th></th>\n",
       "      <th>features</th>\n",
       "      <th>importances</th>\n",
       "    </tr>\n",
       "  </thead>\n",
       "  <tbody>\n",
       "    <tr>\n",
       "      <th>6075</th>\n",
       "      <td>well</td>\n",
       "      <td>0.006754</td>\n",
       "    </tr>\n",
       "    <tr>\n",
       "      <th>2512</th>\n",
       "      <td>great</td>\n",
       "      <td>0.006598</td>\n",
       "    </tr>\n",
       "    <tr>\n",
       "      <th>6347</th>\n",
       "      <td>you</td>\n",
       "      <td>0.006443</td>\n",
       "    </tr>\n",
       "    <tr>\n",
       "      <th>3820</th>\n",
       "      <td>no</td>\n",
       "      <td>0.005667</td>\n",
       "    </tr>\n",
       "    <tr>\n",
       "      <th>3199</th>\n",
       "      <td>just</td>\n",
       "      <td>0.004968</td>\n",
       "    </tr>\n",
       "    <tr>\n",
       "      <th>947</th>\n",
       "      <td>any</td>\n",
       "      <td>0.004891</td>\n",
       "    </tr>\n",
       "    <tr>\n",
       "      <th>1954</th>\n",
       "      <td>enjoyed</td>\n",
       "      <td>0.004813</td>\n",
       "    </tr>\n",
       "    <tr>\n",
       "      <th>1716</th>\n",
       "      <td>definitely</td>\n",
       "      <td>0.004813</td>\n",
       "    </tr>\n",
       "    <tr>\n",
       "      <th>5916</th>\n",
       "      <td>very</td>\n",
       "      <td>0.004658</td>\n",
       "    </tr>\n",
       "    <tr>\n",
       "      <th>1151</th>\n",
       "      <td>bad</td>\n",
       "      <td>0.004658</td>\n",
       "    </tr>\n",
       "    <tr>\n",
       "      <th>5973</th>\n",
       "      <td>was</td>\n",
       "      <td>0.004347</td>\n",
       "    </tr>\n",
       "    <tr>\n",
       "      <th>892</th>\n",
       "      <td>anime</td>\n",
       "      <td>0.004192</td>\n",
       "    </tr>\n",
       "    <tr>\n",
       "      <th>741</th>\n",
       "      <td>amazing</td>\n",
       "      <td>0.003959</td>\n",
       "    </tr>\n",
       "    <tr>\n",
       "      <th>5550</th>\n",
       "      <td>this</td>\n",
       "      <td>0.003881</td>\n",
       "    </tr>\n",
       "    <tr>\n",
       "      <th>3083</th>\n",
       "      <td>it</td>\n",
       "      <td>0.003881</td>\n",
       "    </tr>\n",
       "    <tr>\n",
       "      <th>4047</th>\n",
       "      <td>only</td>\n",
       "      <td>0.003881</td>\n",
       "    </tr>\n",
       "    <tr>\n",
       "      <th>2839</th>\n",
       "      <td>if</td>\n",
       "      <td>0.003881</td>\n",
       "    </tr>\n",
       "    <tr>\n",
       "      <th>6230</th>\n",
       "      <td>with</td>\n",
       "      <td>0.003726</td>\n",
       "    </tr>\n",
       "    <tr>\n",
       "      <th>5332</th>\n",
       "      <td>the only</td>\n",
       "      <td>0.003649</td>\n",
       "    </tr>\n",
       "    <tr>\n",
       "      <th>761</th>\n",
       "      <td>and</td>\n",
       "      <td>0.003649</td>\n",
       "    </tr>\n",
       "    <tr>\n",
       "      <th>5465</th>\n",
       "      <td>then</td>\n",
       "      <td>0.003493</td>\n",
       "    </tr>\n",
       "    <tr>\n",
       "      <th>5865</th>\n",
       "      <td>unique</td>\n",
       "      <td>0.003493</td>\n",
       "    </tr>\n",
       "    <tr>\n",
       "      <th>1307</th>\n",
       "      <td>boring</td>\n",
       "      <td>0.003493</td>\n",
       "    </tr>\n",
       "    <tr>\n",
       "      <th>6212</th>\n",
       "      <td>will</td>\n",
       "      <td>0.003416</td>\n",
       "    </tr>\n",
       "    <tr>\n",
       "      <th>1344</th>\n",
       "      <td>but</td>\n",
       "      <td>0.003416</td>\n",
       "    </tr>\n",
       "    <tr>\n",
       "      <th>2981</th>\n",
       "      <td>is</td>\n",
       "      <td>0.003338</td>\n",
       "    </tr>\n",
       "    <tr>\n",
       "      <th>5395</th>\n",
       "      <td>the story</td>\n",
       "      <td>0.003338</td>\n",
       "    </tr>\n",
       "    <tr>\n",
       "      <th>4416</th>\n",
       "      <td>really</td>\n",
       "      <td>0.003260</td>\n",
       "    </tr>\n",
       "    <tr>\n",
       "      <th>460</th>\n",
       "      <td>?</td>\n",
       "      <td>0.003260</td>\n",
       "    </tr>\n",
       "    <tr>\n",
       "      <th>6299</th>\n",
       "      <td>worst</td>\n",
       "      <td>0.003260</td>\n",
       "    </tr>\n",
       "    <tr>\n",
       "      <th>0</th>\n",
       "      <td>!</td>\n",
       "      <td>0.003260</td>\n",
       "    </tr>\n",
       "    <tr>\n",
       "      <th>3634</th>\n",
       "      <td>more</td>\n",
       "      <td>0.003183</td>\n",
       "    </tr>\n",
       "    <tr>\n",
       "      <th>3419</th>\n",
       "      <td>love</td>\n",
       "      <td>0.003183</td>\n",
       "    </tr>\n",
       "    <tr>\n",
       "      <th>3707</th>\n",
       "      <td>my</td>\n",
       "      <td>0.003027</td>\n",
       "    </tr>\n",
       "    <tr>\n",
       "      <th>4267</th>\n",
       "      <td>plot</td>\n",
       "      <td>0.003027</td>\n",
       "    </tr>\n",
       "    <tr>\n",
       "      <th>5232</th>\n",
       "      <td>the best</td>\n",
       "      <td>0.002950</td>\n",
       "    </tr>\n",
       "    <tr>\n",
       "      <th>277</th>\n",
       "      <td>.</td>\n",
       "      <td>0.002872</td>\n",
       "    </tr>\n",
       "    <tr>\n",
       "      <th>1806</th>\n",
       "      <td>do</td>\n",
       "      <td>0.002872</td>\n",
       "    </tr>\n",
       "    <tr>\n",
       "      <th>1877</th>\n",
       "      <td>each</td>\n",
       "      <td>0.002872</td>\n",
       "    </tr>\n",
       "    <tr>\n",
       "      <th>4159</th>\n",
       "      <td>own</td>\n",
       "      <td>0.002795</td>\n",
       "    </tr>\n",
       "  </tbody>\n",
       "</table>\n",
       "</div>"
      ],
      "text/plain": [
       "        features  importances\n",
       "6075        well     0.006754\n",
       "2512       great     0.006598\n",
       "6347         you     0.006443\n",
       "3820          no     0.005667\n",
       "3199        just     0.004968\n",
       "947          any     0.004891\n",
       "1954     enjoyed     0.004813\n",
       "1716  definitely     0.004813\n",
       "5916        very     0.004658\n",
       "1151         bad     0.004658\n",
       "5973         was     0.004347\n",
       "892        anime     0.004192\n",
       "741      amazing     0.003959\n",
       "5550        this     0.003881\n",
       "3083          it     0.003881\n",
       "4047        only     0.003881\n",
       "2839          if     0.003881\n",
       "6230        with     0.003726\n",
       "5332    the only     0.003649\n",
       "761          and     0.003649\n",
       "5465        then     0.003493\n",
       "5865      unique     0.003493\n",
       "1307      boring     0.003493\n",
       "6212        will     0.003416\n",
       "1344         but     0.003416\n",
       "2981          is     0.003338\n",
       "5395   the story     0.003338\n",
       "4416      really     0.003260\n",
       "460            ?     0.003260\n",
       "6299       worst     0.003260\n",
       "0              !     0.003260\n",
       "3634        more     0.003183\n",
       "3419        love     0.003183\n",
       "3707          my     0.003027\n",
       "4267        plot     0.003027\n",
       "5232    the best     0.002950\n",
       "277            .     0.002872\n",
       "1806          do     0.002872\n",
       "1877        each     0.002872\n",
       "4159         own     0.002795"
      ]
     },
     "execution_count": 112,
     "metadata": {},
     "output_type": "execute_result"
    }
   ],
   "source": [
    "feature_importances.sort_values(by = 'importances', ascending = False).head(40)"
   ]
  },
  {
   "cell_type": "code",
   "execution_count": 113,
   "metadata": {
    "collapsed": false
   },
   "outputs": [
    {
     "data": {
      "image/png": "[encoded data removed]",
      "text/plain": [
       "<matplotlib.figure.Figure at 0x238124796d8>"
      ]
     },
     "metadata": {},
     "output_type": "display_data"
    }
   ],
   "source": [
    "sns.barplot(x= 'features', y = 'importances', data = feature_importances.sort_values(by = 'importances', ascending = False)[:10])\n",
    "plt.show()"
   ]
  },
  {
   "cell_type": "markdown",
   "metadata": {},
   "source": [
    "## Learning curve"
   ]
  },
  {
   "cell_type": "code",
   "execution_count": 114,
   "metadata": {
    "collapsed": true
   },
   "outputs": [],
   "source": [
    "import numpy as np\n",
    "import matplotlib.pyplot as plt\n",
    "from sklearn.model_selection import learning_curve\n",
    "from sklearn.model_selection import ShuffleSplit\n",
    "\n",
    "\n",
    "def plot_learning_curve(estimator, title, X, y, ylim=None, cv=None,\n",
    "                        n_jobs=1, train_sizes=np.linspace(.1, 1.0, 5)):\n",
    "    \"\"\"\n",
    "    Generate a simple plot of the test and training learning curve.\n",
    "\n",
    "    Parameters\n",
    "    ----------\n",
    "    estimator : object type that implements the \"fit\" and \"predict\" methods\n",
    "        An object of that type which is cloned for each validation.\n",
    "\n",
    "    title : string\n",
    "        Title for the chart.\n",
    "\n",
    "    X : array-like, shape (n_samples, n_features)\n",
    "        Training vector, where n_samples is the number of samples and\n",
    "        n_features is the number of features.\n",
    "\n",
    "    y : array-like, shape (n_samples) or (n_samples, n_features), optional\n",
    "        Target relative to X for classification or regression;\n",
    "        None for unsupervised learning.\n",
    "\n",
    "    ylim : tuple, shape (ymin, ymax), optional\n",
    "        Defines minimum and maximum yvalues plotted.\n",
    "\n",
    "    cv : int, cross-validation generator or an iterable, optional\n",
    "        Determines the cross-validation splitting strategy.\n",
    "        Possible inputs for cv are:\n",
    "          - None, to use the default 3-fold cross-validation,\n",
    "          - integer, to specify the number of folds.\n",
    "          - An object to be used as a cross-validation generator.\n",
    "          - An iterable yielding train/test splits.\n",
    "\n",
    "        For integer/None inputs, if ``y`` is binary or multiclass,\n",
    "        :class:`StratifiedKFold` used. If the estimator is not a classifier\n",
    "        or if ``y`` is neither binary nor multiclass, :class:`KFold` is used.\n",
    "\n",
    "        Refer :ref:`User Guide <cross_validation>` for the various\n",
    "        cross-validators that can be used here.\n",
    "\n",
    "    n_jobs : integer, optional\n",
    "        Number of jobs to run in parallel (default 1).\n",
    "    \"\"\"\n",
    "    plt.figure()\n",
    "    plt.title(title)\n",
    "    if ylim is not None:\n",
    "        plt.ylim(*ylim)\n",
    "    plt.xlabel(\"Training examples\")\n",
    "    plt.ylabel(\"Score\")\n",
    "    train_sizes, train_scores, test_scores = learning_curve(\n",
    "        estimator, X, y, cv=cv, n_jobs=n_jobs, train_sizes=train_sizes)\n",
    "    train_scores_mean = np.mean(train_scores, axis=1)\n",
    "    train_scores_std = np.std(train_scores, axis=1)\n",
    "    test_scores_mean = np.mean(test_scores, axis=1)\n",
    "    test_scores_std = np.std(test_scores, axis=1)\n",
    "    plt.grid()\n",
    "\n",
    "    plt.fill_between(train_sizes, train_scores_mean - train_scores_std,\n",
    "                     train_scores_mean + train_scores_std, alpha=0.1,\n",
    "                     color=\"r\")\n",
    "    plt.fill_between(train_sizes, test_scores_mean - test_scores_std,\n",
    "                     test_scores_mean + test_scores_std, alpha=0.1, color=\"g\")\n",
    "    plt.plot(train_sizes, train_scores_mean, 'o-', color=\"r\",\n",
    "             label=\"Training score\")\n",
    "    plt.plot(train_sizes, test_scores_mean, 'o-', color=\"g\",\n",
    "             label=\"Cross-validation score\")\n",
    "\n",
    "    plt.legend(loc=\"best\")\n",
    "    return plt\n"
   ]
  },
  {
   "cell_type": "code",
   "execution_count": 115,
   "metadata": {
    "collapsed": false
   },
   "outputs": [
    {
     "data": {
      "text/plain": [
       "<module 'matplotlib.pyplot' from 'C:\\\\Users\\\\SmilingAtheist\\\\Anaconda3\\\\lib\\\\site-packages\\\\matplotlib\\\\pyplot.py'>"
      ]
     },
     "execution_count": 115,
     "metadata": {},
     "output_type": "execute_result"
    },
    {
     "data": {
      "image/png": "[encoded data removed]",
      "text/plain": [
       "<matplotlib.figure.Figure at 0x2380a5fe710>"
      ]
     },
     "metadata": {},
     "output_type": "display_data"
    }
   ],
   "source": [
    "# just plotting a regular learning curve\n",
    "plot_learning_curve(best, \"Learning curve\", X_train, y_train, cv=2,\n",
    "                        n_jobs=1, train_sizes=np.linspace(.1, 1.0, 10))"
   ]
  },
  {
   "cell_type": "markdown",
   "metadata": {},
   "source": [
    "# Evaluation on the Anime News Network Reviews dataset and on the unseen part of the My Anime List Reviews dataset"
   ]
  },
  {
   "cell_type": "code",
   "execution_count": 116,
   "metadata": {
    "collapsed": false
   },
   "outputs": [
    {
     "data": {
      "text/plain": [
       "XGBRegressor(base_score=0.5, colsample_bylevel=1, colsample_bytree=0.8,\n",
       "       gamma=0, learning_rate=0.1, max_delta_step=0, max_depth=8,\n",
       "       min_child_weight=10, missing=None, n_estimators=170, nthread=-1,\n",
       "       objective='reg:linear', reg_alpha=50, reg_lambda=250,\n",
       "       scale_pos_weight=1, seed=0, silent=True, subsample=0.8)"
      ]
     },
     "execution_count": 116,
     "metadata": {},
     "output_type": "execute_result"
    }
   ],
   "source": [
    "# retraining the model on the whole for_now dataset\n",
    "X_for_now_transformed = tfidf.fit_transform(X_for_now) \n",
    "best.fit(X_for_now_transformed, y_for_now)"
   ]
  },
  {
   "cell_type": "code",
   "execution_count": 117,
   "metadata": {
    "collapsed": false
   },
   "outputs": [],
   "source": [
    "# Now we're using the final test set left for later\n",
    "X_for_later_transformed = tfidf.transform(X_for_later)"
   ]
  },
  {
   "cell_type": "code",
   "execution_count": 118,
   "metadata": {
    "collapsed": false
   },
   "outputs": [],
   "source": [
    "y_for_now_pred = best.predict(X_for_now_transformed)\n",
    "y_for_later_pred = best.predict(X_for_later_transformed)"
   ]
  },
  {
   "cell_type": "code",
   "execution_count": 119,
   "metadata": {
    "collapsed": false
   },
   "outputs": [
    {
     "name": "stdout",
     "output_type": "stream",
     "text": [
      "MSE train: 1.791, unseen data: 2.246\n",
      "R^2 train: 0.638, unseen data: 0.553\n",
      "above_average_accuracy train: 0.828, unseen data: 0.805\n"
     ]
    }
   ],
   "source": [
    "from sklearn.metrics import r2_score\n",
    "from sklearn.metrics import mean_squared_error\n",
    "\n",
    "print('MSE train: %.3f, unseen data: %.3f' % (\n",
    "        mean_squared_error(y_for_now, y_for_now_pred),\n",
    "        mean_squared_error(y_for_later, y_for_later_pred)) )\n",
    "print('R^2 train: %.3f, unseen data: %.3f' % (\n",
    "        r2_score(y_for_now, y_for_now_pred),\n",
    "        r2_score(y_for_later, y_for_later_pred)))\n",
    "print('above_average_accuracy train: %.3f, unseen data: %.3f' % (\n",
    "        above_average_accuracy(y_for_now, y_for_now_pred),\n",
    "        above_average_accuracy(y_for_later, y_for_later_pred)))"
   ]
  },
  {
   "cell_type": "code",
   "execution_count": 120,
   "metadata": {
    "collapsed": false
   },
   "outputs": [],
   "source": [
    "# And now we're cheking how well does our model generalize to reviews from a different website (Anime News Network)\n",
    "y_ANN_pred = best.predict(tfidf.transform(df2[\"Review\"]))\n",
    "y_ANN = df2[\"Overall\"]"
   ]
  },
  {
   "cell_type": "code",
   "execution_count": 121,
   "metadata": {
    "collapsed": false
   },
   "outputs": [
    {
     "name": "stdout",
     "output_type": "stream",
     "text": [
      "above_average_accuracy on Anime News Network Reviews: 0.723\n"
     ]
    }
   ],
   "source": [
    "print('above_average_accuracy on Anime News Network Reviews: %.3f' % above_average_accuracy(y_ANN, y_ANN_pred) )"
   ]
  },
  {
   "cell_type": "code",
   "execution_count": null,
   "metadata": {
    "collapsed": true
   },
   "outputs": [],
   "source": []
  }
 ],
 "metadata": {
  "anaconda-cloud": {},
  "kernelspec": {
   "display_name": "Python [default]",
   "language": "python",
   "name": "python3"
  },
  "language_info": {
   "codemirror_mode": {
    "name": "ipython",
    "version": 3
   },
   "file_extension": ".py",
   "mimetype": "text/x-python",
   "name": "python",
   "nbconvert_exporter": "python",
   "pygments_lexer": "ipython3",
   "version": "3.5.2"
  }
 },
 "nbformat": 4,
 "nbformat_minor": 1
}
