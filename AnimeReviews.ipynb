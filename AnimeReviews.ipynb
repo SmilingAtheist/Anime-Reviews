{
 "cells": [
  {
   "cell_type": "code",
   "execution_count": 1,
   "metadata": {
    "collapsed": true
   },
   "outputs": [],
   "source": [
    "%matplotlib inline\n",
    "import numpy as np\n",
    "import seaborn as sns\n",
    "import matplotlib.pyplot as plt\n",
    "import pandas as pd\n",
    "import re"
   ]
  },
  {
   "cell_type": "markdown",
   "metadata": {},
   "source": [
    "# Cleaning the data"
   ]
  },
  {
   "cell_type": "markdown",
   "metadata": {},
   "source": [
    "## Cleaning the My Anime List Reviews dataset"
   ]
  },
  {
   "cell_type": "code",
   "execution_count": 2,
   "metadata": {
    "collapsed": false
   },
   "outputs": [
    {
     "name": "stderr",
     "output_type": "stream",
     "text": [
      "C:\\Users\\SmilingAtheist\\Anaconda3\\lib\\site-packages\\IPython\\core\\interactiveshell.py:2717: DtypeWarning: Columns (6) have mixed types. Specify dtype option on import or set low_memory=False.\n",
      "  interactivity=interactivity, compiler=compiler, result=result)\n"
     ]
    }
   ],
   "source": [
    "df = pd.read_csv(\"myAnimeListReviews/reviews.csv\")"
   ]
  },
  {
   "cell_type": "code",
   "execution_count": 3,
   "metadata": {
    "collapsed": false
   },
   "outputs": [
    {
     "name": "stdout",
     "output_type": "stream",
     "text": [
      "(99944, 8)\n"
     ]
    },
    {
     "data": {
      "text/html": [
       "<div>\n",
       "<table border=\"1\" class=\"dataframe\">\n",
       "  <thead>\n",
       "    <tr style=\"text-align: right;\">\n",
       "      <th></th>\n",
       "      <th>Rating</th>\n",
       "      <th>Enjoyment</th>\n",
       "      <th>Sound</th>\n",
       "      <th>review_text</th>\n",
       "      <th>Animation</th>\n",
       "      <th>Character</th>\n",
       "      <th>Story</th>\n",
       "      <th>Name</th>\n",
       "    </tr>\n",
       "  </thead>\n",
       "  <tbody>\n",
       "    <tr>\n",
       "      <th>0</th>\n",
       "      <td>NaN</td>\n",
       "      <td>NaN</td>\n",
       "      <td>NaN</td>\n",
       "      <td>NaN</td>\n",
       "      <td>NaN</td>\n",
       "      <td>NaN</td>\n",
       "      <td>NaN</td>\n",
       "      <td>\\r\\n              Top\\r\\n                     ...</td>\n",
       "    </tr>\n",
       "    <tr>\n",
       "      <th>1</th>\n",
       "      <td>NaN</td>\n",
       "      <td>NaN</td>\n",
       "      <td>NaN</td>\n",
       "      <td>NaN</td>\n",
       "      <td>NaN</td>\n",
       "      <td>NaN</td>\n",
       "      <td>NaN</td>\n",
       "      <td>Next</td>\n",
       "    </tr>\n",
       "    <tr>\n",
       "      <th>2</th>\n",
       "      <td>8</td>\n",
       "      <td>6.0</td>\n",
       "      <td>9</td>\n",
       "      <td>\\r\\n\\t\\t\\t\\t\\t\\r\\n             \\r\\n\\t\\t\\t\\t\\t ...</td>\n",
       "      <td>9</td>\n",
       "      <td>7.0</td>\n",
       "      <td>6</td>\n",
       "      <td>Nyanbo!</td>\n",
       "    </tr>\n",
       "    <tr>\n",
       "      <th>3</th>\n",
       "      <td>7</td>\n",
       "      <td>5.0</td>\n",
       "      <td>6</td>\n",
       "      <td>\\r\\n\\t\\t\\t\\t\\t\\r\\n             \\r\\n\\t\\t\\t\\t\\t ...</td>\n",
       "      <td>6</td>\n",
       "      <td>7.0</td>\n",
       "      <td>6</td>\n",
       "      <td>Boku no Pico</td>\n",
       "    </tr>\n",
       "    <tr>\n",
       "      <th>4</th>\n",
       "      <td>10</td>\n",
       "      <td>10.0</td>\n",
       "      <td>10</td>\n",
       "      <td>\\r\\n\\t\\t\\t\\t\\t\\r\\n             \\r\\n\\t\\t\\t\\t\\t ...</td>\n",
       "      <td>10</td>\n",
       "      <td>10.0</td>\n",
       "      <td>9</td>\n",
       "      <td>Kimi no Na wa.</td>\n",
       "    </tr>\n",
       "  </tbody>\n",
       "</table>\n",
       "</div>"
      ],
      "text/plain": [
       "  Rating  Enjoyment Sound                                        review_text  \\\n",
       "0    NaN        NaN   NaN                                                NaN   \n",
       "1    NaN        NaN   NaN                                                NaN   \n",
       "2      8        6.0     9  \\r\\n\\t\\t\\t\\t\\t\\r\\n             \\r\\n\\t\\t\\t\\t\\t ...   \n",
       "3      7        5.0     6  \\r\\n\\t\\t\\t\\t\\t\\r\\n             \\r\\n\\t\\t\\t\\t\\t ...   \n",
       "4     10       10.0    10  \\r\\n\\t\\t\\t\\t\\t\\r\\n             \\r\\n\\t\\t\\t\\t\\t ...   \n",
       "\n",
       "  Animation  Character Story  \\\n",
       "0       NaN        NaN   NaN   \n",
       "1       NaN        NaN   NaN   \n",
       "2         9        7.0     6   \n",
       "3         6        7.0     6   \n",
       "4        10       10.0     9   \n",
       "\n",
       "                                                Name  \n",
       "0  \\r\\n              Top\\r\\n                     ...  \n",
       "1                                              Next   \n",
       "2                                            Nyanbo!  \n",
       "3                                       Boku no Pico  \n",
       "4                                     Kimi no Na wa.  "
      ]
     },
     "execution_count": 3,
     "metadata": {},
     "output_type": "execute_result"
    }
   ],
   "source": [
    "print(df.shape)\n",
    "df.head()"
   ]
  },
  {
   "cell_type": "code",
   "execution_count": 4,
   "metadata": {
    "collapsed": true
   },
   "outputs": [],
   "source": [
    "df = df[[\"Name\", \"review_text\", \"Rating\", \"Story\", \"Animation\", \"Sound\", \"Character\", \"Enjoyment\"]]"
   ]
  },
  {
   "cell_type": "code",
   "execution_count": 5,
   "metadata": {
    "collapsed": false
   },
   "outputs": [
    {
     "data": {
      "text/html": [
       "<div>\n",
       "<table border=\"1\" class=\"dataframe\">\n",
       "  <thead>\n",
       "    <tr style=\"text-align: right;\">\n",
       "      <th></th>\n",
       "      <th>Name</th>\n",
       "      <th>review_text</th>\n",
       "      <th>Rating</th>\n",
       "      <th>Story</th>\n",
       "      <th>Animation</th>\n",
       "      <th>Sound</th>\n",
       "      <th>Character</th>\n",
       "      <th>Enjoyment</th>\n",
       "    </tr>\n",
       "  </thead>\n",
       "  <tbody>\n",
       "    <tr>\n",
       "      <th>0</th>\n",
       "      <td>\\r\\n              Top\\r\\n                     ...</td>\n",
       "      <td>NaN</td>\n",
       "      <td>NaN</td>\n",
       "      <td>NaN</td>\n",
       "      <td>NaN</td>\n",
       "      <td>NaN</td>\n",
       "      <td>NaN</td>\n",
       "      <td>NaN</td>\n",
       "    </tr>\n",
       "    <tr>\n",
       "      <th>1</th>\n",
       "      <td>Next</td>\n",
       "      <td>NaN</td>\n",
       "      <td>NaN</td>\n",
       "      <td>NaN</td>\n",
       "      <td>NaN</td>\n",
       "      <td>NaN</td>\n",
       "      <td>NaN</td>\n",
       "      <td>NaN</td>\n",
       "    </tr>\n",
       "    <tr>\n",
       "      <th>2</th>\n",
       "      <td>Nyanbo!</td>\n",
       "      <td>\\r\\n\\t\\t\\t\\t\\t\\r\\n             \\r\\n\\t\\t\\t\\t\\t ...</td>\n",
       "      <td>8</td>\n",
       "      <td>6</td>\n",
       "      <td>9</td>\n",
       "      <td>9</td>\n",
       "      <td>7.0</td>\n",
       "      <td>6.0</td>\n",
       "    </tr>\n",
       "    <tr>\n",
       "      <th>3</th>\n",
       "      <td>Boku no Pico</td>\n",
       "      <td>\\r\\n\\t\\t\\t\\t\\t\\r\\n             \\r\\n\\t\\t\\t\\t\\t ...</td>\n",
       "      <td>7</td>\n",
       "      <td>6</td>\n",
       "      <td>6</td>\n",
       "      <td>6</td>\n",
       "      <td>7.0</td>\n",
       "      <td>5.0</td>\n",
       "    </tr>\n",
       "    <tr>\n",
       "      <th>4</th>\n",
       "      <td>Kimi no Na wa.</td>\n",
       "      <td>\\r\\n\\t\\t\\t\\t\\t\\r\\n             \\r\\n\\t\\t\\t\\t\\t ...</td>\n",
       "      <td>10</td>\n",
       "      <td>9</td>\n",
       "      <td>10</td>\n",
       "      <td>10</td>\n",
       "      <td>10.0</td>\n",
       "      <td>10.0</td>\n",
       "    </tr>\n",
       "  </tbody>\n",
       "</table>\n",
       "</div>"
      ],
      "text/plain": [
       "                                                Name  \\\n",
       "0  \\r\\n              Top\\r\\n                     ...   \n",
       "1                                              Next    \n",
       "2                                            Nyanbo!   \n",
       "3                                       Boku no Pico   \n",
       "4                                     Kimi no Na wa.   \n",
       "\n",
       "                                         review_text Rating Story Animation  \\\n",
       "0                                                NaN    NaN   NaN       NaN   \n",
       "1                                                NaN    NaN   NaN       NaN   \n",
       "2  \\r\\n\\t\\t\\t\\t\\t\\r\\n             \\r\\n\\t\\t\\t\\t\\t ...      8     6         9   \n",
       "3  \\r\\n\\t\\t\\t\\t\\t\\r\\n             \\r\\n\\t\\t\\t\\t\\t ...      7     6         6   \n",
       "4  \\r\\n\\t\\t\\t\\t\\t\\r\\n             \\r\\n\\t\\t\\t\\t\\t ...     10     9        10   \n",
       "\n",
       "  Sound  Character  Enjoyment  \n",
       "0   NaN        NaN        NaN  \n",
       "1   NaN        NaN        NaN  \n",
       "2     9        7.0        6.0  \n",
       "3     6        7.0        5.0  \n",
       "4    10       10.0       10.0  "
      ]
     },
     "execution_count": 5,
     "metadata": {},
     "output_type": "execute_result"
    }
   ],
   "source": [
    "df.head()"
   ]
  },
  {
   "cell_type": "code",
   "execution_count": 6,
   "metadata": {
    "collapsed": false
   },
   "outputs": [
    {
     "data": {
      "text/plain": [
       "Name            3702\n",
       "review_text     7404\n",
       "Rating          7404\n",
       "Story          10540\n",
       "Animation      10584\n",
       "Sound          11076\n",
       "Character      10637\n",
       "Enjoyment      11115\n",
       "dtype: int64"
      ]
     },
     "execution_count": 6,
     "metadata": {},
     "output_type": "execute_result"
    }
   ],
   "source": [
    "df.isnull().sum()"
   ]
  },
  {
   "cell_type": "code",
   "execution_count": 7,
   "metadata": {
    "collapsed": false
   },
   "outputs": [
    {
     "data": {
      "text/plain": [
       "(88385, 8)"
      ]
     },
     "execution_count": 7,
     "metadata": {},
     "output_type": "execute_result"
    }
   ],
   "source": [
    "df.dropna().shape"
   ]
  },
  {
   "cell_type": "code",
   "execution_count": 8,
   "metadata": {
    "collapsed": true
   },
   "outputs": [],
   "source": [
    "df = df.dropna()"
   ]
  },
  {
   "cell_type": "code",
   "execution_count": 9,
   "metadata": {
    "collapsed": false
   },
   "outputs": [
    {
     "data": {
      "text/plain": [
       "Name           0\n",
       "review_text    0\n",
       "Rating         0\n",
       "Story          0\n",
       "Animation      0\n",
       "Sound          0\n",
       "Character      0\n",
       "Enjoyment      0\n",
       "dtype: int64"
      ]
     },
     "execution_count": 9,
     "metadata": {},
     "output_type": "execute_result"
    }
   ],
   "source": [
    "df.isnull().sum()"
   ]
  },
  {
   "cell_type": "code",
   "execution_count": 10,
   "metadata": {
    "collapsed": false
   },
   "outputs": [
    {
     "data": {
      "text/plain": [
       "Name            object\n",
       "review_text     object\n",
       "Rating          object\n",
       "Story           object\n",
       "Animation       object\n",
       "Sound           object\n",
       "Character      float64\n",
       "Enjoyment      float64\n",
       "dtype: object"
      ]
     },
     "execution_count": 10,
     "metadata": {},
     "output_type": "execute_result"
    }
   ],
   "source": [
    "df.dtypes"
   ]
  },
  {
   "cell_type": "code",
   "execution_count": 11,
   "metadata": {
    "collapsed": false
   },
   "outputs": [
    {
     "data": {
      "text/html": [
       "<div>\n",
       "<table border=\"1\" class=\"dataframe\">\n",
       "  <thead>\n",
       "    <tr style=\"text-align: right;\">\n",
       "      <th></th>\n",
       "      <th>Name</th>\n",
       "      <th>review_text</th>\n",
       "      <th>Rating</th>\n",
       "      <th>Story</th>\n",
       "      <th>Animation</th>\n",
       "      <th>Sound</th>\n",
       "      <th>Character</th>\n",
       "      <th>Enjoyment</th>\n",
       "    </tr>\n",
       "  </thead>\n",
       "  <tbody>\n",
       "    <tr>\n",
       "      <th>14490</th>\n",
       "      <td>Toradora!</td>\n",
       "      <td>\\r\\n\\t\\t\\t\\t\\t\\r\\n             \\r\\n\\t\\t\\t\\t\\t ...</td>\n",
       "      <td>6</td>\n",
       "      <td>5,6</td>\n",
       "      <td>6</td>\n",
       "      <td>6</td>\n",
       "      <td>7.0</td>\n",
       "      <td>8.0</td>\n",
       "    </tr>\n",
       "    <tr>\n",
       "      <th>14858</th>\n",
       "      <td>Akame ga Kill!</td>\n",
       "      <td>\\r\\n\\t\\t\\t\\t\\t\\r\\n             \\r\\n\\t\\t\\t\\t\\t ...</td>\n",
       "      <td>5</td>\n",
       "      <td>5,4</td>\n",
       "      <td>5</td>\n",
       "      <td>8</td>\n",
       "      <td>3.0</td>\n",
       "      <td>5.0</td>\n",
       "    </tr>\n",
       "    <tr>\n",
       "      <th>59124</th>\n",
       "      <td>Heart no Kuni no Alice: Wonderful Wonder World</td>\n",
       "      <td>\\r\\n\\t\\t\\t\\t\\t\\r\\n             \\r\\n\\t\\t\\t\\t\\t ...</td>\n",
       "      <td>8</td>\n",
       "      <td>1,9</td>\n",
       "      <td>10</td>\n",
       "      <td>10</td>\n",
       "      <td>10.0</td>\n",
       "      <td>9.0</td>\n",
       "    </tr>\n",
       "  </tbody>\n",
       "</table>\n",
       "</div>"
      ],
      "text/plain": [
       "                                                 Name  \\\n",
       "14490                                       Toradora!   \n",
       "14858                                  Akame ga Kill!   \n",
       "59124  Heart no Kuni no Alice: Wonderful Wonder World   \n",
       "\n",
       "                                             review_text Rating Story  \\\n",
       "14490  \\r\\n\\t\\t\\t\\t\\t\\r\\n             \\r\\n\\t\\t\\t\\t\\t ...      6   5,6   \n",
       "14858  \\r\\n\\t\\t\\t\\t\\t\\r\\n             \\r\\n\\t\\t\\t\\t\\t ...      5   5,4   \n",
       "59124  \\r\\n\\t\\t\\t\\t\\t\\r\\n             \\r\\n\\t\\t\\t\\t\\t ...      8   1,9   \n",
       "\n",
       "      Animation Sound  Character  Enjoyment  \n",
       "14490         6     6        7.0        8.0  \n",
       "14858         5     8        3.0        5.0  \n",
       "59124        10    10       10.0        9.0  "
      ]
     },
     "execution_count": 11,
     "metadata": {},
     "output_type": "execute_result"
    }
   ],
   "source": [
    "df[df[\"Story\"].astype(str).map(lambda x: ',' in x)]"
   ]
  },
  {
   "cell_type": "code",
   "execution_count": 12,
   "metadata": {
    "collapsed": false
   },
   "outputs": [],
   "source": [
    "columns = [\"Rating\", \"Story\", \"Animation\", \"Sound\"]\n",
    "\n",
    "for col in columns:\n",
    "    df = df[df[col].astype(str).map(lambda x: ',' not in x)]\n",
    "    df[col] = df[col].astype(float)"
   ]
  },
  {
   "cell_type": "code",
   "execution_count": 13,
   "metadata": {
    "collapsed": false
   },
   "outputs": [
    {
     "data": {
      "text/plain": [
       "(Name            object\n",
       " review_text     object\n",
       " Rating         float64\n",
       " Story          float64\n",
       " Animation      float64\n",
       " Sound          float64\n",
       " Character      float64\n",
       " Enjoyment      float64\n",
       " dtype: object, (88255, 8))"
      ]
     },
     "execution_count": 13,
     "metadata": {},
     "output_type": "execute_result"
    }
   ],
   "source": [
    "df.dtypes, df.shape"
   ]
  },
  {
   "cell_type": "code",
   "execution_count": 14,
   "metadata": {
    "collapsed": false
   },
   "outputs": [],
   "source": [
    "columns = [\"Name\", \"review_text\"]\n",
    "\n",
    "for col in columns:\n",
    "    df[col] = df[col].astype(str)"
   ]
  },
  {
   "cell_type": "code",
   "execution_count": 15,
   "metadata": {
    "collapsed": false
   },
   "outputs": [
    {
     "data": {
      "text/plain": [
       "(Name            object\n",
       " review_text     object\n",
       " Rating         float64\n",
       " Story          float64\n",
       " Animation      float64\n",
       " Sound          float64\n",
       " Character      float64\n",
       " Enjoyment      float64\n",
       " dtype: object, (88255, 8))"
      ]
     },
     "execution_count": 15,
     "metadata": {},
     "output_type": "execute_result"
    }
   ],
   "source": [
    "df.dtypes, df.shape"
   ]
  },
  {
   "cell_type": "code",
   "execution_count": 16,
   "metadata": {
    "collapsed": false
   },
   "outputs": [
    {
     "data": {
      "text/html": [
       "<div>\n",
       "<table border=\"1\" class=\"dataframe\">\n",
       "  <thead>\n",
       "    <tr style=\"text-align: right;\">\n",
       "      <th></th>\n",
       "      <th>Name</th>\n",
       "      <th>review_text</th>\n",
       "      <th>Rating</th>\n",
       "      <th>Story</th>\n",
       "      <th>Animation</th>\n",
       "      <th>Sound</th>\n",
       "      <th>Character</th>\n",
       "      <th>Enjoyment</th>\n",
       "    </tr>\n",
       "  </thead>\n",
       "  <tbody>\n",
       "  </tbody>\n",
       "</table>\n",
       "</div>"
      ],
      "text/plain": [
       "Empty DataFrame\n",
       "Columns: [Name, review_text, Rating, Story, Animation, Sound, Character, Enjoyment]\n",
       "Index: []"
      ]
     },
     "execution_count": 16,
     "metadata": {},
     "output_type": "execute_result"
    }
   ],
   "source": [
    "col = \"Name\"\n",
    "\n",
    "df[df[col].map(lambda x: type(x) is not str)]"
   ]
  },
  {
   "cell_type": "code",
   "execution_count": 17,
   "metadata": {
    "collapsed": false
   },
   "outputs": [
    {
     "data": {
      "text/html": [
       "<div>\n",
       "<table border=\"1\" class=\"dataframe\">\n",
       "  <thead>\n",
       "    <tr style=\"text-align: right;\">\n",
       "      <th></th>\n",
       "      <th>Name</th>\n",
       "      <th>review_text</th>\n",
       "      <th>Rating</th>\n",
       "      <th>Story</th>\n",
       "      <th>Animation</th>\n",
       "      <th>Sound</th>\n",
       "      <th>Character</th>\n",
       "      <th>Enjoyment</th>\n",
       "    </tr>\n",
       "  </thead>\n",
       "  <tbody>\n",
       "  </tbody>\n",
       "</table>\n",
       "</div>"
      ],
      "text/plain": [
       "Empty DataFrame\n",
       "Columns: [Name, review_text, Rating, Story, Animation, Sound, Character, Enjoyment]\n",
       "Index: []"
      ]
     },
     "execution_count": 17,
     "metadata": {},
     "output_type": "execute_result"
    }
   ],
   "source": [
    "col = \"review_text\"\n",
    "\n",
    "df[df[col].map(lambda x: type(x) is not str)]"
   ]
  },
  {
   "cell_type": "code",
   "execution_count": 18,
   "metadata": {
    "collapsed": true
   },
   "outputs": [],
   "source": [
    "df.rename(columns={'review_text':'Review'}, inplace=True)"
   ]
  },
  {
   "cell_type": "code",
   "execution_count": 19,
   "metadata": {
    "collapsed": false
   },
   "outputs": [
    {
     "data": {
      "text/html": [
       "<div>\n",
       "<table border=\"1\" class=\"dataframe\">\n",
       "  <thead>\n",
       "    <tr style=\"text-align: right;\">\n",
       "      <th></th>\n",
       "      <th>Name</th>\n",
       "      <th>Review</th>\n",
       "      <th>Rating</th>\n",
       "      <th>Story</th>\n",
       "      <th>Animation</th>\n",
       "      <th>Sound</th>\n",
       "      <th>Character</th>\n",
       "      <th>Enjoyment</th>\n",
       "    </tr>\n",
       "  </thead>\n",
       "  <tbody>\n",
       "    <tr>\n",
       "      <th>2</th>\n",
       "      <td>Nyanbo!</td>\n",
       "      <td>\\r\\n\\t\\t\\t\\t\\t\\r\\n             \\r\\n\\t\\t\\t\\t\\t ...</td>\n",
       "      <td>8.0</td>\n",
       "      <td>6.0</td>\n",
       "      <td>9.0</td>\n",
       "      <td>9.0</td>\n",
       "      <td>7.0</td>\n",
       "      <td>6.0</td>\n",
       "    </tr>\n",
       "    <tr>\n",
       "      <th>3</th>\n",
       "      <td>Boku no Pico</td>\n",
       "      <td>\\r\\n\\t\\t\\t\\t\\t\\r\\n             \\r\\n\\t\\t\\t\\t\\t ...</td>\n",
       "      <td>7.0</td>\n",
       "      <td>6.0</td>\n",
       "      <td>6.0</td>\n",
       "      <td>6.0</td>\n",
       "      <td>7.0</td>\n",
       "      <td>5.0</td>\n",
       "    </tr>\n",
       "    <tr>\n",
       "      <th>4</th>\n",
       "      <td>Kimi no Na wa.</td>\n",
       "      <td>\\r\\n\\t\\t\\t\\t\\t\\r\\n             \\r\\n\\t\\t\\t\\t\\t ...</td>\n",
       "      <td>10.0</td>\n",
       "      <td>9.0</td>\n",
       "      <td>10.0</td>\n",
       "      <td>10.0</td>\n",
       "      <td>10.0</td>\n",
       "      <td>10.0</td>\n",
       "    </tr>\n",
       "    <tr>\n",
       "      <th>5</th>\n",
       "      <td>Cheonnyeon-yeowoo Yeowoobi</td>\n",
       "      <td>\\r\\n\\t\\t\\t\\t\\t\\r\\n             \\r\\n\\t\\t\\t\\t\\t ...</td>\n",
       "      <td>6.0</td>\n",
       "      <td>6.0</td>\n",
       "      <td>7.0</td>\n",
       "      <td>5.0</td>\n",
       "      <td>7.0</td>\n",
       "      <td>6.0</td>\n",
       "    </tr>\n",
       "    <tr>\n",
       "      <th>6</th>\n",
       "      <td>Noragami</td>\n",
       "      <td>\\r\\n\\t\\t\\t\\t\\t\\r\\n             \\r\\n\\t\\t\\t\\t\\t ...</td>\n",
       "      <td>7.0</td>\n",
       "      <td>7.0</td>\n",
       "      <td>10.0</td>\n",
       "      <td>10.0</td>\n",
       "      <td>7.0</td>\n",
       "      <td>7.0</td>\n",
       "    </tr>\n",
       "  </tbody>\n",
       "</table>\n",
       "</div>"
      ],
      "text/plain": [
       "                         Name  \\\n",
       "2                     Nyanbo!   \n",
       "3                Boku no Pico   \n",
       "4              Kimi no Na wa.   \n",
       "5  Cheonnyeon-yeowoo Yeowoobi   \n",
       "6                    Noragami   \n",
       "\n",
       "                                              Review  Rating  Story  \\\n",
       "2  \\r\\n\\t\\t\\t\\t\\t\\r\\n             \\r\\n\\t\\t\\t\\t\\t ...     8.0    6.0   \n",
       "3  \\r\\n\\t\\t\\t\\t\\t\\r\\n             \\r\\n\\t\\t\\t\\t\\t ...     7.0    6.0   \n",
       "4  \\r\\n\\t\\t\\t\\t\\t\\r\\n             \\r\\n\\t\\t\\t\\t\\t ...    10.0    9.0   \n",
       "5  \\r\\n\\t\\t\\t\\t\\t\\r\\n             \\r\\n\\t\\t\\t\\t\\t ...     6.0    6.0   \n",
       "6  \\r\\n\\t\\t\\t\\t\\t\\r\\n             \\r\\n\\t\\t\\t\\t\\t ...     7.0    7.0   \n",
       "\n",
       "   Animation  Sound  Character  Enjoyment  \n",
       "2        9.0    9.0        7.0        6.0  \n",
       "3        6.0    6.0        7.0        5.0  \n",
       "4       10.0   10.0       10.0       10.0  \n",
       "5        7.0    5.0        7.0        6.0  \n",
       "6       10.0   10.0        7.0        7.0  "
      ]
     },
     "execution_count": 19,
     "metadata": {},
     "output_type": "execute_result"
    }
   ],
   "source": [
    "df.head()"
   ]
  },
  {
   "cell_type": "code",
   "execution_count": 20,
   "metadata": {
    "collapsed": false
   },
   "outputs": [
    {
     "data": {
      "text/plain": [
       "(Name          object\n",
       " Review        object\n",
       " Rating       float64\n",
       " Story        float64\n",
       " Animation    float64\n",
       " Sound        float64\n",
       " Character    float64\n",
       " Enjoyment    float64\n",
       " dtype: object, (88255, 8))"
      ]
     },
     "execution_count": 20,
     "metadata": {},
     "output_type": "execute_result"
    }
   ],
   "source": [
    "df.dtypes, df.shape"
   ]
  },
  {
   "cell_type": "code",
   "execution_count": 21,
   "metadata": {
    "collapsed": false
   },
   "outputs": [
    {
     "data": {
      "text/html": [
       "<div>\n",
       "<table border=\"1\" class=\"dataframe\">\n",
       "  <thead>\n",
       "    <tr style=\"text-align: right;\">\n",
       "      <th></th>\n",
       "      <th>Rating</th>\n",
       "      <th>Story</th>\n",
       "      <th>Animation</th>\n",
       "      <th>Sound</th>\n",
       "      <th>Character</th>\n",
       "      <th>Enjoyment</th>\n",
       "    </tr>\n",
       "  </thead>\n",
       "  <tbody>\n",
       "    <tr>\n",
       "      <th>count</th>\n",
       "      <td>88255.000000</td>\n",
       "      <td>88255.000000</td>\n",
       "      <td>88255.000000</td>\n",
       "      <td>88255.000000</td>\n",
       "      <td>88255.000000</td>\n",
       "      <td>88255.000000</td>\n",
       "    </tr>\n",
       "    <tr>\n",
       "      <th>mean</th>\n",
       "      <td>7.561759</td>\n",
       "      <td>7.181723</td>\n",
       "      <td>7.935528</td>\n",
       "      <td>7.845606</td>\n",
       "      <td>7.441119</td>\n",
       "      <td>7.746247</td>\n",
       "    </tr>\n",
       "    <tr>\n",
       "      <th>std</th>\n",
       "      <td>2.225516</td>\n",
       "      <td>2.400374</td>\n",
       "      <td>1.830413</td>\n",
       "      <td>1.881528</td>\n",
       "      <td>2.463746</td>\n",
       "      <td>2.425485</td>\n",
       "    </tr>\n",
       "    <tr>\n",
       "      <th>min</th>\n",
       "      <td>1.000000</td>\n",
       "      <td>1.000000</td>\n",
       "      <td>1.000000</td>\n",
       "      <td>1.000000</td>\n",
       "      <td>1.000000</td>\n",
       "      <td>1.000000</td>\n",
       "    </tr>\n",
       "    <tr>\n",
       "      <th>25%</th>\n",
       "      <td>6.000000</td>\n",
       "      <td>6.000000</td>\n",
       "      <td>7.000000</td>\n",
       "      <td>7.000000</td>\n",
       "      <td>6.000000</td>\n",
       "      <td>7.000000</td>\n",
       "    </tr>\n",
       "    <tr>\n",
       "      <th>50%</th>\n",
       "      <td>8.000000</td>\n",
       "      <td>8.000000</td>\n",
       "      <td>8.000000</td>\n",
       "      <td>8.000000</td>\n",
       "      <td>8.000000</td>\n",
       "      <td>8.000000</td>\n",
       "    </tr>\n",
       "    <tr>\n",
       "      <th>75%</th>\n",
       "      <td>9.000000</td>\n",
       "      <td>9.000000</td>\n",
       "      <td>9.000000</td>\n",
       "      <td>9.000000</td>\n",
       "      <td>9.000000</td>\n",
       "      <td>10.000000</td>\n",
       "    </tr>\n",
       "    <tr>\n",
       "      <th>max</th>\n",
       "      <td>10.000000</td>\n",
       "      <td>10.000000</td>\n",
       "      <td>10.000000</td>\n",
       "      <td>10.000000</td>\n",
       "      <td>10.000000</td>\n",
       "      <td>10.000000</td>\n",
       "    </tr>\n",
       "  </tbody>\n",
       "</table>\n",
       "</div>"
      ],
      "text/plain": [
       "             Rating         Story     Animation         Sound     Character  \\\n",
       "count  88255.000000  88255.000000  88255.000000  88255.000000  88255.000000   \n",
       "mean       7.561759      7.181723      7.935528      7.845606      7.441119   \n",
       "std        2.225516      2.400374      1.830413      1.881528      2.463746   \n",
       "min        1.000000      1.000000      1.000000      1.000000      1.000000   \n",
       "25%        6.000000      6.000000      7.000000      7.000000      6.000000   \n",
       "50%        8.000000      8.000000      8.000000      8.000000      8.000000   \n",
       "75%        9.000000      9.000000      9.000000      9.000000      9.000000   \n",
       "max       10.000000     10.000000     10.000000     10.000000     10.000000   \n",
       "\n",
       "          Enjoyment  \n",
       "count  88255.000000  \n",
       "mean       7.746247  \n",
       "std        2.425485  \n",
       "min        1.000000  \n",
       "25%        7.000000  \n",
       "50%        8.000000  \n",
       "75%       10.000000  \n",
       "max       10.000000  "
      ]
     },
     "execution_count": 21,
     "metadata": {},
     "output_type": "execute_result"
    }
   ],
   "source": [
    "df.describe()"
   ]
  },
  {
   "cell_type": "code",
   "execution_count": 22,
   "metadata": {
    "collapsed": true
   },
   "outputs": [],
   "source": [
    "df1 = df"
   ]
  },
  {
   "cell_type": "markdown",
   "metadata": {},
   "source": [
    "## Cleaning the Anime News Newtwork Reviews dataset"
   ]
  },
  {
   "cell_type": "code",
   "execution_count": 23,
   "metadata": {
    "collapsed": true
   },
   "outputs": [],
   "source": [
    "df = pd.read_csv(\"AnimeNewsNetworkReviews/reviews.csv\")"
   ]
  },
  {
   "cell_type": "code",
   "execution_count": 24,
   "metadata": {
    "collapsed": false
   },
   "outputs": [
    {
     "data": {
      "text/html": [
       "<div>\n",
       "<table border=\"1\" class=\"dataframe\">\n",
       "  <thead>\n",
       "    <tr style=\"text-align: right;\">\n",
       "      <th></th>\n",
       "      <th>Name2</th>\n",
       "      <th>Review</th>\n",
       "      <th>Synopsis</th>\n",
       "      <th>Good_points</th>\n",
       "      <th>Ratings</th>\n",
       "      <th>Name</th>\n",
       "      <th>Bad_points</th>\n",
       "    </tr>\n",
       "  </thead>\n",
       "  <tbody>\n",
       "    <tr>\n",
       "      <th>0</th>\n",
       "      <td>GN 7</td>\n",
       "      <td>\\r\\n,\\r\\nA Silent Voice reached its climax at ...</td>\n",
       "      <td>At last, Shoya has woken up. Racing to the bri...</td>\n",
       "      <td>Maintains A Silent Voice's usual acuity of ar...</td>\n",
       "      <td>{'Overall': 'B+', 'Art': 'A-', 'Story': 'B-'}</td>\n",
       "      <td>A Silent Voice</td>\n",
       "      <td>Feels a bit overlong in its resolutions, and ...</td>\n",
       "    </tr>\n",
       "    <tr>\n",
       "      <th>1</th>\n",
       "      <td>DVD 1</td>\n",
       "      <td>\\r\\n,\\r\\nTo fully and correctly appreciate 009...</td>\n",
       "      <td>In a world where the Cold War continues well p...</td>\n",
       "      <td>Musical score, fan service.</td>\n",
       "      <td>{'Animation': 'B-', 'Overall (dub)': 'B', 'Mus...</td>\n",
       "      <td>009-1</td>\n",
       "      <td>Some character designs are appallingly ugly, ...</td>\n",
       "    </tr>\n",
       "    <tr>\n",
       "      <th>2</th>\n",
       "      <td>Sub.Blu-Ray</td>\n",
       "      <td>\\r\\n,\\r\\nWhat happens when you take twenty-sev...</td>\n",
       "      <td>Haruto can't bring himself to accept that his ...</td>\n",
       "      <td>Some great voice work and nice animation, tri...</td>\n",
       "      <td>{'Animation': 'B', 'Overall (sub)': 'C', 'Musi...</td>\n",
       "      <td>A Town Where You Live</td>\n",
       "      <td>Story comes off melodramatic without much emo...</td>\n",
       "    </tr>\n",
       "    <tr>\n",
       "      <th>3</th>\n",
       "      <td>GN 6</td>\n",
       "      <td>\\r\\n,\\r\\nIt's always an interesting experience...</td>\n",
       "      <td>Seeing Shoko about to leap off her balcony, Sh...</td>\n",
       "      <td>Doubles down on the manga's terrific characte...</td>\n",
       "      <td>{'Overall': 'A', 'Art': 'A-', 'Story': 'A'}</td>\n",
       "      <td>A Silent Voice</td>\n",
       "      <td>A couple dramatic points felt a little loosel...</td>\n",
       "    </tr>\n",
       "    <tr>\n",
       "      <th>4</th>\n",
       "      <td>GN 4</td>\n",
       "      <td>\\r\\n,\\r\\nIt feels like A Silent Voice's densit...</td>\n",
       "      <td>Things continue to change little by little for...</td>\n",
       "      <td>Continues to demonstrate wondrously poignant ...</td>\n",
       "      <td>{'Overall': 'A-', 'Art': 'B', 'Story': 'A'}</td>\n",
       "      <td>A Silent Voice</td>\n",
       "      <td>Some dramatic developments here could have us...</td>\n",
       "    </tr>\n",
       "  </tbody>\n",
       "</table>\n",
       "</div>"
      ],
      "text/plain": [
       "         Name2                                             Review  \\\n",
       "0         GN 7  \\r\\n,\\r\\nA Silent Voice reached its climax at ...   \n",
       "1        DVD 1  \\r\\n,\\r\\nTo fully and correctly appreciate 009...   \n",
       "2  Sub.Blu-Ray  \\r\\n,\\r\\nWhat happens when you take twenty-sev...   \n",
       "3         GN 6  \\r\\n,\\r\\nIt's always an interesting experience...   \n",
       "4         GN 4  \\r\\n,\\r\\nIt feels like A Silent Voice's densit...   \n",
       "\n",
       "                                            Synopsis  \\\n",
       "0  At last, Shoya has woken up. Racing to the bri...   \n",
       "1  In a world where the Cold War continues well p...   \n",
       "2  Haruto can't bring himself to accept that his ...   \n",
       "3  Seeing Shoko about to leap off her balcony, Sh...   \n",
       "4  Things continue to change little by little for...   \n",
       "\n",
       "                                         Good_points  \\\n",
       "0   Maintains A Silent Voice's usual acuity of ar...   \n",
       "1                        Musical score, fan service.   \n",
       "2   Some great voice work and nice animation, tri...   \n",
       "3   Doubles down on the manga's terrific characte...   \n",
       "4   Continues to demonstrate wondrously poignant ...   \n",
       "\n",
       "                                             Ratings                   Name  \\\n",
       "0      {'Overall': 'B+', 'Art': 'A-', 'Story': 'B-'}         A Silent Voice   \n",
       "1  {'Animation': 'B-', 'Overall (dub)': 'B', 'Mus...                  009-1   \n",
       "2  {'Animation': 'B', 'Overall (sub)': 'C', 'Musi...  A Town Where You Live   \n",
       "3        {'Overall': 'A', 'Art': 'A-', 'Story': 'A'}         A Silent Voice   \n",
       "4        {'Overall': 'A-', 'Art': 'B', 'Story': 'A'}         A Silent Voice   \n",
       "\n",
       "                                          Bad_points  \n",
       "0   Feels a bit overlong in its resolutions, and ...  \n",
       "1   Some character designs are appallingly ugly, ...  \n",
       "2   Story comes off melodramatic without much emo...  \n",
       "3   A couple dramatic points felt a little loosel...  \n",
       "4   Some dramatic developments here could have us...  "
      ]
     },
     "execution_count": 24,
     "metadata": {},
     "output_type": "execute_result"
    }
   ],
   "source": [
    "df.head()"
   ]
  },
  {
   "cell_type": "code",
   "execution_count": 25,
   "metadata": {
    "collapsed": false
   },
   "outputs": [],
   "source": [
    "df = df[[\"Name\", \"Name2\", \"Ratings\", \"Synopsis\", \"Review\" ,\"Good_points\", \"Bad_points\"]]"
   ]
  },
  {
   "cell_type": "code",
   "execution_count": 26,
   "metadata": {
    "collapsed": false
   },
   "outputs": [
    {
     "data": {
      "text/html": [
       "<div>\n",
       "<table border=\"1\" class=\"dataframe\">\n",
       "  <thead>\n",
       "    <tr style=\"text-align: right;\">\n",
       "      <th></th>\n",
       "      <th>Name</th>\n",
       "      <th>Name2</th>\n",
       "      <th>Ratings</th>\n",
       "      <th>Synopsis</th>\n",
       "      <th>Review</th>\n",
       "      <th>Good_points</th>\n",
       "      <th>Bad_points</th>\n",
       "    </tr>\n",
       "  </thead>\n",
       "  <tbody>\n",
       "    <tr>\n",
       "      <th>0</th>\n",
       "      <td>A Silent Voice</td>\n",
       "      <td>GN 7</td>\n",
       "      <td>{'Overall': 'B+', 'Art': 'A-', 'Story': 'B-'}</td>\n",
       "      <td>At last, Shoya has woken up. Racing to the bri...</td>\n",
       "      <td>\\r\\n,\\r\\nA Silent Voice reached its climax at ...</td>\n",
       "      <td>Maintains A Silent Voice's usual acuity of ar...</td>\n",
       "      <td>Feels a bit overlong in its resolutions, and ...</td>\n",
       "    </tr>\n",
       "    <tr>\n",
       "      <th>1</th>\n",
       "      <td>009-1</td>\n",
       "      <td>DVD 1</td>\n",
       "      <td>{'Animation': 'B-', 'Overall (dub)': 'B', 'Mus...</td>\n",
       "      <td>In a world where the Cold War continues well p...</td>\n",
       "      <td>\\r\\n,\\r\\nTo fully and correctly appreciate 009...</td>\n",
       "      <td>Musical score, fan service.</td>\n",
       "      <td>Some character designs are appallingly ugly, ...</td>\n",
       "    </tr>\n",
       "    <tr>\n",
       "      <th>2</th>\n",
       "      <td>A Town Where You Live</td>\n",
       "      <td>Sub.Blu-Ray</td>\n",
       "      <td>{'Animation': 'B', 'Overall (sub)': 'C', 'Musi...</td>\n",
       "      <td>Haruto can't bring himself to accept that his ...</td>\n",
       "      <td>\\r\\n,\\r\\nWhat happens when you take twenty-sev...</td>\n",
       "      <td>Some great voice work and nice animation, tri...</td>\n",
       "      <td>Story comes off melodramatic without much emo...</td>\n",
       "    </tr>\n",
       "    <tr>\n",
       "      <th>3</th>\n",
       "      <td>A Silent Voice</td>\n",
       "      <td>GN 6</td>\n",
       "      <td>{'Overall': 'A', 'Art': 'A-', 'Story': 'A'}</td>\n",
       "      <td>Seeing Shoko about to leap off her balcony, Sh...</td>\n",
       "      <td>\\r\\n,\\r\\nIt's always an interesting experience...</td>\n",
       "      <td>Doubles down on the manga's terrific characte...</td>\n",
       "      <td>A couple dramatic points felt a little loosel...</td>\n",
       "    </tr>\n",
       "    <tr>\n",
       "      <th>4</th>\n",
       "      <td>A Silent Voice</td>\n",
       "      <td>GN 4</td>\n",
       "      <td>{'Overall': 'A-', 'Art': 'B', 'Story': 'A'}</td>\n",
       "      <td>Things continue to change little by little for...</td>\n",
       "      <td>\\r\\n,\\r\\nIt feels like A Silent Voice's densit...</td>\n",
       "      <td>Continues to demonstrate wondrously poignant ...</td>\n",
       "      <td>Some dramatic developments here could have us...</td>\n",
       "    </tr>\n",
       "  </tbody>\n",
       "</table>\n",
       "</div>"
      ],
      "text/plain": [
       "                    Name        Name2  \\\n",
       "0         A Silent Voice         GN 7   \n",
       "1                  009-1        DVD 1   \n",
       "2  A Town Where You Live  Sub.Blu-Ray   \n",
       "3         A Silent Voice         GN 6   \n",
       "4         A Silent Voice         GN 4   \n",
       "\n",
       "                                             Ratings  \\\n",
       "0      {'Overall': 'B+', 'Art': 'A-', 'Story': 'B-'}   \n",
       "1  {'Animation': 'B-', 'Overall (dub)': 'B', 'Mus...   \n",
       "2  {'Animation': 'B', 'Overall (sub)': 'C', 'Musi...   \n",
       "3        {'Overall': 'A', 'Art': 'A-', 'Story': 'A'}   \n",
       "4        {'Overall': 'A-', 'Art': 'B', 'Story': 'A'}   \n",
       "\n",
       "                                            Synopsis  \\\n",
       "0  At last, Shoya has woken up. Racing to the bri...   \n",
       "1  In a world where the Cold War continues well p...   \n",
       "2  Haruto can't bring himself to accept that his ...   \n",
       "3  Seeing Shoko about to leap off her balcony, Sh...   \n",
       "4  Things continue to change little by little for...   \n",
       "\n",
       "                                              Review  \\\n",
       "0  \\r\\n,\\r\\nA Silent Voice reached its climax at ...   \n",
       "1  \\r\\n,\\r\\nTo fully and correctly appreciate 009...   \n",
       "2  \\r\\n,\\r\\nWhat happens when you take twenty-sev...   \n",
       "3  \\r\\n,\\r\\nIt's always an interesting experience...   \n",
       "4  \\r\\n,\\r\\nIt feels like A Silent Voice's densit...   \n",
       "\n",
       "                                         Good_points  \\\n",
       "0   Maintains A Silent Voice's usual acuity of ar...   \n",
       "1                        Musical score, fan service.   \n",
       "2   Some great voice work and nice animation, tri...   \n",
       "3   Doubles down on the manga's terrific characte...   \n",
       "4   Continues to demonstrate wondrously poignant ...   \n",
       "\n",
       "                                          Bad_points  \n",
       "0   Feels a bit overlong in its resolutions, and ...  \n",
       "1   Some character designs are appallingly ugly, ...  \n",
       "2   Story comes off melodramatic without much emo...  \n",
       "3   A couple dramatic points felt a little loosel...  \n",
       "4   Some dramatic developments here could have us...  "
      ]
     },
     "execution_count": 26,
     "metadata": {},
     "output_type": "execute_result"
    }
   ],
   "source": [
    "df.head()"
   ]
  },
  {
   "cell_type": "code",
   "execution_count": 27,
   "metadata": {
    "collapsed": false
   },
   "outputs": [
    {
     "data": {
      "text/plain": [
       "Name            12\n",
       "Name2          257\n",
       "Ratings          0\n",
       "Synopsis         0\n",
       "Review           0\n",
       "Good_points     32\n",
       "Bad_points      35\n",
       "dtype: int64"
      ]
     },
     "execution_count": 27,
     "metadata": {},
     "output_type": "execute_result"
    }
   ],
   "source": [
    "df.isnull().sum()"
   ]
  },
  {
   "cell_type": "code",
   "execution_count": 28,
   "metadata": {
    "collapsed": false
   },
   "outputs": [
    {
     "data": {
      "text/plain": [
       "(Name           object\n",
       " Name2          object\n",
       " Ratings        object\n",
       " Synopsis       object\n",
       " Review         object\n",
       " Good_points    object\n",
       " Bad_points     object\n",
       " dtype: object, (4174, 7))"
      ]
     },
     "execution_count": 28,
     "metadata": {},
     "output_type": "execute_result"
    }
   ],
   "source": [
    "df.dtypes, df.shape"
   ]
  },
  {
   "cell_type": "code",
   "execution_count": 29,
   "metadata": {
    "collapsed": false
   },
   "outputs": [
    {
     "data": {
      "text/html": [
       "<div>\n",
       "<table border=\"1\" class=\"dataframe\">\n",
       "  <thead>\n",
       "    <tr style=\"text-align: right;\">\n",
       "      <th></th>\n",
       "      <th>Name</th>\n",
       "      <th>Name2</th>\n",
       "      <th>Ratings</th>\n",
       "      <th>Synopsis</th>\n",
       "      <th>Review</th>\n",
       "      <th>Good_points</th>\n",
       "      <th>Bad_points</th>\n",
       "    </tr>\n",
       "  </thead>\n",
       "  <tbody>\n",
       "    <tr>\n",
       "      <th>11</th>\n",
       "      <td>Zero Time Dilemma</td>\n",
       "      <td>PS Vita</td>\n",
       "      <td>{'Music': 'A-', 'Graphics': 'B', 'Overall': 'A...</td>\n",
       "      <td>The latest installment in Kotaro Uchikoshi's a...</td>\n",
       "      <td>\\r\\n,\\r\\nZero Time Dilemma is a game that almo...</td>\n",
       "      <td>NaN</td>\n",
       "      <td>NaN</td>\n",
       "    </tr>\n",
       "    <tr>\n",
       "      <th>114</th>\n",
       "      <td>Etrian Odyssey IV: Legends of the Titan</td>\n",
       "      <td>Nintendo 3DS</td>\n",
       "      <td>{'Music': 'A-', 'Graphics': 'A-', 'Overall': '...</td>\n",
       "      <td>The fourth Etrian Odyssey brings back most of ...</td>\n",
       "      <td>\\r\\n,\\r\\nAnyone would be wary of a series that...</td>\n",
       "      <td>Series-standard Etrian Odyssey gameplay marri...</td>\n",
       "      <td>NaN</td>\n",
       "    </tr>\n",
       "    <tr>\n",
       "      <th>159</th>\n",
       "      <td>Anime</td>\n",
       "      <td>A Guide to Japanese Animation (1958-1988)</td>\n",
       "      <td>{}</td>\n",
       "      <td>Soft Cover,\\r\\n320 pages,\\r\\nBlack &amp; White,\\r\\...</td>\n",
       "      <td>\"Anime, A guide to Japanese Animation\" was fir...</td>\n",
       "      <td>NaN</td>\n",
       "      <td>NaN</td>\n",
       "    </tr>\n",
       "    <tr>\n",
       "      <th>260</th>\n",
       "      <td>X TV</td>\n",
       "      <td>[ONE]</td>\n",
       "      <td>{'Animation': 'B+', 'Overall (dub)': 'B', 'Mus...</td>\n",
       "      <td>In the first volume of X, the Dragons of the E...</td>\n",
       "      <td>The long awaited X television series is finall...</td>\n",
       "      <td>NaN</td>\n",
       "      <td>NaN</td>\n",
       "    </tr>\n",
       "    <tr>\n",
       "      <th>273</th>\n",
       "      <td>Wolf's Rain</td>\n",
       "      <td>DVD 1: Leader of the Pack</td>\n",
       "      <td>{'Overall (dub)': 'A-', 'Art': 'A+', 'Music': ...</td>\n",
       "      <td>In the distant future, wolves - long thought e...</td>\n",
       "      <td>Bandai certainly had a lot to crow about when ...</td>\n",
       "      <td>NaN</td>\n",
       "      <td>NaN</td>\n",
       "    </tr>\n",
       "    <tr>\n",
       "      <th>349</th>\n",
       "      <td>The Vision of Escaflowne</td>\n",
       "      <td>NaN</td>\n",
       "      <td>{'Overall': 'A'}</td>\n",
       "      <td>Hitomi is crushed when her best friend Yukari ...</td>\n",
       "      <td>Few fans that are into fansubs at all haven't ...</td>\n",
       "      <td>NaN</td>\n",
       "      <td>NaN</td>\n",
       "    </tr>\n",
       "    <tr>\n",
       "      <th>358</th>\n",
       "      <td>Vexille,\\r\\n, ,\\r\\n,\\r\\n, ,\\r\\n</td>\n",
       "      <td>NaN</td>\n",
       "      <td>{'Animation': 'B-', 'Overall': 'C-'}</td>\n",
       "      <td>\\r\\n,\\r\\nThe dark secret of future Tokyo!\\r\\n,...</td>\n",
       "      <td>\\r\\n,\\r\\nWhen you sit down and decide to re-ha...</td>\n",
       "      <td>NaN</td>\n",
       "      <td>NaN</td>\n",
       "    </tr>\n",
       "    <tr>\n",
       "      <th>395</th>\n",
       "      <td>Vampire Hunter D 2000</td>\n",
       "      <td>NaN</td>\n",
       "      <td>{}</td>\n",
       "      <td>Ten thousand years in the future Vampires rule...</td>\n",
       "      <td>The plot of Vampire Hunter D is well enough wr...</td>\n",
       "      <td>NaN</td>\n",
       "      <td>NaN</td>\n",
       "    </tr>\n",
       "    <tr>\n",
       "      <th>483</th>\n",
       "      <td>Tsubasa: RESERVoir CHRoNiCLE</td>\n",
       "      <td>DVD 1 - V01</td>\n",
       "      <td>{'Animation': 'A', 'Music': 'A', 'Overall': 'B...</td>\n",
       "      <td>\\r\\n,\\r\\nWhen Syaoran and Sakura discover a se...</td>\n",
       "      <td>\\r\\n,\\r\\nBeginning in an alternate universe kn...</td>\n",
       "      <td>NaN</td>\n",
       "      <td>NaN</td>\n",
       "    </tr>\n",
       "    <tr>\n",
       "      <th>791</th>\n",
       "      <td>Tenchi Muyo Movie 1</td>\n",
       "      <td>DVD - Tenchi in Love</td>\n",
       "      <td>{'Music': 'A', 'Overall (dub)': 'B', 'Overall'...</td>\n",
       "      <td>After finally getting used to having so many w...</td>\n",
       "      <td>Tenchi Muyo! is a comedy/action series that be...</td>\n",
       "      <td>NaN</td>\n",
       "      <td>NaN</td>\n",
       "    </tr>\n",
       "    <tr>\n",
       "      <th>1117</th>\n",
       "      <td>Shaolin Sisters</td>\n",
       "      <td>NaN</td>\n",
       "      <td>{'Overall': 'C', 'Art': 'C', 'Story': 'C'}</td>\n",
       "      <td>Julin Kenga has always believed she was an orp...</td>\n",
       "      <td>Volume one of ,Shaolin Sisters, is a confusing...</td>\n",
       "      <td>NaN</td>\n",
       "      <td>NaN</td>\n",
       "    </tr>\n",
       "    <tr>\n",
       "      <th>1268</th>\n",
       "      <td>Rurouni Kenshin: The Motion Picture</td>\n",
       "      <td>DVD: Requiem for the Meiji Restoration Patriot...</td>\n",
       "      <td>{}</td>\n",
       "      <td>A small band of samurai dash through the woods...</td>\n",
       "      <td>\\r\\n,ADV,'s usual DVD quality seems to have sl...</td>\n",
       "      <td>NaN</td>\n",
       "      <td>NaN</td>\n",
       "    </tr>\n",
       "    <tr>\n",
       "      <th>1319</th>\n",
       "      <td>ROBOTECH</td>\n",
       "      <td>Screener</td>\n",
       "      <td>{}</td>\n",
       "      <td>When a mysterious battleship crashes onto Macr...</td>\n",
       "      <td>ROBOTECH . . . everyone knows the name. Nearly...</td>\n",
       "      <td>NaN</td>\n",
       "      <td>NaN</td>\n",
       "    </tr>\n",
       "    <tr>\n",
       "      <th>1460</th>\n",
       "      <td>Princess Nine</td>\n",
       "      <td>NaN</td>\n",
       "      <td>{}</td>\n",
       "      <td>Though Ryo Hayakawa's father died when she was...</td>\n",
       "      <td>If there is one thing that plagues the sports ...</td>\n",
       "      <td>NaN</td>\n",
       "      <td>NaN</td>\n",
       "    </tr>\n",
       "    <tr>\n",
       "      <th>1505</th>\n",
       "      <td>Pilot Candidate</td>\n",
       "      <td>NaN</td>\n",
       "      <td>{}</td>\n",
       "      <td>In the year 4084, Humans have been overwhelmed...</td>\n",
       "      <td>\\r\\n,\\r\\n,\\r\\n,\\r\\n,Pilot Candidate, follows t...</td>\n",
       "      <td>NaN</td>\n",
       "      <td>NaN</td>\n",
       "    </tr>\n",
       "    <tr>\n",
       "      <th>1756</th>\n",
       "      <td>Neon Genesis Evangelion</td>\n",
       "      <td>DVD 4: Platinum Edition</td>\n",
       "      <td>{'Animation': 'B', 'Overall (dub)': 'A', 'Musi...</td>\n",
       "      <td>Kaji continues to investigate the deeper secre...</td>\n",
       "      <td>This volume, which covers episodes 15-17, incl...</td>\n",
       "      <td>Continued superb English voice work</td>\n",
       "      <td>NaN</td>\n",
       "    </tr>\n",
       "    <tr>\n",
       "      <th>1784</th>\n",
       "      <td>Nausicaä of the Valley of Wind</td>\n",
       "      <td>DVD</td>\n",
       "      <td>{'Animation': 'A-', 'Overall (dub)': 'A-', 'Mu...</td>\n",
       "      <td>In the far future, 1,000 years after a holocau...</td>\n",
       "      <td>This 1984 movie represents ,Hayao Miyazaki,'s ...</td>\n",
       "      <td>one of the all-time-great anime heroines</td>\n",
       "      <td>NaN</td>\n",
       "    </tr>\n",
       "    <tr>\n",
       "      <th>1848</th>\n",
       "      <td>Mysterious Play (Fushigi Yugi)</td>\n",
       "      <td>NaN</td>\n",
       "      <td>{'Overall': 'B'}</td>\n",
       "      <td>For those who haven't heard, Fushigi Yugi, a 5...</td>\n",
       "      <td>Perhaps no other anime has had such a far-reac...</td>\n",
       "      <td>NaN</td>\n",
       "      <td>NaN</td>\n",
       "    </tr>\n",
       "    <tr>\n",
       "      <th>1849</th>\n",
       "      <td>Martian Successor Nadesico</td>\n",
       "      <td>VHS 8 - Memories</td>\n",
       "      <td>{}</td>\n",
       "      <td>The Truth about the Jovians hits the crew of t...</td>\n",
       "      <td>Until now, much of Nadesico has been action-or...</td>\n",
       "      <td>NaN</td>\n",
       "      <td>NaN</td>\n",
       "    </tr>\n",
       "    <tr>\n",
       "      <th>1971</th>\n",
       "      <td>Mobile Suit Gundam - Collection 1,\\r\\n, ,\\r\\n,...</td>\n",
       "      <td>DVD</td>\n",
       "      <td>{}</td>\n",
       "      <td>\\r\\n,\\r\\nThe Original Series Finally Available...</td>\n",
       "      <td>\\r\\n,\\r\\nSo why should you buy a dvd release o...</td>\n",
       "      <td>NaN</td>\n",
       "      <td>NaN</td>\n",
       "    </tr>\n",
       "    <tr>\n",
       "      <th>2150</th>\n",
       "      <td>Lost Universe</td>\n",
       "      <td>VHS Vol. 6-7</td>\n",
       "      <td>{}</td>\n",
       "      <td>Volume 6 Synopsis: ,\"The villian's clutches ar...</td>\n",
       "      <td>\\r\\n,Trapped on an ice planet, with an armada ...</td>\n",
       "      <td>NaN</td>\n",
       "      <td>NaN</td>\n",
       "    </tr>\n",
       "    <tr>\n",
       "      <th>2263</th>\n",
       "      <td>Kodomo No Omocha</td>\n",
       "      <td>NaN</td>\n",
       "      <td>{}</td>\n",
       "      <td>Miho Obana's \"Kodomo No Omocha\" (translated: \"...</td>\n",
       "      <td>As time passes, we dive into the characters mi...</td>\n",
       "      <td>NaN</td>\n",
       "      <td>NaN</td>\n",
       "    </tr>\n",
       "    <tr>\n",
       "      <th>2474</th>\n",
       "      <td>Inu-Yasha</td>\n",
       "      <td>NaN</td>\n",
       "      <td>{}</td>\n",
       "      <td>Except for the fact that her family lives in a...</td>\n",
       "      <td>Thus begins the macabre, violent fantasy saga ...</td>\n",
       "      <td>NaN</td>\n",
       "      <td>NaN</td>\n",
       "    </tr>\n",
       "    <tr>\n",
       "      <th>2578</th>\n",
       "      <td>Honey and Clover - Collection 1,\\r\\n, ,\\r\\n,\\r...</td>\n",
       "      <td>DVD</td>\n",
       "      <td>{}</td>\n",
       "      <td>\\r\\n,\\r\\nLove, Life, Education!?\\r\\n,\\r\\n,\\r\\n...</td>\n",
       "      <td>\\r\\n,\\r\\nMany of us enjoy anime for its escapi...</td>\n",
       "      <td>NaN</td>\n",
       "      <td>NaN</td>\n",
       "    </tr>\n",
       "    <tr>\n",
       "      <th>2750</th>\n",
       "      <td>Gunsmith Cats</td>\n",
       "      <td>DVD - Bulletproof!</td>\n",
       "      <td>{}</td>\n",
       "      <td>Welcome to the grimy streets of run-down Chica...</td>\n",
       "      <td>\\r\\n,All three ,Gunsmith Cats, OAV,s are inclu...</td>\n",
       "      <td>NaN</td>\n",
       "      <td>NaN</td>\n",
       "    </tr>\n",
       "    <tr>\n",
       "      <th>2798</th>\n",
       "      <td>Grave of the Fireflies</td>\n",
       "      <td>(new dub)</td>\n",
       "      <td>{'Overall': 'B'}</td>\n",
       "      <td>The story begins about a year before the end o...</td>\n",
       "      <td>If you've never seen Grave of the Fireflies, y...</td>\n",
       "      <td>NaN</td>\n",
       "      <td>NaN</td>\n",
       "    </tr>\n",
       "    <tr>\n",
       "      <th>3265</th>\n",
       "      <td>Domain of Murder</td>\n",
       "      <td>NaN</td>\n",
       "      <td>{'Overall (sub)': 'B+'}</td>\n",
       "      <td>Goro Nanase is a detective for hire, and his n...</td>\n",
       "      <td>\\r\\n,Domain of Murder, is one of those titles ...</td>\n",
       "      <td>NaN</td>\n",
       "      <td>NaN</td>\n",
       "    </tr>\n",
       "    <tr>\n",
       "      <th>3320</th>\n",
       "      <td>Detroit Metal City</td>\n",
       "      <td>GN 10</td>\n",
       "      <td>{'Overall': 'C-', 'Story': 'C'}</td>\n",
       "      <td>After losing to God in the metal bands death m...</td>\n",
       "      <td>\\r\\n,\\r\\nPart of the longstanding appeal of De...</td>\n",
       "      <td>NaN</td>\n",
       "      <td>NaN</td>\n",
       "    </tr>\n",
       "    <tr>\n",
       "      <th>3355</th>\n",
       "      <td>Death Note V3</td>\n",
       "      <td>NaN</td>\n",
       "      <td>{'Animation': 'A', 'Overall (dub)': 'B', 'Over...</td>\n",
       "      <td>For genius detective L, Light's behaviour is t...</td>\n",
       "      <td>\\r\\n,\\r\\nHow close is too close? For the prodi...</td>\n",
       "      <td>NaN</td>\n",
       "      <td>NaN</td>\n",
       "    </tr>\n",
       "    <tr>\n",
       "      <th>3356</th>\n",
       "      <td>Death Note V4</td>\n",
       "      <td>NaN</td>\n",
       "      <td>{'Animation': 'A', 'Overall (dub)': 'C+', 'Ove...</td>\n",
       "      <td>Light becomes the hunter when he is forced to ...</td>\n",
       "      <td>\\r\\n,\\r\\nBeing the object of a teen celebrity'...</td>\n",
       "      <td>NaN</td>\n",
       "      <td>NaN</td>\n",
       "    </tr>\n",
       "    <tr>\n",
       "      <th>3510</th>\n",
       "      <td>CLAMP Double Feature: Tsubasa Chronicles and x...</td>\n",
       "      <td>DVD</td>\n",
       "      <td>{'Animation': 'B+', 'Overall (dub)': 'B', 'Mus...</td>\n",
       "      <td>\\r\\n,\\r\\nFrom the sweeping universe of CLAMP, ...</td>\n",
       "      <td>\\r\\n,\\r\\nAnyone even somewhat familiar with th...</td>\n",
       "      <td>NaN</td>\n",
       "      <td>NaN</td>\n",
       "    </tr>\n",
       "    <tr>\n",
       "      <th>3614</th>\n",
       "      <td>Buddha: The Great Departure</td>\n",
       "      <td>NaN</td>\n",
       "      <td>{'Animation': 'B-', 'Overall (sub)': 'D', 'Mus...</td>\n",
       "      <td>The first in a planned three-film adaptation o...</td>\n",
       "      <td>\\r\\n,\\r\\n,Osamu Tezuka,'s ,Buddha, opens with ...</td>\n",
       "      <td>NaN</td>\n",
       "      <td>NaN</td>\n",
       "    </tr>\n",
       "    <tr>\n",
       "      <th>3628</th>\n",
       "      <td>Bubblegum Crisis</td>\n",
       "      <td>Collection</td>\n",
       "      <td>{'Overall (dub)': 'B', 'Overall (sub)': 'B+'}</td>\n",
       "      <td>In an updated (oh, 2038 A.D. or so) Mega-Tokyo...</td>\n",
       "      <td>Bubblegum Crisis is, quite simply, an institut...</td>\n",
       "      <td>NaN</td>\n",
       "      <td>NaN</td>\n",
       "    </tr>\n",
       "    <tr>\n",
       "      <th>4079</th>\n",
       "      <td>Agent Aika</td>\n",
       "      <td>VHS 1 - Lace in Space</td>\n",
       "      <td>{'Overall': 'C'}</td>\n",
       "      <td>She's sexy, suave and sophisticated - but she'...</td>\n",
       "      <td>\\r\\n,AIKa,... uh... kind of defies explanation...</td>\n",
       "      <td>NaN</td>\n",
       "      <td>NaN</td>\n",
       "    </tr>\n",
       "    <tr>\n",
       "      <th>4089</th>\n",
       "      <td>Adventures of Kotetsu</td>\n",
       "      <td>VHS</td>\n",
       "      <td>{'Overall (dub)': 'A'}</td>\n",
       "      <td>Linn Suzuki, a young warrior that recently esc...</td>\n",
       "      <td>An extremely odd opening sequence that combine...</td>\n",
       "      <td>NaN</td>\n",
       "      <td>NaN</td>\n",
       "    </tr>\n",
       "  </tbody>\n",
       "</table>\n",
       "</div>"
      ],
      "text/plain": [
       "                                                   Name  \\\n",
       "11                                    Zero Time Dilemma   \n",
       "114             Etrian Odyssey IV: Legends of the Titan   \n",
       "159                                               Anime   \n",
       "260                                                X TV   \n",
       "273                                         Wolf's Rain   \n",
       "349                            The Vision of Escaflowne   \n",
       "358                     Vexille,\\r\\n, ,\\r\\n,\\r\\n, ,\\r\\n   \n",
       "395                               Vampire Hunter D 2000   \n",
       "483                        Tsubasa: RESERVoir CHRoNiCLE   \n",
       "791                                 Tenchi Muyo Movie 1   \n",
       "1117                                    Shaolin Sisters   \n",
       "1268                Rurouni Kenshin: The Motion Picture   \n",
       "1319                                           ROBOTECH   \n",
       "1460                                      Princess Nine   \n",
       "1505                                    Pilot Candidate   \n",
       "1756                            Neon Genesis Evangelion   \n",
       "1784                     Nausicaä of the Valley of Wind   \n",
       "1848                     Mysterious Play (Fushigi Yugi)   \n",
       "1849                         Martian Successor Nadesico   \n",
       "1971  Mobile Suit Gundam - Collection 1,\\r\\n, ,\\r\\n,...   \n",
       "2150                                      Lost Universe   \n",
       "2263                                   Kodomo No Omocha   \n",
       "2474                                          Inu-Yasha   \n",
       "2578  Honey and Clover - Collection 1,\\r\\n, ,\\r\\n,\\r...   \n",
       "2750                                      Gunsmith Cats   \n",
       "2798                             Grave of the Fireflies   \n",
       "3265                                   Domain of Murder   \n",
       "3320                                 Detroit Metal City   \n",
       "3355                                      Death Note V3   \n",
       "3356                                      Death Note V4   \n",
       "3510  CLAMP Double Feature: Tsubasa Chronicles and x...   \n",
       "3614                        Buddha: The Great Departure   \n",
       "3628                                   Bubblegum Crisis   \n",
       "4079                                         Agent Aika   \n",
       "4089                              Adventures of Kotetsu   \n",
       "\n",
       "                                                  Name2  \\\n",
       "11                                              PS Vita   \n",
       "114                                        Nintendo 3DS   \n",
       "159           A Guide to Japanese Animation (1958-1988)   \n",
       "260                                               [ONE]   \n",
       "273                           DVD 1: Leader of the Pack   \n",
       "349                                                 NaN   \n",
       "358                                                 NaN   \n",
       "395                                                 NaN   \n",
       "483                                         DVD 1 - V01   \n",
       "791                                DVD - Tenchi in Love   \n",
       "1117                                                NaN   \n",
       "1268  DVD: Requiem for the Meiji Restoration Patriot...   \n",
       "1319                                           Screener   \n",
       "1460                                                NaN   \n",
       "1505                                                NaN   \n",
       "1756                            DVD 4: Platinum Edition   \n",
       "1784                                                DVD   \n",
       "1848                                                NaN   \n",
       "1849                                   VHS 8 - Memories   \n",
       "1971                                                DVD   \n",
       "2150                                       VHS Vol. 6-7   \n",
       "2263                                                NaN   \n",
       "2474                                                NaN   \n",
       "2578                                                DVD   \n",
       "2750                                 DVD - Bulletproof!   \n",
       "2798                                          (new dub)   \n",
       "3265                                                NaN   \n",
       "3320                                              GN 10   \n",
       "3355                                                NaN   \n",
       "3356                                                NaN   \n",
       "3510                                                DVD   \n",
       "3614                                                NaN   \n",
       "3628                                         Collection   \n",
       "4079                              VHS 1 - Lace in Space   \n",
       "4089                                                VHS   \n",
       "\n",
       "                                                Ratings  \\\n",
       "11    {'Music': 'A-', 'Graphics': 'B', 'Overall': 'A...   \n",
       "114   {'Music': 'A-', 'Graphics': 'A-', 'Overall': '...   \n",
       "159                                                  {}   \n",
       "260   {'Animation': 'B+', 'Overall (dub)': 'B', 'Mus...   \n",
       "273   {'Overall (dub)': 'A-', 'Art': 'A+', 'Music': ...   \n",
       "349                                    {'Overall': 'A'}   \n",
       "358                {'Animation': 'B-', 'Overall': 'C-'}   \n",
       "395                                                  {}   \n",
       "483   {'Animation': 'A', 'Music': 'A', 'Overall': 'B...   \n",
       "791   {'Music': 'A', 'Overall (dub)': 'B', 'Overall'...   \n",
       "1117         {'Overall': 'C', 'Art': 'C', 'Story': 'C'}   \n",
       "1268                                                 {}   \n",
       "1319                                                 {}   \n",
       "1460                                                 {}   \n",
       "1505                                                 {}   \n",
       "1756  {'Animation': 'B', 'Overall (dub)': 'A', 'Musi...   \n",
       "1784  {'Animation': 'A-', 'Overall (dub)': 'A-', 'Mu...   \n",
       "1848                                   {'Overall': 'B'}   \n",
       "1849                                                 {}   \n",
       "1971                                                 {}   \n",
       "2150                                                 {}   \n",
       "2263                                                 {}   \n",
       "2474                                                 {}   \n",
       "2578                                                 {}   \n",
       "2750                                                 {}   \n",
       "2798                                   {'Overall': 'B'}   \n",
       "3265                            {'Overall (sub)': 'B+'}   \n",
       "3320                    {'Overall': 'C-', 'Story': 'C'}   \n",
       "3355  {'Animation': 'A', 'Overall (dub)': 'B', 'Over...   \n",
       "3356  {'Animation': 'A', 'Overall (dub)': 'C+', 'Ove...   \n",
       "3510  {'Animation': 'B+', 'Overall (dub)': 'B', 'Mus...   \n",
       "3614  {'Animation': 'B-', 'Overall (sub)': 'D', 'Mus...   \n",
       "3628      {'Overall (dub)': 'B', 'Overall (sub)': 'B+'}   \n",
       "4079                                   {'Overall': 'C'}   \n",
       "4089                             {'Overall (dub)': 'A'}   \n",
       "\n",
       "                                               Synopsis  \\\n",
       "11    The latest installment in Kotaro Uchikoshi's a...   \n",
       "114   The fourth Etrian Odyssey brings back most of ...   \n",
       "159   Soft Cover,\\r\\n320 pages,\\r\\nBlack & White,\\r\\...   \n",
       "260   In the first volume of X, the Dragons of the E...   \n",
       "273   In the distant future, wolves - long thought e...   \n",
       "349   Hitomi is crushed when her best friend Yukari ...   \n",
       "358   \\r\\n,\\r\\nThe dark secret of future Tokyo!\\r\\n,...   \n",
       "395   Ten thousand years in the future Vampires rule...   \n",
       "483   \\r\\n,\\r\\nWhen Syaoran and Sakura discover a se...   \n",
       "791   After finally getting used to having so many w...   \n",
       "1117  Julin Kenga has always believed she was an orp...   \n",
       "1268  A small band of samurai dash through the woods...   \n",
       "1319  When a mysterious battleship crashes onto Macr...   \n",
       "1460  Though Ryo Hayakawa's father died when she was...   \n",
       "1505  In the year 4084, Humans have been overwhelmed...   \n",
       "1756  Kaji continues to investigate the deeper secre...   \n",
       "1784  In the far future, 1,000 years after a holocau...   \n",
       "1848  For those who haven't heard, Fushigi Yugi, a 5...   \n",
       "1849  The Truth about the Jovians hits the crew of t...   \n",
       "1971  \\r\\n,\\r\\nThe Original Series Finally Available...   \n",
       "2150  Volume 6 Synopsis: ,\"The villian's clutches ar...   \n",
       "2263  Miho Obana's \"Kodomo No Omocha\" (translated: \"...   \n",
       "2474  Except for the fact that her family lives in a...   \n",
       "2578  \\r\\n,\\r\\nLove, Life, Education!?\\r\\n,\\r\\n,\\r\\n...   \n",
       "2750  Welcome to the grimy streets of run-down Chica...   \n",
       "2798  The story begins about a year before the end o...   \n",
       "3265  Goro Nanase is a detective for hire, and his n...   \n",
       "3320  After losing to God in the metal bands death m...   \n",
       "3355  For genius detective L, Light's behaviour is t...   \n",
       "3356  Light becomes the hunter when he is forced to ...   \n",
       "3510  \\r\\n,\\r\\nFrom the sweeping universe of CLAMP, ...   \n",
       "3614  The first in a planned three-film adaptation o...   \n",
       "3628  In an updated (oh, 2038 A.D. or so) Mega-Tokyo...   \n",
       "4079  She's sexy, suave and sophisticated - but she'...   \n",
       "4089  Linn Suzuki, a young warrior that recently esc...   \n",
       "\n",
       "                                                 Review  \\\n",
       "11    \\r\\n,\\r\\nZero Time Dilemma is a game that almo...   \n",
       "114   \\r\\n,\\r\\nAnyone would be wary of a series that...   \n",
       "159   \"Anime, A guide to Japanese Animation\" was fir...   \n",
       "260   The long awaited X television series is finall...   \n",
       "273   Bandai certainly had a lot to crow about when ...   \n",
       "349   Few fans that are into fansubs at all haven't ...   \n",
       "358   \\r\\n,\\r\\nWhen you sit down and decide to re-ha...   \n",
       "395   The plot of Vampire Hunter D is well enough wr...   \n",
       "483   \\r\\n,\\r\\nBeginning in an alternate universe kn...   \n",
       "791   Tenchi Muyo! is a comedy/action series that be...   \n",
       "1117  Volume one of ,Shaolin Sisters, is a confusing...   \n",
       "1268  \\r\\n,ADV,'s usual DVD quality seems to have sl...   \n",
       "1319  ROBOTECH . . . everyone knows the name. Nearly...   \n",
       "1460  If there is one thing that plagues the sports ...   \n",
       "1505  \\r\\n,\\r\\n,\\r\\n,\\r\\n,Pilot Candidate, follows t...   \n",
       "1756  This volume, which covers episodes 15-17, incl...   \n",
       "1784  This 1984 movie represents ,Hayao Miyazaki,'s ...   \n",
       "1848  Perhaps no other anime has had such a far-reac...   \n",
       "1849  Until now, much of Nadesico has been action-or...   \n",
       "1971  \\r\\n,\\r\\nSo why should you buy a dvd release o...   \n",
       "2150  \\r\\n,Trapped on an ice planet, with an armada ...   \n",
       "2263  As time passes, we dive into the characters mi...   \n",
       "2474  Thus begins the macabre, violent fantasy saga ...   \n",
       "2578  \\r\\n,\\r\\nMany of us enjoy anime for its escapi...   \n",
       "2750  \\r\\n,All three ,Gunsmith Cats, OAV,s are inclu...   \n",
       "2798  If you've never seen Grave of the Fireflies, y...   \n",
       "3265  \\r\\n,Domain of Murder, is one of those titles ...   \n",
       "3320  \\r\\n,\\r\\nPart of the longstanding appeal of De...   \n",
       "3355  \\r\\n,\\r\\nHow close is too close? For the prodi...   \n",
       "3356  \\r\\n,\\r\\nBeing the object of a teen celebrity'...   \n",
       "3510  \\r\\n,\\r\\nAnyone even somewhat familiar with th...   \n",
       "3614  \\r\\n,\\r\\n,Osamu Tezuka,'s ,Buddha, opens with ...   \n",
       "3628  Bubblegum Crisis is, quite simply, an institut...   \n",
       "4079  \\r\\n,AIKa,... uh... kind of defies explanation...   \n",
       "4089  An extremely odd opening sequence that combine...   \n",
       "\n",
       "                                            Good_points Bad_points  \n",
       "11                                                  NaN        NaN  \n",
       "114    Series-standard Etrian Odyssey gameplay marri...        NaN  \n",
       "159                                                 NaN        NaN  \n",
       "260                                                 NaN        NaN  \n",
       "273                                                 NaN        NaN  \n",
       "349                                                 NaN        NaN  \n",
       "358                                                 NaN        NaN  \n",
       "395                                                 NaN        NaN  \n",
       "483                                                 NaN        NaN  \n",
       "791                                                 NaN        NaN  \n",
       "1117                                                NaN        NaN  \n",
       "1268                                                NaN        NaN  \n",
       "1319                                                NaN        NaN  \n",
       "1460                                                NaN        NaN  \n",
       "1505                                                NaN        NaN  \n",
       "1756                Continued superb English voice work        NaN  \n",
       "1784           one of the all-time-great anime heroines        NaN  \n",
       "1848                                                NaN        NaN  \n",
       "1849                                                NaN        NaN  \n",
       "1971                                                NaN        NaN  \n",
       "2150                                                NaN        NaN  \n",
       "2263                                                NaN        NaN  \n",
       "2474                                                NaN        NaN  \n",
       "2578                                                NaN        NaN  \n",
       "2750                                                NaN        NaN  \n",
       "2798                                                NaN        NaN  \n",
       "3265                                                NaN        NaN  \n",
       "3320                                                NaN        NaN  \n",
       "3355                                                NaN        NaN  \n",
       "3356                                                NaN        NaN  \n",
       "3510                                                NaN        NaN  \n",
       "3614                                                NaN        NaN  \n",
       "3628                                                NaN        NaN  \n",
       "4079                                                NaN        NaN  \n",
       "4089                                                NaN        NaN  "
      ]
     },
     "execution_count": 29,
     "metadata": {},
     "output_type": "execute_result"
    }
   ],
   "source": [
    "col = \"Bad_points\"\n",
    "\n",
    "df[df[col].map(lambda x: type(x) is not str)]"
   ]
  },
  {
   "cell_type": "code",
   "execution_count": 30,
   "metadata": {
    "collapsed": true
   },
   "outputs": [],
   "source": [
    "df2 = df #not much cleaning needed"
   ]
  },
  {
   "cell_type": "markdown",
   "metadata": {},
   "source": [
    "# Preprocessing the text data and the ratings data"
   ]
  },
  {
   "cell_type": "markdown",
   "metadata": {},
   "source": [
    "## Preprocessing text"
   ]
  },
  {
   "cell_type": "code",
   "execution_count": 31,
   "metadata": {
    "collapsed": false
   },
   "outputs": [],
   "source": [
    "from nltk import word_tokenize\n",
    "\n",
    "def preprocess_text(text):\n",
    "    if not pd.isnull(text):\n",
    "        text = re.sub(r'\\n|\\t|\\r', r' ', text, flags = re.DOTALL) #removing \\n, \\t and \\r\n",
    "        text = re.sub(r' +', r' ', text) #multiple spaces to one space\n",
    "        text = word_tokenize(text)   \n",
    "    \n",
    "    return text"
   ]
  },
  {
   "cell_type": "code",
   "execution_count": 32,
   "metadata": {
    "collapsed": false
   },
   "outputs": [
    {
     "name": "stdout",
     "output_type": "stream",
     "text": [
      "['I', 'really', 'wanted', 'to', 'like', 'this', 'movie', '.', 'I', 'really', 'really', 'did', '.', 'It', 'has', 'all', 'the', 'ingredients', 'I', 'like', '.', 'Fantasy/magic', ',', 'an', 'isolated', 'character', 'interacting', 'with', 'the', \"'Real\", 'World', \"'\", 'for', 'the', 'first', 'time', ',', 'a', 'mix', 'of', 'comedy', '(', 'slapstick', 'and', 'cerebral', ')', ',', 'drama', ',', 'aliens', ',', 'and', 'a', 'ghost', 'sink', '.', 'I', 'do', \"n't\", 'know', 'if', 'it', 'was', 'the', 'subtle', 'differences', 'between', 'Korean', 'and', 'Japanese', 'animation', 'that', 'threw', 'me', ',', 'or', 'the', 'fact', 'that', 'they', 'tried', 'to', 'stuff', 'a', 'full', ',', '12', 'episode', 'TV', 'series', '(', '~288', 'minutes', ')', 'into', 'an', '80', 'minute', 'movie', '.', 'All', 'I', 'know', 'is', 'that', 'this', 'movie', 'did', \"n't\", 'click', 'for', 'me', '.', 'Taken', 'separately', ',', 'each', 'of', 'the', 'plot', 'devices', 'are', 'great', '.', 'The', 'problem', 'I', 'had', 'was', 'they', 'tried', 'to', 'stuff', 'too', 'many', 'into', 'the', 'movie', '.', 'Had', 'they', 'just', 'kept', 'it', 'simple', 'and', 'let', 'the', 'movie', 'be', 'a', 'simple', 'adventure', '(', 'ala', 'Spirited', 'Away', ')', 'with', 'subtle', 'messages', ',', 'I', 'would', 'have', 'really', 'enjoyed', 'this', 'flick', '.', 'For', 'me', 'at', 'least', ',', 'there', \"'s\", 'something', 'off', 'about', 'this', 'film', '.', 'If', 'I', 'was', \"n't\", 'watching', 'it', 'for', 'the', '2017', 'MAL', 'Anime', 'Watching', 'Challenge', ',', 'I', 'would', 'have', 'probably', 'dropped', 'it', '.', 'I', \"'ll\", 'probably', 'revisit', 'later', 'down', 'the', 'road', 'now', 'that', 'I', 'know', 'to', 'lower', 'my', 'expectations', '.', 'For', 'the', 'time', 'being', ',', 'this', 'is', 'a', '``', 'meh', \"''\", 'flick', 'for', 'me', '.']\n"
     ]
    }
   ],
   "source": [
    "print( preprocess_text(df1.loc[5, \"Review\"]) )"
   ]
  },
  {
   "cell_type": "code",
   "execution_count": 33,
   "metadata": {
    "collapsed": false
   },
   "outputs": [
    {
     "name": "stdout",
     "output_type": "stream",
     "text": [
      "['I', 'normally', 'regard', 'Yoshiaki', 'Kawajiri', 'as', 'being', 'generally', 'overhyped', 'when', 'it', 'comes', 'to', 'anime', 'directors', '.', 'I', 'was', \"n't\", 'overly', 'enamored', 'with', 'Ninja', 'Scroll', '.', 'Demon', 'City', 'Shinjuku', 'and', 'Cyber', 'City', 'Oedo', '808', 'were', 'entertaining', ',', 'but', 'ultimately', 'mind', 'candy', '.', 'Birdy', 'the', 'Mighty', 'was', 'pretty', 'fun', ',', 'and', 'Wicked', 'City', 'was', 'too', ',', 'in', 'an', 'entirely', 'different', 'way', '.', 'We', 'shall', 'not', 'mention', 'the', '``', 'Satanica', \"''\", 'pilot', '.', 'And', 'then', 'there', \"'s\", 'A', 'Wind', 'Named', 'Amnesia', ':', 'a', 'total', 'gem', 'from', 'a', 'director', 'with', 'a', 'very', 'spotty', 'record.', ',', ',', 'There', \"'s\", 'not', 'too', 'much', 'story', 'here', ',', 'but', 'that', \"'s\", 'OK', '--', 'this', 'is', \"n't\", 'about', 'a', 'story', ',', 'this', 'is', 'about', 'people', ',', 'and', 'what', 'really', 'motivates', 'them', '.', 'While', 'the', 'ending', 'seems', 'a', 'bit', 'taylored', 'to', 'fit', 'in', 'a', 'quick', 'sex', 'scene', '(', 'which', 'seems', 'TOTALLY', 'inappropriate', 'here', ')', ',', 'where', 'the', 'film', 'leaves', 'off', 'is', 'satisfying', '.', 'It', \"'s\", 'not', 'one', 'of', 'those', 'films', 'you', 'watch', 'and', 'forget', 'about', '.', 'You', 'ponder', 'what', 'happens', 'for', 'days', 'afterward.', ',', ',', 'Now', 'the', 'DVD', 'presentation', ':', 'First', 'off', ',', 'let', 'it', 'be', 'known', 'that', 'Crush', 'Digital', 'Video', 'menus', 'really', 'really', 'blow', '--', 'they', \"'re\", 'unusably', 'slow', 'and', 'not', 'PC', 'mouse-supported', '.', 'The', 'video', 'itself', 'is', 'adequate', 'in', 'quality', ',', 'with', 'a', 'little', 'bit', 'of', 'a', 'halo', 'effect', 'left', 'over', 'from', 'the', 'analog', 'post-production', '.', 'It', \"'s\", 'a', 'fact', 'of', 'life', '.', 'The', 'transfer', 'is', 'fair', ',', 'with', 'the', 'colors', 'looking', 'a', 'bit', 'washed', 'out', 'in', 'places', 'and', 'some', 'clipping', 'of', 'the', 'top', 'left', 'corner', '.', 'The', 'MPEG-2', 'compression', 'is', 'actually', 'very', 'nice', ',', 'with', 'pixellation', 'only', 'becoming', 'apparent', 'in', 'scenes', 'of', 'almost', 'total', 'black.', ',', ',', 'The', 'subtitles', 'are', 'standard', 'for', 'anime', 'DVD', \"'s\", '...', 'meaning', 'white', 'with', 'almost', 'no', 'border', '.', 'It', 'looks', 'all', 'right', 'here', ',', 'since', 'the', 'film', 'is', 'very', 'dark', 'overall', ',', 'but', 'many', 'titles', 'are', 'mis-timed', ',', 'resulting', 'in', 'up', 'to', 'three', 'seconds', 'of', 'dialogue', 'at', 'a', 'strech', 'with', 'no', 'titles', 'at', 'all', '.', 'No', 'translations', 'are', 'omitted', ',', 'but', 'to', 'those', 'that', 'do', \"n't\", 'know', 'Japanese', ',', 'it', 'can', 'be', 'disconcerting', '.', 'The', 'translations', 'themselves', 'are', 'very', 'good', '--', 'typical', 'Neil', 'Nadelman', 'fare', '.', 'The', 'dubbed', 'version', 'is', 'one', 'of', 'the', 'older', 'Manga', 'Video', 'dub', 'jobs', ',', 'with', 'good', 'post-production', 'values', ',', 'but', 'only', 'fair', 'quality', '.', 'It', \"'s\", 'unfortunate', 'that', 'the', 'English', 'cast', 'seems', 'too', 'preoccupied', 'with', 'sounding', 'like', 'good', 'voice', 'talent', ',', 'but', 'not', 'in', 'expressing', 'the', 'innocence', 'of', 'the', 'characters.', ',', ',', 'The', 'packaging', 'is', 'nice', ',', 'but', 'I', 'still', 'do', \"n't\", 'understand', 'the', 'point', 'of', 'having', 'all', 'of', 'the', 'liner', 'notes', 'on', 'the', 'inside', 'of', 'the', 'insert', '.', 'It', \"'s\", 'impossible', 'to', 'access', ',', 'you', 'run', 'the', 'risk', 'of', 'ruining', 'the', 'cover', ',', 'and', 'the', 'chapter', 'names', 'are', 'not', 'easy', 'to', 'get', 'at', '.', '(', 'They', 'do', \"n't\", 'help', 'much', 'anyway', ',', 'as', 'the', 'chapters', 'are', 'kind', 'of', 'unevenly', 'distributed', '.', ')', 'The', 'Japanese', 'cast', 'is', 'not', 'noted', 'anywhere', 'in', 'English', '--', 'not', 'on', 'the', 'video', 'or', 'the', 'packaging', ',', 'which', 'I', 'found', 'a', 'bit', 'annoying', ',', 'especially', 'since', 'they', 'make', 'that', 'information', 'available', 'on', 'the', 'VHS', 'subtitled', 'release.', ',', ',', 'Overall', ',', 'A', 'Wind', 'Named', 'Amnesia', 'is', 'a', 'great', 'anime', 'that', 'anyone', 'that', 'considers', 'themselves', 'a', 'fan', 'should', 'pick', 'up', '.', 'Never', 'mind', 'the', 'weak', 'ending', 'or', 'the', 'so-so', 'DVD', 'execution', '...', 'this', 'is', 'a', 'classic', '.', 'Hey', ',', 'it', \"'s\", 'still', 'just', 'as', 'good', 'as', 'an', 'LD', 'release', '...']\n"
     ]
    }
   ],
   "source": [
    "print( preprocess_text(df2.loc[5, \"Review\"]) )"
   ]
  },
  {
   "cell_type": "code",
   "execution_count": 34,
   "metadata": {
    "collapsed": false
   },
   "outputs": [],
   "source": [
    "df1[\"Review\"] = df1[\"Review\"].map(preprocess_text)"
   ]
  },
  {
   "cell_type": "code",
   "execution_count": 35,
   "metadata": {
    "collapsed": false
   },
   "outputs": [
    {
     "data": {
      "text/html": [
       "<div>\n",
       "<table border=\"1\" class=\"dataframe\">\n",
       "  <thead>\n",
       "    <tr style=\"text-align: right;\">\n",
       "      <th></th>\n",
       "      <th>Name</th>\n",
       "      <th>Review</th>\n",
       "      <th>Rating</th>\n",
       "      <th>Story</th>\n",
       "      <th>Animation</th>\n",
       "      <th>Sound</th>\n",
       "      <th>Character</th>\n",
       "      <th>Enjoyment</th>\n",
       "    </tr>\n",
       "  </thead>\n",
       "  <tbody>\n",
       "    <tr>\n",
       "      <th>2</th>\n",
       "      <td>Nyanbo!</td>\n",
       "      <td>[I, usually, don´t, watch, this, kind, of, ani...</td>\n",
       "      <td>8.0</td>\n",
       "      <td>6.0</td>\n",
       "      <td>9.0</td>\n",
       "      <td>9.0</td>\n",
       "      <td>7.0</td>\n",
       "      <td>6.0</td>\n",
       "    </tr>\n",
       "    <tr>\n",
       "      <th>3</th>\n",
       "      <td>Boku no Pico</td>\n",
       "      <td>[Good, work, ., Seriously, ., Children, 's, se...</td>\n",
       "      <td>7.0</td>\n",
       "      <td>6.0</td>\n",
       "      <td>6.0</td>\n",
       "      <td>6.0</td>\n",
       "      <td>7.0</td>\n",
       "      <td>5.0</td>\n",
       "    </tr>\n",
       "    <tr>\n",
       "      <th>4</th>\n",
       "      <td>Kimi no Na wa.</td>\n",
       "      <td>[There, 's, a, lot, of, shows, and, movies, no...</td>\n",
       "      <td>10.0</td>\n",
       "      <td>9.0</td>\n",
       "      <td>10.0</td>\n",
       "      <td>10.0</td>\n",
       "      <td>10.0</td>\n",
       "      <td>10.0</td>\n",
       "    </tr>\n",
       "    <tr>\n",
       "      <th>5</th>\n",
       "      <td>Cheonnyeon-yeowoo Yeowoobi</td>\n",
       "      <td>[I, really, wanted, to, like, this, movie, ., ...</td>\n",
       "      <td>6.0</td>\n",
       "      <td>6.0</td>\n",
       "      <td>7.0</td>\n",
       "      <td>5.0</td>\n",
       "      <td>7.0</td>\n",
       "      <td>6.0</td>\n",
       "    </tr>\n",
       "    <tr>\n",
       "      <th>6</th>\n",
       "      <td>Noragami</td>\n",
       "      <td>[I, think, its, pretty, obvious, where, the, f...</td>\n",
       "      <td>7.0</td>\n",
       "      <td>7.0</td>\n",
       "      <td>10.0</td>\n",
       "      <td>10.0</td>\n",
       "      <td>7.0</td>\n",
       "      <td>7.0</td>\n",
       "    </tr>\n",
       "  </tbody>\n",
       "</table>\n",
       "</div>"
      ],
      "text/plain": [
       "                         Name  \\\n",
       "2                     Nyanbo!   \n",
       "3                Boku no Pico   \n",
       "4              Kimi no Na wa.   \n",
       "5  Cheonnyeon-yeowoo Yeowoobi   \n",
       "6                    Noragami   \n",
       "\n",
       "                                              Review  Rating  Story  \\\n",
       "2  [I, usually, don´t, watch, this, kind, of, ani...     8.0    6.0   \n",
       "3  [Good, work, ., Seriously, ., Children, 's, se...     7.0    6.0   \n",
       "4  [There, 's, a, lot, of, shows, and, movies, no...    10.0    9.0   \n",
       "5  [I, really, wanted, to, like, this, movie, ., ...     6.0    6.0   \n",
       "6  [I, think, its, pretty, obvious, where, the, f...     7.0    7.0   \n",
       "\n",
       "   Animation  Sound  Character  Enjoyment  \n",
       "2        9.0    9.0        7.0        6.0  \n",
       "3        6.0    6.0        7.0        5.0  \n",
       "4       10.0   10.0       10.0       10.0  \n",
       "5        7.0    5.0        7.0        6.0  \n",
       "6       10.0   10.0        7.0        7.0  "
      ]
     },
     "execution_count": 35,
     "metadata": {},
     "output_type": "execute_result"
    }
   ],
   "source": [
    "df1.head()"
   ]
  },
  {
   "cell_type": "code",
   "execution_count": 36,
   "metadata": {
    "collapsed": false
   },
   "outputs": [],
   "source": [
    "columns = [\"Synopsis\", \"Review\" ,\"Good_points\", \"Bad_points\"]\n",
    "\n",
    "for col in columns:\n",
    "    df2[col] = df2[col].map(preprocess_text)"
   ]
  },
  {
   "cell_type": "code",
   "execution_count": 37,
   "metadata": {
    "collapsed": false
   },
   "outputs": [
    {
     "data": {
      "text/html": [
       "<div>\n",
       "<table border=\"1\" class=\"dataframe\">\n",
       "  <thead>\n",
       "    <tr style=\"text-align: right;\">\n",
       "      <th></th>\n",
       "      <th>Name</th>\n",
       "      <th>Name2</th>\n",
       "      <th>Ratings</th>\n",
       "      <th>Synopsis</th>\n",
       "      <th>Review</th>\n",
       "      <th>Good_points</th>\n",
       "      <th>Bad_points</th>\n",
       "    </tr>\n",
       "  </thead>\n",
       "  <tbody>\n",
       "    <tr>\n",
       "      <th>0</th>\n",
       "      <td>A Silent Voice</td>\n",
       "      <td>GN 7</td>\n",
       "      <td>{'Overall': 'B+', 'Art': 'A-', 'Story': 'B-'}</td>\n",
       "      <td>[At, last, ,, Shoya, has, woken, up, ., Racing...</td>\n",
       "      <td>[,, A, Silent, Voice, reached, its, climax, at...</td>\n",
       "      <td>[Maintains, A, Silent, Voice, 's, usual, acuit...</td>\n",
       "      <td>[Feels, a, bit, overlong, in, its, resolutions...</td>\n",
       "    </tr>\n",
       "    <tr>\n",
       "      <th>1</th>\n",
       "      <td>009-1</td>\n",
       "      <td>DVD 1</td>\n",
       "      <td>{'Animation': 'B-', 'Overall (dub)': 'B', 'Mus...</td>\n",
       "      <td>[In, a, world, where, the, Cold, War, continue...</td>\n",
       "      <td>[,, To, fully, and, correctly, appreciate, 009...</td>\n",
       "      <td>[Musical, score, ,, fan, service, .]</td>\n",
       "      <td>[Some, character, designs, are, appallingly, u...</td>\n",
       "    </tr>\n",
       "    <tr>\n",
       "      <th>2</th>\n",
       "      <td>A Town Where You Live</td>\n",
       "      <td>Sub.Blu-Ray</td>\n",
       "      <td>{'Animation': 'B', 'Overall (sub)': 'C', 'Musi...</td>\n",
       "      <td>[Haruto, ca, n't, bring, himself, to, accept, ...</td>\n",
       "      <td>[,, What, happens, when, you, take, twenty-sev...</td>\n",
       "      <td>[Some, great, voice, work, and, nice, animatio...</td>\n",
       "      <td>[Story, comes, off, melodramatic, without, muc...</td>\n",
       "    </tr>\n",
       "    <tr>\n",
       "      <th>3</th>\n",
       "      <td>A Silent Voice</td>\n",
       "      <td>GN 6</td>\n",
       "      <td>{'Overall': 'A', 'Art': 'A-', 'Story': 'A'}</td>\n",
       "      <td>[Seeing, Shoko, about, to, leap, off, her, bal...</td>\n",
       "      <td>[,, It, 's, always, an, interesting, experienc...</td>\n",
       "      <td>[Doubles, down, on, the, manga, 's, terrific, ...</td>\n",
       "      <td>[A, couple, dramatic, points, felt, a, little,...</td>\n",
       "    </tr>\n",
       "    <tr>\n",
       "      <th>4</th>\n",
       "      <td>A Silent Voice</td>\n",
       "      <td>GN 4</td>\n",
       "      <td>{'Overall': 'A-', 'Art': 'B', 'Story': 'A'}</td>\n",
       "      <td>[Things, continue, to, change, little, by, lit...</td>\n",
       "      <td>[,, It, feels, like, A, Silent, Voice, 's, den...</td>\n",
       "      <td>[Continues, to, demonstrate, wondrously, poign...</td>\n",
       "      <td>[Some, dramatic, developments, here, could, ha...</td>\n",
       "    </tr>\n",
       "  </tbody>\n",
       "</table>\n",
       "</div>"
      ],
      "text/plain": [
       "                    Name        Name2  \\\n",
       "0         A Silent Voice         GN 7   \n",
       "1                  009-1        DVD 1   \n",
       "2  A Town Where You Live  Sub.Blu-Ray   \n",
       "3         A Silent Voice         GN 6   \n",
       "4         A Silent Voice         GN 4   \n",
       "\n",
       "                                             Ratings  \\\n",
       "0      {'Overall': 'B+', 'Art': 'A-', 'Story': 'B-'}   \n",
       "1  {'Animation': 'B-', 'Overall (dub)': 'B', 'Mus...   \n",
       "2  {'Animation': 'B', 'Overall (sub)': 'C', 'Musi...   \n",
       "3        {'Overall': 'A', 'Art': 'A-', 'Story': 'A'}   \n",
       "4        {'Overall': 'A-', 'Art': 'B', 'Story': 'A'}   \n",
       "\n",
       "                                            Synopsis  \\\n",
       "0  [At, last, ,, Shoya, has, woken, up, ., Racing...   \n",
       "1  [In, a, world, where, the, Cold, War, continue...   \n",
       "2  [Haruto, ca, n't, bring, himself, to, accept, ...   \n",
       "3  [Seeing, Shoko, about, to, leap, off, her, bal...   \n",
       "4  [Things, continue, to, change, little, by, lit...   \n",
       "\n",
       "                                              Review  \\\n",
       "0  [,, A, Silent, Voice, reached, its, climax, at...   \n",
       "1  [,, To, fully, and, correctly, appreciate, 009...   \n",
       "2  [,, What, happens, when, you, take, twenty-sev...   \n",
       "3  [,, It, 's, always, an, interesting, experienc...   \n",
       "4  [,, It, feels, like, A, Silent, Voice, 's, den...   \n",
       "\n",
       "                                         Good_points  \\\n",
       "0  [Maintains, A, Silent, Voice, 's, usual, acuit...   \n",
       "1               [Musical, score, ,, fan, service, .]   \n",
       "2  [Some, great, voice, work, and, nice, animatio...   \n",
       "3  [Doubles, down, on, the, manga, 's, terrific, ...   \n",
       "4  [Continues, to, demonstrate, wondrously, poign...   \n",
       "\n",
       "                                          Bad_points  \n",
       "0  [Feels, a, bit, overlong, in, its, resolutions...  \n",
       "1  [Some, character, designs, are, appallingly, u...  \n",
       "2  [Story, comes, off, melodramatic, without, muc...  \n",
       "3  [A, couple, dramatic, points, felt, a, little,...  \n",
       "4  [Some, dramatic, developments, here, could, ha...  "
      ]
     },
     "execution_count": 37,
     "metadata": {},
     "output_type": "execute_result"
    }
   ],
   "source": [
    "df2.head()"
   ]
  },
  {
   "cell_type": "markdown",
   "metadata": {},
   "source": [
    "## Preprocessing ratings"
   ]
  },
  {
   "cell_type": "code",
   "execution_count": 38,
   "metadata": {
    "collapsed": false
   },
   "outputs": [],
   "source": [
    "import ast\n",
    "\n",
    "ratings = df2[\"Ratings\"].copy()\n",
    "ratings = ratings.map(ast.literal_eval)"
   ]
  },
  {
   "cell_type": "code",
   "execution_count": 39,
   "metadata": {
    "collapsed": false
   },
   "outputs": [],
   "source": [
    "# getting all paris e.g (\"Animation, A-)\n",
    "all_pairs_ratings = [(name, rating) for rating in ratings\n",
    "                                    for name, rating in rating.items()]"
   ]
  },
  {
   "cell_type": "code",
   "execution_count": 40,
   "metadata": {
    "collapsed": false
   },
   "outputs": [],
   "source": [
    "#getting dict e.g all_ratings[\"Story\"] = [A, B-, C, A, ...]\n",
    "from collections import defaultdict\n",
    "\n",
    "all_ratings = defaultdict(list)\n",
    "\n",
    "for name, rating in all_pairs_ratings:\n",
    "    all_ratings[name].append(rating)"
   ]
  },
  {
   "cell_type": "code",
   "execution_count": 41,
   "metadata": {
    "collapsed": false
   },
   "outputs": [
    {
     "data": {
      "text/plain": [
       "{'A', 'A+', 'A-', 'B', 'B+', 'B-', 'C', 'C+', 'C-', 'D', 'D+', 'D-', 'E-'}"
      ]
     },
     "execution_count": 41,
     "metadata": {},
     "output_type": "execute_result"
    }
   ],
   "source": [
    "# getting all posible values of a rating\n",
    "rating_values = {value for value_list in all_ratings.values()\n",
    "                       for value in value_list}\n",
    "rating_values"
   ]
  },
  {
   "cell_type": "code",
   "execution_count": 42,
   "metadata": {
    "collapsed": false
   },
   "outputs": [],
   "source": [
    "# changing letters to numbers\n",
    "rating_map = {'A' : 11, 'A+' : 12, 'A-' : 10, 'B' : 8, 'B+' : 9, 'B-' : 7, 'C' : 5, 'C+' : 6, \n",
    "              'C-' : 4, 'D' : 1, 'D+' : 2, 'D-' : 0, 'E-' : -1}\n",
    "\n",
    "all_ratings_num = {name : pd.Series(rating_list).map(rating_map)\n",
    "                               for name, rating_list in all_ratings.items()}"
   ]
  },
  {
   "cell_type": "code",
   "execution_count": 43,
   "metadata": {
    "collapsed": false
   },
   "outputs": [
    {
     "data": {
      "text/plain": [
       "[('Art', 3828),\n",
       " ('Story', 3792),\n",
       " ('Music', 2635),\n",
       " ('Animation', 2512),\n",
       " ('Overall (sub)', 2385),\n",
       " ('Overall (dub)', 1754),\n",
       " ('Overall', 1584),\n",
       " ('Graphics', 122),\n",
       " ('Presentation', 119),\n",
       " ('Gameplay', 119),\n",
       " ('Tari Tari', 1),\n",
       " ('Dogs', 1),\n",
       " ('DBZ', 1),\n",
       " ('Kanon', 1),\n",
       " ('Butler II', 1),\n",
       " ('Ball Z', 1),\n",
       " ('Death Note', 1),\n",
       " ('Ace Attorney', 1),\n",
       " ('Bizarre Adventure', 1),\n",
       " ('FX', 1),\n",
       " ('Nazca', 1)]"
      ]
     },
     "execution_count": 43,
     "metadata": {},
     "output_type": "execute_result"
    }
   ],
   "source": [
    "# getting most popular subjects of rating\n",
    "from operator import itemgetter\n",
    "sorted([(key, value.count()) for key, value in all_ratings_num.items()], key= itemgetter(1), reverse = True)"
   ]
  },
  {
   "cell_type": "code",
   "execution_count": 44,
   "metadata": {
    "collapsed": false
   },
   "outputs": [],
   "source": [
    "# adding columns to the data frame\n",
    "Overall = ['Overall', 'Overall (sub)', 'Overall (dub)']\n",
    "\n",
    "def Extract_rating(dict_rating, names):\n",
    "    dict_rating = ast.literal_eval(dict_rating)\n",
    "    return np.mean([rating_map[value] \n",
    "                            for key, value in dict_rating.items() if key in names])"
   ]
  },
  {
   "cell_type": "code",
   "execution_count": 45,
   "metadata": {
    "collapsed": false
   },
   "outputs": [
    {
     "name": "stderr",
     "output_type": "stream",
     "text": [
      "C:\\Users\\SmilingAtheist\\Anaconda3\\lib\\site-packages\\numpy\\core\\_methods.py:59: RuntimeWarning: Mean of empty slice.\n",
      "  warnings.warn(\"Mean of empty slice.\", RuntimeWarning)\n"
     ]
    }
   ],
   "source": [
    "df2[\"Overall\"] = df2[\"Ratings\"].map( lambda x: Extract_rating(x, Overall))"
   ]
  },
  {
   "cell_type": "code",
   "execution_count": 46,
   "metadata": {
    "collapsed": false
   },
   "outputs": [
    {
     "name": "stderr",
     "output_type": "stream",
     "text": [
      "C:\\Users\\SmilingAtheist\\Anaconda3\\lib\\site-packages\\numpy\\core\\_methods.py:59: RuntimeWarning: Mean of empty slice.\n",
      "  warnings.warn(\"Mean of empty slice.\", RuntimeWarning)\n"
     ]
    }
   ],
   "source": [
    "df2[\"Animation\"] = df2[\"Ratings\"].map( lambda x: Extract_rating(x, \"Animation\"))"
   ]
  },
  {
   "cell_type": "code",
   "execution_count": 47,
   "metadata": {
    "collapsed": false
   },
   "outputs": [
    {
     "name": "stderr",
     "output_type": "stream",
     "text": [
      "C:\\Users\\SmilingAtheist\\Anaconda3\\lib\\site-packages\\numpy\\core\\_methods.py:59: RuntimeWarning: Mean of empty slice.\n",
      "  warnings.warn(\"Mean of empty slice.\", RuntimeWarning)\n"
     ]
    }
   ],
   "source": [
    "df2[\"Music\"] = df2[\"Ratings\"].map( lambda x: Extract_rating(x, \"Music\"))"
   ]
  },
  {
   "cell_type": "code",
   "execution_count": 48,
   "metadata": {
    "collapsed": false
   },
   "outputs": [
    {
     "name": "stderr",
     "output_type": "stream",
     "text": [
      "C:\\Users\\SmilingAtheist\\Anaconda3\\lib\\site-packages\\numpy\\core\\_methods.py:59: RuntimeWarning: Mean of empty slice.\n",
      "  warnings.warn(\"Mean of empty slice.\", RuntimeWarning)\n"
     ]
    }
   ],
   "source": [
    "df2[\"Story\"] = df2[\"Ratings\"].map( lambda x: Extract_rating(x, \"Story\"))"
   ]
  },
  {
   "cell_type": "code",
   "execution_count": 49,
   "metadata": {
    "collapsed": false
   },
   "outputs": [
    {
     "name": "stderr",
     "output_type": "stream",
     "text": [
      "C:\\Users\\SmilingAtheist\\Anaconda3\\lib\\site-packages\\numpy\\core\\_methods.py:59: RuntimeWarning: Mean of empty slice.\n",
      "  warnings.warn(\"Mean of empty slice.\", RuntimeWarning)\n"
     ]
    }
   ],
   "source": [
    "df2[\"Art\"] = df2[\"Ratings\"].map( lambda x: Extract_rating(x, \"Art\"))"
   ]
  },
  {
   "cell_type": "code",
   "execution_count": 50,
   "metadata": {
    "collapsed": false
   },
   "outputs": [
    {
     "data": {
      "text/plain": [
       "7.723904052936312"
      ]
     },
     "execution_count": 50,
     "metadata": {},
     "output_type": "execute_result"
    }
   ],
   "source": [
    "mean_overall_2 = df2[\"Overall\"].mean()\n",
    "mean_overall_2"
   ]
  },
  {
   "cell_type": "code",
   "execution_count": 51,
   "metadata": {
    "collapsed": true
   },
   "outputs": [],
   "source": [
    "df2[\"Above_average\"] = df2[\"Overall\"].map(lambda x: int(x > mean_overall_2) )"
   ]
  },
  {
   "cell_type": "code",
   "execution_count": 52,
   "metadata": {
    "collapsed": false
   },
   "outputs": [
    {
     "data": {
      "text/html": [
       "<div>\n",
       "<table border=\"1\" class=\"dataframe\">\n",
       "  <thead>\n",
       "    <tr style=\"text-align: right;\">\n",
       "      <th></th>\n",
       "      <th>Name</th>\n",
       "      <th>Name2</th>\n",
       "      <th>Ratings</th>\n",
       "      <th>Synopsis</th>\n",
       "      <th>Review</th>\n",
       "      <th>Good_points</th>\n",
       "      <th>Bad_points</th>\n",
       "      <th>Overall</th>\n",
       "      <th>Animation</th>\n",
       "      <th>Music</th>\n",
       "      <th>Story</th>\n",
       "      <th>Art</th>\n",
       "      <th>Above_average</th>\n",
       "    </tr>\n",
       "  </thead>\n",
       "  <tbody>\n",
       "    <tr>\n",
       "      <th>0</th>\n",
       "      <td>A Silent Voice</td>\n",
       "      <td>GN 7</td>\n",
       "      <td>{'Overall': 'B+', 'Art': 'A-', 'Story': 'B-'}</td>\n",
       "      <td>[At, last, ,, Shoya, has, woken, up, ., Racing...</td>\n",
       "      <td>[,, A, Silent, Voice, reached, its, climax, at...</td>\n",
       "      <td>[Maintains, A, Silent, Voice, 's, usual, acuit...</td>\n",
       "      <td>[Feels, a, bit, overlong, in, its, resolutions...</td>\n",
       "      <td>9.0</td>\n",
       "      <td>NaN</td>\n",
       "      <td>NaN</td>\n",
       "      <td>7.0</td>\n",
       "      <td>10.0</td>\n",
       "      <td>1</td>\n",
       "    </tr>\n",
       "    <tr>\n",
       "      <th>1</th>\n",
       "      <td>009-1</td>\n",
       "      <td>DVD 1</td>\n",
       "      <td>{'Animation': 'B-', 'Overall (dub)': 'B', 'Mus...</td>\n",
       "      <td>[In, a, world, where, the, Cold, War, continue...</td>\n",
       "      <td>[,, To, fully, and, correctly, appreciate, 009...</td>\n",
       "      <td>[Musical, score, ,, fan, service, .]</td>\n",
       "      <td>[Some, character, designs, are, appallingly, u...</td>\n",
       "      <td>8.0</td>\n",
       "      <td>7.0</td>\n",
       "      <td>10.0</td>\n",
       "      <td>7.0</td>\n",
       "      <td>9.0</td>\n",
       "      <td>1</td>\n",
       "    </tr>\n",
       "    <tr>\n",
       "      <th>2</th>\n",
       "      <td>A Town Where You Live</td>\n",
       "      <td>Sub.Blu-Ray</td>\n",
       "      <td>{'Animation': 'B', 'Overall (sub)': 'C', 'Musi...</td>\n",
       "      <td>[Haruto, ca, n't, bring, himself, to, accept, ...</td>\n",
       "      <td>[,, What, happens, when, you, take, twenty-sev...</td>\n",
       "      <td>[Some, great, voice, work, and, nice, animatio...</td>\n",
       "      <td>[Story, comes, off, melodramatic, without, muc...</td>\n",
       "      <td>5.0</td>\n",
       "      <td>8.0</td>\n",
       "      <td>6.0</td>\n",
       "      <td>4.0</td>\n",
       "      <td>8.0</td>\n",
       "      <td>0</td>\n",
       "    </tr>\n",
       "    <tr>\n",
       "      <th>3</th>\n",
       "      <td>A Silent Voice</td>\n",
       "      <td>GN 6</td>\n",
       "      <td>{'Overall': 'A', 'Art': 'A-', 'Story': 'A'}</td>\n",
       "      <td>[Seeing, Shoko, about, to, leap, off, her, bal...</td>\n",
       "      <td>[,, It, 's, always, an, interesting, experienc...</td>\n",
       "      <td>[Doubles, down, on, the, manga, 's, terrific, ...</td>\n",
       "      <td>[A, couple, dramatic, points, felt, a, little,...</td>\n",
       "      <td>11.0</td>\n",
       "      <td>NaN</td>\n",
       "      <td>NaN</td>\n",
       "      <td>11.0</td>\n",
       "      <td>10.0</td>\n",
       "      <td>1</td>\n",
       "    </tr>\n",
       "    <tr>\n",
       "      <th>4</th>\n",
       "      <td>A Silent Voice</td>\n",
       "      <td>GN 4</td>\n",
       "      <td>{'Overall': 'A-', 'Art': 'B', 'Story': 'A'}</td>\n",
       "      <td>[Things, continue, to, change, little, by, lit...</td>\n",
       "      <td>[,, It, feels, like, A, Silent, Voice, 's, den...</td>\n",
       "      <td>[Continues, to, demonstrate, wondrously, poign...</td>\n",
       "      <td>[Some, dramatic, developments, here, could, ha...</td>\n",
       "      <td>10.0</td>\n",
       "      <td>NaN</td>\n",
       "      <td>NaN</td>\n",
       "      <td>11.0</td>\n",
       "      <td>8.0</td>\n",
       "      <td>1</td>\n",
       "    </tr>\n",
       "  </tbody>\n",
       "</table>\n",
       "</div>"
      ],
      "text/plain": [
       "                    Name        Name2  \\\n",
       "0         A Silent Voice         GN 7   \n",
       "1                  009-1        DVD 1   \n",
       "2  A Town Where You Live  Sub.Blu-Ray   \n",
       "3         A Silent Voice         GN 6   \n",
       "4         A Silent Voice         GN 4   \n",
       "\n",
       "                                             Ratings  \\\n",
       "0      {'Overall': 'B+', 'Art': 'A-', 'Story': 'B-'}   \n",
       "1  {'Animation': 'B-', 'Overall (dub)': 'B', 'Mus...   \n",
       "2  {'Animation': 'B', 'Overall (sub)': 'C', 'Musi...   \n",
       "3        {'Overall': 'A', 'Art': 'A-', 'Story': 'A'}   \n",
       "4        {'Overall': 'A-', 'Art': 'B', 'Story': 'A'}   \n",
       "\n",
       "                                            Synopsis  \\\n",
       "0  [At, last, ,, Shoya, has, woken, up, ., Racing...   \n",
       "1  [In, a, world, where, the, Cold, War, continue...   \n",
       "2  [Haruto, ca, n't, bring, himself, to, accept, ...   \n",
       "3  [Seeing, Shoko, about, to, leap, off, her, bal...   \n",
       "4  [Things, continue, to, change, little, by, lit...   \n",
       "\n",
       "                                              Review  \\\n",
       "0  [,, A, Silent, Voice, reached, its, climax, at...   \n",
       "1  [,, To, fully, and, correctly, appreciate, 009...   \n",
       "2  [,, What, happens, when, you, take, twenty-sev...   \n",
       "3  [,, It, 's, always, an, interesting, experienc...   \n",
       "4  [,, It, feels, like, A, Silent, Voice, 's, den...   \n",
       "\n",
       "                                         Good_points  \\\n",
       "0  [Maintains, A, Silent, Voice, 's, usual, acuit...   \n",
       "1               [Musical, score, ,, fan, service, .]   \n",
       "2  [Some, great, voice, work, and, nice, animatio...   \n",
       "3  [Doubles, down, on, the, manga, 's, terrific, ...   \n",
       "4  [Continues, to, demonstrate, wondrously, poign...   \n",
       "\n",
       "                                          Bad_points  Overall  Animation  \\\n",
       "0  [Feels, a, bit, overlong, in, its, resolutions...      9.0        NaN   \n",
       "1  [Some, character, designs, are, appallingly, u...      8.0        7.0   \n",
       "2  [Story, comes, off, melodramatic, without, muc...      5.0        8.0   \n",
       "3  [A, couple, dramatic, points, felt, a, little,...     11.0        NaN   \n",
       "4  [Some, dramatic, developments, here, could, ha...     10.0        NaN   \n",
       "\n",
       "   Music  Story   Art  Above_average  \n",
       "0    NaN    7.0  10.0              1  \n",
       "1   10.0    7.0   9.0              1  \n",
       "2    6.0    4.0   8.0              0  \n",
       "3    NaN   11.0  10.0              1  \n",
       "4    NaN   11.0   8.0              1  "
      ]
     },
     "execution_count": 52,
     "metadata": {},
     "output_type": "execute_result"
    }
   ],
   "source": [
    "df2.head()"
   ]
  },
  {
   "cell_type": "code",
   "execution_count": null,
   "metadata": {
    "collapsed": true
   },
   "outputs": [],
   "source": [
    "### Switching to My Anime List"
   ]
  },
  {
   "cell_type": "code",
   "execution_count": 53,
   "metadata": {
    "collapsed": false
   },
   "outputs": [
    {
     "data": {
      "text/plain": [
       "7.561758540592601"
      ]
     },
     "execution_count": 53,
     "metadata": {},
     "output_type": "execute_result"
    }
   ],
   "source": [
    "# adding the above_average column to the df1 data frame\n",
    "mean_overall_1 = df1[\"Rating\"].mean()\n",
    "mean_overall_1"
   ]
  },
  {
   "cell_type": "code",
   "execution_count": 55,
   "metadata": {
    "collapsed": false
   },
   "outputs": [],
   "source": [
    "df1[\"Above_average\"] = df1[\"Rating\"].map(lambda x: int(x > mean_overall_1) )"
   ]
  },
  {
   "cell_type": "code",
   "execution_count": 56,
   "metadata": {
    "collapsed": false
   },
   "outputs": [
    {
     "data": {
      "text/html": [
       "<div>\n",
       "<table border=\"1\" class=\"dataframe\">\n",
       "  <thead>\n",
       "    <tr style=\"text-align: right;\">\n",
       "      <th></th>\n",
       "      <th>Name</th>\n",
       "      <th>Review</th>\n",
       "      <th>Rating</th>\n",
       "      <th>Story</th>\n",
       "      <th>Animation</th>\n",
       "      <th>Sound</th>\n",
       "      <th>Character</th>\n",
       "      <th>Enjoyment</th>\n",
       "      <th>Above_average</th>\n",
       "    </tr>\n",
       "  </thead>\n",
       "  <tbody>\n",
       "    <tr>\n",
       "      <th>2</th>\n",
       "      <td>Nyanbo!</td>\n",
       "      <td>[I, usually, don´t, watch, this, kind, of, ani...</td>\n",
       "      <td>8.0</td>\n",
       "      <td>6.0</td>\n",
       "      <td>9.0</td>\n",
       "      <td>9.0</td>\n",
       "      <td>7.0</td>\n",
       "      <td>6.0</td>\n",
       "      <td>1</td>\n",
       "    </tr>\n",
       "    <tr>\n",
       "      <th>3</th>\n",
       "      <td>Boku no Pico</td>\n",
       "      <td>[Good, work, ., Seriously, ., Children, 's, se...</td>\n",
       "      <td>7.0</td>\n",
       "      <td>6.0</td>\n",
       "      <td>6.0</td>\n",
       "      <td>6.0</td>\n",
       "      <td>7.0</td>\n",
       "      <td>5.0</td>\n",
       "      <td>0</td>\n",
       "    </tr>\n",
       "    <tr>\n",
       "      <th>4</th>\n",
       "      <td>Kimi no Na wa.</td>\n",
       "      <td>[There, 's, a, lot, of, shows, and, movies, no...</td>\n",
       "      <td>10.0</td>\n",
       "      <td>9.0</td>\n",
       "      <td>10.0</td>\n",
       "      <td>10.0</td>\n",
       "      <td>10.0</td>\n",
       "      <td>10.0</td>\n",
       "      <td>1</td>\n",
       "    </tr>\n",
       "    <tr>\n",
       "      <th>5</th>\n",
       "      <td>Cheonnyeon-yeowoo Yeowoobi</td>\n",
       "      <td>[I, really, wanted, to, like, this, movie, ., ...</td>\n",
       "      <td>6.0</td>\n",
       "      <td>6.0</td>\n",
       "      <td>7.0</td>\n",
       "      <td>5.0</td>\n",
       "      <td>7.0</td>\n",
       "      <td>6.0</td>\n",
       "      <td>0</td>\n",
       "    </tr>\n",
       "    <tr>\n",
       "      <th>6</th>\n",
       "      <td>Noragami</td>\n",
       "      <td>[I, think, its, pretty, obvious, where, the, f...</td>\n",
       "      <td>7.0</td>\n",
       "      <td>7.0</td>\n",
       "      <td>10.0</td>\n",
       "      <td>10.0</td>\n",
       "      <td>7.0</td>\n",
       "      <td>7.0</td>\n",
       "      <td>0</td>\n",
       "    </tr>\n",
       "  </tbody>\n",
       "</table>\n",
       "</div>"
      ],
      "text/plain": [
       "                         Name  \\\n",
       "2                     Nyanbo!   \n",
       "3                Boku no Pico   \n",
       "4              Kimi no Na wa.   \n",
       "5  Cheonnyeon-yeowoo Yeowoobi   \n",
       "6                    Noragami   \n",
       "\n",
       "                                              Review  Rating  Story  \\\n",
       "2  [I, usually, don´t, watch, this, kind, of, ani...     8.0    6.0   \n",
       "3  [Good, work, ., Seriously, ., Children, 's, se...     7.0    6.0   \n",
       "4  [There, 's, a, lot, of, shows, and, movies, no...    10.0    9.0   \n",
       "5  [I, really, wanted, to, like, this, movie, ., ...     6.0    6.0   \n",
       "6  [I, think, its, pretty, obvious, where, the, f...     7.0    7.0   \n",
       "\n",
       "   Animation  Sound  Character  Enjoyment  Above_average  \n",
       "2        9.0    9.0        7.0        6.0              1  \n",
       "3        6.0    6.0        7.0        5.0              0  \n",
       "4       10.0   10.0       10.0       10.0              1  \n",
       "5        7.0    5.0        7.0        6.0              0  \n",
       "6       10.0   10.0        7.0        7.0              0  "
      ]
     },
     "execution_count": 56,
     "metadata": {},
     "output_type": "execute_result"
    }
   ],
   "source": [
    "df1.head()"
   ]
  },
  {
   "cell_type": "markdown",
   "metadata": {},
   "source": [
    "# Exploring the data"
   ]
  },
  {
   "cell_type": "markdown",
   "metadata": {
    "collapsed": true
   },
   "source": [
    "## Ratings distributions"
   ]
  },
  {
   "cell_type": "code",
   "execution_count": 62,
   "metadata": {
    "collapsed": false
   },
   "outputs": [
    {
     "data": {
      "text/plain": [
       "(<matplotlib.axes._subplots.AxesSubplot at 0x213e0bbd5f8>,)"
      ]
     },
     "execution_count": 62,
     "metadata": {},
     "output_type": "execute_result"
    },
    {
     "data": {
      "image/png": "[encoded data removed]",
      "text/plain": [
       "<matplotlib.figure.Figure at 0x213e0c1c550>"
      ]
     },
     "metadata": {},
     "output_type": "display_data"
    }
   ],
   "source": [
    "sns.distplot(df1[\"Rating\"], bins = 10, kde = False)"
   ]
  },
  {
   "cell_type": "code",
   "execution_count": 61,
   "metadata": {
    "collapsed": false
   },
   "outputs": [
    {
     "data": {
      "text/plain": [
       "<matplotlib.axes._subplots.AxesSubplot at 0x213e0b703c8>"
      ]
     },
     "execution_count": 61,
     "metadata": {},
     "output_type": "execute_result"
    },
    {
     "data": {
      "image/png": "[encoded data removed]",
      "text/plain": [
       "<matplotlib.figure.Figure at 0x213e07e5d68>"
      ]
     },
     "metadata": {},
     "output_type": "display_data"
    }
   ],
   "source": [
    "sns.distplot(df1[\"Story\"], bins = 10, kde = False)"
   ]
  },
  {
   "cell_type": "code",
   "execution_count": 63,
   "metadata": {
    "collapsed": false
   },
   "outputs": [
    {
     "data": {
      "text/plain": [
       "<matplotlib.axes._subplots.AxesSubplot at 0x213e0c410f0>"
      ]
     },
     "execution_count": 63,
     "metadata": {},
     "output_type": "execute_result"
    },
    {
     "data": {
      "image/png": "[encoded data removed]",
      "text/plain": [
       "<matplotlib.figure.Figure at 0x213e0c485c0>"
      ]
     },
     "metadata": {},
     "output_type": "display_data"
    }
   ],
   "source": [
    "sns.distplot(df1[\"Animation\"], bins = 10, kde = False)"
   ]
  },
  {
   "cell_type": "code",
   "execution_count": 66,
   "metadata": {
    "collapsed": false
   },
   "outputs": [
    {
     "data": {
      "text/plain": [
       "<matplotlib.axes._subplots.AxesSubplot at 0x213e100e908>"
      ]
     },
     "execution_count": 66,
     "metadata": {},
     "output_type": "execute_result"
    },
    {
     "data": {
      "image/png": "[encoded data removed]",
      "text/plain": [
       "<matplotlib.figure.Figure at 0x213e103b940>"
      ]
     },
     "metadata": {},
     "output_type": "display_data"
    }
   ],
   "source": [
    "sns.distplot(df1[\"Sound\"], bins = 10, kde = False)"
   ]
  },
  {
   "cell_type": "code",
   "execution_count": 67,
   "metadata": {
    "collapsed": false
   },
   "outputs": [
    {
     "data": {
      "text/plain": [
       "<matplotlib.axes._subplots.AxesSubplot at 0x213e10b8160>"
      ]
     },
     "execution_count": 67,
     "metadata": {},
     "output_type": "execute_result"
    },
    {
     "data": {
      "image/png": "[encoded data removed]",
      "text/plain": [
       "<matplotlib.figure.Figure at 0x213e110b160>"
      ]
     },
     "metadata": {},
     "output_type": "display_data"
    }
   ],
   "source": [
    "sns.distplot(df1[\"Character\"], bins = 10, kde = False)"
   ]
  },
  {
   "cell_type": "code",
   "execution_count": 68,
   "metadata": {
    "collapsed": false
   },
   "outputs": [
    {
     "data": {
      "text/plain": [
       "<matplotlib.axes._subplots.AxesSubplot at 0x213e2b00240>"
      ]
     },
     "execution_count": 68,
     "metadata": {},
     "output_type": "execute_result"
    },
    {
     "data": {
      "image/png": "[encoded data removed]",
      "text/plain": [
       "<matplotlib.figure.Figure at 0x213e156a470>"
      ]
     },
     "metadata": {},
     "output_type": "display_data"
    }
   ],
   "source": [
    "sns.distplot(df1[\"Enjoyment\"], bins = 10, kde = False)"
   ]
  },
  {
   "cell_type": "markdown",
   "metadata": {},
   "source": [
    "Apparently people don't generally like to write reviews with low ratings at My Anime List."
   ]
  },
  {
   "cell_type": "code",
   "execution_count": 99,
   "metadata": {
    "collapsed": false
   },
   "outputs": [
    {
     "data": {
      "text/plain": [
       "<matplotlib.axes._subplots.AxesSubplot at 0x213e974fe48>"
      ]
     },
     "execution_count": 99,
     "metadata": {},
     "output_type": "execute_result"
    },
    {
     "data": {
      "image/png": "[encoded data removed]",
      "text/plain": [
       "<matplotlib.figure.Figure at 0x213e97386d8>"
      ]
     },
     "metadata": {},
     "output_type": "display_data"
    }
   ],
   "source": [
    "sns.distplot(df2[\"Story\"].dropna(), bins = 12, kde = False)"
   ]
  },
  {
   "cell_type": "code",
   "execution_count": 100,
   "metadata": {
    "collapsed": false
   },
   "outputs": [
    {
     "data": {
      "text/plain": [
       "<matplotlib.axes._subplots.AxesSubplot at 0x213e69fcfd0>"
      ]
     },
     "execution_count": 100,
     "metadata": {},
     "output_type": "execute_result"
    },
    {
     "data": {
      "image/png": "[encoded data removed]",
      "text/plain": [
       "<matplotlib.figure.Figure at 0x213e69ed940>"
      ]
     },
     "metadata": {},
     "output_type": "display_data"
    }
   ],
   "source": [
    "sns.distplot(df2[\"Art\"].dropna(), bins = 12, kde = False)"
   ]
  },
  {
   "cell_type": "code",
   "execution_count": 102,
   "metadata": {
    "collapsed": false
   },
   "outputs": [
    {
     "data": {
      "text/plain": [
       "<matplotlib.axes._subplots.AxesSubplot at 0x213e69d4da0>"
      ]
     },
     "execution_count": 102,
     "metadata": {},
     "output_type": "execute_result"
    },
    {
     "data": {
      "image/png": "[encoded data removed]",
      "text/plain": [
       "<matplotlib.figure.Figure at 0x213e69d3160>"
      ]
     },
     "metadata": {},
     "output_type": "display_data"
    }
   ],
   "source": [
    "sns.distplot(df2[\"Music\"].dropna(), bins = 12, kde = False)"
   ]
  },
  {
   "cell_type": "code",
   "execution_count": 72,
   "metadata": {
    "collapsed": false
   },
   "outputs": [
    {
     "data": {
      "text/plain": [
       "<matplotlib.axes._subplots.AxesSubplot at 0x213e16179b0>"
      ]
     },
     "execution_count": 72,
     "metadata": {},
     "output_type": "execute_result"
    },
    {
     "data": {
      "image/png": "[encoded data removed]",
      "text/plain": [
       "<matplotlib.figure.Figure at 0x2131cffa5f8>"
      ]
     },
     "metadata": {},
     "output_type": "display_data"
    }
   ],
   "source": [
    "sns.distplot(df2[\"Overall\"].dropna(), bins = 12, kde = False)"
   ]
  },
  {
   "cell_type": "markdown",
   "metadata": {},
   "source": [
    "Reviews from Anime News Network aren't that positive. They're more balanced."
   ]
  },
  {
   "cell_type": "markdown",
   "metadata": {},
   "source": [
    "## Correlations between ratings"
   ]
  },
  {
   "cell_type": "code",
   "execution_count": 79,
   "metadata": {
    "collapsed": false
   },
   "outputs": [
    {
     "data": {
      "image/png": "[encoded data removed]",
      "text/plain": [
       "<matplotlib.figure.Figure at 0x213e3703400>"
      ]
     },
     "metadata": {},
     "output_type": "display_data"
    }
   ],
   "source": [
    "#My anime list\n",
    "cols = [\"Rating\", \"Story\", \"Animation\", \"Sound\", \"Character\", \"Enjoyment\", \"Above_average\"]\n",
    "\n",
    "import numpy as np\n",
    "cm = np.corrcoef(df1[cols].values.T)\n",
    "sns.set(font_scale=1.5)\n",
    "hm = sns.heatmap(cm, \n",
    "            cbar=True,\n",
    "            annot=True, \n",
    "            square=True,\n",
    "            fmt='.2f',\n",
    "            annot_kws={'size': 15},\n",
    "            yticklabels=cols,\n",
    "            xticklabels=cols)\n",
    "\n",
    "plt.tight_layout()\n",
    "# plt.savefig('./figures/corr_mat.png', dpi=300)\n",
    "plt.show()"
   ]
  },
  {
   "cell_type": "markdown",
   "metadata": {},
   "source": [
    "Enjoyment seems to be the most important for My Anime List users."
   ]
  },
  {
   "cell_type": "code",
   "execution_count": 80,
   "metadata": {
    "collapsed": false
   },
   "outputs": [
    {
     "data": {
      "image/png": "[encoded data removed]",
      "text/plain": [
       "<matplotlib.figure.Figure at 0x213e02d4f28>"
      ]
     },
     "metadata": {},
     "output_type": "display_data"
    }
   ],
   "source": [
    "#Anime news netwrok\n",
    "cols = ['Overall', 'Animation', 'Music', 'Story', 'Art', \"Above_average\"]\n",
    "\n",
    "import numpy as np\n",
    "cm = np.corrcoef(df2[cols].dropna().values.T)\n",
    "sns.set(font_scale=1.5)\n",
    "hm = sns.heatmap(cm, \n",
    "            cbar=True,\n",
    "            annot=True, \n",
    "            square=True,\n",
    "            fmt='.2f',\n",
    "            annot_kws={'size': 15},\n",
    "            yticklabels=cols,\n",
    "            xticklabels=cols)\n",
    "\n",
    "plt.tight_layout()\n",
    "# plt.savefig('./figures/corr_mat.png', dpi=300)\n",
    "plt.show()"
   ]
  },
  {
   "cell_type": "markdown",
   "metadata": {},
   "source": [
    "The story seems to be the most important this time."
   ]
  },
  {
   "cell_type": "markdown",
   "metadata": {},
   "source": [
    "## Exploring the text data"
   ]
  },
  {
   "cell_type": "code",
   "execution_count": 82,
   "metadata": {
    "collapsed": true
   },
   "outputs": [],
   "source": [
    "import nltk"
   ]
  },
  {
   "cell_type": "code",
   "execution_count": 92,
   "metadata": {
    "collapsed": false
   },
   "outputs": [],
   "source": [
    "ANN_Reviews = nltk.text.TextCollection(df2[\"Review\"])"
   ]
  },
  {
   "cell_type": "code",
   "execution_count": 95,
   "metadata": {
    "collapsed": false
   },
   "outputs": [
    {
     "name": "stdout",
     "output_type": "stream",
     "text": [
      "character designs; fan service; high school; second half; English dub;\n",
      "first volume; musical score; action scenes; first half; sound effects;\n",
      "character development; feels like; original Japanese; English script;\n",
      "Dragon Ball; voice actors; clean opener; Sailor Moon; looks like;\n",
      "magical girl\n"
     ]
    }
   ],
   "source": [
    "ANN_Reviews.collocations()"
   ]
  },
  {
   "cell_type": "markdown",
   "metadata": {},
   "source": [
    "hmm..."
   ]
  },
  {
   "cell_type": "code",
   "execution_count": 96,
   "metadata": {
    "collapsed": true
   },
   "outputs": [],
   "source": [
    "MyAnimeList_Reviews = nltk.text.TextCollection(df1[\"Review\"])"
   ]
  },
  {
   "cell_type": "code",
   "execution_count": 97,
   "metadata": {
    "collapsed": false
   },
   "outputs": [
    {
     "name": "stdout",
     "output_type": "stream",
     "text": [
      "character development; main character; voice acting; high school; main\n",
      "characters; second season; first season; art style; 've seen; voice\n",
      "actors; character designs; pretty much; even though; n't really; first\n",
      "episode; fan service; well done; Death Note; ever seen; Code Geass\n"
     ]
    }
   ],
   "source": [
    "MyAnimeList_Reviews.collocations()"
   ]
  },
  {
   "cell_type": "markdown",
   "metadata": {},
   "source": [
    "# Training a model"
   ]
  },
  {
   "cell_type": "code",
   "execution_count": null,
   "metadata": {
    "collapsed": true
   },
   "outputs": [],
   "source": []
  },
  {
   "cell_type": "code",
   "execution_count": null,
   "metadata": {
    "collapsed": true
   },
   "outputs": [],
   "source": []
  },
  {
   "cell_type": "code",
   "execution_count": null,
   "metadata": {
    "collapsed": true
   },
   "outputs": [],
   "source": []
  },
  {
   "cell_type": "code",
   "execution_count": null,
   "metadata": {
    "collapsed": true
   },
   "outputs": [],
   "source": []
  },
  {
   "cell_type": "code",
   "execution_count": null,
   "metadata": {
    "collapsed": true
   },
   "outputs": [],
   "source": []
  },
  {
   "cell_type": "code",
   "execution_count": null,
   "metadata": {
    "collapsed": true
   },
   "outputs": [],
   "source": []
  },
  {
   "cell_type": "code",
   "execution_count": null,
   "metadata": {
    "collapsed": true
   },
   "outputs": [],
   "source": []
  },
  {
   "cell_type": "code",
   "execution_count": null,
   "metadata": {
    "collapsed": true
   },
   "outputs": [],
   "source": []
  },
  {
   "cell_type": "code",
   "execution_count": null,
   "metadata": {
    "collapsed": true
   },
   "outputs": [],
   "source": []
  },
  {
   "cell_type": "code",
   "execution_count": null,
   "metadata": {
    "collapsed": true
   },
   "outputs": [],
   "source": [
    "from sklearn.model_selection import GridSearchCV\n",
    "from sklearn.pipeline import Pipeline\n",
    "import xgboost as xb\n",
    "from sklearn.feature_extraction.text import TfidfVectorizer\n",
    "\n",
    "tfidf = TfidfVectorizer(strip_accents=None, \n",
    "                        lowercase=False, \n",
    "                        preprocessor=None)\n",
    "\n",
    "\n",
    "lr_tfidf = Pipeline([('vect', tfidf),\n",
    "                     ('clf', LogisticRegression(random_state=0))])\n",
    "\n",
    "\n",
    "param_grid = [{'vect__ngram_range': [(1,1)],\n",
    "               'vect__stop_words': [stop, None],\n",
    "               'vect__tokenizer': [tokenizer, tokenizer_porter],\n",
    "               'clf__penalty': ['l1', 'l2'],\n",
    "               'clf__C': [1.0, 10.0, 100.0]},\n",
    "              {'vect__ngram_range': [(1,1)],\n",
    "               'vect__stop_words': [stop, None],\n",
    "               'vect__tokenizer': [tokenizer, tokenizer_porter],\n",
    "               'vect__use_idf':[False],\n",
    "               'vect__norm':[None],\n",
    "               'clf__penalty': ['l1', 'l2'],\n",
    "               'clf__C': [1.0, 10.0, 100.0]},\n",
    "             ]\n",
    "\n",
    "\n",
    "\n",
    "gs_lr_tfidf = GridSearchCV(lr_tfidf, param_grid, \n",
    "                           scoring='accuracy',\n",
    "                           cv=5, verbose=1,\n",
    "                           n_jobs=1)"
   ]
  }
 ],
 "metadata": {
  "anaconda-cloud": {},
  "kernelspec": {
   "display_name": "Python [default]",
   "language": "python",
   "name": "python3"
  },
  "language_info": {
   "codemirror_mode": {
    "name": "ipython",
    "version": 3
   },
   "file_extension": ".py",
   "mimetype": "text/x-python",
   "name": "python",
   "nbconvert_exporter": "python",
   "pygments_lexer": "ipython3",
   "version": "3.5.2"
  }
 },
 "nbformat": 4,
 "nbformat_minor": 1
}
