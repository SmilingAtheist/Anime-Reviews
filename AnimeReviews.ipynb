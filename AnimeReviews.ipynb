{
 "cells": [
  {
   "cell_type": "code",
   "execution_count": 1,
   "metadata": {
    "collapsed": true
   },
   "outputs": [],
   "source": [
    "%matplotlib inline\n",
    "import numpy as np\n",
    "import seaborn as sns\n",
    "import matplotlib.pyplot as plt\n",
    "import pandas as pd\n",
    "import re"
   ]
  },
  {
   "cell_type": "markdown",
   "metadata": {},
   "source": [
    "# Cleaning the data"
   ]
  },
  {
   "cell_type": "markdown",
   "metadata": {},
   "source": [
    "## Cleaning the My Anime List Reviews dataset"
   ]
  },
  {
   "cell_type": "code",
   "execution_count": 2,
   "metadata": {
    "collapsed": false
   },
   "outputs": [
    {
     "name": "stderr",
     "output_type": "stream",
     "text": [
      "C:\\Users\\SmilingAtheist\\Anaconda3\\lib\\site-packages\\IPython\\core\\interactiveshell.py:2717: DtypeWarning: Columns (6) have mixed types. Specify dtype option on import or set low_memory=False.\n",
      "  interactivity=interactivity, compiler=compiler, result=result)\n"
     ]
    }
   ],
   "source": [
    "df = pd.read_csv(\"myAnimeListReviews/reviews.csv\")"
   ]
  },
  {
   "cell_type": "code",
   "execution_count": 3,
   "metadata": {
    "collapsed": false
   },
   "outputs": [
    {
     "name": "stdout",
     "output_type": "stream",
     "text": [
      "(99944, 8)\n"
     ]
    },
    {
     "data": {
      "text/html": [
       "<div>\n",
       "<table border=\"1\" class=\"dataframe\">\n",
       "  <thead>\n",
       "    <tr style=\"text-align: right;\">\n",
       "      <th></th>\n",
       "      <th>Rating</th>\n",
       "      <th>Enjoyment</th>\n",
       "      <th>Sound</th>\n",
       "      <th>review_text</th>\n",
       "      <th>Animation</th>\n",
       "      <th>Character</th>\n",
       "      <th>Story</th>\n",
       "      <th>Name</th>\n",
       "    </tr>\n",
       "  </thead>\n",
       "  <tbody>\n",
       "    <tr>\n",
       "      <th>0</th>\n",
       "      <td>NaN</td>\n",
       "      <td>NaN</td>\n",
       "      <td>NaN</td>\n",
       "      <td>NaN</td>\n",
       "      <td>NaN</td>\n",
       "      <td>NaN</td>\n",
       "      <td>NaN</td>\n",
       "      <td>\\r\\n              Top\\r\\n                     ...</td>\n",
       "    </tr>\n",
       "    <tr>\n",
       "      <th>1</th>\n",
       "      <td>NaN</td>\n",
       "      <td>NaN</td>\n",
       "      <td>NaN</td>\n",
       "      <td>NaN</td>\n",
       "      <td>NaN</td>\n",
       "      <td>NaN</td>\n",
       "      <td>NaN</td>\n",
       "      <td>Next</td>\n",
       "    </tr>\n",
       "    <tr>\n",
       "      <th>2</th>\n",
       "      <td>8</td>\n",
       "      <td>6.0</td>\n",
       "      <td>9</td>\n",
       "      <td>\\r\\n\\t\\t\\t\\t\\t\\r\\n             \\r\\n\\t\\t\\t\\t\\t ...</td>\n",
       "      <td>9</td>\n",
       "      <td>7.0</td>\n",
       "      <td>6</td>\n",
       "      <td>Nyanbo!</td>\n",
       "    </tr>\n",
       "    <tr>\n",
       "      <th>3</th>\n",
       "      <td>7</td>\n",
       "      <td>5.0</td>\n",
       "      <td>6</td>\n",
       "      <td>\\r\\n\\t\\t\\t\\t\\t\\r\\n             \\r\\n\\t\\t\\t\\t\\t ...</td>\n",
       "      <td>6</td>\n",
       "      <td>7.0</td>\n",
       "      <td>6</td>\n",
       "      <td>Boku no Pico</td>\n",
       "    </tr>\n",
       "    <tr>\n",
       "      <th>4</th>\n",
       "      <td>10</td>\n",
       "      <td>10.0</td>\n",
       "      <td>10</td>\n",
       "      <td>\\r\\n\\t\\t\\t\\t\\t\\r\\n             \\r\\n\\t\\t\\t\\t\\t ...</td>\n",
       "      <td>10</td>\n",
       "      <td>10.0</td>\n",
       "      <td>9</td>\n",
       "      <td>Kimi no Na wa.</td>\n",
       "    </tr>\n",
       "  </tbody>\n",
       "</table>\n",
       "</div>"
      ],
      "text/plain": [
       "  Rating  Enjoyment Sound                                        review_text  \\\n",
       "0    NaN        NaN   NaN                                                NaN   \n",
       "1    NaN        NaN   NaN                                                NaN   \n",
       "2      8        6.0     9  \\r\\n\\t\\t\\t\\t\\t\\r\\n             \\r\\n\\t\\t\\t\\t\\t ...   \n",
       "3      7        5.0     6  \\r\\n\\t\\t\\t\\t\\t\\r\\n             \\r\\n\\t\\t\\t\\t\\t ...   \n",
       "4     10       10.0    10  \\r\\n\\t\\t\\t\\t\\t\\r\\n             \\r\\n\\t\\t\\t\\t\\t ...   \n",
       "\n",
       "  Animation  Character Story  \\\n",
       "0       NaN        NaN   NaN   \n",
       "1       NaN        NaN   NaN   \n",
       "2         9        7.0     6   \n",
       "3         6        7.0     6   \n",
       "4        10       10.0     9   \n",
       "\n",
       "                                                Name  \n",
       "0  \\r\\n              Top\\r\\n                     ...  \n",
       "1                                              Next   \n",
       "2                                            Nyanbo!  \n",
       "3                                       Boku no Pico  \n",
       "4                                     Kimi no Na wa.  "
      ]
     },
     "execution_count": 3,
     "metadata": {},
     "output_type": "execute_result"
    }
   ],
   "source": [
    "print(df.shape)\n",
    "df.head()"
   ]
  },
  {
   "cell_type": "code",
   "execution_count": 4,
   "metadata": {
    "collapsed": true
   },
   "outputs": [],
   "source": [
    "df = df[[\"Name\", \"review_text\", \"Rating\", \"Story\", \"Animation\", \"Sound\", \"Character\", \"Enjoyment\"]]"
   ]
  },
  {
   "cell_type": "code",
   "execution_count": 5,
   "metadata": {
    "collapsed": false
   },
   "outputs": [
    {
     "data": {
      "text/html": [
       "<div>\n",
       "<table border=\"1\" class=\"dataframe\">\n",
       "  <thead>\n",
       "    <tr style=\"text-align: right;\">\n",
       "      <th></th>\n",
       "      <th>Name</th>\n",
       "      <th>review_text</th>\n",
       "      <th>Rating</th>\n",
       "      <th>Story</th>\n",
       "      <th>Animation</th>\n",
       "      <th>Sound</th>\n",
       "      <th>Character</th>\n",
       "      <th>Enjoyment</th>\n",
       "    </tr>\n",
       "  </thead>\n",
       "  <tbody>\n",
       "    <tr>\n",
       "      <th>0</th>\n",
       "      <td>\\r\\n              Top\\r\\n                     ...</td>\n",
       "      <td>NaN</td>\n",
       "      <td>NaN</td>\n",
       "      <td>NaN</td>\n",
       "      <td>NaN</td>\n",
       "      <td>NaN</td>\n",
       "      <td>NaN</td>\n",
       "      <td>NaN</td>\n",
       "    </tr>\n",
       "    <tr>\n",
       "      <th>1</th>\n",
       "      <td>Next</td>\n",
       "      <td>NaN</td>\n",
       "      <td>NaN</td>\n",
       "      <td>NaN</td>\n",
       "      <td>NaN</td>\n",
       "      <td>NaN</td>\n",
       "      <td>NaN</td>\n",
       "      <td>NaN</td>\n",
       "    </tr>\n",
       "    <tr>\n",
       "      <th>2</th>\n",
       "      <td>Nyanbo!</td>\n",
       "      <td>\\r\\n\\t\\t\\t\\t\\t\\r\\n             \\r\\n\\t\\t\\t\\t\\t ...</td>\n",
       "      <td>8</td>\n",
       "      <td>6</td>\n",
       "      <td>9</td>\n",
       "      <td>9</td>\n",
       "      <td>7.0</td>\n",
       "      <td>6.0</td>\n",
       "    </tr>\n",
       "    <tr>\n",
       "      <th>3</th>\n",
       "      <td>Boku no Pico</td>\n",
       "      <td>\\r\\n\\t\\t\\t\\t\\t\\r\\n             \\r\\n\\t\\t\\t\\t\\t ...</td>\n",
       "      <td>7</td>\n",
       "      <td>6</td>\n",
       "      <td>6</td>\n",
       "      <td>6</td>\n",
       "      <td>7.0</td>\n",
       "      <td>5.0</td>\n",
       "    </tr>\n",
       "    <tr>\n",
       "      <th>4</th>\n",
       "      <td>Kimi no Na wa.</td>\n",
       "      <td>\\r\\n\\t\\t\\t\\t\\t\\r\\n             \\r\\n\\t\\t\\t\\t\\t ...</td>\n",
       "      <td>10</td>\n",
       "      <td>9</td>\n",
       "      <td>10</td>\n",
       "      <td>10</td>\n",
       "      <td>10.0</td>\n",
       "      <td>10.0</td>\n",
       "    </tr>\n",
       "  </tbody>\n",
       "</table>\n",
       "</div>"
      ],
      "text/plain": [
       "                                                Name  \\\n",
       "0  \\r\\n              Top\\r\\n                     ...   \n",
       "1                                              Next    \n",
       "2                                            Nyanbo!   \n",
       "3                                       Boku no Pico   \n",
       "4                                     Kimi no Na wa.   \n",
       "\n",
       "                                         review_text Rating Story Animation  \\\n",
       "0                                                NaN    NaN   NaN       NaN   \n",
       "1                                                NaN    NaN   NaN       NaN   \n",
       "2  \\r\\n\\t\\t\\t\\t\\t\\r\\n             \\r\\n\\t\\t\\t\\t\\t ...      8     6         9   \n",
       "3  \\r\\n\\t\\t\\t\\t\\t\\r\\n             \\r\\n\\t\\t\\t\\t\\t ...      7     6         6   \n",
       "4  \\r\\n\\t\\t\\t\\t\\t\\r\\n             \\r\\n\\t\\t\\t\\t\\t ...     10     9        10   \n",
       "\n",
       "  Sound  Character  Enjoyment  \n",
       "0   NaN        NaN        NaN  \n",
       "1   NaN        NaN        NaN  \n",
       "2     9        7.0        6.0  \n",
       "3     6        7.0        5.0  \n",
       "4    10       10.0       10.0  "
      ]
     },
     "execution_count": 5,
     "metadata": {},
     "output_type": "execute_result"
    }
   ],
   "source": [
    "df.head()"
   ]
  },
  {
   "cell_type": "code",
   "execution_count": 6,
   "metadata": {
    "collapsed": false
   },
   "outputs": [
    {
     "data": {
      "text/plain": [
       "Name            3702\n",
       "review_text     7404\n",
       "Rating          7404\n",
       "Story          10540\n",
       "Animation      10584\n",
       "Sound          11076\n",
       "Character      10637\n",
       "Enjoyment      11115\n",
       "dtype: int64"
      ]
     },
     "execution_count": 6,
     "metadata": {},
     "output_type": "execute_result"
    }
   ],
   "source": [
    "df.isnull().sum()"
   ]
  },
  {
   "cell_type": "code",
   "execution_count": 7,
   "metadata": {
    "collapsed": false
   },
   "outputs": [
    {
     "data": {
      "text/plain": [
       "(88385, 8)"
      ]
     },
     "execution_count": 7,
     "metadata": {},
     "output_type": "execute_result"
    }
   ],
   "source": [
    "df.dropna().shape"
   ]
  },
  {
   "cell_type": "code",
   "execution_count": 8,
   "metadata": {
    "collapsed": true
   },
   "outputs": [],
   "source": [
    "df = df.dropna()"
   ]
  },
  {
   "cell_type": "code",
   "execution_count": 9,
   "metadata": {
    "collapsed": false
   },
   "outputs": [
    {
     "data": {
      "text/plain": [
       "Name           0\n",
       "review_text    0\n",
       "Rating         0\n",
       "Story          0\n",
       "Animation      0\n",
       "Sound          0\n",
       "Character      0\n",
       "Enjoyment      0\n",
       "dtype: int64"
      ]
     },
     "execution_count": 9,
     "metadata": {},
     "output_type": "execute_result"
    }
   ],
   "source": [
    "df.isnull().sum()"
   ]
  },
  {
   "cell_type": "code",
   "execution_count": 10,
   "metadata": {
    "collapsed": false
   },
   "outputs": [
    {
     "data": {
      "text/plain": [
       "Name            object\n",
       "review_text     object\n",
       "Rating          object\n",
       "Story           object\n",
       "Animation       object\n",
       "Sound           object\n",
       "Character      float64\n",
       "Enjoyment      float64\n",
       "dtype: object"
      ]
     },
     "execution_count": 10,
     "metadata": {},
     "output_type": "execute_result"
    }
   ],
   "source": [
    "df.dtypes"
   ]
  },
  {
   "cell_type": "code",
   "execution_count": 11,
   "metadata": {
    "collapsed": false
   },
   "outputs": [
    {
     "data": {
      "text/html": [
       "<div>\n",
       "<table border=\"1\" class=\"dataframe\">\n",
       "  <thead>\n",
       "    <tr style=\"text-align: right;\">\n",
       "      <th></th>\n",
       "      <th>Name</th>\n",
       "      <th>review_text</th>\n",
       "      <th>Rating</th>\n",
       "      <th>Story</th>\n",
       "      <th>Animation</th>\n",
       "      <th>Sound</th>\n",
       "      <th>Character</th>\n",
       "      <th>Enjoyment</th>\n",
       "    </tr>\n",
       "  </thead>\n",
       "  <tbody>\n",
       "    <tr>\n",
       "      <th>14490</th>\n",
       "      <td>Toradora!</td>\n",
       "      <td>\\r\\n\\t\\t\\t\\t\\t\\r\\n             \\r\\n\\t\\t\\t\\t\\t ...</td>\n",
       "      <td>6</td>\n",
       "      <td>5,6</td>\n",
       "      <td>6</td>\n",
       "      <td>6</td>\n",
       "      <td>7.0</td>\n",
       "      <td>8.0</td>\n",
       "    </tr>\n",
       "    <tr>\n",
       "      <th>14858</th>\n",
       "      <td>Akame ga Kill!</td>\n",
       "      <td>\\r\\n\\t\\t\\t\\t\\t\\r\\n             \\r\\n\\t\\t\\t\\t\\t ...</td>\n",
       "      <td>5</td>\n",
       "      <td>5,4</td>\n",
       "      <td>5</td>\n",
       "      <td>8</td>\n",
       "      <td>3.0</td>\n",
       "      <td>5.0</td>\n",
       "    </tr>\n",
       "    <tr>\n",
       "      <th>59124</th>\n",
       "      <td>Heart no Kuni no Alice: Wonderful Wonder World</td>\n",
       "      <td>\\r\\n\\t\\t\\t\\t\\t\\r\\n             \\r\\n\\t\\t\\t\\t\\t ...</td>\n",
       "      <td>8</td>\n",
       "      <td>1,9</td>\n",
       "      <td>10</td>\n",
       "      <td>10</td>\n",
       "      <td>10.0</td>\n",
       "      <td>9.0</td>\n",
       "    </tr>\n",
       "  </tbody>\n",
       "</table>\n",
       "</div>"
      ],
      "text/plain": [
       "                                                 Name  \\\n",
       "14490                                       Toradora!   \n",
       "14858                                  Akame ga Kill!   \n",
       "59124  Heart no Kuni no Alice: Wonderful Wonder World   \n",
       "\n",
       "                                             review_text Rating Story  \\\n",
       "14490  \\r\\n\\t\\t\\t\\t\\t\\r\\n             \\r\\n\\t\\t\\t\\t\\t ...      6   5,6   \n",
       "14858  \\r\\n\\t\\t\\t\\t\\t\\r\\n             \\r\\n\\t\\t\\t\\t\\t ...      5   5,4   \n",
       "59124  \\r\\n\\t\\t\\t\\t\\t\\r\\n             \\r\\n\\t\\t\\t\\t\\t ...      8   1,9   \n",
       "\n",
       "      Animation Sound  Character  Enjoyment  \n",
       "14490         6     6        7.0        8.0  \n",
       "14858         5     8        3.0        5.0  \n",
       "59124        10    10       10.0        9.0  "
      ]
     },
     "execution_count": 11,
     "metadata": {},
     "output_type": "execute_result"
    }
   ],
   "source": [
    "df[df[\"Story\"].astype(str).map(lambda x: ',' in x)]"
   ]
  },
  {
   "cell_type": "code",
   "execution_count": 12,
   "metadata": {
    "collapsed": false
   },
   "outputs": [],
   "source": [
    "columns = [\"Rating\", \"Story\", \"Animation\", \"Sound\"]\n",
    "\n",
    "for col in columns:\n",
    "    df = df[df[col].astype(str).map(lambda x: ',' not in x)]\n",
    "    df[col] = df[col].astype(float)"
   ]
  },
  {
   "cell_type": "code",
   "execution_count": 13,
   "metadata": {
    "collapsed": false
   },
   "outputs": [
    {
     "data": {
      "text/plain": [
       "(Name            object\n",
       " review_text     object\n",
       " Rating         float64\n",
       " Story          float64\n",
       " Animation      float64\n",
       " Sound          float64\n",
       " Character      float64\n",
       " Enjoyment      float64\n",
       " dtype: object, (88255, 8))"
      ]
     },
     "execution_count": 13,
     "metadata": {},
     "output_type": "execute_result"
    }
   ],
   "source": [
    "df.dtypes, df.shape"
   ]
  },
  {
   "cell_type": "code",
   "execution_count": 14,
   "metadata": {
    "collapsed": false
   },
   "outputs": [],
   "source": [
    "columns = [\"Name\", \"review_text\"]\n",
    "\n",
    "for col in columns:\n",
    "    df[col] = df[col].astype(str)"
   ]
  },
  {
   "cell_type": "code",
   "execution_count": 15,
   "metadata": {
    "collapsed": false
   },
   "outputs": [
    {
     "data": {
      "text/plain": [
       "(Name            object\n",
       " review_text     object\n",
       " Rating         float64\n",
       " Story          float64\n",
       " Animation      float64\n",
       " Sound          float64\n",
       " Character      float64\n",
       " Enjoyment      float64\n",
       " dtype: object, (88255, 8))"
      ]
     },
     "execution_count": 15,
     "metadata": {},
     "output_type": "execute_result"
    }
   ],
   "source": [
    "df.dtypes, df.shape"
   ]
  },
  {
   "cell_type": "code",
   "execution_count": 16,
   "metadata": {
    "collapsed": false
   },
   "outputs": [
    {
     "data": {
      "text/html": [
       "<div>\n",
       "<table border=\"1\" class=\"dataframe\">\n",
       "  <thead>\n",
       "    <tr style=\"text-align: right;\">\n",
       "      <th></th>\n",
       "      <th>Name</th>\n",
       "      <th>review_text</th>\n",
       "      <th>Rating</th>\n",
       "      <th>Story</th>\n",
       "      <th>Animation</th>\n",
       "      <th>Sound</th>\n",
       "      <th>Character</th>\n",
       "      <th>Enjoyment</th>\n",
       "    </tr>\n",
       "  </thead>\n",
       "  <tbody>\n",
       "  </tbody>\n",
       "</table>\n",
       "</div>"
      ],
      "text/plain": [
       "Empty DataFrame\n",
       "Columns: [Name, review_text, Rating, Story, Animation, Sound, Character, Enjoyment]\n",
       "Index: []"
      ]
     },
     "execution_count": 16,
     "metadata": {},
     "output_type": "execute_result"
    }
   ],
   "source": [
    "col = \"Name\"\n",
    "\n",
    "df[df[col].map(lambda x: type(x) is not str)]"
   ]
  },
  {
   "cell_type": "code",
   "execution_count": 17,
   "metadata": {
    "collapsed": false
   },
   "outputs": [
    {
     "data": {
      "text/html": [
       "<div>\n",
       "<table border=\"1\" class=\"dataframe\">\n",
       "  <thead>\n",
       "    <tr style=\"text-align: right;\">\n",
       "      <th></th>\n",
       "      <th>Name</th>\n",
       "      <th>review_text</th>\n",
       "      <th>Rating</th>\n",
       "      <th>Story</th>\n",
       "      <th>Animation</th>\n",
       "      <th>Sound</th>\n",
       "      <th>Character</th>\n",
       "      <th>Enjoyment</th>\n",
       "    </tr>\n",
       "  </thead>\n",
       "  <tbody>\n",
       "  </tbody>\n",
       "</table>\n",
       "</div>"
      ],
      "text/plain": [
       "Empty DataFrame\n",
       "Columns: [Name, review_text, Rating, Story, Animation, Sound, Character, Enjoyment]\n",
       "Index: []"
      ]
     },
     "execution_count": 17,
     "metadata": {},
     "output_type": "execute_result"
    }
   ],
   "source": [
    "col = \"review_text\"\n",
    "\n",
    "df[df[col].map(lambda x: type(x) is not str)]"
   ]
  },
  {
   "cell_type": "code",
   "execution_count": 18,
   "metadata": {
    "collapsed": true
   },
   "outputs": [],
   "source": [
    "df.rename(columns={'review_text':'Review'}, inplace=True)"
   ]
  },
  {
   "cell_type": "code",
   "execution_count": 19,
   "metadata": {
    "collapsed": false
   },
   "outputs": [
    {
     "data": {
      "text/html": [
       "<div>\n",
       "<table border=\"1\" class=\"dataframe\">\n",
       "  <thead>\n",
       "    <tr style=\"text-align: right;\">\n",
       "      <th></th>\n",
       "      <th>Name</th>\n",
       "      <th>Review</th>\n",
       "      <th>Rating</th>\n",
       "      <th>Story</th>\n",
       "      <th>Animation</th>\n",
       "      <th>Sound</th>\n",
       "      <th>Character</th>\n",
       "      <th>Enjoyment</th>\n",
       "    </tr>\n",
       "  </thead>\n",
       "  <tbody>\n",
       "    <tr>\n",
       "      <th>2</th>\n",
       "      <td>Nyanbo!</td>\n",
       "      <td>\\r\\n\\t\\t\\t\\t\\t\\r\\n             \\r\\n\\t\\t\\t\\t\\t ...</td>\n",
       "      <td>8.0</td>\n",
       "      <td>6.0</td>\n",
       "      <td>9.0</td>\n",
       "      <td>9.0</td>\n",
       "      <td>7.0</td>\n",
       "      <td>6.0</td>\n",
       "    </tr>\n",
       "    <tr>\n",
       "      <th>3</th>\n",
       "      <td>Boku no Pico</td>\n",
       "      <td>\\r\\n\\t\\t\\t\\t\\t\\r\\n             \\r\\n\\t\\t\\t\\t\\t ...</td>\n",
       "      <td>7.0</td>\n",
       "      <td>6.0</td>\n",
       "      <td>6.0</td>\n",
       "      <td>6.0</td>\n",
       "      <td>7.0</td>\n",
       "      <td>5.0</td>\n",
       "    </tr>\n",
       "    <tr>\n",
       "      <th>4</th>\n",
       "      <td>Kimi no Na wa.</td>\n",
       "      <td>\\r\\n\\t\\t\\t\\t\\t\\r\\n             \\r\\n\\t\\t\\t\\t\\t ...</td>\n",
       "      <td>10.0</td>\n",
       "      <td>9.0</td>\n",
       "      <td>10.0</td>\n",
       "      <td>10.0</td>\n",
       "      <td>10.0</td>\n",
       "      <td>10.0</td>\n",
       "    </tr>\n",
       "    <tr>\n",
       "      <th>5</th>\n",
       "      <td>Cheonnyeon-yeowoo Yeowoobi</td>\n",
       "      <td>\\r\\n\\t\\t\\t\\t\\t\\r\\n             \\r\\n\\t\\t\\t\\t\\t ...</td>\n",
       "      <td>6.0</td>\n",
       "      <td>6.0</td>\n",
       "      <td>7.0</td>\n",
       "      <td>5.0</td>\n",
       "      <td>7.0</td>\n",
       "      <td>6.0</td>\n",
       "    </tr>\n",
       "    <tr>\n",
       "      <th>6</th>\n",
       "      <td>Noragami</td>\n",
       "      <td>\\r\\n\\t\\t\\t\\t\\t\\r\\n             \\r\\n\\t\\t\\t\\t\\t ...</td>\n",
       "      <td>7.0</td>\n",
       "      <td>7.0</td>\n",
       "      <td>10.0</td>\n",
       "      <td>10.0</td>\n",
       "      <td>7.0</td>\n",
       "      <td>7.0</td>\n",
       "    </tr>\n",
       "  </tbody>\n",
       "</table>\n",
       "</div>"
      ],
      "text/plain": [
       "                         Name  \\\n",
       "2                     Nyanbo!   \n",
       "3                Boku no Pico   \n",
       "4              Kimi no Na wa.   \n",
       "5  Cheonnyeon-yeowoo Yeowoobi   \n",
       "6                    Noragami   \n",
       "\n",
       "                                              Review  Rating  Story  \\\n",
       "2  \\r\\n\\t\\t\\t\\t\\t\\r\\n             \\r\\n\\t\\t\\t\\t\\t ...     8.0    6.0   \n",
       "3  \\r\\n\\t\\t\\t\\t\\t\\r\\n             \\r\\n\\t\\t\\t\\t\\t ...     7.0    6.0   \n",
       "4  \\r\\n\\t\\t\\t\\t\\t\\r\\n             \\r\\n\\t\\t\\t\\t\\t ...    10.0    9.0   \n",
       "5  \\r\\n\\t\\t\\t\\t\\t\\r\\n             \\r\\n\\t\\t\\t\\t\\t ...     6.0    6.0   \n",
       "6  \\r\\n\\t\\t\\t\\t\\t\\r\\n             \\r\\n\\t\\t\\t\\t\\t ...     7.0    7.0   \n",
       "\n",
       "   Animation  Sound  Character  Enjoyment  \n",
       "2        9.0    9.0        7.0        6.0  \n",
       "3        6.0    6.0        7.0        5.0  \n",
       "4       10.0   10.0       10.0       10.0  \n",
       "5        7.0    5.0        7.0        6.0  \n",
       "6       10.0   10.0        7.0        7.0  "
      ]
     },
     "execution_count": 19,
     "metadata": {},
     "output_type": "execute_result"
    }
   ],
   "source": [
    "df.head()"
   ]
  },
  {
   "cell_type": "code",
   "execution_count": 20,
   "metadata": {
    "collapsed": false
   },
   "outputs": [
    {
     "data": {
      "text/plain": [
       "(Name          object\n",
       " Review        object\n",
       " Rating       float64\n",
       " Story        float64\n",
       " Animation    float64\n",
       " Sound        float64\n",
       " Character    float64\n",
       " Enjoyment    float64\n",
       " dtype: object, (88255, 8))"
      ]
     },
     "execution_count": 20,
     "metadata": {},
     "output_type": "execute_result"
    }
   ],
   "source": [
    "df.dtypes, df.shape"
   ]
  },
  {
   "cell_type": "code",
   "execution_count": 21,
   "metadata": {
    "collapsed": false
   },
   "outputs": [
    {
     "data": {
      "text/html": [
       "<div>\n",
       "<table border=\"1\" class=\"dataframe\">\n",
       "  <thead>\n",
       "    <tr style=\"text-align: right;\">\n",
       "      <th></th>\n",
       "      <th>Rating</th>\n",
       "      <th>Story</th>\n",
       "      <th>Animation</th>\n",
       "      <th>Sound</th>\n",
       "      <th>Character</th>\n",
       "      <th>Enjoyment</th>\n",
       "    </tr>\n",
       "  </thead>\n",
       "  <tbody>\n",
       "    <tr>\n",
       "      <th>count</th>\n",
       "      <td>88255.000000</td>\n",
       "      <td>88255.000000</td>\n",
       "      <td>88255.000000</td>\n",
       "      <td>88255.000000</td>\n",
       "      <td>88255.000000</td>\n",
       "      <td>88255.000000</td>\n",
       "    </tr>\n",
       "    <tr>\n",
       "      <th>mean</th>\n",
       "      <td>7.561759</td>\n",
       "      <td>7.181723</td>\n",
       "      <td>7.935528</td>\n",
       "      <td>7.845606</td>\n",
       "      <td>7.441119</td>\n",
       "      <td>7.746247</td>\n",
       "    </tr>\n",
       "    <tr>\n",
       "      <th>std</th>\n",
       "      <td>2.225516</td>\n",
       "      <td>2.400374</td>\n",
       "      <td>1.830413</td>\n",
       "      <td>1.881528</td>\n",
       "      <td>2.463746</td>\n",
       "      <td>2.425485</td>\n",
       "    </tr>\n",
       "    <tr>\n",
       "      <th>min</th>\n",
       "      <td>1.000000</td>\n",
       "      <td>1.000000</td>\n",
       "      <td>1.000000</td>\n",
       "      <td>1.000000</td>\n",
       "      <td>1.000000</td>\n",
       "      <td>1.000000</td>\n",
       "    </tr>\n",
       "    <tr>\n",
       "      <th>25%</th>\n",
       "      <td>6.000000</td>\n",
       "      <td>6.000000</td>\n",
       "      <td>7.000000</td>\n",
       "      <td>7.000000</td>\n",
       "      <td>6.000000</td>\n",
       "      <td>7.000000</td>\n",
       "    </tr>\n",
       "    <tr>\n",
       "      <th>50%</th>\n",
       "      <td>8.000000</td>\n",
       "      <td>8.000000</td>\n",
       "      <td>8.000000</td>\n",
       "      <td>8.000000</td>\n",
       "      <td>8.000000</td>\n",
       "      <td>8.000000</td>\n",
       "    </tr>\n",
       "    <tr>\n",
       "      <th>75%</th>\n",
       "      <td>9.000000</td>\n",
       "      <td>9.000000</td>\n",
       "      <td>9.000000</td>\n",
       "      <td>9.000000</td>\n",
       "      <td>9.000000</td>\n",
       "      <td>10.000000</td>\n",
       "    </tr>\n",
       "    <tr>\n",
       "      <th>max</th>\n",
       "      <td>10.000000</td>\n",
       "      <td>10.000000</td>\n",
       "      <td>10.000000</td>\n",
       "      <td>10.000000</td>\n",
       "      <td>10.000000</td>\n",
       "      <td>10.000000</td>\n",
       "    </tr>\n",
       "  </tbody>\n",
       "</table>\n",
       "</div>"
      ],
      "text/plain": [
       "             Rating         Story     Animation         Sound     Character  \\\n",
       "count  88255.000000  88255.000000  88255.000000  88255.000000  88255.000000   \n",
       "mean       7.561759      7.181723      7.935528      7.845606      7.441119   \n",
       "std        2.225516      2.400374      1.830413      1.881528      2.463746   \n",
       "min        1.000000      1.000000      1.000000      1.000000      1.000000   \n",
       "25%        6.000000      6.000000      7.000000      7.000000      6.000000   \n",
       "50%        8.000000      8.000000      8.000000      8.000000      8.000000   \n",
       "75%        9.000000      9.000000      9.000000      9.000000      9.000000   \n",
       "max       10.000000     10.000000     10.000000     10.000000     10.000000   \n",
       "\n",
       "          Enjoyment  \n",
       "count  88255.000000  \n",
       "mean       7.746247  \n",
       "std        2.425485  \n",
       "min        1.000000  \n",
       "25%        7.000000  \n",
       "50%        8.000000  \n",
       "75%       10.000000  \n",
       "max       10.000000  "
      ]
     },
     "execution_count": 21,
     "metadata": {},
     "output_type": "execute_result"
    }
   ],
   "source": [
    "df.describe()"
   ]
  },
  {
   "cell_type": "code",
   "execution_count": 22,
   "metadata": {
    "collapsed": true
   },
   "outputs": [],
   "source": [
    "df1 = df"
   ]
  },
  {
   "cell_type": "markdown",
   "metadata": {},
   "source": [
    "## Cleaning the Anime News Newtwork Reviews dataset"
   ]
  },
  {
   "cell_type": "code",
   "execution_count": 23,
   "metadata": {
    "collapsed": true
   },
   "outputs": [],
   "source": [
    "df = pd.read_csv(\"AnimeNewsNetworkReviews/reviews.csv\")"
   ]
  },
  {
   "cell_type": "code",
   "execution_count": 24,
   "metadata": {
    "collapsed": false
   },
   "outputs": [
    {
     "data": {
      "text/html": [
       "<div>\n",
       "<table border=\"1\" class=\"dataframe\">\n",
       "  <thead>\n",
       "    <tr style=\"text-align: right;\">\n",
       "      <th></th>\n",
       "      <th>Name2</th>\n",
       "      <th>Review</th>\n",
       "      <th>Synopsis</th>\n",
       "      <th>Good_points</th>\n",
       "      <th>Ratings</th>\n",
       "      <th>Name</th>\n",
       "      <th>Bad_points</th>\n",
       "    </tr>\n",
       "  </thead>\n",
       "  <tbody>\n",
       "    <tr>\n",
       "      <th>0</th>\n",
       "      <td>GN 7</td>\n",
       "      <td>\\r\\n,\\r\\nA Silent Voice reached its climax at ...</td>\n",
       "      <td>At last, Shoya has woken up. Racing to the bri...</td>\n",
       "      <td>Maintains A Silent Voice's usual acuity of ar...</td>\n",
       "      <td>{'Overall': 'B+', 'Art': 'A-', 'Story': 'B-'}</td>\n",
       "      <td>A Silent Voice</td>\n",
       "      <td>Feels a bit overlong in its resolutions, and ...</td>\n",
       "    </tr>\n",
       "    <tr>\n",
       "      <th>1</th>\n",
       "      <td>DVD 1</td>\n",
       "      <td>\\r\\n,\\r\\nTo fully and correctly appreciate 009...</td>\n",
       "      <td>In a world where the Cold War continues well p...</td>\n",
       "      <td>Musical score, fan service.</td>\n",
       "      <td>{'Animation': 'B-', 'Overall (dub)': 'B', 'Mus...</td>\n",
       "      <td>009-1</td>\n",
       "      <td>Some character designs are appallingly ugly, ...</td>\n",
       "    </tr>\n",
       "    <tr>\n",
       "      <th>2</th>\n",
       "      <td>Sub.Blu-Ray</td>\n",
       "      <td>\\r\\n,\\r\\nWhat happens when you take twenty-sev...</td>\n",
       "      <td>Haruto can't bring himself to accept that his ...</td>\n",
       "      <td>Some great voice work and nice animation, tri...</td>\n",
       "      <td>{'Animation': 'B', 'Overall (sub)': 'C', 'Musi...</td>\n",
       "      <td>A Town Where You Live</td>\n",
       "      <td>Story comes off melodramatic without much emo...</td>\n",
       "    </tr>\n",
       "    <tr>\n",
       "      <th>3</th>\n",
       "      <td>GN 6</td>\n",
       "      <td>\\r\\n,\\r\\nIt's always an interesting experience...</td>\n",
       "      <td>Seeing Shoko about to leap off her balcony, Sh...</td>\n",
       "      <td>Doubles down on the manga's terrific characte...</td>\n",
       "      <td>{'Overall': 'A', 'Art': 'A-', 'Story': 'A'}</td>\n",
       "      <td>A Silent Voice</td>\n",
       "      <td>A couple dramatic points felt a little loosel...</td>\n",
       "    </tr>\n",
       "    <tr>\n",
       "      <th>4</th>\n",
       "      <td>GN 4</td>\n",
       "      <td>\\r\\n,\\r\\nIt feels like A Silent Voice's densit...</td>\n",
       "      <td>Things continue to change little by little for...</td>\n",
       "      <td>Continues to demonstrate wondrously poignant ...</td>\n",
       "      <td>{'Overall': 'A-', 'Art': 'B', 'Story': 'A'}</td>\n",
       "      <td>A Silent Voice</td>\n",
       "      <td>Some dramatic developments here could have us...</td>\n",
       "    </tr>\n",
       "  </tbody>\n",
       "</table>\n",
       "</div>"
      ],
      "text/plain": [
       "         Name2                                             Review  \\\n",
       "0         GN 7  \\r\\n,\\r\\nA Silent Voice reached its climax at ...   \n",
       "1        DVD 1  \\r\\n,\\r\\nTo fully and correctly appreciate 009...   \n",
       "2  Sub.Blu-Ray  \\r\\n,\\r\\nWhat happens when you take twenty-sev...   \n",
       "3         GN 6  \\r\\n,\\r\\nIt's always an interesting experience...   \n",
       "4         GN 4  \\r\\n,\\r\\nIt feels like A Silent Voice's densit...   \n",
       "\n",
       "                                            Synopsis  \\\n",
       "0  At last, Shoya has woken up. Racing to the bri...   \n",
       "1  In a world where the Cold War continues well p...   \n",
       "2  Haruto can't bring himself to accept that his ...   \n",
       "3  Seeing Shoko about to leap off her balcony, Sh...   \n",
       "4  Things continue to change little by little for...   \n",
       "\n",
       "                                         Good_points  \\\n",
       "0   Maintains A Silent Voice's usual acuity of ar...   \n",
       "1                        Musical score, fan service.   \n",
       "2   Some great voice work and nice animation, tri...   \n",
       "3   Doubles down on the manga's terrific characte...   \n",
       "4   Continues to demonstrate wondrously poignant ...   \n",
       "\n",
       "                                             Ratings                   Name  \\\n",
       "0      {'Overall': 'B+', 'Art': 'A-', 'Story': 'B-'}         A Silent Voice   \n",
       "1  {'Animation': 'B-', 'Overall (dub)': 'B', 'Mus...                  009-1   \n",
       "2  {'Animation': 'B', 'Overall (sub)': 'C', 'Musi...  A Town Where You Live   \n",
       "3        {'Overall': 'A', 'Art': 'A-', 'Story': 'A'}         A Silent Voice   \n",
       "4        {'Overall': 'A-', 'Art': 'B', 'Story': 'A'}         A Silent Voice   \n",
       "\n",
       "                                          Bad_points  \n",
       "0   Feels a bit overlong in its resolutions, and ...  \n",
       "1   Some character designs are appallingly ugly, ...  \n",
       "2   Story comes off melodramatic without much emo...  \n",
       "3   A couple dramatic points felt a little loosel...  \n",
       "4   Some dramatic developments here could have us...  "
      ]
     },
     "execution_count": 24,
     "metadata": {},
     "output_type": "execute_result"
    }
   ],
   "source": [
    "df.head()"
   ]
  },
  {
   "cell_type": "code",
   "execution_count": 25,
   "metadata": {
    "collapsed": false
   },
   "outputs": [],
   "source": [
    "df = df[[\"Name\", \"Name2\", \"Ratings\", \"Synopsis\", \"Review\" ,\"Good_points\", \"Bad_points\"]]"
   ]
  },
  {
   "cell_type": "code",
   "execution_count": 26,
   "metadata": {
    "collapsed": false
   },
   "outputs": [
    {
     "data": {
      "text/html": [
       "<div>\n",
       "<table border=\"1\" class=\"dataframe\">\n",
       "  <thead>\n",
       "    <tr style=\"text-align: right;\">\n",
       "      <th></th>\n",
       "      <th>Name</th>\n",
       "      <th>Name2</th>\n",
       "      <th>Ratings</th>\n",
       "      <th>Synopsis</th>\n",
       "      <th>Review</th>\n",
       "      <th>Good_points</th>\n",
       "      <th>Bad_points</th>\n",
       "    </tr>\n",
       "  </thead>\n",
       "  <tbody>\n",
       "    <tr>\n",
       "      <th>0</th>\n",
       "      <td>A Silent Voice</td>\n",
       "      <td>GN 7</td>\n",
       "      <td>{'Overall': 'B+', 'Art': 'A-', 'Story': 'B-'}</td>\n",
       "      <td>At last, Shoya has woken up. Racing to the bri...</td>\n",
       "      <td>\\r\\n,\\r\\nA Silent Voice reached its climax at ...</td>\n",
       "      <td>Maintains A Silent Voice's usual acuity of ar...</td>\n",
       "      <td>Feels a bit overlong in its resolutions, and ...</td>\n",
       "    </tr>\n",
       "    <tr>\n",
       "      <th>1</th>\n",
       "      <td>009-1</td>\n",
       "      <td>DVD 1</td>\n",
       "      <td>{'Animation': 'B-', 'Overall (dub)': 'B', 'Mus...</td>\n",
       "      <td>In a world where the Cold War continues well p...</td>\n",
       "      <td>\\r\\n,\\r\\nTo fully and correctly appreciate 009...</td>\n",
       "      <td>Musical score, fan service.</td>\n",
       "      <td>Some character designs are appallingly ugly, ...</td>\n",
       "    </tr>\n",
       "    <tr>\n",
       "      <th>2</th>\n",
       "      <td>A Town Where You Live</td>\n",
       "      <td>Sub.Blu-Ray</td>\n",
       "      <td>{'Animation': 'B', 'Overall (sub)': 'C', 'Musi...</td>\n",
       "      <td>Haruto can't bring himself to accept that his ...</td>\n",
       "      <td>\\r\\n,\\r\\nWhat happens when you take twenty-sev...</td>\n",
       "      <td>Some great voice work and nice animation, tri...</td>\n",
       "      <td>Story comes off melodramatic without much emo...</td>\n",
       "    </tr>\n",
       "    <tr>\n",
       "      <th>3</th>\n",
       "      <td>A Silent Voice</td>\n",
       "      <td>GN 6</td>\n",
       "      <td>{'Overall': 'A', 'Art': 'A-', 'Story': 'A'}</td>\n",
       "      <td>Seeing Shoko about to leap off her balcony, Sh...</td>\n",
       "      <td>\\r\\n,\\r\\nIt's always an interesting experience...</td>\n",
       "      <td>Doubles down on the manga's terrific characte...</td>\n",
       "      <td>A couple dramatic points felt a little loosel...</td>\n",
       "    </tr>\n",
       "    <tr>\n",
       "      <th>4</th>\n",
       "      <td>A Silent Voice</td>\n",
       "      <td>GN 4</td>\n",
       "      <td>{'Overall': 'A-', 'Art': 'B', 'Story': 'A'}</td>\n",
       "      <td>Things continue to change little by little for...</td>\n",
       "      <td>\\r\\n,\\r\\nIt feels like A Silent Voice's densit...</td>\n",
       "      <td>Continues to demonstrate wondrously poignant ...</td>\n",
       "      <td>Some dramatic developments here could have us...</td>\n",
       "    </tr>\n",
       "  </tbody>\n",
       "</table>\n",
       "</div>"
      ],
      "text/plain": [
       "                    Name        Name2  \\\n",
       "0         A Silent Voice         GN 7   \n",
       "1                  009-1        DVD 1   \n",
       "2  A Town Where You Live  Sub.Blu-Ray   \n",
       "3         A Silent Voice         GN 6   \n",
       "4         A Silent Voice         GN 4   \n",
       "\n",
       "                                             Ratings  \\\n",
       "0      {'Overall': 'B+', 'Art': 'A-', 'Story': 'B-'}   \n",
       "1  {'Animation': 'B-', 'Overall (dub)': 'B', 'Mus...   \n",
       "2  {'Animation': 'B', 'Overall (sub)': 'C', 'Musi...   \n",
       "3        {'Overall': 'A', 'Art': 'A-', 'Story': 'A'}   \n",
       "4        {'Overall': 'A-', 'Art': 'B', 'Story': 'A'}   \n",
       "\n",
       "                                            Synopsis  \\\n",
       "0  At last, Shoya has woken up. Racing to the bri...   \n",
       "1  In a world where the Cold War continues well p...   \n",
       "2  Haruto can't bring himself to accept that his ...   \n",
       "3  Seeing Shoko about to leap off her balcony, Sh...   \n",
       "4  Things continue to change little by little for...   \n",
       "\n",
       "                                              Review  \\\n",
       "0  \\r\\n,\\r\\nA Silent Voice reached its climax at ...   \n",
       "1  \\r\\n,\\r\\nTo fully and correctly appreciate 009...   \n",
       "2  \\r\\n,\\r\\nWhat happens when you take twenty-sev...   \n",
       "3  \\r\\n,\\r\\nIt's always an interesting experience...   \n",
       "4  \\r\\n,\\r\\nIt feels like A Silent Voice's densit...   \n",
       "\n",
       "                                         Good_points  \\\n",
       "0   Maintains A Silent Voice's usual acuity of ar...   \n",
       "1                        Musical score, fan service.   \n",
       "2   Some great voice work and nice animation, tri...   \n",
       "3   Doubles down on the manga's terrific characte...   \n",
       "4   Continues to demonstrate wondrously poignant ...   \n",
       "\n",
       "                                          Bad_points  \n",
       "0   Feels a bit overlong in its resolutions, and ...  \n",
       "1   Some character designs are appallingly ugly, ...  \n",
       "2   Story comes off melodramatic without much emo...  \n",
       "3   A couple dramatic points felt a little loosel...  \n",
       "4   Some dramatic developments here could have us...  "
      ]
     },
     "execution_count": 26,
     "metadata": {},
     "output_type": "execute_result"
    }
   ],
   "source": [
    "df.head()"
   ]
  },
  {
   "cell_type": "code",
   "execution_count": 27,
   "metadata": {
    "collapsed": false
   },
   "outputs": [
    {
     "data": {
      "text/plain": [
       "Name            12\n",
       "Name2          257\n",
       "Ratings          0\n",
       "Synopsis         0\n",
       "Review           0\n",
       "Good_points     32\n",
       "Bad_points      35\n",
       "dtype: int64"
      ]
     },
     "execution_count": 27,
     "metadata": {},
     "output_type": "execute_result"
    }
   ],
   "source": [
    "df.isnull().sum()"
   ]
  },
  {
   "cell_type": "code",
   "execution_count": 28,
   "metadata": {
    "collapsed": false
   },
   "outputs": [
    {
     "data": {
      "text/plain": [
       "(Name           object\n",
       " Name2          object\n",
       " Ratings        object\n",
       " Synopsis       object\n",
       " Review         object\n",
       " Good_points    object\n",
       " Bad_points     object\n",
       " dtype: object, (4174, 7))"
      ]
     },
     "execution_count": 28,
     "metadata": {},
     "output_type": "execute_result"
    }
   ],
   "source": [
    "df.dtypes, df.shape"
   ]
  },
  {
   "cell_type": "code",
   "execution_count": 29,
   "metadata": {
    "collapsed": false
   },
   "outputs": [
    {
     "data": {
      "text/html": [
       "<div>\n",
       "<table border=\"1\" class=\"dataframe\">\n",
       "  <thead>\n",
       "    <tr style=\"text-align: right;\">\n",
       "      <th></th>\n",
       "      <th>Name</th>\n",
       "      <th>Name2</th>\n",
       "      <th>Ratings</th>\n",
       "      <th>Synopsis</th>\n",
       "      <th>Review</th>\n",
       "      <th>Good_points</th>\n",
       "      <th>Bad_points</th>\n",
       "    </tr>\n",
       "  </thead>\n",
       "  <tbody>\n",
       "    <tr>\n",
       "      <th>11</th>\n",
       "      <td>Zero Time Dilemma</td>\n",
       "      <td>PS Vita</td>\n",
       "      <td>{'Music': 'A-', 'Graphics': 'B', 'Overall': 'A...</td>\n",
       "      <td>The latest installment in Kotaro Uchikoshi's a...</td>\n",
       "      <td>\\r\\n,\\r\\nZero Time Dilemma is a game that almo...</td>\n",
       "      <td>NaN</td>\n",
       "      <td>NaN</td>\n",
       "    </tr>\n",
       "    <tr>\n",
       "      <th>114</th>\n",
       "      <td>Etrian Odyssey IV: Legends of the Titan</td>\n",
       "      <td>Nintendo 3DS</td>\n",
       "      <td>{'Music': 'A-', 'Graphics': 'A-', 'Overall': '...</td>\n",
       "      <td>The fourth Etrian Odyssey brings back most of ...</td>\n",
       "      <td>\\r\\n,\\r\\nAnyone would be wary of a series that...</td>\n",
       "      <td>Series-standard Etrian Odyssey gameplay marri...</td>\n",
       "      <td>NaN</td>\n",
       "    </tr>\n",
       "    <tr>\n",
       "      <th>159</th>\n",
       "      <td>Anime</td>\n",
       "      <td>A Guide to Japanese Animation (1958-1988)</td>\n",
       "      <td>{}</td>\n",
       "      <td>Soft Cover,\\r\\n320 pages,\\r\\nBlack &amp; White,\\r\\...</td>\n",
       "      <td>\"Anime, A guide to Japanese Animation\" was fir...</td>\n",
       "      <td>NaN</td>\n",
       "      <td>NaN</td>\n",
       "    </tr>\n",
       "    <tr>\n",
       "      <th>260</th>\n",
       "      <td>X TV</td>\n",
       "      <td>[ONE]</td>\n",
       "      <td>{'Animation': 'B+', 'Overall (dub)': 'B', 'Mus...</td>\n",
       "      <td>In the first volume of X, the Dragons of the E...</td>\n",
       "      <td>The long awaited X television series is finall...</td>\n",
       "      <td>NaN</td>\n",
       "      <td>NaN</td>\n",
       "    </tr>\n",
       "  </tbody>\n",
       "</table>\n",
       "</div>"
      ],
      "text/plain": [
       "                                        Name  \\\n",
       "11                         Zero Time Dilemma   \n",
       "114  Etrian Odyssey IV: Legends of the Titan   \n",
       "159                                    Anime   \n",
       "260                                     X TV   \n",
       "\n",
       "                                         Name2  \\\n",
       "11                                     PS Vita   \n",
       "114                               Nintendo 3DS   \n",
       "159  A Guide to Japanese Animation (1958-1988)   \n",
       "260                                      [ONE]   \n",
       "\n",
       "                                               Ratings  \\\n",
       "11   {'Music': 'A-', 'Graphics': 'B', 'Overall': 'A...   \n",
       "114  {'Music': 'A-', 'Graphics': 'A-', 'Overall': '...   \n",
       "159                                                 {}   \n",
       "260  {'Animation': 'B+', 'Overall (dub)': 'B', 'Mus...   \n",
       "\n",
       "                                              Synopsis  \\\n",
       "11   The latest installment in Kotaro Uchikoshi's a...   \n",
       "114  The fourth Etrian Odyssey brings back most of ...   \n",
       "159  Soft Cover,\\r\\n320 pages,\\r\\nBlack & White,\\r\\...   \n",
       "260  In the first volume of X, the Dragons of the E...   \n",
       "\n",
       "                                                Review  \\\n",
       "11   \\r\\n,\\r\\nZero Time Dilemma is a game that almo...   \n",
       "114  \\r\\n,\\r\\nAnyone would be wary of a series that...   \n",
       "159  \"Anime, A guide to Japanese Animation\" was fir...   \n",
       "260  The long awaited X television series is finall...   \n",
       "\n",
       "                                           Good_points Bad_points  \n",
       "11                                                 NaN        NaN  \n",
       "114   Series-standard Etrian Odyssey gameplay marri...        NaN  \n",
       "159                                                NaN        NaN  \n",
       "260                                                NaN        NaN  "
      ]
     },
     "execution_count": 29,
     "metadata": {},
     "output_type": "execute_result"
    }
   ],
   "source": [
    "col = \"Bad_points\"\n",
    "\n",
    "df[df[col].map(lambda x: type(x) is not str)].head(4)"
   ]
  },
  {
   "cell_type": "code",
   "execution_count": 30,
   "metadata": {
    "collapsed": true
   },
   "outputs": [],
   "source": [
    "df2 = df #not much cleaning needed"
   ]
  },
  {
   "cell_type": "markdown",
   "metadata": {},
   "source": [
    "# Preprocessing the text data and the ratings data"
   ]
  },
  {
   "cell_type": "markdown",
   "metadata": {},
   "source": [
    "## Preprocessing text"
   ]
  },
  {
   "cell_type": "code",
   "execution_count": 31,
   "metadata": {
    "collapsed": false
   },
   "outputs": [],
   "source": [
    "from nltk import word_tokenize\n",
    "\n",
    "def preprocess_text(text):\n",
    "    if not pd.isnull(text):\n",
    "        text = re.sub(r'\\n|\\t|\\r', r' ', text, flags = re.DOTALL) #removing \\n, \\t and \\r\n",
    "        text = re.sub(r' +', r' ', text) #multiple spaces to one space\n",
    "        text = text.lower()\n",
    "        text = word_tokenize(text)   \n",
    "    \n",
    "    return text"
   ]
  },
  {
   "cell_type": "code",
   "execution_count": 32,
   "metadata": {
    "collapsed": false
   },
   "outputs": [
    {
     "name": "stdout",
     "output_type": "stream",
     "text": [
      "['i', 'really', 'wanted', 'to', 'like', 'this', 'movie', '.', 'i', 'really', 'really', 'did', '.', 'it', 'has', 'all', 'the', 'ingredients', 'i', 'like', '.', 'fantasy/magic', ',', 'an', 'isolated', 'character', 'interacting', 'with', 'the', \"'real\", 'world', \"'\", 'for', 'the', 'first', 'time', ',', 'a', 'mix', 'of', 'comedy', '(', 'slapstick', 'and', 'cerebral', ')', ',', 'drama', ',', 'aliens', ',', 'and', 'a', 'ghost', 'sink', '.', 'i', 'do', \"n't\", 'know', 'if', 'it', 'was', 'the', 'subtle', 'differences', 'between', 'korean', 'and', 'japanese', 'animation', 'that', 'threw', 'me', ',', 'or', 'the', 'fact', 'that', 'they', 'tried', 'to', 'stuff', 'a', 'full', ',', '12', 'episode', 'tv', 'series', '(', '~288', 'minutes', ')', 'into', 'an', '80', 'minute', 'movie', '.', 'all', 'i', 'know', 'is', 'that', 'this', 'movie', 'did', \"n't\", 'click', 'for', 'me', '.', 'taken', 'separately', ',', 'each', 'of', 'the', 'plot', 'devices', 'are', 'great', '.', 'the', 'problem', 'i', 'had', 'was', 'they', 'tried', 'to', 'stuff', 'too', 'many', 'into', 'the', 'movie', '.', 'had', 'they', 'just', 'kept', 'it', 'simple', 'and', 'let', 'the', 'movie', 'be', 'a', 'simple', 'adventure', '(', 'ala', 'spirited', 'away', ')', 'with', 'subtle', 'messages', ',', 'i', 'would', 'have', 'really', 'enjoyed', 'this', 'flick', '.', 'for', 'me', 'at', 'least', ',', 'there', \"'s\", 'something', 'off', 'about', 'this', 'film', '.', 'if', 'i', 'was', \"n't\", 'watching', 'it', 'for', 'the', '2017', 'mal', 'anime', 'watching', 'challenge', ',', 'i', 'would', 'have', 'probably', 'dropped', 'it', '.', 'i', \"'ll\", 'probably', 'revisit', 'later', 'down', 'the', 'road', 'now', 'that', 'i', 'know', 'to', 'lower', 'my', 'expectations', '.', 'for', 'the', 'time', 'being', ',', 'this', 'is', 'a', '``', 'meh', \"''\", 'flick', 'for', 'me', '.']\n"
     ]
    }
   ],
   "source": [
    "print( preprocess_text(df1.loc[5, \"Review\"]) )"
   ]
  },
  {
   "cell_type": "code",
   "execution_count": 33,
   "metadata": {
    "collapsed": false
   },
   "outputs": [
    {
     "name": "stdout",
     "output_type": "stream",
     "text": [
      "['i', 'normally', 'regard', 'yoshiaki', 'kawajiri', 'as', 'being', 'generally', 'overhyped', 'when', 'it', 'comes', 'to', 'anime', 'directors', '.', 'i', 'was', \"n't\", 'overly', 'enamored', 'with', 'ninja', 'scroll', '.', 'demon', 'city', 'shinjuku', 'and', 'cyber', 'city', 'oedo', '808', 'were', 'entertaining', ',', 'but', 'ultimately', 'mind', 'candy', '.', 'birdy', 'the', 'mighty', 'was', 'pretty', 'fun', ',', 'and', 'wicked', 'city', 'was', 'too', ',', 'in', 'an', 'entirely', 'different', 'way', '.', 'we', 'shall', 'not', 'mention', 'the', '``', 'satanica', \"''\", 'pilot', '.', 'and', 'then', 'there', \"'s\", 'a', 'wind', 'named', 'amnesia', ':', 'a', 'total', 'gem', 'from', 'a', 'director', 'with', 'a', 'very', 'spotty', 'record.', ',', ',', 'there', \"'s\", 'not', 'too', 'much', 'story', 'here', ',', 'but', 'that', \"'s\", 'ok', '--', 'this', 'is', \"n't\", 'about', 'a', 'story', ',', 'this', 'is', 'about', 'people', ',', 'and', 'what', 'really', 'motivates', 'them', '.', 'while', 'the', 'ending', 'seems', 'a', 'bit', 'taylored', 'to', 'fit', 'in', 'a', 'quick', 'sex', 'scene', '(', 'which', 'seems', 'totally', 'inappropriate', 'here', ')', ',', 'where', 'the', 'film', 'leaves', 'off', 'is', 'satisfying', '.', 'it', \"'s\", 'not', 'one', 'of', 'those', 'films', 'you', 'watch', 'and', 'forget', 'about', '.', 'you', 'ponder', 'what', 'happens', 'for', 'days', 'afterward.', ',', ',', 'now', 'the', 'dvd', 'presentation', ':', 'first', 'off', ',', 'let', 'it', 'be', 'known', 'that', 'crush', 'digital', 'video', 'menus', 'really', 'really', 'blow', '--', 'they', \"'re\", 'unusably', 'slow', 'and', 'not', 'pc', 'mouse-supported', '.', 'the', 'video', 'itself', 'is', 'adequate', 'in', 'quality', ',', 'with', 'a', 'little', 'bit', 'of', 'a', 'halo', 'effect', 'left', 'over', 'from', 'the', 'analog', 'post-production', '.', 'it', \"'s\", 'a', 'fact', 'of', 'life', '.', 'the', 'transfer', 'is', 'fair', ',', 'with', 'the', 'colors', 'looking', 'a', 'bit', 'washed', 'out', 'in', 'places', 'and', 'some', 'clipping', 'of', 'the', 'top', 'left', 'corner', '.', 'the', 'mpeg-2', 'compression', 'is', 'actually', 'very', 'nice', ',', 'with', 'pixellation', 'only', 'becoming', 'apparent', 'in', 'scenes', 'of', 'almost', 'total', 'black.', ',', ',', 'the', 'subtitles', 'are', 'standard', 'for', 'anime', 'dvd', \"'s\", '...', 'meaning', 'white', 'with', 'almost', 'no', 'border', '.', 'it', 'looks', 'all', 'right', 'here', ',', 'since', 'the', 'film', 'is', 'very', 'dark', 'overall', ',', 'but', 'many', 'titles', 'are', 'mis-timed', ',', 'resulting', 'in', 'up', 'to', 'three', 'seconds', 'of', 'dialogue', 'at', 'a', 'strech', 'with', 'no', 'titles', 'at', 'all', '.', 'no', 'translations', 'are', 'omitted', ',', 'but', 'to', 'those', 'that', 'do', \"n't\", 'know', 'japanese', ',', 'it', 'can', 'be', 'disconcerting', '.', 'the', 'translations', 'themselves', 'are', 'very', 'good', '--', 'typical', 'neil', 'nadelman', 'fare', '.', 'the', 'dubbed', 'version', 'is', 'one', 'of', 'the', 'older', 'manga', 'video', 'dub', 'jobs', ',', 'with', 'good', 'post-production', 'values', ',', 'but', 'only', 'fair', 'quality', '.', 'it', \"'s\", 'unfortunate', 'that', 'the', 'english', 'cast', 'seems', 'too', 'preoccupied', 'with', 'sounding', 'like', 'good', 'voice', 'talent', ',', 'but', 'not', 'in', 'expressing', 'the', 'innocence', 'of', 'the', 'characters.', ',', ',', 'the', 'packaging', 'is', 'nice', ',', 'but', 'i', 'still', 'do', \"n't\", 'understand', 'the', 'point', 'of', 'having', 'all', 'of', 'the', 'liner', 'notes', 'on', 'the', 'inside', 'of', 'the', 'insert', '.', 'it', \"'s\", 'impossible', 'to', 'access', ',', 'you', 'run', 'the', 'risk', 'of', 'ruining', 'the', 'cover', ',', 'and', 'the', 'chapter', 'names', 'are', 'not', 'easy', 'to', 'get', 'at', '.', '(', 'they', 'do', \"n't\", 'help', 'much', 'anyway', ',', 'as', 'the', 'chapters', 'are', 'kind', 'of', 'unevenly', 'distributed', '.', ')', 'the', 'japanese', 'cast', 'is', 'not', 'noted', 'anywhere', 'in', 'english', '--', 'not', 'on', 'the', 'video', 'or', 'the', 'packaging', ',', 'which', 'i', 'found', 'a', 'bit', 'annoying', ',', 'especially', 'since', 'they', 'make', 'that', 'information', 'available', 'on', 'the', 'vhs', 'subtitled', 'release.', ',', ',', 'overall', ',', 'a', 'wind', 'named', 'amnesia', 'is', 'a', 'great', 'anime', 'that', 'anyone', 'that', 'considers', 'themselves', 'a', 'fan', 'should', 'pick', 'up', '.', 'never', 'mind', 'the', 'weak', 'ending', 'or', 'the', 'so-so', 'dvd', 'execution', '...', 'this', 'is', 'a', 'classic', '.', 'hey', ',', 'it', \"'s\", 'still', 'just', 'as', 'good', 'as', 'an', 'ld', 'release', '...']\n"
     ]
    }
   ],
   "source": [
    "print( preprocess_text(df2.loc[5, \"Review\"]) )"
   ]
  },
  {
   "cell_type": "code",
   "execution_count": 34,
   "metadata": {
    "collapsed": false
   },
   "outputs": [],
   "source": [
    "df1[\"Review\"] = df1[\"Review\"].map(preprocess_text)"
   ]
  },
  {
   "cell_type": "code",
   "execution_count": 35,
   "metadata": {
    "collapsed": false
   },
   "outputs": [
    {
     "data": {
      "text/html": [
       "<div>\n",
       "<table border=\"1\" class=\"dataframe\">\n",
       "  <thead>\n",
       "    <tr style=\"text-align: right;\">\n",
       "      <th></th>\n",
       "      <th>Name</th>\n",
       "      <th>Review</th>\n",
       "      <th>Rating</th>\n",
       "      <th>Story</th>\n",
       "      <th>Animation</th>\n",
       "      <th>Sound</th>\n",
       "      <th>Character</th>\n",
       "      <th>Enjoyment</th>\n",
       "    </tr>\n",
       "  </thead>\n",
       "  <tbody>\n",
       "    <tr>\n",
       "      <th>2</th>\n",
       "      <td>Nyanbo!</td>\n",
       "      <td>[i, usually, don´t, watch, this, kind, of, ani...</td>\n",
       "      <td>8.0</td>\n",
       "      <td>6.0</td>\n",
       "      <td>9.0</td>\n",
       "      <td>9.0</td>\n",
       "      <td>7.0</td>\n",
       "      <td>6.0</td>\n",
       "    </tr>\n",
       "    <tr>\n",
       "      <th>3</th>\n",
       "      <td>Boku no Pico</td>\n",
       "      <td>[good, work, ., seriously, ., children, 's, se...</td>\n",
       "      <td>7.0</td>\n",
       "      <td>6.0</td>\n",
       "      <td>6.0</td>\n",
       "      <td>6.0</td>\n",
       "      <td>7.0</td>\n",
       "      <td>5.0</td>\n",
       "    </tr>\n",
       "    <tr>\n",
       "      <th>4</th>\n",
       "      <td>Kimi no Na wa.</td>\n",
       "      <td>[there, 's, a, lot, of, shows, and, movies, no...</td>\n",
       "      <td>10.0</td>\n",
       "      <td>9.0</td>\n",
       "      <td>10.0</td>\n",
       "      <td>10.0</td>\n",
       "      <td>10.0</td>\n",
       "      <td>10.0</td>\n",
       "    </tr>\n",
       "    <tr>\n",
       "      <th>5</th>\n",
       "      <td>Cheonnyeon-yeowoo Yeowoobi</td>\n",
       "      <td>[i, really, wanted, to, like, this, movie, ., ...</td>\n",
       "      <td>6.0</td>\n",
       "      <td>6.0</td>\n",
       "      <td>7.0</td>\n",
       "      <td>5.0</td>\n",
       "      <td>7.0</td>\n",
       "      <td>6.0</td>\n",
       "    </tr>\n",
       "    <tr>\n",
       "      <th>6</th>\n",
       "      <td>Noragami</td>\n",
       "      <td>[i, think, its, pretty, obvious, where, the, f...</td>\n",
       "      <td>7.0</td>\n",
       "      <td>7.0</td>\n",
       "      <td>10.0</td>\n",
       "      <td>10.0</td>\n",
       "      <td>7.0</td>\n",
       "      <td>7.0</td>\n",
       "    </tr>\n",
       "  </tbody>\n",
       "</table>\n",
       "</div>"
      ],
      "text/plain": [
       "                         Name  \\\n",
       "2                     Nyanbo!   \n",
       "3                Boku no Pico   \n",
       "4              Kimi no Na wa.   \n",
       "5  Cheonnyeon-yeowoo Yeowoobi   \n",
       "6                    Noragami   \n",
       "\n",
       "                                              Review  Rating  Story  \\\n",
       "2  [i, usually, don´t, watch, this, kind, of, ani...     8.0    6.0   \n",
       "3  [good, work, ., seriously, ., children, 's, se...     7.0    6.0   \n",
       "4  [there, 's, a, lot, of, shows, and, movies, no...    10.0    9.0   \n",
       "5  [i, really, wanted, to, like, this, movie, ., ...     6.0    6.0   \n",
       "6  [i, think, its, pretty, obvious, where, the, f...     7.0    7.0   \n",
       "\n",
       "   Animation  Sound  Character  Enjoyment  \n",
       "2        9.0    9.0        7.0        6.0  \n",
       "3        6.0    6.0        7.0        5.0  \n",
       "4       10.0   10.0       10.0       10.0  \n",
       "5        7.0    5.0        7.0        6.0  \n",
       "6       10.0   10.0        7.0        7.0  "
      ]
     },
     "execution_count": 35,
     "metadata": {},
     "output_type": "execute_result"
    }
   ],
   "source": [
    "df1.head()"
   ]
  },
  {
   "cell_type": "code",
   "execution_count": 36,
   "metadata": {
    "collapsed": false
   },
   "outputs": [],
   "source": [
    "columns = [\"Synopsis\", \"Review\" ,\"Good_points\", \"Bad_points\"]\n",
    "\n",
    "for col in columns:\n",
    "    df2[col] = df2[col].map(preprocess_text)"
   ]
  },
  {
   "cell_type": "code",
   "execution_count": 37,
   "metadata": {
    "collapsed": false
   },
   "outputs": [
    {
     "data": {
      "text/html": [
       "<div>\n",
       "<table border=\"1\" class=\"dataframe\">\n",
       "  <thead>\n",
       "    <tr style=\"text-align: right;\">\n",
       "      <th></th>\n",
       "      <th>Name</th>\n",
       "      <th>Name2</th>\n",
       "      <th>Ratings</th>\n",
       "      <th>Synopsis</th>\n",
       "      <th>Review</th>\n",
       "      <th>Good_points</th>\n",
       "      <th>Bad_points</th>\n",
       "    </tr>\n",
       "  </thead>\n",
       "  <tbody>\n",
       "    <tr>\n",
       "      <th>0</th>\n",
       "      <td>A Silent Voice</td>\n",
       "      <td>GN 7</td>\n",
       "      <td>{'Overall': 'B+', 'Art': 'A-', 'Story': 'B-'}</td>\n",
       "      <td>[at, last, ,, shoya, has, woken, up, ., racing...</td>\n",
       "      <td>[,, a, silent, voice, reached, its, climax, at...</td>\n",
       "      <td>[maintains, a, silent, voice, 's, usual, acuit...</td>\n",
       "      <td>[feels, a, bit, overlong, in, its, resolutions...</td>\n",
       "    </tr>\n",
       "    <tr>\n",
       "      <th>1</th>\n",
       "      <td>009-1</td>\n",
       "      <td>DVD 1</td>\n",
       "      <td>{'Animation': 'B-', 'Overall (dub)': 'B', 'Mus...</td>\n",
       "      <td>[in, a, world, where, the, cold, war, continue...</td>\n",
       "      <td>[,, to, fully, and, correctly, appreciate, 009...</td>\n",
       "      <td>[musical, score, ,, fan, service, .]</td>\n",
       "      <td>[some, character, designs, are, appallingly, u...</td>\n",
       "    </tr>\n",
       "    <tr>\n",
       "      <th>2</th>\n",
       "      <td>A Town Where You Live</td>\n",
       "      <td>Sub.Blu-Ray</td>\n",
       "      <td>{'Animation': 'B', 'Overall (sub)': 'C', 'Musi...</td>\n",
       "      <td>[haruto, ca, n't, bring, himself, to, accept, ...</td>\n",
       "      <td>[,, what, happens, when, you, take, twenty-sev...</td>\n",
       "      <td>[some, great, voice, work, and, nice, animatio...</td>\n",
       "      <td>[story, comes, off, melodramatic, without, muc...</td>\n",
       "    </tr>\n",
       "    <tr>\n",
       "      <th>3</th>\n",
       "      <td>A Silent Voice</td>\n",
       "      <td>GN 6</td>\n",
       "      <td>{'Overall': 'A', 'Art': 'A-', 'Story': 'A'}</td>\n",
       "      <td>[seeing, shoko, about, to, leap, off, her, bal...</td>\n",
       "      <td>[,, it, 's, always, an, interesting, experienc...</td>\n",
       "      <td>[doubles, down, on, the, manga, 's, terrific, ...</td>\n",
       "      <td>[a, couple, dramatic, points, felt, a, little,...</td>\n",
       "    </tr>\n",
       "    <tr>\n",
       "      <th>4</th>\n",
       "      <td>A Silent Voice</td>\n",
       "      <td>GN 4</td>\n",
       "      <td>{'Overall': 'A-', 'Art': 'B', 'Story': 'A'}</td>\n",
       "      <td>[things, continue, to, change, little, by, lit...</td>\n",
       "      <td>[,, it, feels, like, a, silent, voice, 's, den...</td>\n",
       "      <td>[continues, to, demonstrate, wondrously, poign...</td>\n",
       "      <td>[some, dramatic, developments, here, could, ha...</td>\n",
       "    </tr>\n",
       "  </tbody>\n",
       "</table>\n",
       "</div>"
      ],
      "text/plain": [
       "                    Name        Name2  \\\n",
       "0         A Silent Voice         GN 7   \n",
       "1                  009-1        DVD 1   \n",
       "2  A Town Where You Live  Sub.Blu-Ray   \n",
       "3         A Silent Voice         GN 6   \n",
       "4         A Silent Voice         GN 4   \n",
       "\n",
       "                                             Ratings  \\\n",
       "0      {'Overall': 'B+', 'Art': 'A-', 'Story': 'B-'}   \n",
       "1  {'Animation': 'B-', 'Overall (dub)': 'B', 'Mus...   \n",
       "2  {'Animation': 'B', 'Overall (sub)': 'C', 'Musi...   \n",
       "3        {'Overall': 'A', 'Art': 'A-', 'Story': 'A'}   \n",
       "4        {'Overall': 'A-', 'Art': 'B', 'Story': 'A'}   \n",
       "\n",
       "                                            Synopsis  \\\n",
       "0  [at, last, ,, shoya, has, woken, up, ., racing...   \n",
       "1  [in, a, world, where, the, cold, war, continue...   \n",
       "2  [haruto, ca, n't, bring, himself, to, accept, ...   \n",
       "3  [seeing, shoko, about, to, leap, off, her, bal...   \n",
       "4  [things, continue, to, change, little, by, lit...   \n",
       "\n",
       "                                              Review  \\\n",
       "0  [,, a, silent, voice, reached, its, climax, at...   \n",
       "1  [,, to, fully, and, correctly, appreciate, 009...   \n",
       "2  [,, what, happens, when, you, take, twenty-sev...   \n",
       "3  [,, it, 's, always, an, interesting, experienc...   \n",
       "4  [,, it, feels, like, a, silent, voice, 's, den...   \n",
       "\n",
       "                                         Good_points  \\\n",
       "0  [maintains, a, silent, voice, 's, usual, acuit...   \n",
       "1               [musical, score, ,, fan, service, .]   \n",
       "2  [some, great, voice, work, and, nice, animatio...   \n",
       "3  [doubles, down, on, the, manga, 's, terrific, ...   \n",
       "4  [continues, to, demonstrate, wondrously, poign...   \n",
       "\n",
       "                                          Bad_points  \n",
       "0  [feels, a, bit, overlong, in, its, resolutions...  \n",
       "1  [some, character, designs, are, appallingly, u...  \n",
       "2  [story, comes, off, melodramatic, without, muc...  \n",
       "3  [a, couple, dramatic, points, felt, a, little,...  \n",
       "4  [some, dramatic, developments, here, could, ha...  "
      ]
     },
     "execution_count": 37,
     "metadata": {},
     "output_type": "execute_result"
    }
   ],
   "source": [
    "df2.head()"
   ]
  },
  {
   "cell_type": "markdown",
   "metadata": {},
   "source": [
    "## Preprocessing ratings"
   ]
  },
  {
   "cell_type": "code",
   "execution_count": 38,
   "metadata": {
    "collapsed": false
   },
   "outputs": [],
   "source": [
    "#converting string of ratings to dictionary\n",
    "import ast\n",
    "\n",
    "ratings = df2[\"Ratings\"].copy()\n",
    "ratings = ratings.map(ast.literal_eval)"
   ]
  },
  {
   "cell_type": "code",
   "execution_count": 39,
   "metadata": {
    "collapsed": false
   },
   "outputs": [],
   "source": [
    "# getting all paris e.g (\"Animation, A-)\n",
    "all_pairs_ratings = [(name, rating) for rating in ratings\n",
    "                                    for name, rating in rating.items()]"
   ]
  },
  {
   "cell_type": "code",
   "execution_count": 40,
   "metadata": {
    "collapsed": false
   },
   "outputs": [],
   "source": [
    "#getting dict e.g all_ratings[\"Story\"] = [A, B-, C, A, ...]\n",
    "from collections import defaultdict\n",
    "\n",
    "all_ratings = defaultdict(list)\n",
    "\n",
    "for name, rating in all_pairs_ratings:\n",
    "    all_ratings[name].append(rating)"
   ]
  },
  {
   "cell_type": "code",
   "execution_count": 41,
   "metadata": {
    "collapsed": false
   },
   "outputs": [
    {
     "data": {
      "text/plain": [
       "{'A', 'A+', 'A-', 'B', 'B+', 'B-', 'C', 'C+', 'C-', 'D', 'D+', 'D-', 'E-'}"
      ]
     },
     "execution_count": 41,
     "metadata": {},
     "output_type": "execute_result"
    }
   ],
   "source": [
    "# getting all posible values of a rating\n",
    "rating_values = {value for value_list in all_ratings.values()\n",
    "                       for value in value_list}\n",
    "rating_values"
   ]
  },
  {
   "cell_type": "code",
   "execution_count": 42,
   "metadata": {
    "collapsed": false
   },
   "outputs": [],
   "source": [
    "# changing letters to numbers\n",
    "rating_map = {'A' : 11, 'A+' : 12, 'A-' : 10, 'B' : 8, 'B+' : 9, 'B-' : 7, 'C' : 5, 'C+' : 6, \n",
    "              'C-' : 4, 'D' : 1, 'D+' : 2, 'D-' : 0, 'E-' : -1}\n",
    "\n",
    "all_ratings_num = {name : pd.Series(rating_list).map(rating_map)\n",
    "                               for name, rating_list in all_ratings.items()}"
   ]
  },
  {
   "cell_type": "code",
   "execution_count": 43,
   "metadata": {
    "collapsed": false
   },
   "outputs": [
    {
     "data": {
      "text/plain": [
       "[('Art', 3828),\n",
       " ('Story', 3792),\n",
       " ('Music', 2635),\n",
       " ('Animation', 2512),\n",
       " ('Overall (sub)', 2385),\n",
       " ('Overall (dub)', 1754),\n",
       " ('Overall', 1584),\n",
       " ('Graphics', 122),\n",
       " ('Gameplay', 119),\n",
       " ('Presentation', 119),\n",
       " ('Ball Z', 1),\n",
       " ('Tari Tari', 1),\n",
       " ('FX', 1),\n",
       " ('Dogs', 1),\n",
       " ('Ace Attorney', 1),\n",
       " ('Kanon', 1),\n",
       " ('Death Note', 1),\n",
       " ('Butler II', 1),\n",
       " ('Nazca', 1),\n",
       " ('DBZ', 1),\n",
       " ('Bizarre Adventure', 1)]"
      ]
     },
     "execution_count": 43,
     "metadata": {},
     "output_type": "execute_result"
    }
   ],
   "source": [
    "# getting tthe most popular subjects of rating\n",
    "from operator import itemgetter\n",
    "sorted([(key, value.count()) for key, value in all_ratings_num.items()], key= itemgetter(1), reverse = True)"
   ]
  },
  {
   "cell_type": "code",
   "execution_count": 44,
   "metadata": {
    "collapsed": false
   },
   "outputs": [],
   "source": [
    "# adding columns to the data frame\n",
    "\n",
    "def Extract_rating(dict_rating, names):\n",
    "    dict_rating = ast.literal_eval(dict_rating)\n",
    "    return np.mean([rating_map[value] \n",
    "                            for key, value in dict_rating.items() if key in names])"
   ]
  },
  {
   "cell_type": "code",
   "execution_count": 45,
   "metadata": {
    "collapsed": false
   },
   "outputs": [
    {
     "name": "stderr",
     "output_type": "stream",
     "text": [
      "C:\\Users\\SmilingAtheist\\Anaconda3\\lib\\site-packages\\numpy\\core\\_methods.py:59: RuntimeWarning: Mean of empty slice.\n",
      "  warnings.warn(\"Mean of empty slice.\", RuntimeWarning)\n"
     ]
    }
   ],
   "source": [
    "Overall = ['Overall', 'Overall (sub)', 'Overall (dub)']\n",
    "\n",
    "df2[\"Overall\"] = df2[\"Ratings\"].map( lambda x: Extract_rating(x, Overall))"
   ]
  },
  {
   "cell_type": "code",
   "execution_count": 46,
   "metadata": {
    "collapsed": false
   },
   "outputs": [
    {
     "name": "stderr",
     "output_type": "stream",
     "text": [
      "C:\\Users\\SmilingAtheist\\Anaconda3\\lib\\site-packages\\numpy\\core\\_methods.py:59: RuntimeWarning: Mean of empty slice.\n",
      "  warnings.warn(\"Mean of empty slice.\", RuntimeWarning)\n"
     ]
    }
   ],
   "source": [
    "df2[\"Animation\"] = df2[\"Ratings\"].map( lambda x: Extract_rating(x, \"Animation\"))"
   ]
  },
  {
   "cell_type": "code",
   "execution_count": 47,
   "metadata": {
    "collapsed": false
   },
   "outputs": [
    {
     "name": "stderr",
     "output_type": "stream",
     "text": [
      "C:\\Users\\SmilingAtheist\\Anaconda3\\lib\\site-packages\\numpy\\core\\_methods.py:59: RuntimeWarning: Mean of empty slice.\n",
      "  warnings.warn(\"Mean of empty slice.\", RuntimeWarning)\n"
     ]
    }
   ],
   "source": [
    "df2[\"Music\"] = df2[\"Ratings\"].map( lambda x: Extract_rating(x, \"Music\"))"
   ]
  },
  {
   "cell_type": "code",
   "execution_count": 48,
   "metadata": {
    "collapsed": false
   },
   "outputs": [
    {
     "name": "stderr",
     "output_type": "stream",
     "text": [
      "C:\\Users\\SmilingAtheist\\Anaconda3\\lib\\site-packages\\numpy\\core\\_methods.py:59: RuntimeWarning: Mean of empty slice.\n",
      "  warnings.warn(\"Mean of empty slice.\", RuntimeWarning)\n"
     ]
    }
   ],
   "source": [
    "df2[\"Story\"] = df2[\"Ratings\"].map( lambda x: Extract_rating(x, \"Story\"))"
   ]
  },
  {
   "cell_type": "code",
   "execution_count": 49,
   "metadata": {
    "collapsed": false
   },
   "outputs": [
    {
     "name": "stderr",
     "output_type": "stream",
     "text": [
      "C:\\Users\\SmilingAtheist\\Anaconda3\\lib\\site-packages\\numpy\\core\\_methods.py:59: RuntimeWarning: Mean of empty slice.\n",
      "  warnings.warn(\"Mean of empty slice.\", RuntimeWarning)\n"
     ]
    }
   ],
   "source": [
    "df2[\"Art\"] = df2[\"Ratings\"].map( lambda x: Extract_rating(x, \"Art\"))"
   ]
  },
  {
   "cell_type": "code",
   "execution_count": 50,
   "metadata": {
    "collapsed": false
   },
   "outputs": [
    {
     "data": {
      "text/plain": [
       "7.723904052936312"
      ]
     },
     "execution_count": 50,
     "metadata": {},
     "output_type": "execute_result"
    }
   ],
   "source": [
    "mean_overall_2 = df2[\"Overall\"].mean()\n",
    "mean_overall_2"
   ]
  },
  {
   "cell_type": "code",
   "execution_count": 51,
   "metadata": {
    "collapsed": true
   },
   "outputs": [],
   "source": [
    "df2[\"Above_average\"] = df2[\"Overall\"].map(lambda x: int(x > mean_overall_2) )"
   ]
  },
  {
   "cell_type": "code",
   "execution_count": 52,
   "metadata": {
    "collapsed": false
   },
   "outputs": [
    {
     "data": {
      "text/html": [
       "<div>\n",
       "<table border=\"1\" class=\"dataframe\">\n",
       "  <thead>\n",
       "    <tr style=\"text-align: right;\">\n",
       "      <th></th>\n",
       "      <th>Name</th>\n",
       "      <th>Name2</th>\n",
       "      <th>Ratings</th>\n",
       "      <th>Synopsis</th>\n",
       "      <th>Review</th>\n",
       "      <th>Good_points</th>\n",
       "      <th>Bad_points</th>\n",
       "      <th>Overall</th>\n",
       "      <th>Animation</th>\n",
       "      <th>Music</th>\n",
       "      <th>Story</th>\n",
       "      <th>Art</th>\n",
       "      <th>Above_average</th>\n",
       "    </tr>\n",
       "  </thead>\n",
       "  <tbody>\n",
       "    <tr>\n",
       "      <th>0</th>\n",
       "      <td>A Silent Voice</td>\n",
       "      <td>GN 7</td>\n",
       "      <td>{'Overall': 'B+', 'Art': 'A-', 'Story': 'B-'}</td>\n",
       "      <td>[at, last, ,, shoya, has, woken, up, ., racing...</td>\n",
       "      <td>[,, a, silent, voice, reached, its, climax, at...</td>\n",
       "      <td>[maintains, a, silent, voice, 's, usual, acuit...</td>\n",
       "      <td>[feels, a, bit, overlong, in, its, resolutions...</td>\n",
       "      <td>9.0</td>\n",
       "      <td>NaN</td>\n",
       "      <td>NaN</td>\n",
       "      <td>7.0</td>\n",
       "      <td>10.0</td>\n",
       "      <td>1</td>\n",
       "    </tr>\n",
       "    <tr>\n",
       "      <th>1</th>\n",
       "      <td>009-1</td>\n",
       "      <td>DVD 1</td>\n",
       "      <td>{'Animation': 'B-', 'Overall (dub)': 'B', 'Mus...</td>\n",
       "      <td>[in, a, world, where, the, cold, war, continue...</td>\n",
       "      <td>[,, to, fully, and, correctly, appreciate, 009...</td>\n",
       "      <td>[musical, score, ,, fan, service, .]</td>\n",
       "      <td>[some, character, designs, are, appallingly, u...</td>\n",
       "      <td>8.0</td>\n",
       "      <td>7.0</td>\n",
       "      <td>10.0</td>\n",
       "      <td>7.0</td>\n",
       "      <td>9.0</td>\n",
       "      <td>1</td>\n",
       "    </tr>\n",
       "    <tr>\n",
       "      <th>2</th>\n",
       "      <td>A Town Where You Live</td>\n",
       "      <td>Sub.Blu-Ray</td>\n",
       "      <td>{'Animation': 'B', 'Overall (sub)': 'C', 'Musi...</td>\n",
       "      <td>[haruto, ca, n't, bring, himself, to, accept, ...</td>\n",
       "      <td>[,, what, happens, when, you, take, twenty-sev...</td>\n",
       "      <td>[some, great, voice, work, and, nice, animatio...</td>\n",
       "      <td>[story, comes, off, melodramatic, without, muc...</td>\n",
       "      <td>5.0</td>\n",
       "      <td>8.0</td>\n",
       "      <td>6.0</td>\n",
       "      <td>4.0</td>\n",
       "      <td>8.0</td>\n",
       "      <td>0</td>\n",
       "    </tr>\n",
       "    <tr>\n",
       "      <th>3</th>\n",
       "      <td>A Silent Voice</td>\n",
       "      <td>GN 6</td>\n",
       "      <td>{'Overall': 'A', 'Art': 'A-', 'Story': 'A'}</td>\n",
       "      <td>[seeing, shoko, about, to, leap, off, her, bal...</td>\n",
       "      <td>[,, it, 's, always, an, interesting, experienc...</td>\n",
       "      <td>[doubles, down, on, the, manga, 's, terrific, ...</td>\n",
       "      <td>[a, couple, dramatic, points, felt, a, little,...</td>\n",
       "      <td>11.0</td>\n",
       "      <td>NaN</td>\n",
       "      <td>NaN</td>\n",
       "      <td>11.0</td>\n",
       "      <td>10.0</td>\n",
       "      <td>1</td>\n",
       "    </tr>\n",
       "    <tr>\n",
       "      <th>4</th>\n",
       "      <td>A Silent Voice</td>\n",
       "      <td>GN 4</td>\n",
       "      <td>{'Overall': 'A-', 'Art': 'B', 'Story': 'A'}</td>\n",
       "      <td>[things, continue, to, change, little, by, lit...</td>\n",
       "      <td>[,, it, feels, like, a, silent, voice, 's, den...</td>\n",
       "      <td>[continues, to, demonstrate, wondrously, poign...</td>\n",
       "      <td>[some, dramatic, developments, here, could, ha...</td>\n",
       "      <td>10.0</td>\n",
       "      <td>NaN</td>\n",
       "      <td>NaN</td>\n",
       "      <td>11.0</td>\n",
       "      <td>8.0</td>\n",
       "      <td>1</td>\n",
       "    </tr>\n",
       "  </tbody>\n",
       "</table>\n",
       "</div>"
      ],
      "text/plain": [
       "                    Name        Name2  \\\n",
       "0         A Silent Voice         GN 7   \n",
       "1                  009-1        DVD 1   \n",
       "2  A Town Where You Live  Sub.Blu-Ray   \n",
       "3         A Silent Voice         GN 6   \n",
       "4         A Silent Voice         GN 4   \n",
       "\n",
       "                                             Ratings  \\\n",
       "0      {'Overall': 'B+', 'Art': 'A-', 'Story': 'B-'}   \n",
       "1  {'Animation': 'B-', 'Overall (dub)': 'B', 'Mus...   \n",
       "2  {'Animation': 'B', 'Overall (sub)': 'C', 'Musi...   \n",
       "3        {'Overall': 'A', 'Art': 'A-', 'Story': 'A'}   \n",
       "4        {'Overall': 'A-', 'Art': 'B', 'Story': 'A'}   \n",
       "\n",
       "                                            Synopsis  \\\n",
       "0  [at, last, ,, shoya, has, woken, up, ., racing...   \n",
       "1  [in, a, world, where, the, cold, war, continue...   \n",
       "2  [haruto, ca, n't, bring, himself, to, accept, ...   \n",
       "3  [seeing, shoko, about, to, leap, off, her, bal...   \n",
       "4  [things, continue, to, change, little, by, lit...   \n",
       "\n",
       "                                              Review  \\\n",
       "0  [,, a, silent, voice, reached, its, climax, at...   \n",
       "1  [,, to, fully, and, correctly, appreciate, 009...   \n",
       "2  [,, what, happens, when, you, take, twenty-sev...   \n",
       "3  [,, it, 's, always, an, interesting, experienc...   \n",
       "4  [,, it, feels, like, a, silent, voice, 's, den...   \n",
       "\n",
       "                                         Good_points  \\\n",
       "0  [maintains, a, silent, voice, 's, usual, acuit...   \n",
       "1               [musical, score, ,, fan, service, .]   \n",
       "2  [some, great, voice, work, and, nice, animatio...   \n",
       "3  [doubles, down, on, the, manga, 's, terrific, ...   \n",
       "4  [continues, to, demonstrate, wondrously, poign...   \n",
       "\n",
       "                                          Bad_points  Overall  Animation  \\\n",
       "0  [feels, a, bit, overlong, in, its, resolutions...      9.0        NaN   \n",
       "1  [some, character, designs, are, appallingly, u...      8.0        7.0   \n",
       "2  [story, comes, off, melodramatic, without, muc...      5.0        8.0   \n",
       "3  [a, couple, dramatic, points, felt, a, little,...     11.0        NaN   \n",
       "4  [some, dramatic, developments, here, could, ha...     10.0        NaN   \n",
       "\n",
       "   Music  Story   Art  Above_average  \n",
       "0    NaN    7.0  10.0              1  \n",
       "1   10.0    7.0   9.0              1  \n",
       "2    6.0    4.0   8.0              0  \n",
       "3    NaN   11.0  10.0              1  \n",
       "4    NaN   11.0   8.0              1  "
      ]
     },
     "execution_count": 52,
     "metadata": {},
     "output_type": "execute_result"
    }
   ],
   "source": [
    "df2.head()"
   ]
  },
  {
   "cell_type": "code",
   "execution_count": 53,
   "metadata": {
    "collapsed": true
   },
   "outputs": [],
   "source": [
    "# Switching to My Anime List"
   ]
  },
  {
   "cell_type": "code",
   "execution_count": 54,
   "metadata": {
    "collapsed": false
   },
   "outputs": [
    {
     "data": {
      "text/plain": [
       "7.561758540592601"
      ]
     },
     "execution_count": 54,
     "metadata": {},
     "output_type": "execute_result"
    }
   ],
   "source": [
    "# adding the above_average column to the df1 data frame\n",
    "mean_overall_1 = df1[\"Rating\"].mean()\n",
    "mean_overall_1"
   ]
  },
  {
   "cell_type": "code",
   "execution_count": 55,
   "metadata": {
    "collapsed": false
   },
   "outputs": [],
   "source": [
    "df1[\"Above_average\"] = df1[\"Rating\"].map(lambda x: int(x > mean_overall_1) )"
   ]
  },
  {
   "cell_type": "code",
   "execution_count": 56,
   "metadata": {
    "collapsed": false
   },
   "outputs": [
    {
     "data": {
      "text/html": [
       "<div>\n",
       "<table border=\"1\" class=\"dataframe\">\n",
       "  <thead>\n",
       "    <tr style=\"text-align: right;\">\n",
       "      <th></th>\n",
       "      <th>Name</th>\n",
       "      <th>Review</th>\n",
       "      <th>Rating</th>\n",
       "      <th>Story</th>\n",
       "      <th>Animation</th>\n",
       "      <th>Sound</th>\n",
       "      <th>Character</th>\n",
       "      <th>Enjoyment</th>\n",
       "      <th>Above_average</th>\n",
       "    </tr>\n",
       "  </thead>\n",
       "  <tbody>\n",
       "    <tr>\n",
       "      <th>2</th>\n",
       "      <td>Nyanbo!</td>\n",
       "      <td>[i, usually, don´t, watch, this, kind, of, ani...</td>\n",
       "      <td>8.0</td>\n",
       "      <td>6.0</td>\n",
       "      <td>9.0</td>\n",
       "      <td>9.0</td>\n",
       "      <td>7.0</td>\n",
       "      <td>6.0</td>\n",
       "      <td>1</td>\n",
       "    </tr>\n",
       "    <tr>\n",
       "      <th>3</th>\n",
       "      <td>Boku no Pico</td>\n",
       "      <td>[good, work, ., seriously, ., children, 's, se...</td>\n",
       "      <td>7.0</td>\n",
       "      <td>6.0</td>\n",
       "      <td>6.0</td>\n",
       "      <td>6.0</td>\n",
       "      <td>7.0</td>\n",
       "      <td>5.0</td>\n",
       "      <td>0</td>\n",
       "    </tr>\n",
       "    <tr>\n",
       "      <th>4</th>\n",
       "      <td>Kimi no Na wa.</td>\n",
       "      <td>[there, 's, a, lot, of, shows, and, movies, no...</td>\n",
       "      <td>10.0</td>\n",
       "      <td>9.0</td>\n",
       "      <td>10.0</td>\n",
       "      <td>10.0</td>\n",
       "      <td>10.0</td>\n",
       "      <td>10.0</td>\n",
       "      <td>1</td>\n",
       "    </tr>\n",
       "    <tr>\n",
       "      <th>5</th>\n",
       "      <td>Cheonnyeon-yeowoo Yeowoobi</td>\n",
       "      <td>[i, really, wanted, to, like, this, movie, ., ...</td>\n",
       "      <td>6.0</td>\n",
       "      <td>6.0</td>\n",
       "      <td>7.0</td>\n",
       "      <td>5.0</td>\n",
       "      <td>7.0</td>\n",
       "      <td>6.0</td>\n",
       "      <td>0</td>\n",
       "    </tr>\n",
       "    <tr>\n",
       "      <th>6</th>\n",
       "      <td>Noragami</td>\n",
       "      <td>[i, think, its, pretty, obvious, where, the, f...</td>\n",
       "      <td>7.0</td>\n",
       "      <td>7.0</td>\n",
       "      <td>10.0</td>\n",
       "      <td>10.0</td>\n",
       "      <td>7.0</td>\n",
       "      <td>7.0</td>\n",
       "      <td>0</td>\n",
       "    </tr>\n",
       "  </tbody>\n",
       "</table>\n",
       "</div>"
      ],
      "text/plain": [
       "                         Name  \\\n",
       "2                     Nyanbo!   \n",
       "3                Boku no Pico   \n",
       "4              Kimi no Na wa.   \n",
       "5  Cheonnyeon-yeowoo Yeowoobi   \n",
       "6                    Noragami   \n",
       "\n",
       "                                              Review  Rating  Story  \\\n",
       "2  [i, usually, don´t, watch, this, kind, of, ani...     8.0    6.0   \n",
       "3  [good, work, ., seriously, ., children, 's, se...     7.0    6.0   \n",
       "4  [there, 's, a, lot, of, shows, and, movies, no...    10.0    9.0   \n",
       "5  [i, really, wanted, to, like, this, movie, ., ...     6.0    6.0   \n",
       "6  [i, think, its, pretty, obvious, where, the, f...     7.0    7.0   \n",
       "\n",
       "   Animation  Sound  Character  Enjoyment  Above_average  \n",
       "2        9.0    9.0        7.0        6.0              1  \n",
       "3        6.0    6.0        7.0        5.0              0  \n",
       "4       10.0   10.0       10.0       10.0              1  \n",
       "5        7.0    5.0        7.0        6.0              0  \n",
       "6       10.0   10.0        7.0        7.0              0  "
      ]
     },
     "execution_count": 56,
     "metadata": {},
     "output_type": "execute_result"
    }
   ],
   "source": [
    "df1.head()"
   ]
  },
  {
   "cell_type": "markdown",
   "metadata": {},
   "source": [
    "# Exploring the data"
   ]
  },
  {
   "cell_type": "markdown",
   "metadata": {
    "collapsed": true
   },
   "source": [
    "## Ratings distributions"
   ]
  },
  {
   "cell_type": "code",
   "execution_count": 57,
   "metadata": {
    "collapsed": false
   },
   "outputs": [
    {
     "data": {
      "text/plain": [
       "<matplotlib.axes._subplots.AxesSubplot at 0x268e02a6be0>"
      ]
     },
     "execution_count": 57,
     "metadata": {},
     "output_type": "execute_result"
    },
    {
     "data": {
      "image/png": "[encoded data removed]",
      "text/plain": [
       "<matplotlib.figure.Figure at 0x268e02a6358>"
      ]
     },
     "metadata": {},
     "output_type": "display_data"
    }
   ],
   "source": [
    "sns.distplot(df1[\"Rating\"], bins = 10, kde = False)"
   ]
  },
  {
   "cell_type": "code",
   "execution_count": 58,
   "metadata": {
    "collapsed": false
   },
   "outputs": [
    {
     "data": {
      "text/plain": [
       "<matplotlib.axes._subplots.AxesSubplot at 0x268e02e1630>"
      ]
     },
     "execution_count": 58,
     "metadata": {},
     "output_type": "execute_result"
    },
    {
     "data": {
      "image/png": "[encoded data removed]",
      "text/plain": [
       "<matplotlib.figure.Figure at 0x268e030ef60>"
      ]
     },
     "metadata": {},
     "output_type": "display_data"
    }
   ],
   "source": [
    "sns.distplot(df1[\"Story\"], bins = 10, kde = False)"
   ]
  },
  {
   "cell_type": "code",
   "execution_count": 59,
   "metadata": {
    "collapsed": false
   },
   "outputs": [
    {
     "data": {
      "text/plain": [
       "<matplotlib.axes._subplots.AxesSubplot at 0x268e0348b38>"
      ]
     },
     "execution_count": 59,
     "metadata": {},
     "output_type": "execute_result"
    },
    {
     "data": {
      "image/png": "[encoded data removed]",
      "text/plain": [
       "<matplotlib.figure.Figure at 0x268e03c2080>"
      ]
     },
     "metadata": {},
     "output_type": "display_data"
    }
   ],
   "source": [
    "sns.distplot(df1[\"Animation\"], bins = 10, kde = False)"
   ]
  },
  {
   "cell_type": "code",
   "execution_count": 60,
   "metadata": {
    "collapsed": false
   },
   "outputs": [
    {
     "data": {
      "text/plain": [
       "<matplotlib.axes._subplots.AxesSubplot at 0x268e0320ba8>"
      ]
     },
     "execution_count": 60,
     "metadata": {},
     "output_type": "execute_result"
    },
    {
     "data": {
      "image/png": "[encoded data removed]",
      "text/plain": [
       "<matplotlib.figure.Figure at 0x268e03ee1d0>"
      ]
     },
     "metadata": {},
     "output_type": "display_data"
    }
   ],
   "source": [
    "sns.distplot(df1[\"Sound\"], bins = 10, kde = False)"
   ]
  },
  {
   "cell_type": "code",
   "execution_count": 61,
   "metadata": {
    "collapsed": false
   },
   "outputs": [
    {
     "data": {
      "text/plain": [
       "<matplotlib.axes._subplots.AxesSubplot at 0x268e0342128>"
      ]
     },
     "execution_count": 61,
     "metadata": {},
     "output_type": "execute_result"
    },
    {
     "data": {
      "image/png": "[encoded data removed]",
      "text/plain": [
       "<matplotlib.figure.Figure at 0x268e046dba8>"
      ]
     },
     "metadata": {},
     "output_type": "display_data"
    }
   ],
   "source": [
    "sns.distplot(df1[\"Character\"], bins = 10, kde = False)"
   ]
  },
  {
   "cell_type": "code",
   "execution_count": 62,
   "metadata": {
    "collapsed": false
   },
   "outputs": [
    {
     "data": {
      "text/plain": [
       "<matplotlib.axes._subplots.AxesSubplot at 0x268e0bc3e10>"
      ]
     },
     "execution_count": 62,
     "metadata": {},
     "output_type": "execute_result"
    },
    {
     "data": {
      "image/png": "[encoded data removed]",
      "text/plain": [
       "<matplotlib.figure.Figure at 0x268e0bce9b0>"
      ]
     },
     "metadata": {},
     "output_type": "display_data"
    }
   ],
   "source": [
    "sns.distplot(df1[\"Enjoyment\"], bins = 10, kde = False)"
   ]
  },
  {
   "cell_type": "markdown",
   "metadata": {},
   "source": [
    "Apparently people don't generally like to write reviews with low ratings at My Anime List."
   ]
  },
  {
   "cell_type": "code",
   "execution_count": 63,
   "metadata": {
    "collapsed": false
   },
   "outputs": [
    {
     "data": {
      "text/plain": [
       "<matplotlib.axes._subplots.AxesSubplot at 0x268e0f59860>"
      ]
     },
     "execution_count": 63,
     "metadata": {},
     "output_type": "execute_result"
    },
    {
     "data": {
      "image/png": "[encoded data removed]",
      "text/plain": [
       "<matplotlib.figure.Figure at 0x268e0f5ecf8>"
      ]
     },
     "metadata": {},
     "output_type": "display_data"
    }
   ],
   "source": [
    "sns.distplot(df2[\"Story\"].dropna(), bins = 12, kde = False)"
   ]
  },
  {
   "cell_type": "code",
   "execution_count": 64,
   "metadata": {
    "collapsed": false
   },
   "outputs": [
    {
     "data": {
      "text/plain": [
       "<matplotlib.axes._subplots.AxesSubplot at 0x268e0c98470>"
      ]
     },
     "execution_count": 64,
     "metadata": {},
     "output_type": "execute_result"
    },
    {
     "data": {
      "image/png": "[encoded data removed]",
      "text/plain": [
       "<matplotlib.figure.Figure at 0x268e0cfa8d0>"
      ]
     },
     "metadata": {},
     "output_type": "display_data"
    }
   ],
   "source": [
    "sns.distplot(df2[\"Art\"].dropna(), bins = 12, kde = False)"
   ]
  },
  {
   "cell_type": "code",
   "execution_count": 65,
   "metadata": {
    "collapsed": false
   },
   "outputs": [
    {
     "data": {
      "text/plain": [
       "<matplotlib.axes._subplots.AxesSubplot at 0x268e0d27668>"
      ]
     },
     "execution_count": 65,
     "metadata": {},
     "output_type": "execute_result"
    },
    {
     "data": {
      "image/png": "[encoded data removed]",
      "text/plain": [
       "<matplotlib.figure.Figure at 0x268e0c82358>"
      ]
     },
     "metadata": {},
     "output_type": "display_data"
    }
   ],
   "source": [
    "sns.distplot(df2[\"Music\"].dropna(), bins = 12, kde = False)"
   ]
  },
  {
   "cell_type": "code",
   "execution_count": 66,
   "metadata": {
    "collapsed": false
   },
   "outputs": [
    {
     "data": {
      "text/plain": [
       "<matplotlib.axes._subplots.AxesSubplot at 0x268e0daa208>"
      ]
     },
     "execution_count": 66,
     "metadata": {},
     "output_type": "execute_result"
    },
    {
     "data": {
      "image/png": "[encoded data removed]",
      "text/plain": [
       "<matplotlib.figure.Figure at 0x268e0fd5390>"
      ]
     },
     "metadata": {},
     "output_type": "display_data"
    }
   ],
   "source": [
    "sns.distplot(df2[\"Overall\"].dropna(), bins = 12, kde = False)"
   ]
  },
  {
   "cell_type": "markdown",
   "metadata": {},
   "source": [
    "Reviews from Anime News Network aren't that positive. They're more balanced."
   ]
  },
  {
   "cell_type": "markdown",
   "metadata": {},
   "source": [
    "## Correlations between ratings"
   ]
  },
  {
   "cell_type": "code",
   "execution_count": 67,
   "metadata": {
    "collapsed": false
   },
   "outputs": [
    {
     "data": {
      "image/png": "[encoded data removed]",
      "text/plain": [
       "<matplotlib.figure.Figure at 0x268e0fa7d30>"
      ]
     },
     "metadata": {},
     "output_type": "display_data"
    }
   ],
   "source": [
    "#My anime list\n",
    "cols = [\"Rating\", \"Story\", \"Animation\", \"Sound\", \"Character\", \"Enjoyment\", \"Above_average\"]\n",
    "\n",
    "import numpy as np\n",
    "cm = np.corrcoef(df1[cols].values.T)\n",
    "sns.set(font_scale=1.5)\n",
    "hm = sns.heatmap(cm, \n",
    "            cbar=True,\n",
    "            annot=True, \n",
    "            square=True,\n",
    "            fmt='.2f',\n",
    "            annot_kws={'size': 15},\n",
    "            yticklabels=cols,\n",
    "            xticklabels=cols)\n",
    "\n",
    "plt.tight_layout()\n",
    "# plt.savefig('./figures/corr_mat.png', dpi=300)\n",
    "plt.show()"
   ]
  },
  {
   "cell_type": "markdown",
   "metadata": {},
   "source": [
    "Enjoyment seems to be the most important for My Anime List users."
   ]
  },
  {
   "cell_type": "code",
   "execution_count": 68,
   "metadata": {
    "collapsed": false
   },
   "outputs": [
    {
     "data": {
      "image/png": "[encoded data removed]",
      "text/plain": [
       "<matplotlib.figure.Figure at 0x268e0ff6e48>"
      ]
     },
     "metadata": {},
     "output_type": "display_data"
    }
   ],
   "source": [
    "#Anime news netwrok\n",
    "cols = ['Overall', 'Animation', 'Music', 'Story', 'Art', \"Above_average\"]\n",
    "\n",
    "import numpy as np\n",
    "cm = np.corrcoef(df2[cols].dropna().values.T)\n",
    "sns.set(font_scale=1.5)\n",
    "hm = sns.heatmap(cm, \n",
    "            cbar=True,\n",
    "            annot=True, \n",
    "            square=True,\n",
    "            fmt='.2f',\n",
    "            annot_kws={'size': 15},\n",
    "            yticklabels=cols,\n",
    "            xticklabels=cols)\n",
    "\n",
    "plt.tight_layout()\n",
    "# plt.savefig('./figures/corr_mat.png', dpi=300)\n",
    "plt.show()"
   ]
  },
  {
   "cell_type": "markdown",
   "metadata": {},
   "source": [
    "The story seems to be the most important this time."
   ]
  },
  {
   "cell_type": "markdown",
   "metadata": {},
   "source": [
    "## Exploring the text data"
   ]
  },
  {
   "cell_type": "code",
   "execution_count": 69,
   "metadata": {
    "collapsed": true
   },
   "outputs": [],
   "source": [
    "import nltk"
   ]
  },
  {
   "cell_type": "code",
   "execution_count": 70,
   "metadata": {
    "collapsed": false
   },
   "outputs": [],
   "source": [
    "ANN_Reviews = nltk.text.TextCollection(df2[\"Review\"])"
   ]
  },
  {
   "cell_type": "code",
   "execution_count": 71,
   "metadata": {
    "collapsed": false
   },
   "outputs": [
    {
     "name": "stdout",
     "output_type": "stream",
     "text": [
      "character designs; fan service; high school; second half; english dub;\n",
      "sound effects; musical score; first volume; action scenes; first half;\n",
      "character development; original japanese; feels like; english script;\n",
      "voice actors; clean opener; magical girl; looks like; sailor moon;\n",
      "dragon ball\n"
     ]
    }
   ],
   "source": [
    "ANN_Reviews.collocations()"
   ]
  },
  {
   "cell_type": "markdown",
   "metadata": {},
   "source": [
    "hmm..."
   ]
  },
  {
   "cell_type": "code",
   "execution_count": 72,
   "metadata": {
    "collapsed": true
   },
   "outputs": [],
   "source": [
    "MyAnimeList_Reviews = nltk.text.TextCollection(df1[\"Review\"])"
   ]
  },
  {
   "cell_type": "code",
   "execution_count": 73,
   "metadata": {
    "collapsed": false
   },
   "outputs": [
    {
     "name": "stdout",
     "output_type": "stream",
     "text": [
      "character development; main character; voice acting; high school; even\n",
      "though; second season; main characters; character designs; first\n",
      "season; voice actors; 've seen; pretty much; art style; fan service;\n",
      "n't really; first episode; well done; code geass; ever seen; feel like\n"
     ]
    }
   ],
   "source": [
    "MyAnimeList_Reviews.collocations()"
   ]
  },
  {
   "cell_type": "markdown",
   "metadata": {},
   "source": [
    "# Training a model"
   ]
  },
  {
   "cell_type": "code",
   "execution_count": 194,
   "metadata": {
    "collapsed": false
   },
   "outputs": [],
   "source": [
    "# dividing data into a training set and a test set\n",
    "from sklearn.model_selection import train_test_split\n",
    "\n",
    "X1 = df1[\"Review\"].values\n",
    "y1 = df1['Rating'].values\n",
    "\n",
    "X_for_now, X_for_later, y_for_now, y_for_later = train_test_split(X1, y1, test_size = 0.4)"
   ]
  },
  {
   "cell_type": "code",
   "execution_count": 210,
   "metadata": {
    "collapsed": false
   },
   "outputs": [
    {
     "data": {
      "text/plain": [
       "(52953,)"
      ]
     },
     "execution_count": 210,
     "metadata": {},
     "output_type": "execute_result"
    }
   ],
   "source": [
    "X_for_now.shape"
   ]
  },
  {
   "cell_type": "code",
   "execution_count": 211,
   "metadata": {
    "collapsed": true
   },
   "outputs": [],
   "source": [
    "# dividing data into a training set and a test set\n",
    "X_train_raw, X_test_raw, y_train_raw, y_test_raw = train_test_split(X_for_now, y_for_now, test_size = 0.1)"
   ]
  },
  {
   "cell_type": "code",
   "execution_count": 212,
   "metadata": {
    "collapsed": false
   },
   "outputs": [],
   "source": [
    "# How to change lists of words to vectors\n",
    "from sklearn.feature_extraction.text import TfidfVectorizer\n",
    "\n",
    "def identity(x):\n",
    "    return x\n",
    "\n",
    "tdidf = TfidfVectorizer(tokenizer = identity, \n",
    "                        lowercase = False,\n",
    "                        \n",
    "                        ngram_range = (1,2),\n",
    "                        use_idf = True,\n",
    "                        min_df = 0.2,\n",
    "                        max_df = 0.8\n",
    "                        #max_features = 1000   \n",
    "                       )"
   ]
  },
  {
   "cell_type": "code",
   "execution_count": 213,
   "metadata": {
    "collapsed": false
   },
   "outputs": [],
   "source": [
    "X_train = tdidf.fit_transform(X_train_raw)\n",
    "X_test = tdidf.transform(X_test_raw)"
   ]
  },
  {
   "cell_type": "code",
   "execution_count": 214,
   "metadata": {
    "collapsed": false
   },
   "outputs": [
    {
     "data": {
      "text/plain": [
       "((47657, 316), (5296, 316))"
      ]
     },
     "execution_count": 214,
     "metadata": {},
     "output_type": "execute_result"
    }
   ],
   "source": [
    "X_train.shape, X_test.shape"
   ]
  },
  {
   "cell_type": "code",
   "execution_count": 215,
   "metadata": {
    "collapsed": true
   },
   "outputs": [],
   "source": [
    "y_train = y_train_raw\n",
    "y_test = y_test_raw"
   ]
  },
  {
   "cell_type": "code",
   "execution_count": 216,
   "metadata": {
    "collapsed": false
   },
   "outputs": [
    {
     "name": "stdout",
     "output_type": "stream",
     "text": [
      "7.56675829364\n"
     ]
    }
   ],
   "source": [
    "# metric: 'is an anime rated above average?' classification accuracy\n",
    "\n",
    "mean_rating = np.mean(y_train)\n",
    "print(mean_rating)\n",
    "\n",
    "from sklearn.metrics import make_scorer\n",
    "from sklearn.metrics import accuracy_score\n",
    "\n",
    "def above_average_accuracy(y_true, y_predicted, **kwargs):\n",
    "    if kwargs and 'average_true' in kwargs:\n",
    "        average_true = kwargs['average_true']\n",
    "    else:\n",
    "        average_true = np.mean(y_true)\n",
    "        \n",
    "    if kwargs and 'average_predicted' in kwargs:\n",
    "        average_predicted = kwargs['average_predicted']\n",
    "    else:\n",
    "        average_predicted = np.mean(y_predicted)\n",
    "        \n",
    "    return accuracy_score(np.array(y_true) > average_true, np.array(y_predicted) > average_predicted)"
   ]
  },
  {
   "cell_type": "code",
   "execution_count": 223,
   "metadata": {
    "collapsed": false
   },
   "outputs": [],
   "source": [
    "from sklearn.model_selection import KFold\n",
    "from sklearn.model_selection import GridSearchCV\n",
    "from sklearn.pipeline import Pipeline\n",
    "import xgboost\n",
    "\n",
    "\n",
    "xgb = xgboost.XGBRegressor()\n",
    "\n",
    "\n",
    "\n",
    "param_grid = {             \n",
    "                # Hyperparameter tuning for the xgboost regressor\n",
    "               \n",
    "                # number of trees\n",
    "                'n_estimators': [400],\n",
    "                \n",
    "                # learning rate\n",
    "                'learning_rate': [0.1],\n",
    "        \n",
    "                # parameters regulating depth of trees\n",
    "                'max_depth': [3],\n",
    "                'min_child_weight': [3],\n",
    "                'gamma': [1],\n",
    "                \n",
    "        \n",
    "                # l1 and l2 regularization\n",
    "                'reg_lambda': [10],\n",
    "                'reg_alpha': [10],\n",
    "        \n",
    "                # sampling\n",
    "                'colsample_bytree': [0.8],\n",
    "                'subsample': [0.8],\n",
    "                'colsample_bylevel': [1]\n",
    "            }\n",
    "\n",
    "\n",
    "\n",
    "gs_mse = GridSearchCV(xgb, param_grid, \n",
    "                   #scoring = 'neg_mean_squared_error',\n",
    "                   scoring = make_scorer(above_average_accuracy, greater_is_better=True, average = mean_rating),\n",
    "                   cv = 5, verbose = 40,\n",
    "                   n_jobs= 1)"
   ]
  },
  {
   "cell_type": "code",
   "execution_count": 224,
   "metadata": {
    "collapsed": false
   },
   "outputs": [
    {
     "name": "stdout",
     "output_type": "stream",
     "text": [
      "Fitting 5 folds for each of 3 candidates, totalling 15 fits\n",
      "[CV] colsample_bylevel=1, subsample=0.8, min_child_weight=3, reg_alpha=10, max_depth=3, gamma=1, colsample_bytree=0.8, reg_lambda=10, n_estimators=200, learning_rate=0.1 \n",
      "[CV]  colsample_bylevel=1, subsample=0.8, min_child_weight=3, reg_alpha=10, max_depth=3, gamma=1, colsample_bytree=0.8, reg_lambda=10, n_estimators=200, learning_rate=0.1, score=0.721255, total=  26.1s\n",
      "[CV] colsample_bylevel=1, subsample=0.8, min_child_weight=3, reg_alpha=10, max_depth=3, gamma=1, colsample_bytree=0.8, reg_lambda=10, n_estimators=200, learning_rate=0.1 \n"
     ]
    },
    {
     "name": "stderr",
     "output_type": "stream",
     "text": [
      "[Parallel(n_jobs=1)]: Done   1 out of   1 | elapsed:   28.4s remaining:    0.0s\n"
     ]
    },
    {
     "name": "stdout",
     "output_type": "stream",
     "text": [
      "[CV]  colsample_bylevel=1, subsample=0.8, min_child_weight=3, reg_alpha=10, max_depth=3, gamma=1, colsample_bytree=0.8, reg_lambda=10, n_estimators=200, learning_rate=0.1, score=0.731011, total=  26.5s\n",
      "[CV] colsample_bylevel=1, subsample=0.8, min_child_weight=3, reg_alpha=10, max_depth=3, gamma=1, colsample_bytree=0.8, reg_lambda=10, n_estimators=200, learning_rate=0.1 \n"
     ]
    },
    {
     "name": "stderr",
     "output_type": "stream",
     "text": [
      "[Parallel(n_jobs=1)]: Done   2 out of   2 | elapsed:   57.2s remaining:    0.0s\n"
     ]
    },
    {
     "name": "stdout",
     "output_type": "stream",
     "text": [
      "[CV]  colsample_bylevel=1, subsample=0.8, min_child_weight=3, reg_alpha=10, max_depth=3, gamma=1, colsample_bytree=0.8, reg_lambda=10, n_estimators=200, learning_rate=0.1, score=0.724793, total=  26.0s\n",
      "[CV] colsample_bylevel=1, subsample=0.8, min_child_weight=3, reg_alpha=10, max_depth=3, gamma=1, colsample_bytree=0.8, reg_lambda=10, n_estimators=200, learning_rate=0.1 \n"
     ]
    },
    {
     "name": "stderr",
     "output_type": "stream",
     "text": [
      "[Parallel(n_jobs=1)]: Done   3 out of   3 | elapsed:  1.4min remaining:    0.0s\n"
     ]
    },
    {
     "name": "stdout",
     "output_type": "stream",
     "text": [
      "[CV]  colsample_bylevel=1, subsample=0.8, min_child_weight=3, reg_alpha=10, max_depth=3, gamma=1, colsample_bytree=0.8, reg_lambda=10, n_estimators=200, learning_rate=0.1, score=0.722380, total=  26.0s\n",
      "[CV] colsample_bylevel=1, subsample=0.8, min_child_weight=3, reg_alpha=10, max_depth=3, gamma=1, colsample_bytree=0.8, reg_lambda=10, n_estimators=200, learning_rate=0.1 \n"
     ]
    },
    {
     "name": "stderr",
     "output_type": "stream",
     "text": [
      "[Parallel(n_jobs=1)]: Done   4 out of   4 | elapsed:  1.9min remaining:    0.0s\n"
     ]
    },
    {
     "name": "stdout",
     "output_type": "stream",
     "text": [
      "[CV]  colsample_bylevel=1, subsample=0.8, min_child_weight=3, reg_alpha=10, max_depth=3, gamma=1, colsample_bytree=0.8, reg_lambda=10, n_estimators=200, learning_rate=0.1, score=0.726472, total=  26.0s\n",
      "[CV] colsample_bylevel=1, subsample=0.8, min_child_weight=3, reg_alpha=10, max_depth=3, gamma=1, colsample_bytree=0.8, reg_lambda=10, n_estimators=300, learning_rate=0.1 \n"
     ]
    },
    {
     "name": "stderr",
     "output_type": "stream",
     "text": [
      "[Parallel(n_jobs=1)]: Done   5 out of   5 | elapsed:  2.4min remaining:    0.0s\n"
     ]
    },
    {
     "name": "stdout",
     "output_type": "stream",
     "text": [
      "[CV]  colsample_bylevel=1, subsample=0.8, min_child_weight=3, reg_alpha=10, max_depth=3, gamma=1, colsample_bytree=0.8, reg_lambda=10, n_estimators=300, learning_rate=0.1, score=0.727235, total=  37.7s\n",
      "[CV] colsample_bylevel=1, subsample=0.8, min_child_weight=3, reg_alpha=10, max_depth=3, gamma=1, colsample_bytree=0.8, reg_lambda=10, n_estimators=300, learning_rate=0.1 \n"
     ]
    },
    {
     "name": "stderr",
     "output_type": "stream",
     "text": [
      "[Parallel(n_jobs=1)]: Done   6 out of   6 | elapsed:  3.0min remaining:    0.0s\n"
     ]
    },
    {
     "name": "stdout",
     "output_type": "stream",
     "text": [
      "[CV]  colsample_bylevel=1, subsample=0.8, min_child_weight=3, reg_alpha=10, max_depth=3, gamma=1, colsample_bytree=0.8, reg_lambda=10, n_estimators=300, learning_rate=0.1, score=0.735627, total=  38.0s\n",
      "[CV] colsample_bylevel=1, subsample=0.8, min_child_weight=3, reg_alpha=10, max_depth=3, gamma=1, colsample_bytree=0.8, reg_lambda=10, n_estimators=300, learning_rate=0.1 \n"
     ]
    },
    {
     "name": "stderr",
     "output_type": "stream",
     "text": [
      "[Parallel(n_jobs=1)]: Done   7 out of   7 | elapsed:  3.7min remaining:    0.0s\n"
     ]
    },
    {
     "name": "stdout",
     "output_type": "stream",
     "text": [
      "[CV]  colsample_bylevel=1, subsample=0.8, min_child_weight=3, reg_alpha=10, max_depth=3, gamma=1, colsample_bytree=0.8, reg_lambda=10, n_estimators=300, learning_rate=0.1, score=0.730668, total=  37.6s\n",
      "[CV] colsample_bylevel=1, subsample=0.8, min_child_weight=3, reg_alpha=10, max_depth=3, gamma=1, colsample_bytree=0.8, reg_lambda=10, n_estimators=300, learning_rate=0.1 \n"
     ]
    },
    {
     "name": "stderr",
     "output_type": "stream",
     "text": [
      "[Parallel(n_jobs=1)]: Done   8 out of   8 | elapsed:  4.4min remaining:    0.0s\n"
     ]
    },
    {
     "name": "stdout",
     "output_type": "stream",
     "text": [
      "[CV]  colsample_bylevel=1, subsample=0.8, min_child_weight=3, reg_alpha=10, max_depth=3, gamma=1, colsample_bytree=0.8, reg_lambda=10, n_estimators=300, learning_rate=0.1, score=0.726157, total=  37.4s\n",
      "[CV] colsample_bylevel=1, subsample=0.8, min_child_weight=3, reg_alpha=10, max_depth=3, gamma=1, colsample_bytree=0.8, reg_lambda=10, n_estimators=300, learning_rate=0.1 \n"
     ]
    },
    {
     "name": "stderr",
     "output_type": "stream",
     "text": [
      "[Parallel(n_jobs=1)]: Done   9 out of   9 | elapsed:  5.0min remaining:    0.0s\n"
     ]
    },
    {
     "name": "stdout",
     "output_type": "stream",
     "text": [
      "[CV]  colsample_bylevel=1, subsample=0.8, min_child_weight=3, reg_alpha=10, max_depth=3, gamma=1, colsample_bytree=0.8, reg_lambda=10, n_estimators=300, learning_rate=0.1, score=0.730144, total=  36.5s\n",
      "[CV] colsample_bylevel=1, subsample=0.8, min_child_weight=3, reg_alpha=10, max_depth=3, gamma=1, colsample_bytree=0.8, reg_lambda=10, n_estimators=400, learning_rate=0.1 \n"
     ]
    },
    {
     "name": "stderr",
     "output_type": "stream",
     "text": [
      "[Parallel(n_jobs=1)]: Done  10 out of  10 | elapsed:  5.7min remaining:    0.0s\n"
     ]
    },
    {
     "name": "stdout",
     "output_type": "stream",
     "text": [
      "[CV]  colsample_bylevel=1, subsample=0.8, min_child_weight=3, reg_alpha=10, max_depth=3, gamma=1, colsample_bytree=0.8, reg_lambda=10, n_estimators=400, learning_rate=0.1, score=0.726081, total=  47.8s\n",
      "[CV] colsample_bylevel=1, subsample=0.8, min_child_weight=3, reg_alpha=10, max_depth=3, gamma=1, colsample_bytree=0.8, reg_lambda=10, n_estimators=400, learning_rate=0.1 \n"
     ]
    },
    {
     "name": "stderr",
     "output_type": "stream",
     "text": [
      "[Parallel(n_jobs=1)]: Done  11 out of  11 | elapsed:  6.5min remaining:    0.0s\n"
     ]
    },
    {
     "name": "stdout",
     "output_type": "stream",
     "text": [
      "[CV]  colsample_bylevel=1, subsample=0.8, min_child_weight=3, reg_alpha=10, max_depth=3, gamma=1, colsample_bytree=0.8, reg_lambda=10, n_estimators=400, learning_rate=0.1, score=0.735208, total=  48.0s\n",
      "[CV] colsample_bylevel=1, subsample=0.8, min_child_weight=3, reg_alpha=10, max_depth=3, gamma=1, colsample_bytree=0.8, reg_lambda=10, n_estimators=400, learning_rate=0.1 \n"
     ]
    },
    {
     "name": "stderr",
     "output_type": "stream",
     "text": [
      "[Parallel(n_jobs=1)]: Done  12 out of  12 | elapsed:  7.4min remaining:    0.0s\n"
     ]
    },
    {
     "name": "stdout",
     "output_type": "stream",
     "text": [
      "[CV]  colsample_bylevel=1, subsample=0.8, min_child_weight=3, reg_alpha=10, max_depth=3, gamma=1, colsample_bytree=0.8, reg_lambda=10, n_estimators=400, learning_rate=0.1, score=0.732137, total=  51.3s\n",
      "[CV] colsample_bylevel=1, subsample=0.8, min_child_weight=3, reg_alpha=10, max_depth=3, gamma=1, colsample_bytree=0.8, reg_lambda=10, n_estimators=400, learning_rate=0.1 \n"
     ]
    },
    {
     "name": "stderr",
     "output_type": "stream",
     "text": [
      "[Parallel(n_jobs=1)]: Done  13 out of  13 | elapsed:  8.3min remaining:    0.0s\n"
     ]
    },
    {
     "name": "stdout",
     "output_type": "stream",
     "text": [
      "[CV]  colsample_bylevel=1, subsample=0.8, min_child_weight=3, reg_alpha=10, max_depth=3, gamma=1, colsample_bytree=0.8, reg_lambda=10, n_estimators=400, learning_rate=0.1, score=0.728780, total=  49.9s\n",
      "[CV] colsample_bylevel=1, subsample=0.8, min_child_weight=3, reg_alpha=10, max_depth=3, gamma=1, colsample_bytree=0.8, reg_lambda=10, n_estimators=400, learning_rate=0.1 \n"
     ]
    },
    {
     "name": "stderr",
     "output_type": "stream",
     "text": [
      "[Parallel(n_jobs=1)]: Done  14 out of  14 | elapsed:  9.1min remaining:    0.0s\n"
     ]
    },
    {
     "name": "stdout",
     "output_type": "stream",
     "text": [
      "[CV]  colsample_bylevel=1, subsample=0.8, min_child_weight=3, reg_alpha=10, max_depth=3, gamma=1, colsample_bytree=0.8, reg_lambda=10, n_estimators=400, learning_rate=0.1, score=0.733501, total=  49.9s\n"
     ]
    },
    {
     "name": "stderr",
     "output_type": "stream",
     "text": [
      "[Parallel(n_jobs=1)]: Done  15 out of  15 | elapsed: 10.0min remaining:    0.0s\n",
      "[Parallel(n_jobs=1)]: Done  15 out of  15 | elapsed: 10.0min finished\n"
     ]
    },
    {
     "name": "stdout",
     "output_type": "stream",
     "text": [
      "0.7311412804\n",
      "{'colsample_bylevel': 1, 'subsample': 0.8, 'min_child_weight': 3, 'reg_alpha': 10, 'max_depth': 3, 'gamma': 1, 'colsample_bytree': 0.8, 'reg_lambda': 10, 'n_estimators': 400, 'learning_rate': 0.1}\n"
     ]
    }
   ],
   "source": [
    "gs_mse = gs_mse.fit(X_train, y_train)\n",
    "print(gs_mse.best_score_)\n",
    "print(gs_mse.best_params_)"
   ]
  },
  {
   "cell_type": "code",
   "execution_count": 225,
   "metadata": {
    "collapsed": true
   },
   "outputs": [],
   "source": [
    "best = gs_mse.best_estimator_"
   ]
  },
  {
   "cell_type": "markdown",
   "metadata": {},
   "source": [
    "## Metrics"
   ]
  },
  {
   "cell_type": "code",
   "execution_count": 226,
   "metadata": {
    "collapsed": true
   },
   "outputs": [],
   "source": [
    "y_train_pred = best.predict(X_train)\n",
    "y_test_pred = best.predict(X_test)"
   ]
  },
  {
   "cell_type": "code",
   "execution_count": 227,
   "metadata": {
    "collapsed": false
   },
   "outputs": [
    {
     "name": "stdout",
     "output_type": "stream",
     "text": [
      "MSE train: 2.742, test: 3.149\n",
      "R^2 train: 0.443, test: 0.347\n",
      "above_average_accuracy train: 0.763, test: 0.742\n"
     ]
    }
   ],
   "source": [
    "from sklearn.metrics import r2_score\n",
    "from sklearn.metrics import mean_squared_error\n",
    "\n",
    "print('MSE train: %.3f, test: %.3f' % (\n",
    "        mean_squared_error(y_train, y_train_pred),\n",
    "        mean_squared_error(y_test, y_test_pred)))\n",
    "print('R^2 train: %.3f, test: %.3f' % (\n",
    "        r2_score(y_train, y_train_pred),\n",
    "        r2_score(y_test, y_test_pred)))\n",
    "print('above_average_accuracy train: %.3f, test: %.3f' % (\n",
    "        above_average_accuracy(y_train, y_train_pred),\n",
    "        above_average_accuracy(y_test, y_test_pred)))"
   ]
  },
  {
   "cell_type": "markdown",
   "metadata": {},
   "source": [
    "## Feature importances"
   ]
  },
  {
   "cell_type": "code",
   "execution_count": 228,
   "metadata": {
    "collapsed": false
   },
   "outputs": [],
   "source": [
    "inv_vocabulary = {number: word for word, number in tdidf.vocabulary_.items()}\n",
    "feature_importances = pd.DataFrame({'importances': best.feature_importances_, 'features': pd.Series(inv_vocabulary)})"
   ]
  },
  {
   "cell_type": "code",
   "execution_count": null,
   "metadata": {
    "collapsed": false
   },
   "outputs": [],
   "source": [
    "feature_importances.sort_values(by = 'importances', ascending = False).head(30)"
   ]
  },
  {
   "cell_type": "code",
   "execution_count": 230,
   "metadata": {
    "collapsed": false
   },
   "outputs": [
    {
     "data": {
      "image/png": "[encoded data removed]",
      "text/plain": [
       "<matplotlib.figure.Figure at 0x2690e9d3710>"
      ]
     },
     "metadata": {},
     "output_type": "display_data"
    }
   ],
   "source": [
    "sns.barplot(x= 'features', y = 'importances', data = feature_importances.sort_values(by = 'importances', ascending = False)[0:100])\n",
    "plt.show()"
   ]
  },
  {
   "cell_type": "markdown",
   "metadata": {},
   "source": [
    "## Learning curve"
   ]
  },
  {
   "cell_type": "code",
   "execution_count": 231,
   "metadata": {
    "collapsed": true
   },
   "outputs": [],
   "source": [
    "import numpy as np\n",
    "import matplotlib.pyplot as plt\n",
    "from sklearn.model_selection import learning_curve\n",
    "from sklearn.model_selection import ShuffleSplit\n",
    "\n",
    "\n",
    "def plot_learning_curve(estimator, title, X, y, ylim=None, cv=None,\n",
    "                        n_jobs=1, train_sizes=np.linspace(.1, 1.0, 5)):\n",
    "    \"\"\"\n",
    "    Generate a simple plot of the test and training learning curve.\n",
    "\n",
    "    Parameters\n",
    "    ----------\n",
    "    estimator : object type that implements the \"fit\" and \"predict\" methods\n",
    "        An object of that type which is cloned for each validation.\n",
    "\n",
    "    title : string\n",
    "        Title for the chart.\n",
    "\n",
    "    X : array-like, shape (n_samples, n_features)\n",
    "        Training vector, where n_samples is the number of samples and\n",
    "        n_features is the number of features.\n",
    "\n",
    "    y : array-like, shape (n_samples) or (n_samples, n_features), optional\n",
    "        Target relative to X for classification or regression;\n",
    "        None for unsupervised learning.\n",
    "\n",
    "    ylim : tuple, shape (ymin, ymax), optional\n",
    "        Defines minimum and maximum yvalues plotted.\n",
    "\n",
    "    cv : int, cross-validation generator or an iterable, optional\n",
    "        Determines the cross-validation splitting strategy.\n",
    "        Possible inputs for cv are:\n",
    "          - None, to use the default 3-fold cross-validation,\n",
    "          - integer, to specify the number of folds.\n",
    "          - An object to be used as a cross-validation generator.\n",
    "          - An iterable yielding train/test splits.\n",
    "\n",
    "        For integer/None inputs, if ``y`` is binary or multiclass,\n",
    "        :class:`StratifiedKFold` used. If the estimator is not a classifier\n",
    "        or if ``y`` is neither binary nor multiclass, :class:`KFold` is used.\n",
    "\n",
    "        Refer :ref:`User Guide <cross_validation>` for the various\n",
    "        cross-validators that can be used here.\n",
    "\n",
    "    n_jobs : integer, optional\n",
    "        Number of jobs to run in parallel (default 1).\n",
    "    \"\"\"\n",
    "    plt.figure()\n",
    "    plt.title(title)\n",
    "    if ylim is not None:\n",
    "        plt.ylim(*ylim)\n",
    "    plt.xlabel(\"Training examples\")\n",
    "    plt.ylabel(\"Score\")\n",
    "    train_sizes, train_scores, test_scores = learning_curve(\n",
    "        estimator, X, y, cv=cv, n_jobs=n_jobs, train_sizes=train_sizes)\n",
    "    train_scores_mean = np.mean(train_scores, axis=1)\n",
    "    train_scores_std = np.std(train_scores, axis=1)\n",
    "    test_scores_mean = np.mean(test_scores, axis=1)\n",
    "    test_scores_std = np.std(test_scores, axis=1)\n",
    "    plt.grid()\n",
    "\n",
    "    plt.fill_between(train_sizes, train_scores_mean - train_scores_std,\n",
    "                     train_scores_mean + train_scores_std, alpha=0.1,\n",
    "                     color=\"r\")\n",
    "    plt.fill_between(train_sizes, test_scores_mean - test_scores_std,\n",
    "                     test_scores_mean + test_scores_std, alpha=0.1, color=\"g\")\n",
    "    plt.plot(train_sizes, train_scores_mean, 'o-', color=\"r\",\n",
    "             label=\"Training score\")\n",
    "    plt.plot(train_sizes, test_scores_mean, 'o-', color=\"g\",\n",
    "             label=\"Cross-validation score\")\n",
    "\n",
    "    plt.legend(loc=\"best\")\n",
    "    return plt\n"
   ]
  },
  {
   "cell_type": "code",
   "execution_count": null,
   "metadata": {
    "collapsed": false
   },
   "outputs": [
    {
     "data": {
      "text/plain": [
       "<module 'matplotlib.pyplot' from 'C:\\\\Users\\\\SmilingAtheist\\\\Anaconda3\\\\lib\\\\site-packages\\\\matplotlib\\\\pyplot.py'>"
      ]
     },
     "execution_count": 232,
     "metadata": {},
     "output_type": "execute_result"
    },
    {
     "data": {
      "image/png": "[encoded data removed]",
      "text/plain": [
       "<matplotlib.figure.Figure at 0x269081f4438>"
      ]
     },
     "metadata": {},
     "output_type": "display_data"
    }
   ],
   "source": [
    "plot_learning_curve(best, \"Learning curve: mse\", X_train, y_train, cv=5,\n",
    "                        n_jobs=1, train_sizes=np.linspace(.1, 1.0, 10))"
   ]
  },
  {
   "cell_type": "markdown",
   "metadata": {},
   "source": [
    "# Evaluation on the Anime News Network Reviews dataset"
   ]
  },
  {
   "cell_type": "code",
   "execution_count": null,
   "metadata": {
    "collapsed": true
   },
   "outputs": [],
   "source": []
  }
 ],
 "metadata": {
  "anaconda-cloud": {},
  "kernelspec": {
   "display_name": "Python [default]",
   "language": "python",
   "name": "python3"
  },
  "language_info": {
   "codemirror_mode": {
    "name": "ipython",
    "version": 3
   },
   "file_extension": ".py",
   "mimetype": "text/x-python",
   "name": "python",
   "nbconvert_exporter": "python",
   "pygments_lexer": "ipython3",
   "version": "3.5.2"
  }
 },
 "nbformat": 4,
 "nbformat_minor": 1
}
